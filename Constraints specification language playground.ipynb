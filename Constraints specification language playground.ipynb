{
 "cells": [
  {
   "cell_type": "code",
   "execution_count": 1,
   "metadata": {},
   "outputs": [],
   "source": [
    "using MacroTools\n",
    "using BenchmarkTools \n",
    "\n",
    "import MacroTools: prewalk, postwalk"
   ]
  },
  {
   "cell_type": "code",
   "execution_count": 2,
   "metadata": {},
   "outputs": [
    {
     "data": {
      "text/plain": [
       "@e (macro with 1 method)"
      ]
     },
     "execution_count": 2,
     "metadata": {},
     "output_type": "execute_result"
    }
   ],
   "source": [
    "macro e(something)\n",
    "    if something.head === :macrocall\n",
    "        return esc(:(println(MacroTools.prettify(@macroexpand $something)); $something))\n",
    "    end\n",
    "    return esc(something)\n",
    "end"
   ]
  },
  {
   "cell_type": "code",
   "execution_count": 3,
   "metadata": {},
   "outputs": [],
   "source": [
    "struct ConstraintsSpecification{F, M}\n",
    "    factorisation :: F\n",
    "    form :: M\n",
    "end\n",
    "\n",
    "function Base.show(io::IO, specification::ConstraintsSpecification) \n",
    "    print(io, \"Constraints:\\n\\tform: $(specification.form)\\n\")\n",
    "    print(io, \"\\tfactorisation\\n\")\n",
    "    foreach(specification.factorisation) do f\n",
    "        print(io, \"\\t\\t\", f, \"\\n\")\n",
    "    end\n",
    "end"
   ]
  },
  {
   "cell_type": "code",
   "execution_count": 107,
   "metadata": {},
   "outputs": [],
   "source": [
    "struct FactorisationConstraintsEntry{N, T}\n",
    "    indices :: NamedTuple{N, T}\n",
    "end\n",
    "\n",
    "Base.:(*)(left::Tuple{Vararg{T where T <: FactorisationConstraintsEntry}}, right::Tuple{Vararg{T where T <: FactorisationConstraintsEntry}}) = (left..., right...)\n",
    "\n",
    "\n",
    "__io_entry_pair(pair::Pair{Symbol, Nothing})::String = string(first(pair))\n",
    "\n",
    "make_factorisation_constraints_entry(indices) = :(FactorisationConstraintsEntry($indices))\n",
    "\n",
    "function Base.show(io::IO, entry::FactorisationConstraintsEntry) \n",
    "    print(io, \"q(\")\n",
    "    entries = map(__io_entry_pair, collect(pairs(entry.indices)))\n",
    "    join(io, entries, \", \")\n",
    "    print(io, \")\")\n",
    "end"
   ]
  },
  {
   "cell_type": "code",
   "execution_count": 169,
   "metadata": {},
   "outputs": [
    {
     "data": {
      "text/plain": [
       "register_q_factorisation_specification (generic function with 1 method)"
      ]
     },
     "execution_count": 169,
     "metadata": {},
     "output_type": "execute_result"
    }
   ],
   "source": [
    "struct FactorisationConstraintsSpecification{N, E}\n",
    "    entries :: E\n",
    "end\n",
    "\n",
    "Base.:(*)(left::FactorisationConstraintsSpecification, right::NTuple{N2, <: FactorisationConstraintsEntry}) where { N1, N2 } = (left, right...)\n",
    "Base.:(*)(left::NTuple{N1, <: FactorisationConstraintsEntry}, right::FactorisationConstraintsSpecification) where { N1, N2 } = (left..., right)\n",
    "\n",
    "function Base.show(io::IO, factorisation::FactorisationConstraintsSpecification{Names}) where Names\n",
    "    \n",
    "    print(io, \"q(\")\n",
    "    join(io, Names, \", \")\n",
    "    print(io, \")\")\n",
    "    \n",
    "    compact = get(io, :compact, false)\n",
    "    \n",
    "    if !compact \n",
    "        print(io, \" = \")\n",
    "        foreach(factorisation.entries) do e\n",
    "            print(IOContext(io, :compact => true), e)\n",
    "        end\n",
    "    end\n",
    "    \n",
    "end\n",
    "\n",
    "FactorisationConstraintsSpecification(::Val{N}, entries::E) where { N, E } = FactorisationConstraintsSpecification{N, E}(entries)\n",
    "    \n",
    "register_q_factorisation_specification(N, E) = :(FactorisationConstraintsSpecification($N, $E))"
   ]
  },
  {
   "cell_type": "code",
   "execution_count": 170,
   "metadata": {},
   "outputs": [
    {
     "data": {
      "text/plain": [
       "make_constraints_specification (generic function with 1 method)"
      ]
     },
     "execution_count": 170,
     "metadata": {},
     "output_type": "execute_result"
    }
   ],
   "source": [
    "struct ReactiveMPBackend end\n",
    "\n",
    "__get_current_backend() = ReactiveMPBackend()\n",
    "\n",
    "macro constraints(constraints_specification)\n",
    "    return generate_constraints_expression(__get_current_backend(), constraints_specification)\n",
    "end\n",
    "\n",
    "make_constraints_specification(factorisation, form) = :(ConstraintsSpecification($factorisation, $form))"
   ]
  },
  {
   "cell_type": "code",
   "execution_count": 171,
   "metadata": {},
   "outputs": [
    {
     "data": {
      "text/plain": [
       "isblock (generic function with 1 method)"
      ]
     },
     "execution_count": 171,
     "metadata": {},
     "output_type": "execute_result"
    }
   ],
   "source": [
    "isexpr(expr::Expr) = true\n",
    "isexpr()           = false\n",
    "\n",
    "ishead(something, head) = isexpr(something) && something.head === head\n",
    "\n",
    "isblock(something) = ishead(something, :block)"
   ]
  },
  {
   "cell_type": "code",
   "execution_count": 172,
   "metadata": {},
   "outputs": [],
   "source": [
    "struct LHSMeta\n",
    "    name :: String\n",
    "    hash :: UInt\n",
    "    varname :: Symbol\n",
    "end"
   ]
  },
  {
   "cell_type": "code",
   "execution_count": 200,
   "metadata": {},
   "outputs": [
    {
     "data": {
      "text/plain": [
       "generate_constraints_expression (generic function with 1 method)"
      ]
     },
     "execution_count": 200,
     "metadata": {},
     "output_type": "execute_result"
    }
   ],
   "source": [
    "function generate_constraints_expression(backend, constraints_specification)\n",
    "\n",
    "    if isblock(constraints_specification)\n",
    "        generatedfname = gensym(:constraints)\n",
    "        generatedfbody = :(function $(generatedfname)() $constraints_specification end)\n",
    "        return :($(generate_constraints_expression(backend, generatedfbody))())\n",
    "    end\n",
    "\n",
    "    @capture(constraints_specification, (function cs_name_(cs_args__; cs_kwargs__) cs_body_ end) | (function cs_name_(cs_args__) cs_body_ end)) || \n",
    "        error(\"Constraints specification language requires full function definition\")\n",
    "    \n",
    "    cs_args   = cs_args === nothing ? [] : cs_args\n",
    "    cs_kwargs = cs_kwargs === nothing ? [] : cs_kwargs\n",
    "    \n",
    "    lhs_dict = Dict{UInt, LHSMeta}()\n",
    "    \n",
    "    # We iteratively overwrite extend form constraint tuple, but we use different names for it to enable type-stability\n",
    "    form_constraints_symbol      = gensym(:form_constraint)\n",
    "    form_constraints_symbol_init = :($form_constraints_symbol = ())\n",
    "    \n",
    "    # We iteratively overwrite extend factorisation constraint tuple, but we use different names for it to enable type-stability\n",
    "    factorisation_constraints_symbol      = gensym(:factorisation_constraint)\n",
    "    factorisation_constraints_symbol_init = :($factorisation_constraints_symbol = ())\n",
    "    \n",
    "    # First we record all lhs expression's hash ids and create unique variable names for them\n",
    "    # q(x, y) = q(x)q(y) -> hash(q(x, y))\n",
    "    # We do allow multiple definitions in case of if statements, but we do check later overwrites, which are not allowed\n",
    "    cs_body = postwalk(cs_body) do expression\n",
    "        # We also do a simple sanity check right now, names should be an array of Symbols only\n",
    "        if @capture(expression, lhs_ = rhs_) && @capture(lhs, q(names__))\n",
    "            \n",
    "            (length(names) !== 0 && all(name -> name isa Symbol, names)) || \n",
    "                error(\"\"\"Error in factorisation constraints specification $(lhs_name) = ...\\nLeft hand side of the equality expression should have only variable identifiers.\"\"\")\n",
    "            \n",
    "            @capture(rhs, *(rhs_prod_entries__)) || error(\"Invalid RHS $(rhs) of the factorisation specification expression $(expression)\")\n",
    "            \n",
    "            lhs_names = Set(names)\n",
    "            rhs_names = Set{Symbol}()\n",
    "            \n",
    "            # We do a simple check to be sure that LHS and RHS has the exact same set of names\n",
    "            for entry in rhs_prod_entries\n",
    "                if @capture(entry, q(indices__))\n",
    "                    for index in indices\n",
    "                        postwalk(index) do subexpr\n",
    "                            @capture(subexpr, s_Symbol) && push!(rhs_names, s)\n",
    "                            if s ∉ lhs_names\n",
    "                                 error(\"LHS of the $(expression) expression does not have $(s) variable, but is used in RHS.\")\n",
    "                            end\n",
    "                        end\n",
    "                    end\n",
    "                end\n",
    "            end\n",
    "            \n",
    "            (lhs_names == rhs_names) || error(\"LHS and RHS of the $(expression) expression has different set of variables.\")\n",
    "            \n",
    "            lhs_hash = hash(lhs)\n",
    "            lhs_meta = if haskey(lhs_dict, lhs_hash)\n",
    "                lhs_dict[ lhs_hash ]\n",
    "            else\n",
    "                lhs_name = string(\"q(\", join(names, \", \"), \")\")\n",
    "                lhs_varname = gensym(lhs_name)\n",
    "                lhs_meta = LHSMeta(lhs_name, lhs_hash, lhs_varname)\n",
    "                lhs_dict[lhs_hash] = lhs_meta\n",
    "            end\n",
    "            \n",
    "            lhs_name = lhs_meta.name\n",
    "            lhs_varname = lhs_meta.varname\n",
    "            \n",
    "            new_factorisation_specification = register_q_factorisation_specification(:(Val(($(map(QuoteNode, names)...),))), rhs)\n",
    "            \n",
    "            result = quote \n",
    "                ($(lhs_varname) === nothing) || error(\"Factorisation constraints specification $($lhs_name) = ... has been redefined.\")\n",
    "                $(lhs_varname) = $(new_factorisation_specification)\n",
    "                $factorisation_constraints_symbol = ($factorisation_constraints_symbol..., $(lhs_varname))\n",
    "            end\n",
    "            \n",
    "            return result\n",
    "        end\n",
    "        return expression\n",
    "    end\n",
    "    \n",
    "    # This block write initial variables for factorisation specification\n",
    "    cs_lhs_init_block = map(collect(lhs_dict)) do pair\n",
    "        lhs_meta = last(pair)\n",
    "        lhs_varname = lhs_meta.varname\n",
    "        return quote \n",
    "            $(lhs_varname) = nothing\n",
    "        end\n",
    "    end\n",
    "    \n",
    "    cs_body = prewalk(cs_body) do expression\n",
    "        if @capture(expression, q(args__))\n",
    "            expr_hash = hash(expression)\n",
    "            if haskey(lhs_dict, expr_hash)\n",
    "                lhs_meta = lhs_dict[ expr_hash ]\n",
    "                lhs_name = lhs_meta.name\n",
    "                lhs_varname = lhs_meta.varname\n",
    "                return lhs_varname\n",
    "            else\n",
    "                # TODO add check that entries from LHS and RHS has same names\n",
    "                # TODO parse rhs here\n",
    "                rhs_prod_entries_args = map(args) do arg\n",
    "                    if @capture(arg, argname_Symbol)\n",
    "                        return :($argname = nothing)\n",
    "                    else\n",
    "                        error(\"Not implemented yet\")\n",
    "                    end\n",
    "                end\n",
    "                \n",
    "                entry = make_factorisation_constraints_entry(:(($(rhs_prod_entries_args...), )))\n",
    "                \n",
    "                return :(($entry, ))\n",
    "            end\n",
    "        end\n",
    "        return expression\n",
    "    end\n",
    "    \n",
    "    return_specification = make_constraints_specification(factorisation_constraints_symbol, form_constraints_symbol)\n",
    "    \n",
    "    res = quote\n",
    "         function $cs_name($(cs_args...); $(cs_kwargs...))\n",
    "            $(form_constraints_symbol_init)\n",
    "            $(factorisation_constraints_symbol_init)\n",
    "            $(cs_lhs_init_block...)\n",
    "            $(cs_body)\n",
    "            $(return_specification)\n",
    "        end \n",
    "    end\n",
    "    \n",
    "    return esc(res)\n",
    "end"
   ]
  },
  {
   "cell_type": "code",
   "execution_count": 210,
   "metadata": {},
   "outputs": [],
   "source": [
    "# TODO q(x, y, z, r) = q(x[n], y)q(z, r) # n is an argument"
   ]
  },
  {
   "cell_type": "code",
   "execution_count": 211,
   "metadata": {},
   "outputs": [
    {
     "ename": "LoadError",
     "evalue": "LoadError: LHS of the q(x, y, z, r) = begin\n        #= In[211]:2 =#\n        q(x[n], y) * q(z, r)\n    end expression does not have n variable, but is used in RHS.\nin expression starting at In[211]:1",
     "output_type": "error",
     "traceback": [
      "LoadError: LHS of the q(x, y, z, r) = begin\n        #= In[211]:2 =#\n        q(x[n], y) * q(z, r)\n    end expression does not have n variable, but is used in RHS.\nin expression starting at In[211]:1",
      "",
      "Stacktrace:",
      "  [1] error(s::String)",
      "    @ Base ./error.jl:33",
      "  [2] (::var\"#456#462\"{Expr, Set{Symbol}, Set{Any}})(subexpr::Symbol)",
      "    @ Main ./In[200]:47",
      "  [3] walk",
      "    @ ~/.julia/packages/MacroTools/PP9IQ/src/utils.jl:111 [inlined]",
      "  [4] postwalk",
      "    @ ~/.julia/packages/MacroTools/PP9IQ/src/utils.jl:122 [inlined]",
      "  [5] (::MacroTools.var\"#21#22\"{var\"#456#462\"{Expr, Set{Symbol}, Set{Any}}})(x::Symbol)",
      "    @ MacroTools ~/.julia/packages/MacroTools/PP9IQ/src/utils.jl:122",
      "  [6] iterate(g::Base.Generator{Vector{Any}, MacroTools.var\"#21#22\"{var\"#456#462\"{Expr, Set{Symbol}, Set{Any}}}}, s::Int64)",
      "    @ Base ./generator.jl:47",
      "  [7] collect_to!(dest::Vector{Nothing}, itr::Base.Generator{Vector{Any}, MacroTools.var\"#21#22\"{var\"#456#462\"{Expr, Set{Symbol}, Set{Any}}}}, offs::Int64, st::Int64)",
      "    @ Base ./array.jl:782",
      "  [8] collect_to_with_first!(dest::Vector{Nothing}, v1::Nothing, itr::Base.Generator{Vector{Any}, MacroTools.var\"#21#22\"{var\"#456#462\"{Expr, Set{Symbol}, Set{Any}}}}, st::Int64)",
      "    @ Base ./array.jl:760",
      "  [9] _collect(c::Vector{Any}, itr::Base.Generator{Vector{Any}, MacroTools.var\"#21#22\"{var\"#456#462\"{Expr, Set{Symbol}, Set{Any}}}}, #unused#::Base.EltypeUnknown, isz::Base.HasShape{1})",
      "    @ Base ./array.jl:754",
      " [10] collect_similar(cont::Vector{Any}, itr::Base.Generator{Vector{Any}, MacroTools.var\"#21#22\"{var\"#456#462\"{Expr, Set{Symbol}, Set{Any}}}})",
      "    @ Base ./array.jl:653",
      " [11] map(f::Function, A::Vector{Any})",
      "    @ Base ./abstractarray.jl:2849",
      " [12] walk(x::Expr, inner::Function, outer::var\"#456#462\"{Expr, Set{Symbol}, Set{Any}})",
      "    @ MacroTools ~/.julia/packages/MacroTools/PP9IQ/src/utils.jl:112",
      " [13] postwalk(f::Function, x::Expr)",
      "    @ MacroTools ~/.julia/packages/MacroTools/PP9IQ/src/utils.jl:122",
      " [14] (::var\"#454#460\"{Symbol, Dict{UInt64, LHSMeta}})(expression::Expr)",
      "    @ Main ./In[200]:44",
      " [15] walk",
      "    @ ~/.julia/packages/MacroTools/PP9IQ/src/utils.jl:112 [inlined]",
      " [16] postwalk",
      "    @ ~/.julia/packages/MacroTools/PP9IQ/src/utils.jl:122 [inlined]",
      " [17] (::MacroTools.var\"#21#22\"{var\"#454#460\"{Symbol, Dict{UInt64, LHSMeta}}})(x::Expr)",
      "    @ MacroTools ~/.julia/packages/MacroTools/PP9IQ/src/utils.jl:122",
      " [18] iterate",
      "    @ ./generator.jl:47 [inlined]",
      " [19] collect_to!(dest::Vector{LineNumberNode}, itr::Base.Generator{Vector{Any}, MacroTools.var\"#21#22\"{var\"#454#460\"{Symbol, Dict{UInt64, LHSMeta}}}}, offs::Int64, st::Int64)",
      "    @ Base ./array.jl:782",
      " [20] collect_to_with_first!(dest::Vector{LineNumberNode}, v1::LineNumberNode, itr::Base.Generator{Vector{Any}, MacroTools.var\"#21#22\"{var\"#454#460\"{Symbol, Dict{UInt64, LHSMeta}}}}, st::Int64)",
      "    @ Base ./array.jl:760",
      " [21] _collect(c::Vector{Any}, itr::Base.Generator{Vector{Any}, MacroTools.var\"#21#22\"{var\"#454#460\"{Symbol, Dict{UInt64, LHSMeta}}}}, #unused#::Base.EltypeUnknown, isz::Base.HasShape{1})",
      "    @ Base ./array.jl:754",
      " [22] collect_similar(cont::Vector{Any}, itr::Base.Generator{Vector{Any}, MacroTools.var\"#21#22\"{var\"#454#460\"{Symbol, Dict{UInt64, LHSMeta}}}})",
      "    @ Base ./array.jl:653",
      " [23] map(f::Function, A::Vector{Any})",
      "    @ Base ./abstractarray.jl:2849",
      " [24] walk(x::Expr, inner::Function, outer::var\"#454#460\"{Symbol, Dict{UInt64, LHSMeta}})",
      "    @ MacroTools ~/.julia/packages/MacroTools/PP9IQ/src/utils.jl:112",
      " [25] postwalk(f::Function, x::Expr)",
      "    @ MacroTools ~/.julia/packages/MacroTools/PP9IQ/src/utils.jl:122",
      " [26] generate_constraints_expression(backend::ReactiveMPBackend, constraints_specification::Expr)",
      "    @ Main ./In[200]:28",
      " [27] var\"@constraints\"(__source__::LineNumberNode, __module__::Module, constraints_specification::Any)",
      "    @ Main ./In[170]:6",
      " [28] eval",
      "    @ ./boot.jl:373 [inlined]",
      " [29] include_string(mapexpr::typeof(REPL.softscope), mod::Module, code::String, filename::String)",
      "    @ Base ./loading.jl:1196"
     ]
    }
   ],
   "source": [
    "@e @constraints function forbench(flag, n)\n",
    "    q(x, y, z, r) = q(x[n], y)q(z, r)\n",
    "end\n",
    "\n",
    "@time forbench(true)\n",
    "@time forbench(true)\n",
    "\n",
    "cs = forbench(true)"
   ]
  },
  {
   "cell_type": "code",
   "execution_count": 208,
   "metadata": {},
   "outputs": [
    {
     "name": "stdout",
     "output_type": "stream",
     "text": [
      "  0.000001 seconds\n"
     ]
    },
    {
     "data": {
      "text/plain": [
       "Constraints:\n",
       "\tform: ()\n",
       "\tfactorisation\n",
       "\t\tq(x, y, z, r) = q(x, y)q(z, r)\n"
      ]
     },
     "execution_count": 208,
     "metadata": {},
     "output_type": "execute_result"
    }
   ],
   "source": [
    "@time forbench(true)"
   ]
  },
  {
   "cell_type": "code",
   "execution_count": 188,
   "metadata": {},
   "outputs": [
    {
     "name": "stdout",
     "output_type": "stream",
     "text": [
      "  230.128 ns (7 allocations: 320 bytes)\n"
     ]
    },
    {
     "data": {
      "text/plain": [
       "Constraints:\n",
       "\tform: ()\n",
       "\tfactorisation\n",
       "\t\tq(x, y) = q(x)q(y)\n",
       "\t\tq(x, y, θ) = q(x, y)q(θ)\n",
       "\t\tq(x, y, z) = q(x, y)q(z)\n"
      ]
     },
     "execution_count": 188,
     "metadata": {},
     "output_type": "execute_result"
    }
   ],
   "source": [
    "@btime forbench(true)"
   ]
  },
  {
   "cell_type": "code",
   "execution_count": 125,
   "metadata": {},
   "outputs": [
    {
     "data": {
      "text/plain": [
       "Constraints:\n",
       "\tform: ()\n",
       "\tfactorisation\n",
       "\t\tq(x, y) = q(x)q(y)\n",
       "\t\tq(x, y, θ) = q(x, y)q(θ)\n",
       "\t\tq(x, y, z) = q(x, y)q(z)\n"
      ]
     },
     "execution_count": 125,
     "metadata": {},
     "output_type": "execute_result"
    }
   ],
   "source": [
    "cs = forbench()"
   ]
  },
  {
   "cell_type": "code",
   "execution_count": 185,
   "metadata": {},
   "outputs": [
    {
     "name": "stdout",
     "output_type": "stream",
     "text": [
      "MethodInstance for forbench(::Bool)\n",
      "  from forbench(flag) in Main at In[176]:119\n",
      "Arguments\n",
      "  #self#\u001b[36m::Core.Const(forbench)\u001b[39m\n",
      "  flag\u001b[36m::Bool\u001b[39m\n",
      "Locals\n",
      "  q(x, y, θ)#1080\u001b[33m\u001b[1m::Union{Nothing, FactorisationConstraintsSpecification{(:x, :y, :θ), Tuple{FactorisationConstraintsSpecification{(:x, :y), Tuple{FactorisationConstraintsEntry{(:x,), Tuple{Nothing}}, FactorisationConstraintsEntry{(:y,), Tuple{Nothing}}}}, FactorisationConstraintsEntry{(:θ,), Tuple{Nothing}}}}}\u001b[22m\u001b[39m\n",
      "  q(x, y, z)#1081\u001b[33m\u001b[1m::Union{Nothing, FactorisationConstraintsSpecification{(:x, :y, :z), Tuple{FactorisationConstraintsSpecification{(:x, :y), Tuple{FactorisationConstraintsEntry{(:x,), Tuple{Nothing}}, FactorisationConstraintsEntry{(:y,), Tuple{Nothing}}}}, FactorisationConstraintsEntry{(:z,), Tuple{Nothing}}}}}\u001b[22m\u001b[39m\n",
      "  q(x, y)#1079\u001b[33m\u001b[1m::Union{Nothing, FactorisationConstraintsSpecification{(:x, :y), Tuple{FactorisationConstraintsEntry{(:x,), Tuple{Nothing}}, FactorisationConstraintsEntry{(:y,), Tuple{Nothing}}}}}\u001b[22m\u001b[39m\n",
      "  factorisation_constraint#1078\u001b[91m\u001b[1m::Tuple{Vararg{FactorisationConstraintsSpecification}}\u001b[22m\u001b[39m\n",
      "  form_constraint#1077\u001b[36m::Tuple{}\u001b[39m\n",
      "Body\u001b[91m\u001b[1m::Union{ConstraintsSpecification{Tuple{FactorisationConstraintsSpecification{(:x, :y), Tuple{FactorisationConstraintsEntry{(:x,), Tuple{Nothing}}, FactorisationConstraintsEntry{(:y,), Tuple{Nothing}}}}, FactorisationConstraintsSpecification{(:x, :y, :θ), Tuple{FactorisationConstraintsSpecification{(:x, :y), Tuple{FactorisationConstraintsEntry{(:x,), Tuple{Nothing}}, FactorisationConstraintsEntry{(:y,), Tuple{Nothing}}}}, FactorisationConstraintsEntry{(:θ,), Tuple{Nothing}}}}}, Tuple{}}, ConstraintsSpecification{Tuple{FactorisationConstraintsSpecification{(:x, :y), Tuple{FactorisationConstraintsEntry{(:x,), Tuple{Nothing}}, FactorisationConstraintsEntry{(:y,), Tuple{Nothing}}}}, FactorisationConstraintsSpecification{(:x, :y, :z), Tuple{FactorisationConstraintsSpecification{(:x, :y), Tuple{FactorisationConstraintsEntry{(:x,), Tuple{Nothing}}, FactorisationConstraintsEntry{(:y,), Tuple{Nothing}}}}, FactorisationConstraintsEntry{(:z,), Tuple{Nothing}}}}}, Tuple{}}}\u001b[22m\u001b[39m\n",
      "\u001b[90m1 ──\u001b[39m       (form_constraint#1077 = ())\n",
      "\u001b[90m│   \u001b[39m       (factorisation_constraint#1078 = ())\n",
      "\u001b[90m│   \u001b[39m       (q(x, y)#1079 = Main.nothing)\n",
      "\u001b[90m│   \u001b[39m       (q(x, y, z)#1081 = Main.nothing)\n",
      "\u001b[90m│   \u001b[39m       (q(x, y, θ)#1080 = Main.nothing)\n",
      "\u001b[90m│   \u001b[39m %6  = (q(x, y)#1079::Core.Const(nothing) === Main.nothing)\u001b[36m::Core.Const(true)\u001b[39m\n",
      "\u001b[90m│   \u001b[39m       Core.typeassert(%6, Core.Bool)\n",
      "\u001b[90m└───\u001b[39m       goto #3\n",
      "\u001b[90m2 ──\u001b[39m       Core.Const(:(Base.string(\"Factorisation constraints specification \", \"q(x, y)\", \" = ... has been redefined.\")))\n",
      "\u001b[90m└───\u001b[39m       Core.Const(:(Main.error(%9)))\n",
      "\u001b[90m3 ┄─\u001b[39m %11 = (:x, :y)\u001b[36m::Core.Const((:x, :y))\u001b[39m\n",
      "\u001b[90m│   \u001b[39m %12 = Main.Val(%11)\u001b[36m::Core.Const(Val{(:x, :y)}())\u001b[39m\n",
      "\u001b[90m│   \u001b[39m %13 = (:x,)\u001b[36m::Core.Const((:x,))\u001b[39m\n",
      "\u001b[90m│   \u001b[39m %14 = Core.apply_type(Core.NamedTuple, %13)\u001b[36m::Core.Const(NamedTuple{(:x,)})\u001b[39m\n",
      "\u001b[90m│   \u001b[39m %15 = Core.tuple(Main.nothing)\u001b[36m::Core.Const((nothing,))\u001b[39m\n",
      "\u001b[90m│   \u001b[39m %16 = (%14)(%15)\u001b[36m::Core.Const((x = nothing,))\u001b[39m\n",
      "\u001b[90m│   \u001b[39m %17 = Main.FactorisationConstraintsEntry(%16)\u001b[36m::Core.Const(q(x))\u001b[39m\n",
      "\u001b[90m│   \u001b[39m %18 = Core.tuple(%17)\u001b[36m::Core.Const((q(x),))\u001b[39m\n",
      "\u001b[90m│   \u001b[39m %19 = (:y,)\u001b[36m::Core.Const((:y,))\u001b[39m\n",
      "\u001b[90m│   \u001b[39m %20 = Core.apply_type(Core.NamedTuple, %19)\u001b[36m::Core.Const(NamedTuple{(:y,)})\u001b[39m\n",
      "\u001b[90m│   \u001b[39m %21 = Core.tuple(Main.nothing)\u001b[36m::Core.Const((nothing,))\u001b[39m\n",
      "\u001b[90m│   \u001b[39m %22 = (%20)(%21)\u001b[36m::Core.Const((y = nothing,))\u001b[39m\n",
      "\u001b[90m│   \u001b[39m %23 = Main.FactorisationConstraintsEntry(%22)\u001b[36m::Core.Const(q(y))\u001b[39m\n",
      "\u001b[90m│   \u001b[39m %24 = Core.tuple(%23)\u001b[36m::Core.Const((q(y),))\u001b[39m\n",
      "\u001b[90m│   \u001b[39m %25 = (%18 * %24)\u001b[36m::Core.Const((q(x), q(y)))\u001b[39m\n",
      "\u001b[90m│   \u001b[39m       (q(x, y)#1079 = Main.FactorisationConstraintsSpecification(%12, %25))\n",
      "\u001b[90m│   \u001b[39m %27 = factorisation_constraint#1078\u001b[36m::Core.Const(())\u001b[39m\n",
      "\u001b[90m│   \u001b[39m %28 = Core.tuple(q(x, y)#1079::Core.Const(q(x, y) = q(x)q(y)))\u001b[36m::Core.Const((q(x, y) = q(x)q(y),))\u001b[39m\n",
      "\u001b[90m│   \u001b[39m       (factorisation_constraint#1078 = Core._apply_iterate(Base.iterate, Core.tuple, %27, %28))\n",
      "\u001b[90m└───\u001b[39m       goto #7 if not flag\n",
      "\u001b[90m4 ──\u001b[39m %31 = (q(x, y, θ)#1080::Core.Const(nothing) === Main.nothing)\u001b[36m::Core.Const(true)\u001b[39m\n",
      "\u001b[90m│   \u001b[39m       Core.typeassert(%31, Core.Bool)\n",
      "\u001b[90m└───\u001b[39m       goto #6\n",
      "\u001b[90m5 ──\u001b[39m       Core.Const(:(Base.string(\"Factorisation constraints specification \", \"q(x, y, θ)\", \" = ... has been redefined.\")))\n",
      "\u001b[90m└───\u001b[39m       Core.Const(:(Main.error(%34)))\n",
      "\u001b[90m6 ┄─\u001b[39m %36 = (:x, :y, :θ)\u001b[36m::Core.Const((:x, :y, :θ))\u001b[39m\n",
      "\u001b[90m│   \u001b[39m %37 = Main.Val(%36)\u001b[36m::Core.Const(Val{(:x, :y, :θ)}())\u001b[39m\n",
      "\u001b[90m│   \u001b[39m %38 = q(x, y)#1079\u001b[36m::Core.Const(q(x, y) = q(x)q(y))\u001b[39m\n",
      "\u001b[90m│   \u001b[39m %39 = (:θ,)\u001b[36m::Core.Const((:θ,))\u001b[39m\n",
      "\u001b[90m│   \u001b[39m %40 = Core.apply_type(Core.NamedTuple, %39)\u001b[36m::Core.Const(NamedTuple{(:θ,)})\u001b[39m\n",
      "\u001b[90m│   \u001b[39m %41 = Core.tuple(Main.nothing)\u001b[36m::Core.Const((nothing,))\u001b[39m\n",
      "\u001b[90m│   \u001b[39m %42 = (%40)(%41)\u001b[36m::Core.Const((θ = nothing,))\u001b[39m\n",
      "\u001b[90m│   \u001b[39m %43 = Main.FactorisationConstraintsEntry(%42)\u001b[36m::Core.Const(q(θ))\u001b[39m\n",
      "\u001b[90m│   \u001b[39m %44 = Core.tuple(%43)\u001b[36m::Core.Const((q(θ),))\u001b[39m\n",
      "\u001b[90m│   \u001b[39m %45 = (%38 * %44)\u001b[36m::Core.Const((q(x, y) = q(x)q(y), q(θ)))\u001b[39m\n",
      "\u001b[90m│   \u001b[39m       (q(x, y, θ)#1080 = Main.FactorisationConstraintsSpecification(%37, %45))\n",
      "\u001b[90m│   \u001b[39m %47 = factorisation_constraint#1078\u001b[36m::Core.Const((q(x, y) = q(x)q(y),))\u001b[39m\n",
      "\u001b[90m│   \u001b[39m %48 = Core.tuple(q(x, y, θ)#1080::Core.Const(q(x, y, θ) = q(x, y)q(θ)))\u001b[36m::Core.Const((q(x, y, θ) = q(x, y)q(θ),))\u001b[39m\n",
      "\u001b[90m│   \u001b[39m       (factorisation_constraint#1078 = Core._apply_iterate(Base.iterate, Core.tuple, %47, %48))\n",
      "\u001b[90m└───\u001b[39m       goto #10\n",
      "\u001b[90m7 ──\u001b[39m %51 = (q(x, y, z)#1081::Core.Const(nothing) === Main.nothing)\u001b[36m::Core.Const(true)\u001b[39m\n",
      "\u001b[90m│   \u001b[39m       Core.typeassert(%51, Core.Bool)\n",
      "\u001b[90m└───\u001b[39m       goto #9\n",
      "\u001b[90m8 ──\u001b[39m       Core.Const(:(Base.string(\"Factorisation constraints specification \", \"q(x, y, z)\", \" = ... has been redefined.\")))\n",
      "\u001b[90m└───\u001b[39m       Core.Const(:(Main.error(%54)))\n",
      "\u001b[90m9 ┄─\u001b[39m %56 = (:x, :y, :z)\u001b[36m::Core.Const((:x, :y, :z))\u001b[39m\n",
      "\u001b[90m│   \u001b[39m %57 = Main.Val(%56)\u001b[36m::Core.Const(Val{(:x, :y, :z)}())\u001b[39m\n",
      "\u001b[90m│   \u001b[39m %58 = q(x, y)#1079\u001b[36m::Core.Const(q(x, y) = q(x)q(y))\u001b[39m\n",
      "\u001b[90m│   \u001b[39m %59 = (:z,)\u001b[36m::Core.Const((:z,))\u001b[39m\n",
      "\u001b[90m│   \u001b[39m %60 = Core.apply_type(Core.NamedTuple, %59)\u001b[36m::Core.Const(NamedTuple{(:z,)})\u001b[39m\n",
      "\u001b[90m│   \u001b[39m %61 = Core.tuple(Main.nothing)\u001b[36m::Core.Const((nothing,))\u001b[39m\n",
      "\u001b[90m│   \u001b[39m %62 = (%60)(%61)\u001b[36m::Core.Const((z = nothing,))\u001b[39m\n",
      "\u001b[90m│   \u001b[39m %63 = Main.FactorisationConstraintsEntry(%62)\u001b[36m::Core.Const(q(z))\u001b[39m\n",
      "\u001b[90m│   \u001b[39m %64 = Core.tuple(%63)\u001b[36m::Core.Const((q(z),))\u001b[39m\n",
      "\u001b[90m│   \u001b[39m %65 = (%58 * %64)\u001b[36m::Core.Const((q(x, y) = q(x)q(y), q(z)))\u001b[39m\n",
      "\u001b[90m│   \u001b[39m       (q(x, y, z)#1081 = Main.FactorisationConstraintsSpecification(%57, %65))\n",
      "\u001b[90m│   \u001b[39m %67 = factorisation_constraint#1078\u001b[36m::Core.Const((q(x, y) = q(x)q(y),))\u001b[39m\n",
      "\u001b[90m│   \u001b[39m %68 = Core.tuple(q(x, y, z)#1081::Core.Const(q(x, y, z) = q(x, y)q(z)))\u001b[36m::Core.Const((q(x, y, z) = q(x, y)q(z),))\u001b[39m\n",
      "\u001b[90m└───\u001b[39m       (factorisation_constraint#1078 = Core._apply_iterate(Base.iterate, Core.tuple, %67, %68))\n",
      "\u001b[90m10 ┄\u001b[39m %70 = Main.ConstraintsSpecification(factorisation_constraint#1078::Union{Tuple{FactorisationConstraintsSpecification{(:x, :y), Tuple{FactorisationConstraintsEntry{(:x,), Tuple{Nothing}}, FactorisationConstraintsEntry{(:y,), Tuple{Nothing}}}}, FactorisationConstraintsSpecification{(:x, :y, :θ), Tuple{FactorisationConstraintsSpecification{(:x, :y), Tuple{FactorisationConstraintsEntry{(:x,), Tuple{Nothing}}, FactorisationConstraintsEntry{(:y,), Tuple{Nothing}}}}, FactorisationConstraintsEntry{(:θ,), Tuple{Nothing}}}}}, Tuple{FactorisationConstraintsSpecification{(:x, :y), Tuple{FactorisationConstraintsEntry{(:x,), Tuple{Nothing}}, FactorisationConstraintsEntry{(:y,), Tuple{Nothing}}}}, FactorisationConstraintsSpecification{(:x, :y, :z), Tuple{FactorisationConstraintsSpecification{(:x, :y), Tuple{FactorisationConstraintsEntry{(:x,), Tuple{Nothing}}, FactorisationConstraintsEntry{(:y,), Tuple{Nothing}}}}, FactorisationConstraintsEntry{(:z,), Tuple{Nothing}}}}}}, form_constraint#1077)\u001b[91m\u001b[1m::Union{ConstraintsSpecification{Tuple{FactorisationConstraintsSpecification{(:x, :y), Tuple{FactorisationConstraintsEntry{(:x,), Tuple{Nothing}}, FactorisationConstraintsEntry{(:y,), Tuple{Nothing}}}}, FactorisationConstraintsSpecification{(:x, :y, :θ), Tuple{FactorisationConstraintsSpecification{(:x, :y), Tuple{FactorisationConstraintsEntry{(:x,), Tuple{Nothing}}, FactorisationConstraintsEntry{(:y,), Tuple{Nothing}}}}, FactorisationConstraintsEntry{(:θ,), Tuple{Nothing}}}}}, Tuple{}}, ConstraintsSpecification{Tuple{FactorisationConstraintsSpecification{(:x, :y), Tuple{FactorisationConstraintsEntry{(:x,), Tuple{Nothing}}, FactorisationConstraintsEntry{(:y,), Tuple{Nothing}}}}, FactorisationConstraintsSpecification{(:x, :y, :z), Tuple{FactorisationConstraintsSpecification{(:x, :y), Tuple{FactorisationConstraintsEntry{(:x,), Tuple{Nothing}}, FactorisationConstraintsEntry{(:y,), Tuple{Nothing}}}}, FactorisationConstraintsEntry{(:z,), Tuple{Nothing}}}}}, Tuple{}}}\u001b[22m\u001b[39m\n",
      "\u001b[90m└───\u001b[39m       return %70\n",
      "\n"
     ]
    }
   ],
   "source": [
    "@code_warntype forbench(true)"
   ]
  },
  {
   "cell_type": "code",
   "execution_count": null,
   "metadata": {},
   "outputs": [],
   "source": []
  }
 ],
 "metadata": {
  "kernelspec": {
   "display_name": "Julia 1.7.0",
   "language": "julia",
   "name": "julia-1.7"
  },
  "language_info": {
   "file_extension": ".jl",
   "mimetype": "application/julia",
   "name": "julia",
   "version": "1.7.1"
  }
 },
 "nbformat": 4,
 "nbformat_minor": 4
}
