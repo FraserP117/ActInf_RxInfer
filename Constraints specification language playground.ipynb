{
 "cells": [
  {
   "cell_type": "code",
   "execution_count": 1,
   "metadata": {},
   "outputs": [
    {
     "name": "stderr",
     "output_type": "stream",
     "text": [
      "┌ Info: Precompiling ReactiveMP [a194aa59-28ba-4574-a09c-4a745416d6e3]\n",
      "└ @ Base loading.jl:1423\n",
      "\u001b[33m\u001b[1m┌ \u001b[22m\u001b[39m\u001b[33m\u001b[1mWarning: \u001b[22m\u001b[39mPackage ReactiveMP does not have Unrolled in its dependencies:\n",
      "\u001b[33m\u001b[1m│ \u001b[22m\u001b[39m- If you have ReactiveMP checked out for development and have\n",
      "\u001b[33m\u001b[1m│ \u001b[22m\u001b[39m  added Unrolled as a dependency but haven't updated your primary\n",
      "\u001b[33m\u001b[1m│ \u001b[22m\u001b[39m  environment's manifest file, try `Pkg.resolve()`.\n",
      "\u001b[33m\u001b[1m│ \u001b[22m\u001b[39m- Otherwise you may need to report an issue with ReactiveMP\n",
      "\u001b[33m\u001b[1m└ \u001b[22m\u001b[39mLoading Unrolled into ReactiveMP from project dependency, future warnings for ReactiveMP are suppressed.\n",
      "┌ Info: Precompiling GraphPPL [b3f8163a-e979-4e85-b43e-1f63d8c8b42c]\n",
      "└ @ Base loading.jl:1423\n"
     ]
    }
   ],
   "source": [
    "using MacroTools\n",
    "using BenchmarkTools \n",
    "using TupleTools\n",
    "using Test\n",
    "using ReactiveMP\n",
    "using GraphPPL\n",
    "\n",
    "import MacroTools: prewalk, postwalk"
   ]
  },
  {
   "cell_type": "code",
   "execution_count": 2,
   "metadata": {},
   "outputs": [
    {
     "data": {
      "text/plain": [
       "@e (macro with 1 method)"
      ]
     },
     "execution_count": 2,
     "metadata": {},
     "output_type": "execute_result"
    }
   ],
   "source": [
    "macro e(something)\n",
    "    if something.head === :macrocall\n",
    "        return esc(:(println(MacroTools.prettify(@macroexpand $something)); $something))\n",
    "    end\n",
    "    return esc(something)\n",
    "end"
   ]
  },
  {
   "cell_type": "code",
   "execution_count": 3,
   "metadata": {},
   "outputs": [
    {
     "name": "stdout",
     "output_type": "stream",
     "text": [
      "  0.000010 seconds (14 allocations: 2.062 KiB)\n",
      "  0.000010 seconds (14 allocations: 2.062 KiB)\n"
     ]
    },
    {
     "data": {
      "text/plain": [
       "Constraints:\n",
       "\tform: ()\n",
       "\tfactorisation\n",
       "\t\tq(x, y) = q(x)q(y)\n",
       "\t\tq(x, y, t, r) = q(x, y)q(t)q(r)\n",
       "\t\tq(x, w) = q(x)q(w)\n",
       "\t\tq(y, w) = q(y)q(w)\n",
       "\t\tq(x) = q(x[(begin):((begin) + 2)])q(x[((begin) + 3)..(end)])\n"
      ]
     },
     "execution_count": 3,
     "metadata": {},
     "output_type": "execute_result"
    }
   ],
   "source": [
    "cs = @constraints function test()\n",
    "    q(x, y) = q(x)q(y)\n",
    "    q(x, y, t, r) = q(x, y)q(t)q(r)\n",
    "    q(x, w) = q(x)q(w)\n",
    "    q(y, w) = q(y)q(w)\n",
    "    q(x) = q(x[begin:begin+2])q(x[begin+3])..q(x[end])\n",
    "end\n",
    "        \n",
    "@time test()\n",
    "@time test()\n",
    "\n",
    "cs = test()"
   ]
  },
  {
   "cell_type": "code",
   "execution_count": 4,
   "metadata": {},
   "outputs": [],
   "source": [
    "model = Model()\n",
    "\n",
    "x = randomvar(model, :x, 10)\n",
    "y = randomvar(model, :y, 10)\n",
    "tmp = randomvar(model, :tmp)\n",
    "t = randomvar(model, :t, 10)\n",
    "r = randomvar(model, :r)\n",
    "\n",
    "vars = (x[3], x[4], y[1], t[1]);\n",
    "# vars = (xvar, yvar, tvar)"
   ]
  },
  {
   "cell_type": "code",
   "execution_count": 5,
   "metadata": {},
   "outputs": [
    {
     "name": "stdout",
     "output_type": "stream",
     "text": [
      "  1.103759 seconds (2.67 M allocations: 146.779 MiB, 2.65% gc time, 99.92% compilation time)\n",
      "  0.000064 seconds (187 allocations: 6.609 KiB)\n"
     ]
    },
    {
     "data": {
      "text/plain": [
       "((1,), (2,), (3,), (4,))"
      ]
     },
     "execution_count": 5,
     "metadata": {},
     "output_type": "execute_result"
    }
   ],
   "source": [
    "@time ReactiveMP.resolve_factorisation(:(1 + 1), vars, cs, model)\n",
    "@time ReactiveMP.resolve_factorisation(:(1 + 1), vars, cs, model)"
   ]
  },
  {
   "cell_type": "code",
   "execution_count": 6,
   "metadata": {},
   "outputs": [
    {
     "name": "stdout",
     "output_type": "stream",
     "text": [
      "  0.000068 seconds (187 allocations: 6.609 KiB)\n",
      "  0.000085 seconds (187 allocations: 6.609 KiB)\n"
     ]
    },
    {
     "data": {
      "text/plain": [
       "((1,), (2,), (3,), (4,))"
      ]
     },
     "execution_count": 6,
     "metadata": {},
     "output_type": "execute_result"
    }
   ],
   "source": [
    "@time ReactiveMP.resolve_factorisation(:(1 + 1), vars, cs, model)\n",
    "@time ReactiveMP.resolve_factorisation(:(1 + 1), vars, cs, model)"
   ]
  },
  {
   "cell_type": "code",
   "execution_count": 7,
   "metadata": {},
   "outputs": [
    {
     "name": "stdout",
     "output_type": "stream",
     "text": [
      "  6.924 μs (181 allocations: 6.42 KiB)\n"
     ]
    },
    {
     "data": {
      "text/plain": [
       "((1,), (2,), (3,), (4,))"
      ]
     },
     "execution_count": 7,
     "metadata": {},
     "output_type": "execute_result"
    }
   ],
   "source": [
    "@btime ReactiveMP.resolve_factorisation(:(1 + 1), $vars, $cs, $model)"
   ]
  },
  {
   "cell_type": "code",
   "execution_count": 8,
   "metadata": {},
   "outputs": [
    {
     "name": "stdout",
     "output_type": "stream",
     "text": [
      "  0.666946 seconds (1.65 M allocations: 89.508 MiB, 3.93% gc time, 99.90% compilation time)\n",
      "  0.000064 seconds (331 allocations: 13.547 KiB)\n",
      "  13.108 μs (325 allocations: 13.36 KiB)\n"
     ]
    },
    {
     "data": {
      "text/plain": [
       "((1, 3), (2, 4), (5, 6))"
      ]
     },
     "execution_count": 8,
     "metadata": {},
     "output_type": "execute_result"
    }
   ],
   "source": [
    "# fast playground\n",
    "let \n",
    "    cs = @constraints begin\n",
    "        q(x, y) = q(x[begin], y[begin])..q(x[end], y[end])\n",
    "        # q(x, y) = (q(x[begin])..q(x[end]))*(q(y[begin])..q(y[end]))        \n",
    "        q(x, y, t) = q(x, y)q(t)\n",
    "        q(x, y, r) = q(x, y)q(r)\n",
    "    end\n",
    "            \n",
    "    model = Model()\n",
    "            \n",
    "    y = randomvar(model, :y, 10)\n",
    "    x = randomvar(model, :x, 10)\n",
    "    t = randomvar(model, :t)\n",
    "    r = randomvar(model, :r)\n",
    "    \n",
    "    vars = (y[1], y[2], x[1], x[2], t, r)\n",
    "    \n",
    "    @time ReactiveMP.resolve_factorisation(:(1 + 1), vars, cs, model)\n",
    "    @time ReactiveMP.resolve_factorisation(:(1 + 1), vars, cs, model)\n",
    "    \n",
    "    @btime ReactiveMP.resolve_factorisation(:(1 + 1), $vars, $cs, $model)\n",
    "end"
   ]
  },
  {
   "cell_type": "code",
   "execution_count": 9,
   "metadata": {},
   "outputs": [
    {
     "name": "stdout",
     "output_type": "stream",
     "text": [
      "  0.215115 seconds (607.40 k allocations: 32.503 MiB, 99.86% compilation time)\n",
      "  0.000061 seconds (307 allocations: 12.562 KiB)\n",
      "  11.256 μs (301 allocations: 12.38 KiB)\n"
     ]
    },
    {
     "data": {
      "text/plain": [
       "((1,), (2,), (3,), (4,), (5, 6))"
      ]
     },
     "execution_count": 9,
     "metadata": {},
     "output_type": "execute_result"
    }
   ],
   "source": [
    "# fast playground\n",
    "let \n",
    "    cs = @constraints begin\n",
    "        q(x, y) = (q(x[begin])..q(x[end]))*(q(y[begin])..q(y[end]))        \n",
    "        q(x, y, t) = q(x, y)q(t)\n",
    "        q(x, y, r) = q(x, y)q(r)\n",
    "    end\n",
    "            \n",
    "    model = Model()\n",
    "            \n",
    "    y = randomvar(model, :y, 10)\n",
    "    x = randomvar(model, :x, 10)\n",
    "    t = randomvar(model, :t)\n",
    "    r = randomvar(model, :r)\n",
    "    \n",
    "    vars = (y[1], y[2], x[1], x[2], t, r)\n",
    "    \n",
    "    @time ReactiveMP.resolve_factorisation(:(1 + 1), vars, cs, model)\n",
    "    @time ReactiveMP.resolve_factorisation(:(1 + 1), vars, cs, model)\n",
    "    \n",
    "    @btime ReactiveMP.resolve_factorisation(:(1 + 1), $vars, $cs, $model)\n",
    "end"
   ]
  },
  {
   "cell_type": "code",
   "execution_count": 10,
   "metadata": {},
   "outputs": [
    {
     "name": "stdout",
     "output_type": "stream",
     "text": [
      "  0.418719 seconds (1.10 M allocations: 59.179 MiB, 3.14% gc time, 99.91% compilation time)\n",
      "  0.000064 seconds (395 allocations: 15.141 KiB)\n",
      "  15.326 μs (389 allocations: 14.95 KiB)\n"
     ]
    },
    {
     "data": {
      "text/plain": [
       "((1,), (2, 3), (4,), (5, 6))"
      ]
     },
     "execution_count": 10,
     "metadata": {},
     "output_type": "execute_result"
    }
   ],
   "source": [
    "# fast playground\n",
    "let \n",
    "    cs = @constraints begin\n",
    "        q(x, y) = q(y[1])q(x[begin], y[begin+1])..q(x[end], y[end])       \n",
    "        q(x, y, t) = q(x, y)q(t)\n",
    "        q(x, y, r) = q(x, y)q(r)\n",
    "    end\n",
    "            \n",
    "    model = Model()\n",
    "            \n",
    "    y = randomvar(model, :y, 11)\n",
    "    x = randomvar(model, :x, 10)\n",
    "    t = randomvar(model, :t)\n",
    "    r = randomvar(model, :r)\n",
    "    \n",
    "    vars = (y[1], y[2], x[1], x[2], t, r)\n",
    "    \n",
    "    @time ReactiveMP.resolve_factorisation(:(1 + 1), vars, cs, model)\n",
    "    @time ReactiveMP.resolve_factorisation(:(1 + 1), vars, cs, model)\n",
    "    \n",
    "    @btime ReactiveMP.resolve_factorisation(:(1 + 1), $vars, $cs, $model)\n",
    "end"
   ]
  },
  {
   "cell_type": "code",
   "execution_count": 11,
   "metadata": {},
   "outputs": [
    {
     "name": "stdout",
     "output_type": "stream",
     "text": [
      "  0.100430 seconds (300.36 k allocations: 15.434 MiB, 99.91% compilation time)\n",
      "  0.000025 seconds (89 allocations: 3.750 KiB)\n",
      "  3.713 μs (83 allocations: 3.56 KiB)\n"
     ]
    },
    {
     "data": {
      "text/plain": [
       "((1, 2), (3, 4))"
      ]
     },
     "execution_count": 11,
     "metadata": {},
     "output_type": "execute_result"
    }
   ],
   "source": [
    "# fast playground\n",
    "let \n",
    "    cs = @constraints begin\n",
    "        q(x, y) = q(x)q(y)\n",
    "    end\n",
    "            \n",
    "    model = Model()\n",
    "            \n",
    "    y = randomvar(model, :y, 11)\n",
    "    x = randomvar(model, :x, 10)\n",
    "    \n",
    "    vars = (y[1], y[2], x[1], x[2])\n",
    "    \n",
    "    @time ReactiveMP.resolve_factorisation(:(1 + 1), vars, cs, model)\n",
    "    @time ReactiveMP.resolve_factorisation(:(1 + 1), vars, cs, model)\n",
    "    \n",
    "    @btime ReactiveMP.resolve_factorisation(:(1 + 1), $vars, $cs, $model)\n",
    "end"
   ]
  },
  {
   "cell_type": "code",
   "execution_count": 12,
   "metadata": {},
   "outputs": [
    {
     "name": "stdout",
     "output_type": "stream",
     "text": [
      "  0.182169 seconds (449.99 k allocations: 23.848 MiB, 6.74% gc time, 99.89% compilation time)\n",
      "  0.000021 seconds (49 allocations: 1.844 KiB)\n",
      "  2.049 μs (43 allocations: 1.66 KiB)\n"
     ]
    },
    {
     "data": {
      "text/plain": [
       "((1,), (2,))"
      ]
     },
     "execution_count": 12,
     "metadata": {},
     "output_type": "execute_result"
    }
   ],
   "source": [
    "# fast playground\n",
    "let \n",
    "    cs = @constraints begin\n",
    "        q(x, y) = q(x)q(y)\n",
    "    end\n",
    "            \n",
    "    model = Model()\n",
    "            \n",
    "    y = randomvar(model, :y, 11)\n",
    "    x = randomvar(model, :x, 10)\n",
    "    \n",
    "    vars = (y[1], x[1])\n",
    "    \n",
    "    @time ReactiveMP.resolve_factorisation(:(1 + 1), vars, cs, model)\n",
    "    @time ReactiveMP.resolve_factorisation(:(1 + 1), vars, cs, model)\n",
    "    \n",
    "    @btime ReactiveMP.resolve_factorisation(:(1 + 1), $vars, $cs, $model)\n",
    "end"
   ]
  },
  {
   "cell_type": "code",
   "execution_count": 13,
   "metadata": {},
   "outputs": [
    {
     "name": "stdout",
     "output_type": "stream",
     "text": [
      "ReactiveMP.resolve_factorisation($(Expr(:quote, :(1 + 1))), vars, withflag(true), model) = ((1,), (2,))\n",
      "ReactiveMP.resolve_factorisation($(Expr(:quote, :(1 + 1))), vars, withflag(false), model) = ((1, 2),)\n"
     ]
    },
    {
     "data": {
      "text/plain": [
       "((1, 2),)"
      ]
     },
     "execution_count": 13,
     "metadata": {},
     "output_type": "execute_result"
    }
   ],
   "source": [
    "# fast playground\n",
    "let \n",
    "    @constraints function withflag(flag)\n",
    "        if flag\n",
    "            q(x, y) = q(x)q(y)\n",
    "        else\n",
    "            q(x, y) = q(x, y)\n",
    "        end\n",
    "    end\n",
    "            \n",
    "    model = Model()\n",
    "            \n",
    "    y = randomvar(model, :y, 11)\n",
    "    x = randomvar(model, :x, 10)\n",
    "    \n",
    "    vars = (y[1], x[1])\n",
    "    \n",
    "    @show ReactiveMP.resolve_factorisation(:(1 + 1), vars, withflag(true), model)\n",
    "    @show ReactiveMP.resolve_factorisation(:(1 + 1), vars, withflag(false), model)\n",
    "end"
   ]
  },
  {
   "cell_type": "code",
   "execution_count": 14,
   "metadata": {},
   "outputs": [
    {
     "name": "stdout",
     "output_type": "stream",
     "text": [
      "ReactiveMP.resolve_factorisation($(Expr(:quote, :(1 + 1))), vars, withflag(2), model) = ((1,), (2,), (3,))\n",
      "ReactiveMP.resolve_factorisation($(Expr(:quote, :(1 + 1))), vars, withflag(4), model) = ((1,), (2, 3))\n"
     ]
    },
    {
     "data": {
      "text/plain": [
       "((1,), (2, 3))"
      ]
     },
     "execution_count": 14,
     "metadata": {},
     "output_type": "execute_result"
    }
   ],
   "source": [
    "# fast playground\n",
    "let \n",
    "    @constraints function withflag(n)\n",
    "        q(x, y) = q(x[1:n])*(q(x[n+1])..q(x[end]))*q(y)\n",
    "    end\n",
    "            \n",
    "    model = Model()\n",
    "            \n",
    "    y = randomvar(model, :y, 11)\n",
    "    x = randomvar(model, :x, 10)\n",
    "    \n",
    "    vars = (y[1], x[2], x[3])\n",
    "    \n",
    "    @show ReactiveMP.resolve_factorisation(:(1 + 1), vars, withflag(2), model)\n",
    "    @show ReactiveMP.resolve_factorisation(:(1 + 1), vars, withflag(4), model)\n",
    "end"
   ]
  },
  {
   "cell_type": "code",
   "execution_count": 15,
   "metadata": {},
   "outputs": [
    {
     "name": "stdout",
     "output_type": "stream",
     "text": [
      "ReactiveMP.resolve_factorisation($(Expr(:quote, :(1 + 1))), (y[1], x[1], x[2]), cs, model) = ((1,), (2,), (3,))\n",
      "ReactiveMP.resolve_factorisation($(Expr(:quote, :(1 + 1))), (y[1], x[2], x[3]), cs, model) = ((1,), (2, 3))\n"
     ]
    },
    {
     "data": {
      "text/plain": [
       "((1,), (2, 3))"
      ]
     },
     "execution_count": 15,
     "metadata": {},
     "output_type": "execute_result"
    }
   ],
   "source": [
    "# fast playground\n",
    "let \n",
    "    cs = @constraints begin\n",
    "       q(x, y) = q(x[begin])*q(x[begin+1:end])*q(y)\n",
    "    end\n",
    "            \n",
    "    model = Model()\n",
    "            \n",
    "    y = randomvar(model, :y, 11)\n",
    "    x = randomvar(model, :x, 10)\n",
    "    \n",
    "    @show ReactiveMP.resolve_factorisation(:(1 + 1), (y[1], x[1], x[2]), cs, model)\n",
    "    @show ReactiveMP.resolve_factorisation(:(1 + 1), (y[1], x[2], x[3]), cs, model)\n",
    "end"
   ]
  },
  {
   "cell_type": "code",
   "execution_count": 16,
   "metadata": {},
   "outputs": [
    {
     "ename": "LoadError",
     "evalue": "Cannot split q(x[(begin)], x[(begin)]) and q(x[(end)], x[(end)]). Names should be unique.",
     "output_type": "error",
     "traceback": [
      "Cannot split q(x[(begin)], x[(begin)]) and q(x[(end)], x[(end)]). Names should be unique.",
      "",
      "Stacktrace:",
      " [1] error(s::String)",
      "   @ Base ./error.jl:33",
      " [2] factorisation_split",
      "   @ ~/.julia/dev/ReactiveMP.jl/src/constraints/spec/factorisation_spec.jl:142 [inlined]",
      " [3] macro expansion",
      "   @ ~/.julia/dev/GraphPPL.jl/src/constraints.jl:143 [inlined]",
      " [4] macro expansion",
      "   @ ./In[16]:3 [inlined]",
      " [5] var\"##constraints#412\"()",
      "   @ Main ~/.julia/dev/GraphPPL.jl/src/constraints.jl:62",
      " [6] top-level scope",
      "   @ ~/.julia/dev/GraphPPL.jl/src/constraints.jl:205",
      " [7] eval",
      "   @ ./boot.jl:373 [inlined]",
      " [8] include_string(mapexpr::typeof(REPL.softscope), mod::Module, code::String, filename::String)",
      "   @ Base ./loading.jl:1196"
     ]
    }
   ],
   "source": [
    "# Should error\n",
    "@constraints begin\n",
    "    q(x, y) = q(x[begin], x[begin])..q(x[end], x[end])q(y)\n",
    "end"
   ]
  },
  {
   "cell_type": "code",
   "execution_count": null,
   "metadata": {},
   "outputs": [],
   "source": []
  }
 ],
 "metadata": {
  "kernelspec": {
   "display_name": "Julia 1.7.2",
   "language": "julia",
   "name": "julia-1.7"
  },
  "language_info": {
   "file_extension": ".jl",
   "mimetype": "application/julia",
   "name": "julia",
   "version": "1.7.2"
  }
 },
 "nbformat": 4,
 "nbformat_minor": 4
}
