{
 "cells": [
  {
   "cell_type": "code",
   "execution_count": 2,
   "metadata": {},
   "outputs": [],
   "source": [
    "using MacroTools\n",
    "using BenchmarkTools \n",
    "using TupleTools\n",
    "\n",
    "import MacroTools: prewalk, postwalk"
   ]
  },
  {
   "cell_type": "code",
   "execution_count": 3,
   "metadata": {},
   "outputs": [
    {
     "data": {
      "text/plain": [
       "@e (macro with 1 method)"
      ]
     },
     "execution_count": 3,
     "metadata": {},
     "output_type": "execute_result"
    }
   ],
   "source": [
    "macro e(something)\n",
    "    if something.head === :macrocall\n",
    "        return esc(:(println(MacroTools.prettify(@macroexpand $something)); $something))\n",
    "    end\n",
    "    return esc(something)\n",
    "end"
   ]
  },
  {
   "cell_type": "code",
   "execution_count": 4,
   "metadata": {},
   "outputs": [
    {
     "data": {
      "text/plain": [
       "make_factorisation_split (generic function with 1 method)"
      ]
     },
     "execution_count": 4,
     "metadata": {},
     "output_type": "execute_result"
    }
   ],
   "source": [
    "__range_io_helper(value::Integer) = value\n",
    "__range_io_helper(value::typeof(firstindex)) = :begin\n",
    "__range_io_helper(value::typeof(lastindex)) = :end\n",
    "\n",
    "struct CombinedRange{L, R}\n",
    "    from :: L\n",
    "    to   :: R\n",
    "end\n",
    "\n",
    "Base.show(io::IO, range::CombinedRange) = print(io, __range_io_helper(range.from), \":\", __range_io_helper(range.to))\n",
    "\n",
    "make_combined_range(l, r) = :(CombinedRange($l, $r))\n",
    "\n",
    "struct SplittedRange{L, R}\n",
    "    from :: L\n",
    "    to   :: R\n",
    "end\n",
    "\n",
    "Base.show(io::IO, range::SplittedRange) = print(io, __range_io_helper(range.from), \"..\", __range_io_helper(range.to))\n",
    "\n",
    "make_splitted_range(l, r) = :(SplittedRange($l, $r))\n",
    "make_factorisation_split(l, r) = :(factorisation_split($l, $r))"
   ]
  },
  {
   "cell_type": "code",
   "execution_count": 5,
   "metadata": {},
   "outputs": [],
   "source": [
    "struct NotDefinedYet{S} end"
   ]
  },
  {
   "cell_type": "code",
   "execution_count": 6,
   "metadata": {},
   "outputs": [],
   "source": [
    "struct ConstraintsSpecification{F, M}\n",
    "    factorisation :: F\n",
    "    form :: M\n",
    "end\n",
    "\n",
    "function Base.show(io::IO, specification::ConstraintsSpecification) \n",
    "    print(io, \"Constraints:\\n\\tform: $(specification.form)\\n\")\n",
    "    print(io, \"\\tfactorisation\\n\")\n",
    "    foreach(specification.factorisation) do f\n",
    "        print(io, \"\\t\\t\", f, \"\\n\")\n",
    "    end\n",
    "end"
   ]
  },
  {
   "cell_type": "code",
   "execution_count": 7,
   "metadata": {},
   "outputs": [
    {
     "data": {
      "text/plain": [
       "(2, 3, 4)"
      ]
     },
     "execution_count": 7,
     "metadata": {},
     "output_type": "execute_result"
    }
   ],
   "source": [
    "a = (1, 2, 3)\n",
    "b = (2, 3, 4)"
   ]
  },
  {
   "cell_type": "code",
   "execution_count": 8,
   "metadata": {},
   "outputs": [
    {
     "data": {
      "text/plain": [
       "3-element Vector{Int64}:\n",
       " 3\n",
       " 5\n",
       " 7"
      ]
     },
     "execution_count": 8,
     "metadata": {},
     "output_type": "execute_result"
    }
   ],
   "source": [
    "map(e -> +(e...), zip(a, b))"
   ]
  },
  {
   "cell_type": "code",
   "execution_count": 9,
   "metadata": {},
   "outputs": [],
   "source": [
    "struct FactorisationConstraintsEntry{N, I} end\n",
    "\n",
    "getnames(entry::FactorisationConstraintsEntry{N}) where N = N\n",
    "getindices(entry::FactorisationConstraintsEntry{N, I}) where { N, I } = I\n",
    "\n",
    "Base.:(*)(left::Tuple{Vararg{T where T <: FactorisationConstraintsEntry}}, right::Tuple{Vararg{T where T <: FactorisationConstraintsEntry}}) = (left..., right...)\n",
    "\n",
    "FactorisationConstraintsEntry(::Val{N}, ::Val{I}) where { N, I } = FactorisationConstraintsEntry{N, I}()\n",
    "\n",
    "make_factorisation_constraint_entry(N, T) = :(FactorisationConstraintsEntry($N, $T))\n",
    "\n",
    "__io_entry_pair(pair::Tuple)                    = __io_entry_pair(first(pair), last(pair))\n",
    "__io_entry_pair(symbol::Symbol, ::Nothing)      = string(symbol)\n",
    "__io_entry_pair(symbol::Symbol, index::Integer) = string(symbol, \"[\", index, \"]\")\n",
    "__io_entry_pair(symbol::Symbol, index::typeof(firstindex)) = string(symbol, \"[begin]\")\n",
    "__io_entry_pair(symbol::Symbol, index::typeof(lastindex)) = string(symbol, \"[end]\")\n",
    "__io_entry_pair(symbol::Symbol, range::CombinedRange) = string(symbol, \"[\", range, \"]\")\n",
    "__io_entry_pair(symbol::Symbol, range::SplittedRange) = string(symbol, \"[\", range, \"]\")\n",
    "\n",
    "function Base.show(io::IO, entry::FactorisationConstraintsEntry)\n",
    "    print(io, \"q(\")\n",
    "    entries = map(__io_entry_pair, zip(getnames(entry), getindices(entry)))\n",
    "    join(io, entries, \", \")\n",
    "    print(io, \")\")\n",
    "end"
   ]
  },
  {
   "cell_type": "code",
   "execution_count": 10,
   "metadata": {},
   "outputs": [
    {
     "data": {
      "text/plain": [
       "make_factorisation_constraint (generic function with 1 method)"
      ]
     },
     "execution_count": 10,
     "metadata": {},
     "output_type": "execute_result"
    }
   ],
   "source": [
    "struct FactorisationConstraintsSpecification{N, E} end\n",
    "\n",
    "getnames(specification::FactorisationConstraintsSpecification{N})      where N = N\n",
    "getentries(specification::FactorisationConstraintsSpecification{N, E}) where { N, E } = E\n",
    "\n",
    "Base.:(*)(left::Union{ <:FactorisationConstraintsSpecification, <:FactorisationConstraintsEntry }, right::NTuple{N2, <: Union{ <:FactorisationConstraintsSpecification, <:FactorisationConstraintsEntry }}) where { N1, N2 } = (left, right...)\n",
    "Base.:(*)(left::NTuple{N1, <: Union{ <:FactorisationConstraintsSpecification, <:FactorisationConstraintsEntry }}, right::Union{ <:FactorisationConstraintsSpecification, <:FactorisationConstraintsEntry }) where { N1, N2 } = (left..., right)\n",
    "Base.:(*)(left::Union{ <:FactorisationConstraintsSpecification, <:FactorisationConstraintsEntry }, right::Union{ <:FactorisationConstraintsSpecification, <:FactorisationConstraintsEntry }) = (left, right)\n",
    "\n",
    "Base.:(*)(::NotDefinedYet{S}, something::Any) where S = error(\"Cannot multiply $S and $something. $S has not been defined yet.\")\n",
    "Base.:(*)(something::Any, ::NotDefinedYet{S}) where S = error(\"Cannot multiply $S and $something. $S has not been defined yet.\")\n",
    "Base.:(*)(::NotDefinedYet{S1}, ::NotDefinedYet{S2}) where { S1, S2 } = error(\"Cannot multiply $S1 and $S2. Both $S1 and $S2 have not been defined yet.\")\n",
    "\n",
    "function Base.show(io::IO, factorisation::FactorisationConstraintsSpecification{Names}) where Names\n",
    "    \n",
    "    print(io, \"q(\")\n",
    "    join(io, getnames(factorisation), \", \")\n",
    "    print(io, \")\")\n",
    "    \n",
    "    compact = get(io, :compact, false)\n",
    "    \n",
    "    if !compact \n",
    "        print(io, \" = \")\n",
    "        foreach(getentries(factorisation)) do e\n",
    "            print(IOContext(io, :compact => true), e)\n",
    "        end\n",
    "    end\n",
    "    \n",
    "end\n",
    "\n",
    "FactorisationConstraintsSpecification(::Val{N}, ::Val{E})       where { N, E }       = FactorisationConstraintsSpecification{N, E}()\n",
    "FactorisationConstraintsSpecification(::Val{N}, ::Val{nothing}) where { N          } = error(\"Cannot create q(\", join(N, \",\"), \") factorisation constraints specification\")\n",
    "    \n",
    "make_factorisation_constraint(N, E) = :(FactorisationConstraintsSpecification($N, $E))"
   ]
  },
  {
   "cell_type": "code",
   "execution_count": 11,
   "metadata": {},
   "outputs": [],
   "source": [
    "using Unrolled"
   ]
  },
  {
   "cell_type": "code",
   "execution_count": 12,
   "metadata": {},
   "outputs": [
    {
     "data": {
      "text/plain": [
       "factorisation_split (generic function with 1 method)"
      ]
     },
     "execution_count": 12,
     "metadata": {},
     "output_type": "execute_result"
    }
   ],
   "source": [
    "# Split related functions\n",
    "\n",
    "Base.:(*)(left::Tuple{Vararg{T where T <: FactorisationConstraintsEntry}}, right::Tuple{Vararg{T where T <: FactorisationConstraintsEntry}}) = (left..., right...)\n",
    "\n",
    "# Only these combinations are allowed to be merged\n",
    "__factorisation_split_merge_range(a::Int, b::Int)                              = SplittedRange(a, b)\n",
    "__factorisation_split_merge_range(a::typeof(firstindex), b::Int)               = SplittedRange(a, b)\n",
    "__factorisation_split_merge_range(a::Int, b::typeof(lastindex))                = SplittedRange(a, b)\n",
    "__factorisation_split_merge_range(a::typeof(firstindex), b::typeof(lastindex)) = SplittedRange(a, b)\n",
    "__factorisation_split_merge_range(a::Any, b::Any) = error(\"Cannot merge $(a) and $(b) indexes in `factorisation_split`\")\n",
    "\n",
    "function factorisation_split(left::Tuple{Vararg{T where T <: FactorisationConstraintsEntry}}, right::Tuple{Vararg{T where T <: FactorisationConstraintsEntry}})\n",
    "    left_last   = last(left)\n",
    "    right_first = first(right)\n",
    "    (getnames(left_last) === getnames(right_first)) || error(\"Cannot split $(left_last) and $(right_first).\")\n",
    "    lindices = getindices(left_last)\n",
    "    rindices = getindices(right_first)\n",
    "    split_merged = unrolled_map(__factorisation_split_merge_range, lindices, rindices)\n",
    "    \n",
    "    first_split = first(split_merged)\n",
    "    unrolled_all(e -> e === first_split, split_merged) || error(\"Inconsistent indices within factorisation split. Check $(split_merged) indices for $(getnames(left_last)) variables.\")\n",
    "    \n",
    "    return (left[1:end - 1]..., FactorisationConstraintsEntry(Val(getnames(left_last)), Val(split_merged)), right[begin+1:end]...)\n",
    "end"
   ]
  },
  {
   "cell_type": "code",
   "execution_count": 13,
   "metadata": {},
   "outputs": [
    {
     "data": {
      "text/plain": [
       "make_constraints_specification (generic function with 1 method)"
      ]
     },
     "execution_count": 13,
     "metadata": {},
     "output_type": "execute_result"
    }
   ],
   "source": [
    "struct ReactiveMPBackend end\n",
    "\n",
    "__get_current_backend() = ReactiveMPBackend()\n",
    "\n",
    "macro constraints(constraints_specification)\n",
    "    return generate_constraints_expression(__get_current_backend(), constraints_specification)\n",
    "end\n",
    "\n",
    "make_constraints_specification(factorisation, form) = :(ConstraintsSpecification($factorisation, $form))"
   ]
  },
  {
   "cell_type": "code",
   "execution_count": 14,
   "metadata": {},
   "outputs": [
    {
     "data": {
      "text/plain": [
       "isref (generic function with 1 method)"
      ]
     },
     "execution_count": 14,
     "metadata": {},
     "output_type": "execute_result"
    }
   ],
   "source": [
    "isexpr(expr::Expr) = true\n",
    "isexpr()           = false\n",
    "\n",
    "ishead(something, head) = isexpr(something) && something.head === head\n",
    "\n",
    "isblock(something) = ishead(something, :block)\n",
    "isref(something) = ishead(something, :ref)"
   ]
  },
  {
   "cell_type": "code",
   "execution_count": 15,
   "metadata": {},
   "outputs": [],
   "source": [
    "struct LHSMeta\n",
    "    name :: String\n",
    "    hash :: UInt\n",
    "    varname :: Symbol\n",
    "end"
   ]
  },
  {
   "cell_type": "code",
   "execution_count": 16,
   "metadata": {},
   "outputs": [],
   "source": [
    "# TODO: check for intersections of ranges during an actual execution"
   ]
  },
  {
   "cell_type": "code",
   "execution_count": 17,
   "metadata": {},
   "outputs": [
    {
     "data": {
      "text/plain": [
       "generate_constraints_expression (generic function with 1 method)"
      ]
     },
     "execution_count": 17,
     "metadata": {},
     "output_type": "execute_result"
    }
   ],
   "source": [
    "function generate_constraints_expression(backend, constraints_specification)\n",
    "\n",
    "    if isblock(constraints_specification)\n",
    "        generatedfname = gensym(:constraints)\n",
    "        generatedfbody = :(function $(generatedfname)() $constraints_specification end)\n",
    "        return :($(generate_constraints_expression(backend, generatedfbody))())\n",
    "    end\n",
    "\n",
    "    @capture(constraints_specification, (function cs_name_(cs_args__; cs_kwargs__) cs_body_ end) | (function cs_name_(cs_args__) cs_body_ end)) || \n",
    "        error(\"Constraints specification language requires full function definition\")\n",
    "    \n",
    "    cs_args   = cs_args === nothing ? [] : cs_args\n",
    "    cs_kwargs = cs_kwargs === nothing ? [] : cs_kwargs\n",
    "    \n",
    "    lhs_dict = Dict{UInt, LHSMeta}()\n",
    "    \n",
    "    # We iteratively overwrite extend form constraint tuple, but we use different names for it to enable type-stability\n",
    "    form_constraints_symbol      = gensym(:form_constraint)\n",
    "    form_constraints_symbol_init = :($form_constraints_symbol = ())\n",
    "    \n",
    "    # We iteratively overwrite extend factorisation constraint tuple, but we use different names for it to enable type-stability\n",
    "    factorisation_constraints_symbol      = gensym(:factorisation_constraint)\n",
    "    factorisation_constraints_symbol_init = :($factorisation_constraints_symbol = ())\n",
    "    \n",
    "    # First we record all lhs expression's hash ids and create unique variable names for them\n",
    "    # q(x, y) = q(x)q(y) -> hash(q(x, y))\n",
    "    # We do allow multiple definitions in case of if statements, but we do check later overwrites, which are not allowed\n",
    "    cs_body = postwalk(cs_body) do expression\n",
    "        # We also do a simple sanity check right now, names should be an array of Symbols only\n",
    "        if @capture(expression, lhs_ = rhs_) && @capture(lhs, q(names__))\n",
    "            \n",
    "            (length(names) !== 0 && all(name -> name isa Symbol, names)) || \n",
    "                error(\"\"\"Error in factorisation constraints specification $(lhs_name) = ...\\nLeft hand side of the equality expression should have only variable identifiers.\"\"\")\n",
    "            \n",
    "            # We replace '..' in RHS expression with `make_factorisation_split`\n",
    "            rhs = postwalk(rhs) do rexpr\n",
    "                if @capture(rexpr, a_ .. b_)\n",
    "                    return make_factorisation_split(a, b)\n",
    "                end\n",
    "                return rexpr\n",
    "            end\n",
    "            \n",
    "            lhs_names = Set{Symbol}(names)\n",
    "            rhs_names = Set{Symbol}()\n",
    "            \n",
    "            # We do a simple check to be sure that LHS and RHS has the exact same set of names\n",
    "            # We also check here that all indices are either a simple Symbol or an indexing expression here\n",
    "            rhs = postwalk(MacroTools.prettify(rhs, alias = false)) do entry\n",
    "                if @capture(entry, q(indices__))\n",
    "                    for index in indices\n",
    "                        if index isa Symbol\n",
    "                            (index ∉ rhs_names) || error(\"RHS of the $(expression) expression used $(index) without indexing twice, which is not allowed. Try to decompose factorisation constraint expression into several subexpression.\")\n",
    "                            push!(rhs_names, index)\n",
    "                            (index ∉ lhs_names) && error(\"LHS of the $(expression) expression does not have $(index) variable, but is used in RHS.\")\n",
    "                        elseif isref(index)\n",
    "                            push!(rhs_names, first(index.args))\n",
    "                            (first(index.args) ∉ lhs_names) && error(\"LHS of the $(expression) expression does not have $(first(index.args)) variable, but is used in RHS.\")\n",
    "                        else\n",
    "                           error(\"Cannot parse expression $(index) in the RHS $(rhs) expression. Index expression should be either a single variable symbol or an indexing expression.\") \n",
    "                        end\n",
    "                    end\n",
    "                end\n",
    "                return entry\n",
    "            end\n",
    "            \n",
    "            (lhs_names == rhs_names) || error(\"LHS and RHS of the $(expression) expression has different set of variables.\")\n",
    "            \n",
    "            lhs_hash = hash(lhs)\n",
    "            lhs_meta = if haskey(lhs_dict, lhs_hash)\n",
    "                lhs_dict[ lhs_hash ]\n",
    "            else\n",
    "                lhs_name = string(\"q(\", join(names, \", \"), \")\")\n",
    "                lhs_varname = gensym(lhs_name)\n",
    "                lhs_meta = LHSMeta(lhs_name, lhs_hash, lhs_varname)\n",
    "                lhs_dict[lhs_hash] = lhs_meta\n",
    "            end\n",
    "            \n",
    "            lhs_name = lhs_meta.name\n",
    "            lhs_varname = lhs_meta.varname\n",
    "            \n",
    "            new_factorisation_specification = make_factorisation_constraint(:(Val(($(map(QuoteNode, names)...),))), :(Val($(rhs))))\n",
    "            \n",
    "            result = quote \n",
    "                ($(lhs_varname) isa NotDefinedYet) || error(\"Factorisation constraints specification $($lhs_name) = ... has been redefined.\")\n",
    "                $(lhs_varname) = $(new_factorisation_specification)\n",
    "                $factorisation_constraints_symbol = ($factorisation_constraints_symbol..., $(lhs_varname))\n",
    "            end\n",
    "            \n",
    "            return result\n",
    "        end\n",
    "        return expression\n",
    "    end\n",
    "    \n",
    "    # This block write initial variables for factorisation specification\n",
    "    cs_lhs_init_block = map(collect(lhs_dict)) do pair\n",
    "        lhs_meta = last(pair)\n",
    "        lhs_name = lhs_meta.name\n",
    "        lhs_varname = lhs_meta.varname\n",
    "        lhs_symbol = Symbol(lhs_name)\n",
    "        return quote \n",
    "            $(lhs_varname) = NotDefinedYet{$(QuoteNode(lhs_symbol))}()\n",
    "        end\n",
    "    end\n",
    "    \n",
    "    cs_body = prewalk(cs_body) do expression\n",
    "        if @capture(expression, q(args__))\n",
    "            expr_hash = hash(expression)\n",
    "            if haskey(lhs_dict, expr_hash)\n",
    "                lhs_meta = lhs_dict[ expr_hash ]\n",
    "                lhs_name = lhs_meta.name\n",
    "                lhs_varname = lhs_meta.varname\n",
    "                return lhs_varname\n",
    "            else\n",
    "                rhs_prod_names = Symbol[]\n",
    "                rhs_prod_entries_args = map(args) do arg\n",
    "                    if arg isa Symbol\n",
    "                        push!(rhs_prod_names, arg)\n",
    "                        return :(nothing)\n",
    "                    elseif isref(arg)\n",
    "                        (length(arg.args) === 2) || error(\"Indexing expression $(expression) is too difficult to parse and is not supported (yet?).\")\n",
    "                        push!(rhs_prod_names, first(arg.args))\n",
    "                        \n",
    "                        index = last(arg.args)\n",
    "                        \n",
    "                        # First we replace all `begin` and `end` with `firstindex` and `lastindex` functions\n",
    "                        index = postwalk(index) do iexpr\n",
    "                            if iexpr isa Symbol && iexpr === :begin\n",
    "                                return :(firstindex)\n",
    "                            elseif iexpr isa Symbol && iexpr === :end\n",
    "                                return :(lastindex)\n",
    "                            else\n",
    "                                return iexpr\n",
    "                            end\n",
    "                        end\n",
    "                        \n",
    "                        if @capture(index, a_:b_)\n",
    "                            return make_combined_range(a, b)\n",
    "                        elseif @capture(index, firstindex)\n",
    "                            return index\n",
    "                        elseif @capture(index, lastindex)\n",
    "                            return index\n",
    "                        else\n",
    "                            return :(convert(Integer, $index))\n",
    "                        end\n",
    "                    else\n",
    "                        error(\"Cannot parse expression $(index) in the RHS $(rhs) expression. Index expression should be either a single variable symbol or an indexing expression.\") \n",
    "                    end\n",
    "                end\n",
    "                \n",
    "                entry = make_factorisation_constraint_entry(:(Val(($(map(QuoteNode, rhs_prod_names)...), ))), :(Val(($(rhs_prod_entries_args...), ))))\n",
    "                \n",
    "                return :(($entry, ))\n",
    "            end\n",
    "        end\n",
    "        return expression\n",
    "    end\n",
    "    \n",
    "    return_specification = make_constraints_specification(factorisation_constraints_symbol, form_constraints_symbol)\n",
    "    \n",
    "    res = quote\n",
    "         function $cs_name($(cs_args...); $(cs_kwargs...))\n",
    "            $(form_constraints_symbol_init)\n",
    "            $(factorisation_constraints_symbol_init)\n",
    "            $(cs_lhs_init_block...)\n",
    "            $(cs_body)\n",
    "            $(return_specification)\n",
    "        end \n",
    "    end\n",
    "    \n",
    "    return esc(res)\n",
    "end"
   ]
  },
  {
   "cell_type": "code",
   "execution_count": 31,
   "metadata": {},
   "outputs": [
    {
     "data": {
      "text/plain": [
       "Constraints:\n",
       "\tform: ()\n",
       "\tfactorisation\n",
       "\t\tq(x, y) = q(x)q(y)\n",
       "\t\tq(x, y, t) = q(x, y)q(t)\n",
       "\t\tq(x, w) = q(x)q(w)\n",
       "\t\tq(y, w) = q(y)q(w)\n"
      ]
     },
     "execution_count": 31,
     "metadata": {},
     "output_type": "execute_result"
    }
   ],
   "source": [
    "cs = @constraints function test()\n",
    "    q(x, y) = q(x)q(y)\n",
    "    q(x, y, t) = q(x, y)q(t)\n",
    "    q(x, w) = q(x)q(w)\n",
    "    q(y, w) = q(y)q(w)\n",
    "end\n",
    "\n",
    "cs = test()"
   ]
  },
  {
   "cell_type": "code",
   "execution_count": 32,
   "metadata": {},
   "outputs": [
    {
     "name": "stdout",
     "output_type": "stream",
     "text": [
      "  11.035 ns (0 allocations: 0 bytes)\n"
     ]
    },
    {
     "data": {
      "text/plain": [
       "Constraints:\n",
       "\tform: ()\n",
       "\tfactorisation\n",
       "\t\tq(x, y) = q(x)q(y)\n",
       "\t\tq(x, y, t) = q(x, y)q(t)\n",
       "\t\tq(x, w) = q(x)q(w)\n",
       "\t\tq(y, w) = q(y)q(w)\n"
      ]
     },
     "execution_count": 32,
     "metadata": {},
     "output_type": "execute_result"
    }
   ],
   "source": [
    "@btime test()"
   ]
  },
  {
   "cell_type": "code",
   "execution_count": 33,
   "metadata": {},
   "outputs": [],
   "source": [
    "# node with (x, t, y, w) pure indices"
   ]
  },
  {
   "cell_type": "code",
   "execution_count": 34,
   "metadata": {},
   "outputs": [],
   "source": [
    "# Didnt work out\n",
    "# using DataStructures\n",
    "# struct FirstForwardOrdering <: Base.Ordering end\n",
    "# Base.lt(::FirstForwardOrdering, a, b) = Base.Order.lt(Base.Order.Forward, first(a), first(b))"
   ]
  },
  {
   "cell_type": "code",
   "execution_count": 138,
   "metadata": {},
   "outputs": [
    {
     "name": "stdout",
     "output_type": "stream",
     "text": [
      "search: \u001b[0m\u001b[1mf\u001b[22m\u001b[0m\u001b[1mi\u001b[22m\u001b[0m\u001b[1mn\u001b[22m\u001b[0m\u001b[1md\u001b[22m\u001b[0m\u001b[1mn\u001b[22m\u001b[0m\u001b[1me\u001b[22m\u001b[0m\u001b[1mx\u001b[22m\u001b[0m\u001b[1mt\u001b[22m\n",
      "\n"
     ]
    },
    {
     "data": {
      "text/latex": [
       "\\begin{verbatim}\n",
       "findnext(A, i)\n",
       "\\end{verbatim}\n",
       "Find the next index after or including \\texttt{i} of a \\texttt{true} element of \\texttt{A}, or \\texttt{nothing} if not found.\n",
       "\n",
       "Indices are of the same type as those returned by \\href{@ref}{\\texttt{keys(A)}} and \\href{@ref}{\\texttt{pairs(A)}}.\n",
       "\n",
       "\\section{Examples}\n",
       "\\begin{verbatim}\n",
       "julia> A = [false, false, true, false]\n",
       "4-element Vector{Bool}:\n",
       " 0\n",
       " 0\n",
       " 1\n",
       " 0\n",
       "\n",
       "julia> findnext(A, 1)\n",
       "3\n",
       "\n",
       "julia> findnext(A, 4) # returns nothing, but not printed in the REPL\n",
       "\n",
       "julia> A = [false false; true false]\n",
       "2×2 Matrix{Bool}:\n",
       " 0  0\n",
       " 1  0\n",
       "\n",
       "julia> findnext(A, CartesianIndex(1, 1))\n",
       "CartesianIndex(2, 1)\n",
       "\\end{verbatim}\n",
       "\\rule{\\textwidth}{1pt}\n",
       "\\begin{verbatim}\n",
       "findnext(predicate::Function, A, i)\n",
       "\\end{verbatim}\n",
       "Find the next index after or including \\texttt{i} of an element of \\texttt{A} for which \\texttt{predicate} returns \\texttt{true}, or \\texttt{nothing} if not found.\n",
       "\n",
       "Indices are of the same type as those returned by \\href{@ref}{\\texttt{keys(A)}} and \\href{@ref}{\\texttt{pairs(A)}}.\n",
       "\n",
       "\\section{Examples}\n",
       "\\begin{verbatim}\n",
       "julia> A = [1, 4, 2, 2];\n",
       "\n",
       "julia> findnext(isodd, A, 1)\n",
       "1\n",
       "\n",
       "julia> findnext(isodd, A, 2) # returns nothing, but not printed in the REPL\n",
       "\n",
       "julia> A = [1 4; 2 2];\n",
       "\n",
       "julia> findnext(isodd, A, CartesianIndex(1, 1))\n",
       "CartesianIndex(1, 1)\n",
       "\\end{verbatim}\n",
       "\\rule{\\textwidth}{1pt}\n",
       "\\begin{verbatim}\n",
       "findnext(pattern::AbstractString, string::AbstractString, start::Integer)\n",
       "findnext(pattern::AbstractPattern, string::String, start::Integer)\n",
       "\\end{verbatim}\n",
       "Find the next occurrence of \\texttt{pattern} in \\texttt{string} starting at position \\texttt{start}. \\texttt{pattern} can be either a string, or a regular expression, in which case \\texttt{string} must be of type \\texttt{String}.\n",
       "\n",
       "The return value is a range of indices where the matching sequence is found, such that \\texttt{s[findnext(x, s, i)] == x}:\n",
       "\n",
       "\\texttt{findnext(\"substring\", string, i)} == \\texttt{start:stop} such that \\texttt{string[start:stop] == \"substring\"} and \\texttt{i <= start}, or \\texttt{nothing} if unmatched.\n",
       "\n",
       "\\section{Examples}\n",
       "\\begin{verbatim}\n",
       "julia> findnext(\"z\", \"Hello to the world\", 1) === nothing\n",
       "true\n",
       "\n",
       "julia> findnext(\"o\", \"Hello to the world\", 6)\n",
       "8:8\n",
       "\n",
       "julia> findnext(\"Lang\", \"JuliaLang\", 2)\n",
       "6:9\n",
       "\\end{verbatim}\n",
       "\\rule{\\textwidth}{1pt}\n",
       "\\begin{verbatim}\n",
       "findnext(ch::AbstractChar, string::AbstractString, start::Integer)\n",
       "\\end{verbatim}\n",
       "Find the next occurrence of character \\texttt{ch} in \\texttt{string} starting at position \\texttt{start}.\n",
       "\n",
       "\\begin{quote}\n",
       "\\textbf{compat}\n",
       "\n",
       "Julia 1.3\n",
       "\n",
       "This method requires at least Julia 1.3.\n",
       "\n",
       "\\end{quote}\n",
       "\\section{Examples}\n",
       "\\begin{verbatim}\n",
       "julia> findnext('z', \"Hello to the world\", 1) === nothing\n",
       "true\n",
       "\n",
       "julia> findnext('o', \"Hello to the world\", 6)\n",
       "8\n",
       "\\end{verbatim}\n",
       "\\rule{\\textwidth}{1pt}\n",
       "\\begin{verbatim}\n",
       "findnext(pattern::AbstractVector{<:Union{Int8,UInt8}},\n",
       "         A::AbstractVector{<:Union{Int8,UInt8}},\n",
       "         start::Integer)\n",
       "\\end{verbatim}\n",
       "Find the next occurrence of the sequence \\texttt{pattern} in vector \\texttt{A} starting at position \\texttt{start}.\n",
       "\n",
       "\\begin{quote}\n",
       "\\textbf{compat}\n",
       "\n",
       "Julia 1.6\n",
       "\n",
       "This method requires at least Julia 1.6.\n",
       "\n",
       "\\end{quote}\n",
       "\\section{Examples}\n",
       "\\begin{verbatim}\n",
       "julia> findnext([0x52, 0x62], [0x52, 0x62, 0x72], 3) === nothing\n",
       "true\n",
       "\n",
       "julia> findnext([0x52, 0x62], [0x40, 0x52, 0x62, 0x52, 0x62], 3)\n",
       "4:5\n",
       "\\end{verbatim}\n"
      ],
      "text/markdown": [
       "```\n",
       "findnext(A, i)\n",
       "```\n",
       "\n",
       "Find the next index after or including `i` of a `true` element of `A`, or `nothing` if not found.\n",
       "\n",
       "Indices are of the same type as those returned by [`keys(A)`](@ref) and [`pairs(A)`](@ref).\n",
       "\n",
       "# Examples\n",
       "\n",
       "```jldoctest\n",
       "julia> A = [false, false, true, false]\n",
       "4-element Vector{Bool}:\n",
       " 0\n",
       " 0\n",
       " 1\n",
       " 0\n",
       "\n",
       "julia> findnext(A, 1)\n",
       "3\n",
       "\n",
       "julia> findnext(A, 4) # returns nothing, but not printed in the REPL\n",
       "\n",
       "julia> A = [false false; true false]\n",
       "2×2 Matrix{Bool}:\n",
       " 0  0\n",
       " 1  0\n",
       "\n",
       "julia> findnext(A, CartesianIndex(1, 1))\n",
       "CartesianIndex(2, 1)\n",
       "```\n",
       "\n",
       "---\n",
       "\n",
       "```\n",
       "findnext(predicate::Function, A, i)\n",
       "```\n",
       "\n",
       "Find the next index after or including `i` of an element of `A` for which `predicate` returns `true`, or `nothing` if not found.\n",
       "\n",
       "Indices are of the same type as those returned by [`keys(A)`](@ref) and [`pairs(A)`](@ref).\n",
       "\n",
       "# Examples\n",
       "\n",
       "```jldoctest\n",
       "julia> A = [1, 4, 2, 2];\n",
       "\n",
       "julia> findnext(isodd, A, 1)\n",
       "1\n",
       "\n",
       "julia> findnext(isodd, A, 2) # returns nothing, but not printed in the REPL\n",
       "\n",
       "julia> A = [1 4; 2 2];\n",
       "\n",
       "julia> findnext(isodd, A, CartesianIndex(1, 1))\n",
       "CartesianIndex(1, 1)\n",
       "```\n",
       "\n",
       "---\n",
       "\n",
       "```\n",
       "findnext(pattern::AbstractString, string::AbstractString, start::Integer)\n",
       "findnext(pattern::AbstractPattern, string::String, start::Integer)\n",
       "```\n",
       "\n",
       "Find the next occurrence of `pattern` in `string` starting at position `start`. `pattern` can be either a string, or a regular expression, in which case `string` must be of type `String`.\n",
       "\n",
       "The return value is a range of indices where the matching sequence is found, such that `s[findnext(x, s, i)] == x`:\n",
       "\n",
       "`findnext(\"substring\", string, i)` == `start:stop` such that `string[start:stop] == \"substring\"` and `i <= start`, or `nothing` if unmatched.\n",
       "\n",
       "# Examples\n",
       "\n",
       "```jldoctest\n",
       "julia> findnext(\"z\", \"Hello to the world\", 1) === nothing\n",
       "true\n",
       "\n",
       "julia> findnext(\"o\", \"Hello to the world\", 6)\n",
       "8:8\n",
       "\n",
       "julia> findnext(\"Lang\", \"JuliaLang\", 2)\n",
       "6:9\n",
       "```\n",
       "\n",
       "---\n",
       "\n",
       "```\n",
       "findnext(ch::AbstractChar, string::AbstractString, start::Integer)\n",
       "```\n",
       "\n",
       "Find the next occurrence of character `ch` in `string` starting at position `start`.\n",
       "\n",
       "!!! compat \"Julia 1.3\"\n",
       "    This method requires at least Julia 1.3.\n",
       "\n",
       "\n",
       "# Examples\n",
       "\n",
       "```jldoctest\n",
       "julia> findnext('z', \"Hello to the world\", 1) === nothing\n",
       "true\n",
       "\n",
       "julia> findnext('o', \"Hello to the world\", 6)\n",
       "8\n",
       "```\n",
       "\n",
       "---\n",
       "\n",
       "```\n",
       "findnext(pattern::AbstractVector{<:Union{Int8,UInt8}},\n",
       "         A::AbstractVector{<:Union{Int8,UInt8}},\n",
       "         start::Integer)\n",
       "```\n",
       "\n",
       "Find the next occurrence of the sequence `pattern` in vector `A` starting at position `start`.\n",
       "\n",
       "!!! compat \"Julia 1.6\"\n",
       "    This method requires at least Julia 1.6.\n",
       "\n",
       "\n",
       "# Examples\n",
       "\n",
       "```jldoctest\n",
       "julia> findnext([0x52, 0x62], [0x52, 0x62, 0x72], 3) === nothing\n",
       "true\n",
       "\n",
       "julia> findnext([0x52, 0x62], [0x40, 0x52, 0x62, 0x52, 0x62], 3)\n",
       "4:5\n",
       "```\n"
      ],
      "text/plain": [
       "\u001b[36m  findnext(A, i)\u001b[39m\n",
       "\n",
       "  Find the next index after or including \u001b[36mi\u001b[39m of a \u001b[36mtrue\u001b[39m element of \u001b[36mA\u001b[39m, or \u001b[36mnothing\u001b[39m\n",
       "  if not found.\n",
       "\n",
       "  Indices are of the same type as those returned by \u001b[36mkeys(A)\u001b[39m and \u001b[36mpairs(A)\u001b[39m.\n",
       "\n",
       "\u001b[1m  Examples\u001b[22m\n",
       "\u001b[1m  ≡≡≡≡≡≡≡≡≡≡\u001b[22m\n",
       "\n",
       "\u001b[36m  julia> A = [false, false, true, false]\u001b[39m\n",
       "\u001b[36m  4-element Vector{Bool}:\u001b[39m\n",
       "\u001b[36m   0\u001b[39m\n",
       "\u001b[36m   0\u001b[39m\n",
       "\u001b[36m   1\u001b[39m\n",
       "\u001b[36m   0\u001b[39m\n",
       "\u001b[36m  \u001b[39m\n",
       "\u001b[36m  julia> findnext(A, 1)\u001b[39m\n",
       "\u001b[36m  3\u001b[39m\n",
       "\u001b[36m  \u001b[39m\n",
       "\u001b[36m  julia> findnext(A, 4) # returns nothing, but not printed in the REPL\u001b[39m\n",
       "\u001b[36m  \u001b[39m\n",
       "\u001b[36m  julia> A = [false false; true false]\u001b[39m\n",
       "\u001b[36m  2×2 Matrix{Bool}:\u001b[39m\n",
       "\u001b[36m   0  0\u001b[39m\n",
       "\u001b[36m   1  0\u001b[39m\n",
       "\u001b[36m  \u001b[39m\n",
       "\u001b[36m  julia> findnext(A, CartesianIndex(1, 1))\u001b[39m\n",
       "\u001b[36m  CartesianIndex(2, 1)\u001b[39m\n",
       "\n",
       "  ────────────────────────────────────────────────────────────────────────────\n",
       "\n",
       "\u001b[36m  findnext(predicate::Function, A, i)\u001b[39m\n",
       "\n",
       "  Find the next index after or including \u001b[36mi\u001b[39m of an element of \u001b[36mA\u001b[39m for which\n",
       "  \u001b[36mpredicate\u001b[39m returns \u001b[36mtrue\u001b[39m, or \u001b[36mnothing\u001b[39m if not found.\n",
       "\n",
       "  Indices are of the same type as those returned by \u001b[36mkeys(A)\u001b[39m and \u001b[36mpairs(A)\u001b[39m.\n",
       "\n",
       "\u001b[1m  Examples\u001b[22m\n",
       "\u001b[1m  ≡≡≡≡≡≡≡≡≡≡\u001b[22m\n",
       "\n",
       "\u001b[36m  julia> A = [1, 4, 2, 2];\u001b[39m\n",
       "\u001b[36m  \u001b[39m\n",
       "\u001b[36m  julia> findnext(isodd, A, 1)\u001b[39m\n",
       "\u001b[36m  1\u001b[39m\n",
       "\u001b[36m  \u001b[39m\n",
       "\u001b[36m  julia> findnext(isodd, A, 2) # returns nothing, but not printed in the REPL\u001b[39m\n",
       "\u001b[36m  \u001b[39m\n",
       "\u001b[36m  julia> A = [1 4; 2 2];\u001b[39m\n",
       "\u001b[36m  \u001b[39m\n",
       "\u001b[36m  julia> findnext(isodd, A, CartesianIndex(1, 1))\u001b[39m\n",
       "\u001b[36m  CartesianIndex(1, 1)\u001b[39m\n",
       "\n",
       "  ────────────────────────────────────────────────────────────────────────────\n",
       "\n",
       "\u001b[36m  findnext(pattern::AbstractString, string::AbstractString, start::Integer)\u001b[39m\n",
       "\u001b[36m  findnext(pattern::AbstractPattern, string::String, start::Integer)\u001b[39m\n",
       "\n",
       "  Find the next occurrence of \u001b[36mpattern\u001b[39m in \u001b[36mstring\u001b[39m starting at position \u001b[36mstart\u001b[39m.\n",
       "  \u001b[36mpattern\u001b[39m can be either a string, or a regular expression, in which case\n",
       "  \u001b[36mstring\u001b[39m must be of type \u001b[36mString\u001b[39m.\n",
       "\n",
       "  The return value is a range of indices where the matching sequence is found,\n",
       "  such that \u001b[36ms[findnext(x, s, i)] == x\u001b[39m:\n",
       "\n",
       "  \u001b[36mfindnext(\"substring\", string, i)\u001b[39m == \u001b[36mstart:stop\u001b[39m such that \u001b[36mstring[start:stop]\n",
       "  == \"substring\"\u001b[39m and \u001b[36mi <= start\u001b[39m, or \u001b[36mnothing\u001b[39m if unmatched.\n",
       "\n",
       "\u001b[1m  Examples\u001b[22m\n",
       "\u001b[1m  ≡≡≡≡≡≡≡≡≡≡\u001b[22m\n",
       "\n",
       "\u001b[36m  julia> findnext(\"z\", \"Hello to the world\", 1) === nothing\u001b[39m\n",
       "\u001b[36m  true\u001b[39m\n",
       "\u001b[36m  \u001b[39m\n",
       "\u001b[36m  julia> findnext(\"o\", \"Hello to the world\", 6)\u001b[39m\n",
       "\u001b[36m  8:8\u001b[39m\n",
       "\u001b[36m  \u001b[39m\n",
       "\u001b[36m  julia> findnext(\"Lang\", \"JuliaLang\", 2)\u001b[39m\n",
       "\u001b[36m  6:9\u001b[39m\n",
       "\n",
       "  ────────────────────────────────────────────────────────────────────────────\n",
       "\n",
       "\u001b[36m  findnext(ch::AbstractChar, string::AbstractString, start::Integer)\u001b[39m\n",
       "\n",
       "  Find the next occurrence of character \u001b[36mch\u001b[39m in \u001b[36mstring\u001b[39m starting at position\n",
       "  \u001b[36mstart\u001b[39m.\n",
       "\n",
       "\u001b[39m\u001b[1m  │ \u001b[22m\u001b[39m\u001b[1mJulia 1.3\u001b[22m\n",
       "\u001b[39m\u001b[1m  │\u001b[22m\n",
       "\u001b[39m\u001b[1m  │\u001b[22m  This method requires at least Julia 1.3.\n",
       "\n",
       "\u001b[1m  Examples\u001b[22m\n",
       "\u001b[1m  ≡≡≡≡≡≡≡≡≡≡\u001b[22m\n",
       "\n",
       "\u001b[36m  julia> findnext('z', \"Hello to the world\", 1) === nothing\u001b[39m\n",
       "\u001b[36m  true\u001b[39m\n",
       "\u001b[36m  \u001b[39m\n",
       "\u001b[36m  julia> findnext('o', \"Hello to the world\", 6)\u001b[39m\n",
       "\u001b[36m  8\u001b[39m\n",
       "\n",
       "  ────────────────────────────────────────────────────────────────────────────\n",
       "\n",
       "\u001b[36m  findnext(pattern::AbstractVector{<:Union{Int8,UInt8}},\u001b[39m\n",
       "\u001b[36m           A::AbstractVector{<:Union{Int8,UInt8}},\u001b[39m\n",
       "\u001b[36m           start::Integer)\u001b[39m\n",
       "\n",
       "  Find the next occurrence of the sequence \u001b[36mpattern\u001b[39m in vector \u001b[36mA\u001b[39m starting at\n",
       "  position \u001b[36mstart\u001b[39m.\n",
       "\n",
       "\u001b[39m\u001b[1m  │ \u001b[22m\u001b[39m\u001b[1mJulia 1.6\u001b[22m\n",
       "\u001b[39m\u001b[1m  │\u001b[22m\n",
       "\u001b[39m\u001b[1m  │\u001b[22m  This method requires at least Julia 1.6.\n",
       "\n",
       "\u001b[1m  Examples\u001b[22m\n",
       "\u001b[1m  ≡≡≡≡≡≡≡≡≡≡\u001b[22m\n",
       "\n",
       "\u001b[36m  julia> findnext([0x52, 0x62], [0x52, 0x62, 0x72], 3) === nothing\u001b[39m\n",
       "\u001b[36m  true\u001b[39m\n",
       "\u001b[36m  \u001b[39m\n",
       "\u001b[36m  julia> findnext([0x52, 0x62], [0x40, 0x52, 0x62, 0x52, 0x62], 3)\u001b[39m\n",
       "\u001b[36m  4:5\u001b[39m"
      ]
     },
     "execution_count": 138,
     "metadata": {},
     "output_type": "execute_result"
    }
   ],
   "source": [
    "?findnext"
   ]
  },
  {
   "cell_type": "code",
   "execution_count": 341,
   "metadata": {},
   "outputs": [
    {
     "data": {
      "text/plain": [
       "create_factorisation (generic function with 3 methods)"
      ]
     },
     "execution_count": 341,
     "metadata": {},
     "output_type": "execute_result"
    }
   ],
   "source": [
    "function create_factorisation(::Val{ns}, is, constraints, template, subtemplates, tmp) where { ns }\n",
    "    # Indexmap creates simple mapping for each symbol in `ns`\n",
    "    # E.g. ns = (:x, y)\n",
    "    # indexmap = (x = 1, y = 2)\n",
    "    N = length(ns)\n",
    "    indexmap = NamedTuple{ns}(ntuple(identity, N))\n",
    "    \n",
    "    # `factorisation` is a tuple of `FactorisationConstraintsSpecification`s\n",
    "    # FactorisationConstraintsSpecification has names of LHS and specs of RHS\n",
    "    factorisation = constraints.factorisation\n",
    "    \n",
    "    function __create_factorisation_entry(symbol::Symbol, template, shift::Int)\n",
    "        \n",
    "        # This function unrolles and reduces (1, 2, 3, 4) for each product entry in factorisation specification\n",
    "        # E.g if q(x, y) = q(x) * q(y) this function iterates over [ q(x), q(y) ]\n",
    "        function __filter_entry(factorisation_entries::Tuple, entry) where { N }\n",
    "             return unrolled_reduce((fentry, rentry) -> __filter_entry(Val(true), fentry, rentry), entry, factorisation_entries)\n",
    "        end\n",
    "        \n",
    "        function __filter_entry(::Val{false}, spec::FactorisationConstraintsSpecification, entry) where N \n",
    "            if symbol ∈ getnames(spec)\n",
    "                return __filter_entry(getentries(spec), entry)\n",
    "            end\n",
    "            return entry\n",
    "        end\n",
    "        \n",
    "        function __filter_entry(::Val{true}, spec::FactorisationConstraintsSpecification, entry) where N \n",
    "            return __filter_entry(getentries(spec), entry)\n",
    "        end\n",
    "        \n",
    "        # This is totally wrong but just to test an idea\n",
    "        # Does not support indices\n",
    "        # Does not support ranges\n",
    "        # Does not support split ranges\n",
    "        function __filter_entry(::Val{true}, csentry::FactorisationConstraintsEntry, entry) where N\n",
    "            if symbol ∉ getnames(csentry)\n",
    "                unrolled_foreach(getnames(csentry)) do name\n",
    "                    if haskey(indexmap, name)\n",
    "                        name_index = indexmap[name]\n",
    "                        entry[ shift + name_index ] = false\n",
    "                        # mask  = unrolled_map(__neq(name_index), indices)\n",
    "                        # entry = unrolled_map((a, b) -> a && b, mask, entry) \n",
    "                        # entry = unrolled_filter(__neq(name_index), entry)\n",
    "                    end\n",
    "                end\n",
    "            end\n",
    "            return entry\n",
    "        end\n",
    "\n",
    "        # Here we create an entry template, e.g. (1, 2, 3, 4)\n",
    "        # template = ntuple(_ -> true, length(T))\n",
    "        # template has the form ((true, true), (true, true)) e.g. of the length = length(T) ^ 2\n",
    "        # template = trues(length(T))\n",
    "        \n",
    "        unrolled_foreach(factorisation) do spec \n",
    "            template = __filter_entry(Val(false), spec, template)\n",
    "        end\n",
    "        \n",
    "        # template\n",
    "    end\n",
    "    \n",
    "    if length(template) < N^2\n",
    "        resize!(template, N^2)\n",
    "    end\n",
    "    \n",
    "    fill!(template, true)\n",
    "    # template = trues(N ^ 2)\n",
    "    \n",
    "    unrolled_foreach(ns) do spec\n",
    "        __create_factorisation_entry(spec, template, (indexmap[spec] - 1) * N)\n",
    "    end\n",
    "    \n",
    "    # subtemplates = Set{Tuple}()\n",
    "    empty!(subtemplates)\n",
    "    \n",
    "    if length(tmp) < N\n",
    "        resize!(tmp, N)\n",
    "    end\n",
    "    \n",
    "    @inbounds for index in 1:N\n",
    "        range_left  = (index - 1) * N + 1\n",
    "        range_right = range_left + N - 1\n",
    "        \n",
    "        # output = ()\n",
    "        \n",
    "        ki = 0\n",
    "        @inbounds for (index, flag) in enumerate(view(template, range_left:range_right))\n",
    "            if flag\n",
    "                ki += 1\n",
    "                tmp[ki] = index\n",
    "                # output = (output..., index)\n",
    "            end\n",
    "        end\n",
    "        \n",
    "        output = (tmp[1:ki]..., )\n",
    "        \n",
    "        push!(subtemplates, output)\n",
    "    end\n",
    "    \n",
    "    return tuple(sort!(collect(subtemplates); by = first, alg = QuickSort)...)\n",
    "    # return template\n",
    "end"
   ]
  },
  {
   "cell_type": "code",
   "execution_count": 342,
   "metadata": {},
   "outputs": [
    {
     "name": "stdout",
     "output_type": "stream",
     "text": [
      "ns = (:x, :w, :y, :t) = (:x, :w, :y, :t)\n",
      "is = (nothing, nothing, nothing, nothing) = (nothing, nothing, nothing, nothing)\n"
     ]
    },
    {
     "data": {
      "text/plain": [
       "(nothing, nothing, nothing, nothing)"
      ]
     },
     "execution_count": 342,
     "metadata": {},
     "output_type": "execute_result"
    }
   ],
   "source": [
    "@show ns = (:x, :w, :y, :t)\n",
    "@show is = (nothing, nothing, nothing, nothing)"
   ]
  },
  {
   "cell_type": "code",
   "execution_count": 343,
   "metadata": {},
   "outputs": [
    {
     "data": {
      "text/plain": [
       "Constraints:\n",
       "\tform: ()\n",
       "\tfactorisation\n",
       "\t\tq(x, y) = q(x)q(y)\n",
       "\t\tq(x, y, t) = q(x, y)q(t)\n",
       "\t\tq(x, w) = q(x)q(w)\n",
       "\t\tq(y, w) = q(y)q(w)\n"
      ]
     },
     "execution_count": 343,
     "metadata": {},
     "output_type": "execute_result"
    }
   ],
   "source": [
    "cs = test()"
   ]
  },
  {
   "cell_type": "code",
   "execution_count": 344,
   "metadata": {},
   "outputs": [],
   "source": [
    "subtemplates = Set{Tuple}()\n",
    "tmp = Vector{Int}()\n",
    "template = trues(100);"
   ]
  },
  {
   "cell_type": "code",
   "execution_count": 346,
   "metadata": {},
   "outputs": [
    {
     "name": "stdout",
     "output_type": "stream",
     "text": [
      "  0.000043 seconds (47 allocations: 1.453 KiB)\n",
      "  0.000039 seconds (47 allocations: 1.453 KiB)\n"
     ]
    },
    {
     "data": {
      "text/plain": [
       "((1,), (2, 4), (3,))"
      ]
     },
     "execution_count": 346,
     "metadata": {},
     "output_type": "execute_result"
    }
   ],
   "source": [
    "@time create_factorisation(Val(ns), is, cs, template, subtemplates, tmp)\n",
    "@time create_factorisation(Val(ns), is, cs, template, subtemplates, tmp)"
   ]
  },
  {
   "cell_type": "code",
   "execution_count": 347,
   "metadata": {},
   "outputs": [
    {
     "name": "stdout",
     "output_type": "stream",
     "text": [
      "  2.535 μs (46 allocations: 1.41 KiB)\n"
     ]
    },
    {
     "data": {
      "text/plain": [
       "((1,), (2, 4), (3,))"
      ]
     },
     "execution_count": 347,
     "metadata": {},
     "output_type": "execute_result"
    }
   ],
   "source": [
    "@btime create_factorisation($(Val(ns)), $is, $cs, $template, $subtemplates, $tmp)"
   ]
  },
  {
   "cell_type": "code",
   "execution_count": null,
   "metadata": {},
   "outputs": [],
   "source": []
  }
 ],
 "metadata": {
  "kernelspec": {
   "display_name": "Julia 1.7.2",
   "language": "julia",
   "name": "julia-1.7"
  },
  "language_info": {
   "file_extension": ".jl",
   "mimetype": "application/julia",
   "name": "julia",
   "version": "1.7.2"
  }
 },
 "nbformat": 4,
 "nbformat_minor": 4
}
