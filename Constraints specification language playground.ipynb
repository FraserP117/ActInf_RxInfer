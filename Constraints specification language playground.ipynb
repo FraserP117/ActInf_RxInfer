{
 "cells": [
  {
   "cell_type": "code",
   "execution_count": 1,
   "metadata": {},
   "outputs": [],
   "source": [
    "using MacroTools\n",
    "import MacroTools: prewalk, postwalk"
   ]
  },
  {
   "cell_type": "code",
   "execution_count": 2,
   "metadata": {},
   "outputs": [
    {
     "data": {
      "text/plain": [
       "@e (macro with 1 method)"
      ]
     },
     "execution_count": 2,
     "metadata": {},
     "output_type": "execute_result"
    }
   ],
   "source": [
    "macro e(something)\n",
    "    if something.head === :macrocall\n",
    "        return esc(:(println(MacroTools.prettify(@macroexpand $something)); $something))\n",
    "    end\n",
    "    return esc(something)\n",
    "end"
   ]
  },
  {
   "cell_type": "code",
   "execution_count": 3,
   "metadata": {},
   "outputs": [],
   "source": [
    "struct FactorisationConstraintsEntry{N, T}\n",
    "    indices :: NamedTuple{N, T}\n",
    "end"
   ]
  },
  {
   "cell_type": "code",
   "execution_count": 4,
   "metadata": {},
   "outputs": [],
   "source": [
    "struct FactorisationConstraintsEntries{T}\n",
    "     prod :: T\n",
    "end"
   ]
  },
  {
   "cell_type": "code",
   "execution_count": 5,
   "metadata": {},
   "outputs": [],
   "source": [
    "struct FactorisationConstraintsSpecification{N, T}\n",
    "    entries :: FactorisationConstraintsEntries{T}\n",
    "end"
   ]
  },
  {
   "cell_type": "code",
   "execution_count": 6,
   "metadata": {},
   "outputs": [
    {
     "data": {
      "text/plain": [
       "@constraints (macro with 1 method)"
      ]
     },
     "execution_count": 6,
     "metadata": {},
     "output_type": "execute_result"
    }
   ],
   "source": [
    "struct ReactiveMPBackend end\n",
    "\n",
    "__get_current_backend() = ReactiveMPBackend()\n",
    "\n",
    "macro constraints(constraints_specification)\n",
    "    return generate_constraints_expression(__get_current_backend(), constraints_specification)\n",
    "end"
   ]
  },
  {
   "cell_type": "code",
   "execution_count": 7,
   "metadata": {},
   "outputs": [
    {
     "data": {
      "text/plain": [
       "isblock (generic function with 1 method)"
      ]
     },
     "execution_count": 7,
     "metadata": {},
     "output_type": "execute_result"
    }
   ],
   "source": [
    "isexpr(expr::Expr) = true\n",
    "isexpr()           = false\n",
    "\n",
    "ishead(something, head) = isexpr(something) && something.head === head\n",
    "\n",
    "isblock(something) = ishead(something, :block)"
   ]
  },
  {
   "cell_type": "code",
   "execution_count": 8,
   "metadata": {},
   "outputs": [],
   "source": [
    "struct LHSMeta\n",
    "    name :: String\n",
    "    hash :: UInt\n",
    "    varname :: Symbol\n",
    "    varname_used :: Symbol\n",
    "end"
   ]
  },
  {
   "cell_type": "code",
   "execution_count": 19,
   "metadata": {},
   "outputs": [
    {
     "data": {
      "text/plain": [
       "generate_constraints_expression (generic function with 1 method)"
      ]
     },
     "execution_count": 19,
     "metadata": {},
     "output_type": "execute_result"
    }
   ],
   "source": [
    "function generate_constraints_expression(backend, constraints_specification)\n",
    "\n",
    "    if isblock(constraints_specification)\n",
    "        generatedfname = gensym(:constraints)\n",
    "        generatedfbody = :(function $(generatedfname)() $constraints_specification end)\n",
    "        return :($(generate_constraints_expression(backend, generatedfbody))())\n",
    "    end\n",
    "\n",
    "    @capture(constraints_specification, (function cs_name_(cs_args__; cs_kwargs__) cs_body_ end) | (function cs_name_(cs_args__) cs_body_ end)) || \n",
    "        error(\"Constraints specification language requires full function definition\")\n",
    "    \n",
    "    cs_args   = cs_args === nothing ? [] : cs_args\n",
    "    cs_kwargs = cs_kwargs === nothing ? [] : cs_kwargs\n",
    "    \n",
    "    lhs_dict = Dict{UInt, LHSMeta}()\n",
    "    \n",
    "    # First we record all lhs expression's hash ids and create unique variable names for them\n",
    "    # q(x, y) = q(x)q(y) -> hash(q(x, y))\n",
    "    # We do allow multiple definitions in case of if statements, but we do check later overwrites, which are not allowed\n",
    "    cs_body = postwalk(cs_body) do expression\n",
    "        # We also do a simple sanity check right now, names should be an array of Symbols only\n",
    "        if @capture(expression, lhs_ = rhs_) && @capture(lhs, q(names__))\n",
    "            lhs_hash = hash(lhs)\n",
    "            lhs_meta = if haskey(lhs_dict, lhs_hash)\n",
    "                lhs_dict[ lhs_hash ]\n",
    "            else\n",
    "                lhs_name = string(\"q(\", join(names, \", \"), \")\")\n",
    "                lhs_varname = gensym(lhs_name)\n",
    "                lhs_varname_used = Symbol(lhs_varname, :_used)\n",
    "                lhs_meta = LHSMeta(lhs_name, lhs_hash, lhs_varname, lhs_varname_used)\n",
    "                lhs_dict[lhs_hash] = lhs_meta\n",
    "            end\n",
    "            lhs_name = lhs_meta.name\n",
    "            lhs_varname = lhs_meta.varname\n",
    "            (length(names) !== 0 && all(name -> name isa Symbol, names)) || \n",
    "                error(\"\"\"Error in factorisation constraints specification $(lhs_name) = ...\\nLeft hand side of the equality expression should have only variable identifiers.\"\"\")\n",
    "            return quote \n",
    "                ($(lhs_varname) === nothing) || error(\"Factorisation constraints specification $($lhs_name) = ... has been redefined.\")\n",
    "                $(lhs_varname) = register_q_factorisation_specification(TODO_REPLACE_WITH_RHS_VAL, $rhs)\n",
    "            end\n",
    "        end\n",
    "        return expression\n",
    "    end\n",
    "    \n",
    "    # This block write initial variables for factorisation specification\n",
    "    cs_lhs_init_block = map(collect(lhs_dict)) do pair\n",
    "        lhs_meta = last(pair)\n",
    "        lhs_varname = lhs_meta.varname\n",
    "        lhs_varname_used = lhs_meta.varname_used\n",
    "        return quote \n",
    "            $(lhs_varname) = nothing\n",
    "            $(lhs_varname_used) = false\n",
    "        end\n",
    "    end\n",
    "    \n",
    "    cs_body = prewalk(cs_body) do expression\n",
    "        if @capture(expression, q(args__))\n",
    "            reconstructed_expression = Expr(:call, :q, args...)\n",
    "            reconstructed_hash = hash(reconstructed_expression)\n",
    "            if haskey(lhs_dict, reconstructed_hash)\n",
    "                lhs_meta = lhs_dict[ reconstructed_hash ]\n",
    "                lhs_name = lhs_meta.name\n",
    "                lhs_varname = lhs_meta.varname\n",
    "                lhs_varname_used = lhs_meta.varname_used\n",
    "                return quote\n",
    "                    if $(lhs_varname_used)\n",
    "                        error(\"Factorisation constraint $(lhs_name) has been used multiple times\")\n",
    "                    end\n",
    "                    $(lhs_varname_used) = true\n",
    "                    $(lhs_varname)\n",
    "                end\n",
    "            else\n",
    "                # TODO parse rhs here\n",
    "                return expression\n",
    "            end\n",
    "        end\n",
    "        return expression\n",
    "    end\n",
    "    \n",
    "    # This check happens at the very and and simply checks boolean flags of all factorisation specification\n",
    "    # throws an error if some has not been used\n",
    "    cs_lhs_used_check = map(collect(lhs_dict)) do pair \n",
    "        lhs_meta = last(pair)\n",
    "        lhs_name = lhs_meta.name\n",
    "        lhs_varname_used = lhs_meta.varname_used\n",
    "        return quote \n",
    "            if !$(lhs_varname_used)\n",
    "                error(\"Factorisation constraint $($(lhs_name)) has been defined but never been used.\")\n",
    "            end\n",
    "        end\n",
    "    end\n",
    "    \n",
    "    res = quote\n",
    "         function $cs_name($(cs_args...); $(cs_kwargs...))\n",
    "            # TODO let block\n",
    "            $(cs_lhs_init_block...)\n",
    "            $(cs_body)\n",
    "            $(cs_lhs_used_check...)\n",
    "        end \n",
    "    end\n",
    "    \n",
    "    return esc(res)\n",
    "end"
   ]
  },
  {
   "cell_type": "code",
   "execution_count": 23,
   "metadata": {},
   "outputs": [
    {
     "name": "stdout",
     "output_type": "stream",
     "text": [
      "function constraints(flag; )\n",
      "    hyena = nothing\n",
      "    weasel = false\n",
      "    coati = nothing\n",
      "    jay = false\n",
      "    hyena === nothing || error(\"Factorisation constraints specification q(x, y) = ... has been redefined.\")\n",
      "    hyena = register_q_factorisation_specification(TODO_REPLACE_WITH_RHS_VAL, q(x) * q(y))\n",
      "    if flag\n",
      "        coati === nothing || error(\"Factorisation constraints specification q(x, y, θ) = ... has been redefined.\")\n",
      "        coati = register_q_factorisation_specification(TODO_REPLACE_WITH_RHS_VAL, begin\n",
      "                        if weasel\n",
      "                            error(\"Factorisation constraint $(lhs_name) has been used multiple times\")\n",
      "                        end\n",
      "                        weasel = true\n",
      "                        hyena\n",
      "                    end * q(θ))\n",
      "    else\n",
      "        coati === nothing || error(\"Factorisation constraints specification q(x, y, θ) = ... has been redefined.\")\n",
      "        coati = register_q_factorisation_specification(TODO_REPLACE_WITH_RHS_VAL, begin\n",
      "                        if weasel\n",
      "                            error(\"Factorisation constraint $(lhs_name) has been used multiple times\")\n",
      "                        end\n",
      "                        weasel = true\n",
      "                        hyena\n",
      "                    end * q(θ))\n",
      "    end\n",
      "    if weasel\n",
      "        error(\"Factorisation constraint $(lhs_name) has been used multiple times\")\n",
      "    end\n",
      "    weasel = true\n",
      "    hyena\n",
      "    if !weasel\n",
      "        error(\"Factorisation constraint q(x, y) has been defined but never been used.\")\n",
      "    end\n",
      "    if !jay\n",
      "        error(\"Factorisation constraint q(x, y, θ) has been defined but never been used.\")\n",
      "    end\n",
      "end\n"
     ]
    },
    {
     "data": {
      "text/plain": [
       "constraints (generic function with 2 methods)"
      ]
     },
     "execution_count": 23,
     "metadata": {},
     "output_type": "execute_result"
    }
   ],
   "source": [
    "@e @constraints function constraints(flag)\n",
    "    q(x, y) = q(x)q(y)\n",
    "    \n",
    "    if flag\n",
    "        q(x, y, θ) = q(x, y)q(θ)\n",
    "    else\n",
    "        q(x, y, θ) = q(x, y)q(θ)\n",
    "    end\n",
    "    \n",
    "    q(x, y)\n",
    "end"
   ]
  },
  {
   "cell_type": "code",
   "execution_count": 24,
   "metadata": {},
   "outputs": [
    {
     "data": {
      "text/plain": [
       "register_q_factorisation_specification (generic function with 1 method)"
      ]
     },
     "execution_count": 24,
     "metadata": {},
     "output_type": "execute_result"
    }
   ],
   "source": [
    "q(a, b) = 2\n",
    "q(a) = 1\n",
    "x = 1\n",
    "y = 2\n",
    "register_q_factorisation_specification(a, b) = 1.0"
   ]
  },
  {
   "cell_type": "code",
   "execution_count": 25,
   "metadata": {},
   "outputs": [
    {
     "ename": "LoadError",
     "evalue": "UndefVarError: TODO_REPLACE_WITH_RHS_VAL not defined",
     "output_type": "error",
     "traceback": [
      "UndefVarError: TODO_REPLACE_WITH_RHS_VAL not defined",
      "",
      "Stacktrace:",
      " [1] macro expansion",
      "   @ ./In[19]:39 [inlined]",
      " [2] macro expansion",
      "   @ ./In[23]:2 [inlined]",
      " [3] constraints(flag::Bool)",
      "   @ Main ./In[19]:97",
      " [4] top-level scope",
      "   @ In[25]:1",
      " [5] eval",
      "   @ ./boot.jl:373 [inlined]",
      " [6] include_string(mapexpr::typeof(REPL.softscope), mod::Module, code::String, filename::String)",
      "   @ Base ./loading.jl:1196"
     ]
    }
   ],
   "source": [
    "constraints(true)"
   ]
  },
  {
   "cell_type": "code",
   "execution_count": null,
   "metadata": {},
   "outputs": [],
   "source": []
  }
 ],
 "metadata": {
  "kernelspec": {
   "display_name": "Julia 1.7.1",
   "language": "julia",
   "name": "julia-1.7"
  },
  "language_info": {
   "file_extension": ".jl",
   "mimetype": "application/julia",
   "name": "julia",
   "version": "1.7.1"
  }
 },
 "nbformat": 4,
 "nbformat_minor": 4
}
