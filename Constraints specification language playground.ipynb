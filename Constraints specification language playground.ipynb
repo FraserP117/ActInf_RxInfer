{
 "cells": [
  {
   "cell_type": "code",
   "execution_count": 1,
   "metadata": {},
   "outputs": [],
   "source": [
    "using MacroTools\n",
    "using BenchmarkTools \n",
    "using TupleTools\n",
    "using Test\n",
    "\n",
    "import MacroTools: prewalk, postwalk"
   ]
  },
  {
   "cell_type": "code",
   "execution_count": 2,
   "metadata": {},
   "outputs": [
    {
     "data": {
      "text/plain": [
       "@e (macro with 1 method)"
      ]
     },
     "execution_count": 2,
     "metadata": {},
     "output_type": "execute_result"
    }
   ],
   "source": [
    "macro e(something)\n",
    "    if something.head === :macrocall\n",
    "        return esc(:(println(MacroTools.prettify(@macroexpand $something)); $something))\n",
    "    end\n",
    "    return esc(something)\n",
    "end"
   ]
  },
  {
   "cell_type": "code",
   "execution_count": 3,
   "metadata": {},
   "outputs": [
    {
     "name": "stdout",
     "output_type": "stream",
     "text": [
      "\u001b[0m\u001b[1mTest Summary:   | \u001b[22m\u001b[32m\u001b[1mPass  \u001b[22m\u001b[39m\u001b[36m\u001b[1mTotal\u001b[22m\u001b[39m\n",
      "FunctionalIndex | \u001b[32m  42  \u001b[39m\u001b[36m   42\u001b[39m\n"
     ]
    },
    {
     "data": {
      "text/plain": [
       "Test.DefaultTestSet(\"FunctionalIndex\", Any[], 42, false, false)"
      ]
     },
     "execution_count": 3,
     "metadata": {},
     "output_type": "execute_result"
    }
   ],
   "source": [
    "\"\"\"\n",
    "    FunctionalIndex\n",
    "\n",
    "A special type of an index that represents a function that can be used only in pair with a collection. \n",
    "An example of a `FunctionalIndex` can be `firstindex` or `lastindex`, but more complex use cases are possible too, \n",
    "e.g. `firstindex + 1` can be represented as `FunctionalIndex((x) -> firstindex(x) + 1)`.\n",
    "\n",
    "This structure is used to dispatch on and to replace `begin` or `end` (or more complex use cases, e.g. `begin + 1`) marker\n",
    "\"\"\"\n",
    "struct FunctionalIndex{R, F}\n",
    "    f :: F\n",
    "    \n",
    "    FunctionalIndex{R}(f::F) where { R, F } = new{R, F}(f)\n",
    "end\n",
    "\n",
    "(index::FunctionalIndex{R, F})(collection) where { R, F } = __functional_apply(R, index.f, collection)::Integer\n",
    "\n",
    "__functional_apply(::Symbol, f, collection) = f(collection)\n",
    "__functional_apply(subindex::FunctionalIndex, f::Base.Fix2{typeof(+), <: Integer}, collection) = subindex(collection) .+ f.x\n",
    "__functional_apply(subindex::FunctionalIndex, f::Base.Fix2{typeof(-), <: Integer}, collection) = subindex(collection) .- f.x\n",
    "\n",
    "Base.:(+)(left::FunctionalIndex, index::Integer) = FunctionalIndex{left}(Base.Fix2(+, index))\n",
    "Base.:(-)(left::FunctionalIndex, index::Integer) = FunctionalIndex{left}(Base.Fix2(-, index))\n",
    "\n",
    "__functional_print(io::IO, f::typeof(firstindex)) = nothing\n",
    "__functional_print(io::IO, f::typeof(lastindex))  = nothing\n",
    "__functional_print(io::IO, f::Base.Fix2{typeof(+), <: Integer}) = print(io, \" + \", f.x) # `f.x` here might be broken in future Julia?\n",
    "__functional_print(io::IO, f::Base.Fix2{typeof(-), <: Integer}) = print(io, \" - \", f.x)\n",
    "\n",
    "function Base.show(io::IO, index::FunctionalIndex{R, F}) where { R, F }\n",
    "    print(io, \"(\")\n",
    "    print(io, R)\n",
    "    __functional_print(io, index.f)\n",
    "    print(io, \")\")\n",
    "end\n",
    "\n",
    "make_functional_index(reprsymbol::Symbol, fnsymbol::Symbol) = :(FunctionalIndex{$(QuoteNode(reprsymbol))}($fnsymbol))\n",
    "\n",
    "@testset \"FunctionalIndex\" begin\n",
    "    \n",
    "    for N in 1:5\n",
    "        collection = ones(N)\n",
    "        @test FunctionalIndex{:nothing}(firstindex)(collection) === firstindex(collection)\n",
    "        @test FunctionalIndex{:nothing}(lastindex)(collection) === lastindex(collection)\n",
    "        @test (FunctionalIndex{:nothing}(firstindex) + 1)(collection) === firstindex(collection) + 1\n",
    "        @test (FunctionalIndex{:nothing}(lastindex) - 1)(collection) === lastindex(collection) - 1\n",
    "        @test (FunctionalIndex{:nothing}(firstindex) + 1 - 2 + 3)(collection) === firstindex(collection) + 1 - 2 + 3\n",
    "        @test (FunctionalIndex{:nothing}(lastindex) - 1 + 2 - 3)(collection) === lastindex(collection) - 1 + 2 - 3\n",
    "    end\n",
    "    \n",
    "    @test repr(FunctionalIndex{:begin}(firstindex)) === \"(begin)\"\n",
    "    @test repr(FunctionalIndex{:begin}(firstindex) + 1) === \"((begin) + 1)\"\n",
    "    @test repr(FunctionalIndex{:begin}(firstindex) - 1) === \"((begin) - 1)\"\n",
    "    @test repr(FunctionalIndex{:begin}(firstindex) - 1 + 1) === \"(((begin) - 1) + 1)\"\n",
    "    \n",
    "    @test repr(FunctionalIndex{:end}(lastindex)) === \"(end)\"\n",
    "    @test repr(FunctionalIndex{:end}(lastindex) + 1) === \"((end) + 1)\"\n",
    "    @test repr(FunctionalIndex{:end}(lastindex) - 1) === \"((end) - 1)\"\n",
    "    @test repr(FunctionalIndex{:end}(lastindex) - 1 + 1) === \"(((end) - 1) + 1)\"\n",
    "    \n",
    "    @test isbitstype(typeof((FunctionalIndex{:begin}(firstindex) + 1)))\n",
    "    @test isbitstype(typeof((FunctionalIndex{:begin}(firstindex) - 1)))\n",
    "    @test isbitstype(typeof((FunctionalIndex{:begin}(firstindex) + 1 + 1)))\n",
    "    @test isbitstype(typeof((FunctionalIndex{:begin}(firstindex) - 1 + 1)))\n",
    "end"
   ]
  },
  {
   "cell_type": "code",
   "execution_count": 4,
   "metadata": {},
   "outputs": [
    {
     "data": {
      "text/plain": [
       "make_factorisation_split (generic function with 1 method)"
      ]
     },
     "execution_count": 4,
     "metadata": {},
     "output_type": "execute_result"
    }
   ],
   "source": [
    "__range_io_helper(value::Integer)         = value\n",
    "__range_io_helper(value::FunctionalIndex) = repr(value)\n",
    "\n",
    "struct CombinedRange{L, R}\n",
    "    from :: L\n",
    "    to   :: R\n",
    "end\n",
    "\n",
    "Base.firstindex(range::CombinedRange) = range.from\n",
    "Base.lastindex(range::CombinedRange)  = range.to\n",
    "Base.in(item, range::CombinedRange)   = firstindex(range) <= item <= lastindex(range)\n",
    "\n",
    "Base.show(io::IO, range::CombinedRange) = print(io, __range_io_helper(range.from), \":\", __range_io_helper(range.to))\n",
    "\n",
    "\n",
    "make_combined_range(l, r) = :(CombinedRange($l, $r))\n",
    "\n",
    "struct SplittedRange{L, R}\n",
    "    from :: L\n",
    "    to   :: R\n",
    "end\n",
    "\n",
    "Base.firstindex(range::SplittedRange) = range.from\n",
    "Base.lastindex(range::SplittedRange)  = range.to\n",
    "Base.in(item, range::SplittedRange)   = firstindex(range) <= item <= lastindex(range)\n",
    "\n",
    "Base.show(io::IO, range::SplittedRange) = print(io, __range_io_helper(range.from), \"..\", __range_io_helper(range.to))\n",
    "\n",
    "\n",
    "make_splitted_range(l, r) = :(SplittedRange($l, $r))\n",
    "make_factorisation_split(l, r) = :(factorisation_split($l, $r))"
   ]
  },
  {
   "cell_type": "code",
   "execution_count": 5,
   "metadata": {},
   "outputs": [],
   "source": [
    "struct NotDefinedYet{S} end"
   ]
  },
  {
   "cell_type": "code",
   "execution_count": 6,
   "metadata": {},
   "outputs": [
    {
     "data": {
      "text/plain": [
       "make_constraints_specification (generic function with 1 method)"
      ]
     },
     "execution_count": 6,
     "metadata": {},
     "output_type": "execute_result"
    }
   ],
   "source": [
    "const ConstraintsSpecificationPreallocatedDefaultSize = 64\n",
    "\n",
    "struct ConstraintsSpecificationPreallocated\n",
    "    clusters_template   :: BitVector\n",
    "    clusters_usage      :: BitVector\n",
    "    clusters_set        :: Set{Tuple}\n",
    "    cluster_indices     :: Vector{Int}\n",
    "    var_refs_positions  :: Vector{Int}\n",
    "    \n",
    "    ConstraintsSpecificationPreallocated() = new(trues(ConstraintsSpecificationPreallocatedDefaultSize), falses(ConstraintsSpecificationPreallocatedDefaultSize), Set{Tuple}(), Vector{Int}(undef, ConstraintsSpecificationPreallocatedDefaultSize), Vector{Int}(undef, ConstraintsSpecificationPreallocatedDefaultSize))\n",
    "end\n",
    "\n",
    "function __reset_preallocated!(preallocated::ConstraintsSpecificationPreallocated, size::Int)\n",
    "    abs2size = abs2(size)\n",
    "    if length(preallocated.clusters_template) < abs2size\n",
    "        resize!(preallocated.clusters_template, abs2size)\n",
    "        resize!(preallocated.clusters_usage, abs2size) # note: we dont need `size^2` for this, just `size` should be enough, but just to avoid extra checks\n",
    "        resize!(preallocated.var_refs_positions, abs2size)\n",
    "    end\n",
    "    \n",
    "    if length(preallocated.cluster_indices) < size\n",
    "        resize!(preallocated.cluster_indices, size)\n",
    "    end\n",
    "    \n",
    "    fill!(preallocated.clusters_template, true)\n",
    "    fill!(preallocated.clusters_usage, false)\n",
    "    \n",
    "    empty!(preallocated.clusters_set)\n",
    "end\n",
    "\n",
    "struct ConstraintsSpecification{F, M}\n",
    "    factorisation :: F\n",
    "    form :: M\n",
    "    preallocated :: ConstraintsSpecificationPreallocated\n",
    "end\n",
    "\n",
    "ConstraintsSpecification(factorisation::F, form::M) where { F, M } = ConstraintsSpecification{F, M}(factorisation, form, ConstraintsSpecificationPreallocated())\n",
    "\n",
    "__reset_preallocated!(specification::ConstraintsSpecification, size::Int) = __reset_preallocated!(specification.preallocated, size)\n",
    "\n",
    "function Base.show(io::IO, specification::ConstraintsSpecification) \n",
    "    print(io, \"Constraints:\\n\\tform: $(specification.form)\\n\")\n",
    "    print(io, \"\\tfactorisation\\n\")\n",
    "    foreach(specification.factorisation) do f\n",
    "        print(io, \"\\t\\t\", f, \"\\n\")\n",
    "    end\n",
    "end\n",
    "\n",
    "make_constraints_specification(factorisation, form) = :(ConstraintsSpecification($factorisation, $form))"
   ]
  },
  {
   "cell_type": "code",
   "execution_count": 7,
   "metadata": {},
   "outputs": [],
   "source": [
    "struct FactorisationConstraintsEntry{N, I} end\n",
    "\n",
    "getnames(entry::FactorisationConstraintsEntry{N}) where N = N\n",
    "getindices(entry::FactorisationConstraintsEntry{N, I}) where { N, I } = I\n",
    "getpairs(entry::FactorisationConstraintsEntry) = zip(getnames(entry), getindices(entry))\n",
    "\n",
    "FactorisationConstraintsEntry(::Val{N}, ::Val{I}) where { N, I } = FactorisationConstraintsEntry{N, I}()\n",
    "\n",
    "make_factorisation_constraint_entry(N, T) = :(FactorisationConstraintsEntry($N, $T))\n",
    "\n",
    "__io_entry_pair(pair::Tuple)                    = __io_entry_pair(first(pair), last(pair))\n",
    "__io_entry_pair(symbol::Symbol, ::Nothing)      = string(symbol)\n",
    "__io_entry_pair(symbol::Symbol, index::Integer) = string(symbol, \"[\", index, \"]\")\n",
    "__io_entry_pair(symbol::Symbol, index::FunctionalIndex) = string(symbol, \"[\", repr(index), \"]\")\n",
    "__io_entry_pair(symbol::Symbol, range::CombinedRange) = string(symbol, \"[\", range, \"]\")\n",
    "__io_entry_pair(symbol::Symbol, range::SplittedRange) = string(symbol, \"[\", range, \"]\")\n",
    "\n",
    "function Base.show(io::IO, entry::FactorisationConstraintsEntry)\n",
    "    print(io, \"q(\")\n",
    "    entries = map(__io_entry_pair, zip(getnames(entry), getindices(entry)))\n",
    "    join(io, entries, \", \")\n",
    "    print(io, \")\")\n",
    "end"
   ]
  },
  {
   "cell_type": "code",
   "execution_count": 8,
   "metadata": {},
   "outputs": [
    {
     "data": {
      "text/plain": [
       "make_factorisation_constraint (generic function with 1 method)"
      ]
     },
     "execution_count": 8,
     "metadata": {},
     "output_type": "execute_result"
    }
   ],
   "source": [
    "struct FactorisationConstraintsSpecification{N, E} end\n",
    "\n",
    "getnames(specification::FactorisationConstraintsSpecification{N})      where N = N\n",
    "getentries(specification::FactorisationConstraintsSpecification{N, E}) where { N, E } = E\n",
    "\n",
    "Base.:(*)(left::Tuple{Vararg{T where T <: Union{ <:FactorisationConstraintsSpecification, <:FactorisationConstraintsEntry }}}, right::Tuple{Vararg{T where T <: Union{ <:FactorisationConstraintsSpecification, <:FactorisationConstraintsEntry }}}) = (left..., right...)\n",
    "Base.:(*)(left::Union{ <:FactorisationConstraintsSpecification, <:FactorisationConstraintsEntry }, right::Tuple{Vararg{T where T <: Union{ <:FactorisationConstraintsSpecification, <:FactorisationConstraintsEntry }}}) = (left, right...)\n",
    "Base.:(*)(left::Tuple{Vararg{T where T <: Union{ <:FactorisationConstraintsSpecification, <:FactorisationConstraintsEntry }}}, right::Union{ <:FactorisationConstraintsSpecification, <:FactorisationConstraintsEntry }) = (left..., right)\n",
    "Base.:(*)(left::Union{ <:FactorisationConstraintsSpecification, <:FactorisationConstraintsEntry }, right::Union{ <:FactorisationConstraintsSpecification, <:FactorisationConstraintsEntry }) = (left, right)\n",
    "\n",
    "Base.:(*)(::NotDefinedYet{S}, something::Any) where S = error(\"Cannot multiply $S and $something. $S has not been defined yet.\")\n",
    "Base.:(*)(something::Any, ::NotDefinedYet{S}) where S = error(\"Cannot multiply $S and $something. $S has not been defined yet.\")\n",
    "Base.:(*)(::NotDefinedYet{S1}, ::NotDefinedYet{S2}) where { S1, S2 } = error(\"Cannot multiply $S1 and $S2. Both $S1 and $S2 have not been defined yet.\")\n",
    "\n",
    "function Base.show(io::IO, factorisation::FactorisationConstraintsSpecification{Names}) where Names\n",
    "    \n",
    "    print(io, \"q(\")\n",
    "    join(io, getnames(factorisation), \", \")\n",
    "    print(io, \")\")\n",
    "    \n",
    "    iscompact = get(io, :compact, false)\n",
    "    \n",
    "    if !iscompact\n",
    "        print(io, \" = \")\n",
    "        foreach(getentries(factorisation)) do e\n",
    "            print(IOContext(io, :compact => true), e)\n",
    "        end\n",
    "    end\n",
    "\n",
    "end\n",
    "\n",
    "FactorisationConstraintsSpecification(::Val{N}, ::Val{E})       where { N, E }       = FactorisationConstraintsSpecification{N, E}()\n",
    "FactorisationConstraintsSpecification(::Val{N}, ::Val{nothing}) where { N          } = error(\"Cannot create q(\", join(N, \",\"), \") factorisation constraints specification\")\n",
    "    \n",
    "make_factorisation_constraint(N, E) = :(FactorisationConstraintsSpecification($N, $E))"
   ]
  },
  {
   "cell_type": "code",
   "execution_count": 9,
   "metadata": {},
   "outputs": [],
   "source": [
    "using Unrolled"
   ]
  },
  {
   "cell_type": "code",
   "execution_count": 10,
   "metadata": {},
   "outputs": [
    {
     "data": {
      "text/plain": [
       "factorisation_split (generic function with 1 method)"
      ]
     },
     "execution_count": 10,
     "metadata": {},
     "output_type": "execute_result"
    }
   ],
   "source": [
    "# Split related functions\n",
    "\n",
    "Base.:(*)(left::Tuple{Vararg{T where T <: FactorisationConstraintsEntry}}, right::Tuple{Vararg{T where T <: FactorisationConstraintsEntry}}) = (left..., right...)\n",
    "\n",
    "# Only these combinations are allowed to be merged\n",
    "__factorisation_split_merge_range(a::Int, b::Int)                         = SplittedRange(a, b)\n",
    "__factorisation_split_merge_range(a::FunctionalIndex, b::Int)             = SplittedRange(a, b)\n",
    "__factorisation_split_merge_range(a::Int, b::FunctionalIndex)             = SplittedRange(a, b)\n",
    "__factorisation_split_merge_range(a::FunctionalIndex, b::FunctionalIndex) = SplittedRange(a, b)\n",
    "__factorisation_split_merge_range(a::Any, b::Any) = error(\"Cannot merge $(a) and $(b) indexes in `factorisation_split`\")\n",
    "\n",
    "function factorisation_split(left::Tuple{Vararg{T where T <: FactorisationConstraintsEntry}}, right::Tuple{Vararg{T where T <: FactorisationConstraintsEntry}})\n",
    "    left_last   = last(left)\n",
    "    right_first = first(right)\n",
    "    (getnames(left_last) === getnames(right_first)) || error(\"Cannot split $(left_last) and $(right_first).\")\n",
    "    lindices = getindices(left_last)\n",
    "    rindices = getindices(right_first)\n",
    "    split_merged = unrolled_map(__factorisation_split_merge_range, lindices, rindices)\n",
    "    \n",
    "    first_split = first(split_merged)\n",
    "    unrolled_all(e -> e === first_split, split_merged) || error(\"Inconsistent indices within factorisation split. Check $(split_merged) indices for $(getnames(left_last)) variables.\")\n",
    "    \n",
    "    return (left[1:end - 1]..., FactorisationConstraintsEntry(Val(getnames(left_last)), Val(split_merged)), right[begin+1:end]...)\n",
    "end"
   ]
  },
  {
   "cell_type": "code",
   "execution_count": 11,
   "metadata": {},
   "outputs": [
    {
     "data": {
      "text/plain": [
       "@constraints (macro with 1 method)"
      ]
     },
     "execution_count": 11,
     "metadata": {},
     "output_type": "execute_result"
    }
   ],
   "source": [
    "struct ReactiveMPBackend end\n",
    "\n",
    "__get_current_backend() = ReactiveMPBackend()\n",
    "\n",
    "macro constraints(constraints_specification)\n",
    "    return generate_constraints_expression(__get_current_backend(), constraints_specification)\n",
    "end"
   ]
  },
  {
   "cell_type": "code",
   "execution_count": 12,
   "metadata": {},
   "outputs": [
    {
     "data": {
      "text/plain": [
       "isref (generic function with 1 method)"
      ]
     },
     "execution_count": 12,
     "metadata": {},
     "output_type": "execute_result"
    }
   ],
   "source": [
    "isexpr(expr::Expr) = true\n",
    "isexpr()           = false\n",
    "\n",
    "ishead(something, head) = isexpr(something) && something.head === head\n",
    "\n",
    "isblock(something) = ishead(something, :block)\n",
    "isref(something) = ishead(something, :ref)"
   ]
  },
  {
   "cell_type": "code",
   "execution_count": 13,
   "metadata": {},
   "outputs": [],
   "source": [
    "struct LHSMeta\n",
    "    name :: String\n",
    "    hash :: UInt\n",
    "    varname :: Symbol\n",
    "end"
   ]
  },
  {
   "cell_type": "code",
   "execution_count": 14,
   "metadata": {},
   "outputs": [],
   "source": [
    "# TODO: check for intersections of ranges during an actual execution"
   ]
  },
  {
   "cell_type": "code",
   "execution_count": 15,
   "metadata": {},
   "outputs": [
    {
     "data": {
      "text/plain": [
       "generate_constraints_expression (generic function with 1 method)"
      ]
     },
     "execution_count": 15,
     "metadata": {},
     "output_type": "execute_result"
    }
   ],
   "source": [
    "function generate_constraints_expression(backend, constraints_specification)\n",
    "\n",
    "    if isblock(constraints_specification)\n",
    "        generatedfname = gensym(:constraints)\n",
    "        generatedfbody = :(function $(generatedfname)() $constraints_specification end)\n",
    "        return :($(generate_constraints_expression(backend, generatedfbody))())\n",
    "    end\n",
    "\n",
    "    @capture(constraints_specification, (function cs_name_(cs_args__; cs_kwargs__) cs_body_ end) | (function cs_name_(cs_args__) cs_body_ end)) || \n",
    "        error(\"Constraints specification language requires full function definition\")\n",
    "    \n",
    "    cs_args   = cs_args === nothing ? [] : cs_args\n",
    "    cs_kwargs = cs_kwargs === nothing ? [] : cs_kwargs\n",
    "    \n",
    "    lhs_dict = Dict{UInt, LHSMeta}()\n",
    "    \n",
    "    # We iteratively overwrite extend form constraint tuple, but we use different names for it to enable type-stability\n",
    "    form_constraints_symbol      = gensym(:form_constraint)\n",
    "    form_constraints_symbol_init = :($form_constraints_symbol = ())\n",
    "    \n",
    "    # We iteratively overwrite extend factorisation constraint tuple, but we use different names for it to enable type-stability\n",
    "    factorisation_constraints_symbol      = gensym(:factorisation_constraint)\n",
    "    factorisation_constraints_symbol_init = :($factorisation_constraints_symbol = ())\n",
    "    \n",
    "    # First we record all lhs expression's hash ids and create unique variable names for them\n",
    "    # q(x, y) = q(x)q(y) -> hash(q(x, y))\n",
    "    # We do allow multiple definitions in case of if statements, but we do check later overwrites, which are not allowed\n",
    "    cs_body = postwalk(cs_body) do expression\n",
    "        # We also do a simple sanity check right now, names should be an array of Symbols only\n",
    "        if @capture(expression, lhs_ = rhs_) && @capture(lhs, q(names__))\n",
    "            \n",
    "            (length(names) !== 0 && all(name -> name isa Symbol, names)) || \n",
    "                error(\"\"\"Error in factorisation constraints specification $(lhs_name) = ...\\nLeft hand side of the equality expression should have only variable identifiers.\"\"\")\n",
    "            \n",
    "            # We replace '..' in RHS expression with `make_factorisation_split`\n",
    "            rhs = postwalk(rhs) do rexpr\n",
    "                if @capture(rexpr, a_ .. b_)\n",
    "                    return make_factorisation_split(a, b)\n",
    "                end\n",
    "                return rexpr\n",
    "            end\n",
    "            \n",
    "            lhs_names = Set{Symbol}(names)\n",
    "            rhs_names = Set{Symbol}()\n",
    "            \n",
    "            # We do a simple check to be sure that LHS and RHS has the exact same set of names\n",
    "            # We also check here that all indices are either a simple Symbol or an indexing expression here\n",
    "            rhs = postwalk(MacroTools.prettify(rhs, alias = false)) do entry\n",
    "                if @capture(entry, q(indices__))\n",
    "                    for index in indices\n",
    "                        if index isa Symbol\n",
    "                            (index ∉ rhs_names) || error(\"RHS of the $(expression) expression used $(index) without indexing twice, which is not allowed. Try to decompose factorisation constraint expression into several subexpression.\")\n",
    "                            push!(rhs_names, index)\n",
    "                            (index ∉ lhs_names) && error(\"LHS of the $(expression) expression does not have $(index) variable, but is used in RHS.\")\n",
    "                        elseif isref(index)\n",
    "                            push!(rhs_names, first(index.args))\n",
    "                            (first(index.args) ∉ lhs_names) && error(\"LHS of the $(expression) expression does not have $(first(index.args)) variable, but is used in RHS.\")\n",
    "                        else\n",
    "                           error(\"Cannot parse expression $(index) in the RHS $(rhs) expression. Index expression should be either a single variable symbol or an indexing expression.\") \n",
    "                        end\n",
    "                    end\n",
    "                end\n",
    "                return entry\n",
    "            end\n",
    "            \n",
    "            (lhs_names == rhs_names) || error(\"LHS and RHS of the $(expression) expression has different set of variables.\")\n",
    "            \n",
    "            lhs_hash = hash(lhs)\n",
    "            lhs_meta = if haskey(lhs_dict, lhs_hash)\n",
    "                lhs_dict[ lhs_hash ]\n",
    "            else\n",
    "                lhs_name = string(\"q(\", join(names, \", \"), \")\")\n",
    "                lhs_varname = gensym(lhs_name)\n",
    "                lhs_meta = LHSMeta(lhs_name, lhs_hash, lhs_varname)\n",
    "                lhs_dict[lhs_hash] = lhs_meta\n",
    "            end\n",
    "            \n",
    "            lhs_name = lhs_meta.name\n",
    "            lhs_varname = lhs_meta.varname\n",
    "            \n",
    "            new_factorisation_specification = make_factorisation_constraint(:(Val(($(map(QuoteNode, names)...),))), :(Val($(rhs))))\n",
    "            \n",
    "            result = quote \n",
    "                ($(lhs_varname) isa NotDefinedYet) || error(\"Factorisation constraints specification $($lhs_name) = ... has been redefined.\")\n",
    "                $(lhs_varname) = $(new_factorisation_specification)\n",
    "                $factorisation_constraints_symbol = ($factorisation_constraints_symbol..., $(lhs_varname))\n",
    "            end\n",
    "            \n",
    "            return result\n",
    "        end\n",
    "        return expression\n",
    "    end\n",
    "    \n",
    "    # This block write initial variables for factorisation specification\n",
    "    cs_lhs_init_block = map(collect(lhs_dict)) do pair\n",
    "        lhs_meta = last(pair)\n",
    "        lhs_name = lhs_meta.name\n",
    "        lhs_varname = lhs_meta.varname\n",
    "        lhs_symbol = Symbol(lhs_name)\n",
    "        return quote \n",
    "            $(lhs_varname) = NotDefinedYet{$(QuoteNode(lhs_symbol))}()\n",
    "        end\n",
    "    end\n",
    "    \n",
    "    cs_body = prewalk(cs_body) do expression\n",
    "        if @capture(expression, q(args__))\n",
    "            rhs_prod_names = Symbol[]\n",
    "            rhs_prod_entries_args = map(args) do arg\n",
    "                if arg isa Symbol\n",
    "                    push!(rhs_prod_names, arg)\n",
    "                    return :(nothing)\n",
    "                elseif isref(arg)\n",
    "                    (length(arg.args) === 2) || error(\"Indexing expression $(expression) is too difficult to parse and is not supported (yet?).\")\n",
    "                    push!(rhs_prod_names, first(arg.args))\n",
    "\n",
    "                    index = last(arg.args)\n",
    "\n",
    "                    # First we replace all `begin` and `end` with `firstindex` and `lastindex` functions\n",
    "                    index = postwalk(index) do iexpr\n",
    "                        if iexpr isa Symbol && iexpr === :begin\n",
    "                            return make_functional_index(:begin, :firstindex)\n",
    "                        elseif iexpr isa Symbol && iexpr === :end\n",
    "                            return make_functional_index(:end, :lastindex)\n",
    "                        else\n",
    "                            return iexpr\n",
    "                        end\n",
    "                    end\n",
    "\n",
    "                    if @capture(index, a_:b_)\n",
    "                        return make_combined_range(a, b)\n",
    "                    else\n",
    "                        return index\n",
    "                    end\n",
    "                else\n",
    "                    error(\"Cannot parse expression $(index) in the RHS $(rhs) expression. Index expression should be either a single variable symbol or an indexing expression.\") \n",
    "                end\n",
    "            end\n",
    "\n",
    "            entry = make_factorisation_constraint_entry(:(Val(($(map(QuoteNode, rhs_prod_names)...), ))), :(Val(($(rhs_prod_entries_args...), ))))\n",
    "\n",
    "            return :(($entry, ))\n",
    "        end\n",
    "        return expression\n",
    "    end\n",
    "    \n",
    "    return_specification = make_constraints_specification(factorisation_constraints_symbol, form_constraints_symbol)\n",
    "    \n",
    "    res = quote\n",
    "         function $cs_name($(cs_args...); $(cs_kwargs...))\n",
    "            $(form_constraints_symbol_init)\n",
    "            $(factorisation_constraints_symbol_init)\n",
    "            $(cs_lhs_init_block...)\n",
    "            $(cs_body)\n",
    "            $(return_specification)\n",
    "        end \n",
    "    end\n",
    "    \n",
    "    return esc(res)\n",
    "end"
   ]
  },
  {
   "cell_type": "code",
   "execution_count": 16,
   "metadata": {},
   "outputs": [],
   "source": [
    "# node with (x, t, y, w) pure indices"
   ]
  },
  {
   "cell_type": "code",
   "execution_count": 17,
   "metadata": {},
   "outputs": [],
   "source": [
    "# Didnt work out\n",
    "# using DataStructures\n",
    "# struct FirstForwardOrdering <: Base.Ordering end\n",
    "# Base.lt(::FirstForwardOrdering, a, b) = Base.Order.lt(Base.Order.Forward, first(a), first(b))"
   ]
  },
  {
   "cell_type": "code",
   "execution_count": 18,
   "metadata": {},
   "outputs": [],
   "source": [
    "# struct ConstraintsSpecificationPreallocated\n",
    "#     clusters_template :: BitVector\n",
    "#     clusters_set      :: Set{Tuple}\n",
    "#     cluster_indices   :: Vector{Int}\n",
    "# end"
   ]
  },
  {
   "cell_type": "code",
   "execution_count": null,
   "metadata": {},
   "outputs": [],
   "source": []
  },
  {
   "cell_type": "code",
   "execution_count": 19,
   "metadata": {},
   "outputs": [],
   "source": [
    "struct ClusterIntersectionError\n",
    "    expression\n",
    "    varrefs\n",
    "    clusters\n",
    "    constraints\n",
    "end\n",
    "\n",
    "__throw_intersection_error(expression, varrefs, clusters, constraints) = throw(ClusterIntersectionError(expression, varrefs, clusters, constraints))\n",
    "\n",
    "function Base.showerror(io::IO, error::ClusterIntersectionError)\n",
    "    print(io, \"Cluster intersection error in the expression `$(error.expression)`.\\n\")\n",
    "    print(io, \"Based on factorisation constraints the resulting local constraint \")\n",
    "    print(io, \"q(\")\n",
    "    join(io, map(first, error.varrefs), \", \")\n",
    "    print(io, \") = \")\n",
    "    for cluster in error.clusters\n",
    "        print(io, \"q(\")\n",
    "        entries = map(cluster) do clusterindex\n",
    "            __for_error_convert(tuple::Tuple)        = __for_error_convert(tuple[1], tuple[2])\n",
    "            __for_error_convert(var, index)          = string(var, \"[\", index, \"]\")\n",
    "            __for_error_convert(var, index::Nothing) = string(var)\n",
    "            __for_error_convert(error.varrefs[clusterindex])\n",
    "        end\n",
    "        join(io, entries, \", \")\n",
    "        print(io, \")\")\n",
    "    end\n",
    "    print(io, \" has cluster intersections, which is disallowed by default.\")\n",
    "    print(io, \"\\nTechnical info: clusters = \", error.clusters)\n",
    "    print(io, \"\\n\", error.constraints)\n",
    "end"
   ]
  },
  {
   "cell_type": "code",
   "execution_count": 20,
   "metadata": {},
   "outputs": [],
   "source": [
    "using ReactiveMP # here we go baby"
   ]
  },
  {
   "cell_type": "code",
   "execution_count": 21,
   "metadata": {},
   "outputs": [
    {
     "name": "stdout",
     "output_type": "stream",
     "text": [
      "\u001b[0m\u001b[1mTest Summary:   | \u001b[22m\u001b[32m\u001b[1mPass  \u001b[22m\u001b[39m\u001b[36m\u001b[1mTotal\u001b[22m\u001b[39m\n",
      "__resolve_index | \u001b[32m  32  \u001b[39m\u001b[36m   32\u001b[39m\n"
     ]
    },
    {
     "data": {
      "text/plain": [
       "Test.DefaultTestSet(\"__resolve_index\", Any[], 32, false, false)"
      ]
     },
     "execution_count": 21,
     "metadata": {},
     "output_type": "execute_result"
    }
   ],
   "source": [
    "\"\"\"\n",
    "    __resolve_index(index, collection)\n",
    "\n",
    "This function materializes index from constraints specification to something we can use `Base.in` function to. For example constraint specification index may return `begin` or `end`\n",
    "placeholders in a form of the `FunctionalIndex` structure. This function correctly resolves all indices and check bounds as an extra step.\n",
    "\"\"\"\n",
    "function __resolve_index end\n",
    "\n",
    "__resolve_index(index::Any, collection::AbstractVariable)                                  = error(\"Attempt to access a single variable $(name(collection)) at index [$(index)].\") # `index` here is guaranteed to be not `nothing`, because of dispatch. `Nothing, Nothing` version will dispatch on the method below\n",
    "__resolve_index(index::Nothing, collection::AbstractVariable)                              = nothing\n",
    "__resolve_index(index::Nothing, collection::AbstractVector{ <: AbstractVariable })         = nothing\n",
    "__resolve_index(index::Real, collection::AbstractVector{ <: AbstractVariable })            = error(\"Non integer indices are not supported. Attempt to access collection $(collection) of variable $(name(first(collection))) at index [$(index)].\")\n",
    "__resolve_index(index::Integer, collection::AbstractVector{ <: AbstractVariable })         = (firstindex(collection) <= index <= lastindex(collection)) ? index : error(\"Index out of bounds happened during indices resolution in factorisation constraints. Attempt to access collection $(collection) of variable $(name(first(collection))) at index [$(index)].\")\n",
    "__resolve_index(index::FunctionalIndex, collection::AbstractVector{ <: AbstractVariable }) = __resolve_index(index(collection)::Integer, collection)::Integer\n",
    "__resolve_index(index::CombinedRange, collection::AbstractVector{ <: AbstractVariable })   = CombinedRange(__resolve_index(firstindex(index), collection)::Integer, __resolve_index(lastindex(index), collection)::Integer)\n",
    "__resolve_index(index::SplittedRange, collection::AbstractVector{ <: AbstractVariable })   = SplittedRange(__resolve_index(firstindex(index), collection)::Integer, __resolve_index(lastindex(index), collection)::Integer)\n",
    "\n",
    "@testset \"__resolve_index\" begin\n",
    "    collection = randomvar(:x, 3)\n",
    "    \n",
    "    @test __resolve_index(nothing, randomvar(:x)) === nothing\n",
    "    @test_throws ErrorException __resolve_index(1, randomvar(:x))\n",
    "    @test_throws ErrorException __resolve_index(FunctionalIndex{:begin}(firstindex), randomvar(:x))\n",
    "    \n",
    "    @test __resolve_index(nothing, collection) === nothing\n",
    "    @test __resolve_index(1, collection) === 1\n",
    "    @test __resolve_index(3, collection) === 3\n",
    "    \n",
    "    @test_throws ErrorException __resolve_index(6, collection)\n",
    "    \n",
    "    @test __resolve_index(FunctionalIndex{:begin}(firstindex) + 1, collection) === 2\n",
    "    @test __resolve_index(FunctionalIndex{:begin}(firstindex) + 1 + 1, collection) === 3\n",
    "    @test __resolve_index(FunctionalIndex{:end}(lastindex) - 1, collection) === 2\n",
    "    \n",
    "    @test_throws ErrorException __resolve_index(FunctionalIndex{:begin}(firstindex) + 100, collection)\n",
    "    @test_throws ErrorException __resolve_index(FunctionalIndex{:end}(lastindex) - 100, collection)\n",
    "    \n",
    "    @test __resolve_index(CombinedRange(1, 3), collection) === CombinedRange(1, 3)\n",
    "    @test __resolve_index(CombinedRange(1, 2), collection) === CombinedRange(1, 2)\n",
    "    @test __resolve_index(CombinedRange(FunctionalIndex{:begin}(firstindex), 2), collection) === CombinedRange(1, 2)\n",
    "    @test __resolve_index(CombinedRange(1, FunctionalIndex{:end}(lastindex)), collection) === CombinedRange(1, 3)\n",
    "    @test __resolve_index(CombinedRange(FunctionalIndex{:begin}(firstindex) + 1, FunctionalIndex{:end}(lastindex) - 1), collection) === CombinedRange(2, 2)\n",
    "    \n",
    "    @test __resolve_index(SplittedRange(1, 3), collection) === SplittedRange(1, 3)\n",
    "    @test __resolve_index(SplittedRange(1, 2), collection) === SplittedRange(1, 2)\n",
    "    @test __resolve_index(SplittedRange(FunctionalIndex{:begin}(firstindex), 2), collection) === SplittedRange(1, 2)\n",
    "    @test __resolve_index(SplittedRange(1, FunctionalIndex{:end}(lastindex)), collection) === SplittedRange(1, 3)\n",
    "    @test __resolve_index(SplittedRange(FunctionalIndex{:begin}(firstindex) + 1, FunctionalIndex{:end}(lastindex) - 1), collection) === SplittedRange(2, 2)\n",
    "    \n",
    "    @test_throws ErrorException __resolve_index(CombinedRange(1, 5), collection)\n",
    "    @test_throws ErrorException __resolve_index(SplittedRange(1, 5), collection)\n",
    "    \n",
    "    @test_throws ErrorException __resolve_index(CombinedRange(FunctionalIndex{:begin}(firstindex) + 100, 2), collection)\n",
    "    @test_throws ErrorException __resolve_index(CombinedRange(1, FunctionalIndex{:end}(lastindex) - 100), collection)\n",
    "    @test_throws ErrorException __resolve_index(CombinedRange(FunctionalIndex{:begin}(firstindex) + 1, FunctionalIndex{:end}(lastindex) - 100), collection)\n",
    "    @test_throws ErrorException __resolve_index(CombinedRange(FunctionalIndex{:begin}(firstindex) + 100, FunctionalIndex{:end}(lastindex)), collection)\n",
    "    \n",
    "    @test_throws ErrorException __resolve_index(SplittedRange(FunctionalIndex{:begin}(firstindex) + 100, 2), collection)\n",
    "    @test_throws ErrorException __resolve_index(SplittedRange(1, FunctionalIndex{:end}(lastindex) - 100), collection)\n",
    "    @test_throws ErrorException __resolve_index(SplittedRange(FunctionalIndex{:begin}(firstindex) + 1, FunctionalIndex{:end}(lastindex) - 100), collection)\n",
    "    @test_throws ErrorException __resolve_index(SplittedRange(FunctionalIndex{:begin}(firstindex) + 100, FunctionalIndex{:end}(lastindex)), collection)\n",
    "end"
   ]
  },
  {
   "cell_type": "code",
   "execution_count": 107,
   "metadata": {},
   "outputs": [
    {
     "data": {
      "text/plain": [
       "__repr_symbol_index (generic function with 2 methods)"
      ]
     },
     "execution_count": 107,
     "metadata": {},
     "output_type": "execute_result"
    }
   ],
   "source": [
    "__repr_symbol_index(symbol::Symbol, index::Nothing) = string(symbol)\n",
    "__repr_symbol_index(symbol::Symbol, index)          = string(symbol, \"[\", index, \"]\")"
   ]
  },
  {
   "cell_type": "code",
   "execution_count": 164,
   "metadata": {},
   "outputs": [
    {
     "data": {
      "text/plain": [
       "false"
      ]
     },
     "execution_count": 164,
     "metadata": {},
     "output_type": "execute_result"
    }
   ],
   "source": [
    "1 isa SplittedRange"
   ]
  },
  {
   "cell_type": "code",
   "execution_count": 165,
   "metadata": {},
   "outputs": [
    {
     "data": {
      "text/plain": [
       "create_factorisation (generic function with 1 method)"
      ]
     },
     "execution_count": 165,
     "metadata": {},
     "output_type": "execute_result"
    }
   ],
   "source": [
    "function create_factorisation(expr::Expr, variables, constraints) \n",
    "\n",
    "    N = length(variables)\n",
    "    \n",
    "    preallocated = constraints.preallocated\n",
    "    \n",
    "    __reset_preallocated!(preallocated, N)\n",
    "    \n",
    "    clusters_template   = preallocated.clusters_template\n",
    "    clusters_usage      = preallocated.clusters_usage\n",
    "    clusters_set        = preallocated.clusters_set\n",
    "    cluster_indices     = preallocated.cluster_indices\n",
    "    var_refs_positions  = preallocated.var_refs_positions\n",
    "    \n",
    "    var_refs = map(get_factorisation_reference, variables)\n",
    "    \n",
    "    var_refs_names       = map(r -> r[1], var_refs)\n",
    "    var_refs_indices     = map(r -> r[2], var_refs)\n",
    "    var_refs_collections = map(r -> r[3], var_refs)\n",
    "    \n",
    "    function __resolve_var_ref_position(qpair_name::Symbol, qpair_index::Nothing, start_with::Int) \n",
    "        index = findnext(==(qpair_name), var_refs_names, start_with)\n",
    "        return typemin(Int):typemax(Int), index\n",
    "    end\n",
    "    \n",
    "    function __resolve_var_ref_position(qpair_name::Symbol, qpair_index::Union{Integer, FunctionalIndex, CombinedRange, SplittedRange}, start_with::Int)\n",
    "        qpair_name_position = findnext(==(qpair_name), var_refs_names, start_with)\n",
    "        if qpair_name_position === nothing\n",
    "            return nothing, nothing\n",
    "        end\n",
    "        qpair_name_collection = @inbounds var_refs_collections[ qpair_name_position::Integer ]\n",
    "        qpair_resolved_index = __resolve_index(qpair_index, qpair_name_collection)\n",
    "        return (@inbounds var_refs_indices[ qpair_name_position::Integer ]) ∈ qpair_resolved_index ? (qpair_resolved_index, qpair_name_position) : __resolve_var_ref_position(qpair_name, qpair_index, qpair_name_position + 1)\n",
    "    end\n",
    "    \n",
    "    # `factorisation` is a tuple of `FactorisationConstraintsSpecification`s\n",
    "    # FactorisationConstraintsSpecification has names of LHS and specs of RHS\n",
    "    factorisation = constraints.factorisation\n",
    "    \n",
    "    function __process_factorisation_entry!(symbol::Symbol, index, shift::Int) where N\n",
    "        # `symbols` refers to all possible symbols that refer to the current variable\n",
    "        \n",
    "        function __filter_template!(spec::FactorisationConstraintsSpecification, factorisation_entries::Tuple)\n",
    "            # This function applies a given `spec` with rhs = `factorisation_entries`\n",
    "            # Function goes all over `factorisation_entries` and check that the target `symbols` are found only once\n",
    "            # This is to prevent situations like q(x) = q(x[1])q(x[1]), which are correct from syntax point of view, but are not allowed in runtime\n",
    "            found_once = false\n",
    "            for entry in factorisation_entries\n",
    "                is_found = __filter_template!(Val(true), entry)\n",
    "                if is_found && found_once\n",
    "                    error(\"Found variable $(__repr_symbol_index(symbol, index)) twice in the factorisation specification $(spec).\")\n",
    "                end\n",
    "                found_once = found_once | is_found\n",
    "            end\n",
    "            if !found_once\n",
    "                 error(\"Variable $(__repr_symbol_index(symbol, index)) has not been found on the RHS of the factorisation specification $(spec)\")\n",
    "            end\n",
    "            return found_once\n",
    "        end\n",
    "        \n",
    "        # First argument `force` is a compile time flag that indicates if we want to check names of the `spec` first\n",
    "        __filter_template!(force::Val{true}, spec::FactorisationConstraintsSpecification)  = __filter_template!(spec, getentries(spec))\n",
    "        __filter_template!(force::Val{false}, spec::FactorisationConstraintsSpecification) = symbol ∈ getnames(spec) ? __filter_template!(spec, getentries(spec)) : false\n",
    "        \n",
    "        # Does not support indices\n",
    "        # Does not support ranges\n",
    "        # Does not support split ranges\n",
    "        function __filter_template!(force::Val{true}, csentry::FactorisationConstraintsEntry)\n",
    "            entry_names   = getnames(csentry)\n",
    "            entry_pairs   = getpairs(csentry)    \n",
    "            \n",
    "            # First, we check if current `symbol` is within `entry_names`.\n",
    "            is_external_name::Bool = symbol ∉ entry_names\n",
    "            current_found::Bool = false\n",
    "            save_var_ref_position_tmp::Int = 0\n",
    "            \n",
    "            # revise this docs: todo\n",
    "            # Next, we iterate over all entries in `entry_pairs`\n",
    "            # For each entry name in `entry_names` we find its position in `var_refs` (see `__resolve_var_ref_position` function) and\n",
    "            # If `is_external_name` is true:\n",
    "            #   - 1: if index in `qpair` is nothing we filter out this variable from `clusters_template`\n",
    "            #   - 2: if index in `qpair` is of type Integer or FunctionalIndex we filter out this variable only if indices match/exactly with index in `var_refs`\n",
    "            #   - 3: if index in `qpair` is of type CombinedRange or SplitterRange we filter out this variabl only if index in `var_refs` is within the range\n",
    "            # If `external_name` is false:\n",
    "            #   we do the same, but we do not filter out in case of matching position, but simply mark variable as found if symbols are matched\n",
    "            unrolled_foreach(entry_pairs) do qpair\n",
    "                # Here we resolve var ref position using rules 1, 2 and 3 above\n",
    "                # In case if `name_position` is not nothing that means we should filter out this variable from the current cluster\n",
    "                var_ref_position = 0\n",
    "                @inbounds while var_ref_position !== nothing\n",
    "                    var_ref_resolved_index, var_ref_position = __resolve_var_ref_position(first(qpair), last(qpair), var_ref_position + 1)\n",
    "                    if var_ref_position !== nothing\n",
    "                        _var_ref_position::Int = Int(var_ref_position)\n",
    "                        _var_ref_index         = var_refs_indices[_var_ref_position]\n",
    "                        if is_external_name\n",
    "                            clusters_template[ shift + _var_ref_position ] = false\n",
    "                        elseif first(qpair) === symbol && (index ∈ var_ref_resolved_index)\n",
    "                            if index === _var_ref_index\n",
    "                                current_found = true\n",
    "                            else var_ref_resolved_index isa SplittedRange\n",
    "                                println(typeof(var_ref_resolved_index), \" \", index)\n",
    "                                clusters_template[ shift + _var_ref_position ] = false\n",
    "                            end\n",
    "                        else\n",
    "                            save_var_ref_position_tmp += 1\n",
    "                            var_refs_positions[save_var_ref_position_tmp] = _var_ref_position\n",
    "                        end\n",
    "                    end\n",
    "                end    \n",
    "            end\n",
    "            \n",
    "            if !is_external_name && !current_found\n",
    "                @inbounds for i in 1:save_var_ref_position_tmp\n",
    "                    clusters_template[ shift + var_refs_positions[i] ] = false\n",
    "                end\n",
    "            end\n",
    "            \n",
    "            return current_found\n",
    "        end\n",
    "        \n",
    "        unrolled_foreach(factorisation) do spec\n",
    "            __filter_template!(Val(false), spec)\n",
    "        end\n",
    "        \n",
    "    end\n",
    "    \n",
    "    shift = 0\n",
    "    for varref in var_refs\n",
    "        __process_factorisation_entry!(varref[1], varref[2], shift)\n",
    "        shift += N\n",
    "    end\n",
    "    \n",
    "    # In this last step we transform templates from `clusters_template` into a set of tuples\n",
    "    @inbounds for index in 1:N\n",
    "        range_left  = (index - 1) * N + 1\n",
    "        range_right = range_left + N - 1\n",
    "        \n",
    "        ki = 0\n",
    "        @inbounds for (index, flag) in enumerate(view(clusters_template, range_left:range_right))\n",
    "            if flag\n",
    "                ki += 1\n",
    "                cluster_indices[ki] = index\n",
    "            end\n",
    "        end\n",
    "        \n",
    "        output = Tuple(view(cluster_indices, 1:ki))\n",
    "        \n",
    "        push!(clusters_set, output)\n",
    "    end\n",
    "    \n",
    "    # ReactiveMP backend assumes clusters are sorted by first index\n",
    "    sorted_clusters = sort!(collect(clusters_set); by = first, alg = QuickSort)\n",
    "    \n",
    "    # Check if clusters do intersect\n",
    "    for cluster in sorted_clusters\n",
    "        for index in cluster\n",
    "            if clusters_usage[index] === true\n",
    "                __throw_intersection_error(expr, var_refs, sorted_clusters, constraints)\n",
    "            end \n",
    "            clusters_usage[index] = true\n",
    "        end\n",
    "    end\n",
    "    \n",
    "    return Tuple(sorted_clusters)\n",
    "end"
   ]
  },
  {
   "cell_type": "code",
   "execution_count": 166,
   "metadata": {},
   "outputs": [
    {
     "name": "stdout",
     "output_type": "stream",
     "text": [
      "  0.000005 seconds (10 allocations: 1.688 KiB)\n",
      "  0.000009 seconds (10 allocations: 1.688 KiB)\n"
     ]
    },
    {
     "data": {
      "text/plain": [
       "Constraints:\n",
       "\tform: ()\n",
       "\tfactorisation\n",
       "\t\tq(x, y) = q(x)q(y)\n",
       "\t\tq(x, y, t, r) = q(x, y)q(t)q(r)\n",
       "\t\tq(x, w) = q(x)q(w)\n",
       "\t\tq(y, w) = q(y)q(w)\n",
       "\t\tq(x) = q(x[(begin):((begin) + 2)])q(x[((begin) + 3)..(end)])\n"
      ]
     },
     "execution_count": 166,
     "metadata": {},
     "output_type": "execute_result"
    }
   ],
   "source": [
    "cs = @constraints function test()\n",
    "    q(x, y) = q(x)q(y)\n",
    "    q(x, y, t, r) = q(x, y)q(t)q(r)\n",
    "    q(x, w) = q(x)q(w)\n",
    "    q(y, w) = q(y)q(w)\n",
    "    q(x) = q(x[begin:begin+2])q(x[begin+3])..q(x[end])\n",
    "end\n",
    "        \n",
    "@time test()\n",
    "@time test()\n",
    "\n",
    "cs = test()"
   ]
  },
  {
   "cell_type": "code",
   "execution_count": 167,
   "metadata": {},
   "outputs": [
    {
     "data": {
      "text/plain": [
       "get_factorisation_reference (generic function with 4 methods)"
      ]
     },
     "execution_count": 167,
     "metadata": {},
     "output_type": "execute_result"
    }
   ],
   "source": [
    "struct DummyVariable\n",
    "    name   :: Symbol\n",
    "    index\n",
    "    proxy\n",
    "    collection\n",
    "end\n",
    "\n",
    "get_factorisation_reference(variable::DummyVariable) = get_factorisation_reference(variable, variable.proxy, variable.name, variable.index, variable.collection)\n",
    "\n",
    "get_factorisation_reference(::DummyVariable, ::Nothing, name::Symbol, index, collection)           = (name, index, collection)\n",
    "get_factorisation_reference(::DummyVariable, something::Tuple{T}, name, index, collection) where T = get_factorisation_reference(first(something))\n",
    "get_factorisation_reference(::DummyVariable, something::Tuple, name, index,collection)             = error(\"Multiple proxies are dissalowed: todo better error message. The idea here is that if variable has been auto-created and refers to two different variables in the model we simply throw an error. User must explistly create a new variable and name it and use it in constraints specification.\")\n",
    "\n",
    "# struct DummyVariable\n",
    "#     name :: Symbol\n",
    "# end\n",
    "\n",
    "# getnames(variable::DummyVariable) = (variable.name, )"
   ]
  },
  {
   "cell_type": "code",
   "execution_count": 168,
   "metadata": {},
   "outputs": [],
   "source": [
    "xvar1 = DummyVariable(:x, 1, nothing, randomvar(:x, 10))\n",
    "xvar2 = DummyVariable(:x, 2, nothing, randomvar(:x, 10))\n",
    "\n",
    "xvar = DummyVariable(:x, 1, nothing, randomvar(:x, 10))\n",
    "wvar = DummyVariable(:w, 1, nothing, randomvar(:w, 10))\n",
    "yvar = DummyVariable(:tmpy, nothing, (DummyVariable(:y, 1, nothing, randomvar(:y, 10)), ), randomvar(:tmp))\n",
    "# yvar = DummyVariable(:tmpy, nothing, nothing)\n",
    "tvar = DummyVariable(:t, 1, nothing, randomvar(:t, 10))\n",
    "\n",
    "vars = (xvar1, xvar2, yvar, tvar);\n",
    "# vars = (xvar, yvar, tvar)"
   ]
  },
  {
   "cell_type": "code",
   "execution_count": 169,
   "metadata": {},
   "outputs": [
    {
     "name": "stdout",
     "output_type": "stream",
     "text": [
      "UnitRange{Int64} 1\n",
      "UnitRange{Int64} 1\n",
      "UnitRange{Int64} 1\n",
      "CombinedRange{Int64, Int64} 1\n",
      "UnitRange{Int64} 2\n",
      "UnitRange{Int64} 2\n",
      "UnitRange{Int64} 2\n",
      "CombinedRange{Int64, Int64} 2\n",
      "  1.930799 seconds (2.17 M allocations: 117.613 MiB, 1.29% gc time, 99.64% compilation time)\n",
      "UnitRange{Int64} 1\n",
      "UnitRange{Int64} 1\n",
      "UnitRange{Int64} 1\n",
      "CombinedRange{Int64, Int64} 1\n",
      "UnitRange{Int64} 2\n",
      "UnitRange{Int64} 2\n",
      "UnitRange{Int64} 2\n",
      "CombinedRange{Int64, Int64} 2\n",
      "  0.003782 seconds (1.57 k allocations: 203.469 KiB)\n"
     ]
    },
    {
     "data": {
      "text/plain": [
       "((1,), (2,), (3,), (4,))"
      ]
     },
     "execution_count": 169,
     "metadata": {},
     "output_type": "execute_result"
    }
   ],
   "source": [
    "@time create_factorisation(:(1 + 1), vars, cs)\n",
    "@time create_factorisation(:(1 + 1), vars, cs)"
   ]
  },
  {
   "cell_type": "code",
   "execution_count": 147,
   "metadata": {},
   "outputs": [
    {
     "name": "stdout",
     "output_type": "stream",
     "text": [
      "  0.000114 seconds (563 allocations: 16.500 KiB)\n",
      "  0.000076 seconds (563 allocations: 16.500 KiB)\n"
     ]
    },
    {
     "data": {
      "text/plain": [
       "((1,), (2,), (3,), (4,))"
      ]
     },
     "execution_count": 147,
     "metadata": {},
     "output_type": "execute_result"
    }
   ],
   "source": [
    "@time create_factorisation(:(1 + 1), vars, cs)\n",
    "@time create_factorisation(:(1 + 1), vars, cs)"
   ]
  },
  {
   "cell_type": "code",
   "execution_count": 148,
   "metadata": {},
   "outputs": [
    {
     "name": "stdout",
     "output_type": "stream",
     "text": [
      "  32.185 μs (557 allocations: 16.31 KiB)\n"
     ]
    },
    {
     "data": {
      "text/plain": [
       "((1,), (2,), (3,), (4,))"
      ]
     },
     "execution_count": 148,
     "metadata": {},
     "output_type": "execute_result"
    }
   ],
   "source": [
    "@btime create_factorisation(:(1 + 1), $vars, $cs)"
   ]
  },
  {
   "cell_type": "code",
   "execution_count": 29,
   "metadata": {},
   "outputs": [
    {
     "data": {
      "text/plain": [
       "foo (generic function with 1 method)"
      ]
     },
     "execution_count": 29,
     "metadata": {},
     "output_type": "execute_result"
    }
   ],
   "source": [
    "function foo(n)\n",
    "    ns = Val((:x, :w, :y, :t))\n",
    "    is = (nothing, nothing, nothing, nothing)\n",
    "    cs = test()\n",
    "    for i in 1:n\n",
    "        create_factorisation(:(1 + 1), ns, is, cs)\n",
    "    end\n",
    "end"
   ]
  },
  {
   "cell_type": "code",
   "execution_count": 30,
   "metadata": {},
   "outputs": [],
   "source": [
    "# @btime foo(1000)"
   ]
  },
  {
   "cell_type": "code",
   "execution_count": null,
   "metadata": {},
   "outputs": [],
   "source": []
  }
 ],
 "metadata": {
  "kernelspec": {
   "display_name": "Julia 1.7.2",
   "language": "julia",
   "name": "julia-1.7"
  },
  "language_info": {
   "file_extension": ".jl",
   "mimetype": "application/julia",
   "name": "julia",
   "version": "1.7.2"
  }
 },
 "nbformat": 4,
 "nbformat_minor": 4
}
