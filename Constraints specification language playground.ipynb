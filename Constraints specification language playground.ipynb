{
 "cells": [
  {
   "cell_type": "code",
   "execution_count": 1,
   "metadata": {},
   "outputs": [],
   "source": [
    "using MacroTools\n",
    "using BenchmarkTools \n",
    "\n",
    "import MacroTools: prewalk, postwalk"
   ]
  },
  {
   "cell_type": "code",
   "execution_count": 2,
   "metadata": {},
   "outputs": [
    {
     "data": {
      "text/plain": [
       "@e (macro with 1 method)"
      ]
     },
     "execution_count": 2,
     "metadata": {},
     "output_type": "execute_result"
    }
   ],
   "source": [
    "macro e(something)\n",
    "    if something.head === :macrocall\n",
    "        return esc(:(println(MacroTools.prettify(@macroexpand $something)); $something))\n",
    "    end\n",
    "    return esc(something)\n",
    "end"
   ]
  },
  {
   "cell_type": "code",
   "execution_count": 3,
   "metadata": {},
   "outputs": [],
   "source": [
    "struct ConstraintsSpecification{F, M}\n",
    "    factorisation :: F\n",
    "    form :: M\n",
    "end\n",
    "\n",
    "function Base.show(io::IO, specification::ConstraintsSpecification) \n",
    "    print(io, \"Constraints:\\n\\tform: $(specification.form)\\n\")\n",
    "    print(io, \"\\tfactorisation\\n\")\n",
    "    foreach(specification.factorisation) do f\n",
    "        print(io, \"\\t\\t\", f, \"\\n\")\n",
    "    end\n",
    "end"
   ]
  },
  {
   "cell_type": "code",
   "execution_count": 46,
   "metadata": {},
   "outputs": [],
   "source": [
    "struct FactorisationConstraintsEntry{N, T}\n",
    "    indices :: NamedTuple{N, T}\n",
    "end\n",
    "\n",
    "Base.:(*)(left::NTuple{N1, <: FactorisationConstraintsEntry}, right::NTuple{N2, <: FactorisationConstraintsEntry}) where { N1, N2 } = (left..., right...)\n",
    "\n",
    "\n",
    "__io_entry_pair(pair::Pair{Symbol, Nothing})::String = string(first(pair))\n",
    "\n",
    "make_factorisation_constraints_entry(indices) = :(FactorisationConstraintsEntry($indices))\n",
    "\n",
    "function Base.show(io::IO, entry::FactorisationConstraintsEntry) \n",
    "    print(io, \"q(\")\n",
    "    entries = map(__io_entry_pair, collect(pairs(entry.indices)))\n",
    "    join(io, entries, \", \")\n",
    "    print(io, \")\")\n",
    "end"
   ]
  },
  {
   "cell_type": "code",
   "execution_count": 82,
   "metadata": {},
   "outputs": [
    {
     "data": {
      "text/plain": [
       "register_q_factorisation_specification (generic function with 1 method)"
      ]
     },
     "execution_count": 82,
     "metadata": {},
     "output_type": "execute_result"
    }
   ],
   "source": [
    "struct FactorisationConstraintsSpecification{N, E}\n",
    "    entries :: E\n",
    "end\n",
    "\n",
    "Base.:(*)(left::FactorisationConstraintsSpecification, right::NTuple{N2, <: FactorisationConstraintsEntry}) where { N1, N2 } = (left, right...)\n",
    "Base.:(*)(left::NTuple{N1, <: FactorisationConstraintsEntry}, right::FactorisationConstraintsSpecification) where { N1, N2 } = (left..., right)\n",
    "\n",
    "function Base.show(io::IO, factorisation::FactorisationConstraintsSpecification{Val{Names}}) where Names\n",
    "    \n",
    "    print(io, \"q(\")\n",
    "    join(io, Names, \", \")\n",
    "    print(io, \")\")\n",
    "    \n",
    "    compact = get(io, :compact, false)\n",
    "    \n",
    "    if !compact \n",
    "        print(io, \" = \")\n",
    "        foreach(factorisation.entries) do e\n",
    "            print(IOContext(io, compact => true), e)\n",
    "        end\n",
    "    end\n",
    "end\n",
    "\n",
    "FactorisationConstraintsSpecification(::Type{ Val{N} }, entries::E) where { N, E } = FactorisationConstraintsSpecification{Val{N}, E}(entries)\n",
    "    \n",
    "register_q_factorisation_specification(N, E) = :(FactorisationConstraintsSpecification($N, $E))"
   ]
  },
  {
   "cell_type": "code",
   "execution_count": 83,
   "metadata": {},
   "outputs": [
    {
     "ename": "MethodError",
     "evalue": "MethodError: \u001b[0mCannot `convert` an object of type \u001b[92mBool\u001b[39m\u001b[0m to an object of type \u001b[91mSymbol\u001b[39m\n\u001b[0mClosest candidates are:\n\u001b[0m  convert(::Type{T}, \u001b[91m::T\u001b[39m) where T at /Applications/Julia-1.7.app/Contents/Resources/julia/share/julia/base/essentials.jl:218\n\u001b[0m  Symbol(::Any...) at /Applications/Julia-1.7.app/Contents/Resources/julia/share/julia/base/strings/basic.jl:229",
     "output_type": "error",
     "traceback": [
      "MethodError: \u001b[0mCannot `convert` an object of type \u001b[92mBool\u001b[39m\u001b[0m to an object of type \u001b[91mSymbol\u001b[39m\n\u001b[0mClosest candidates are:\n\u001b[0m  convert(::Type{T}, \u001b[91m::T\u001b[39m) where T at /Applications/Julia-1.7.app/Contents/Resources/julia/share/julia/base/essentials.jl:218\n\u001b[0m  Symbol(::Any...) at /Applications/Julia-1.7.app/Contents/Resources/julia/share/julia/base/strings/basic.jl:229",
      "",
      "Stacktrace:",
      "  [1] Base.ImmutableDict{Symbol, Any}(parent::Base.ImmutableDict{Symbol, Any}, key::Bool, value::Bool)",
      "    @ Base ./dict.jl:752",
      "  [2] IOContext(io::IOContext{IOBuffer}, KV::Pair{Bool, Bool})",
      "    @ Base ./show.jl:250",
      "  [3] (::var\"#182#183\"{IOContext{IOBuffer}, Bool})(e::FactorisationConstraintsEntry{(:x,), Tuple{Nothing}})",
      "    @ Main ./In[82]:19",
      "  [4] foreach(f::var\"#182#183\"{IOContext{IOBuffer}, Bool}, itr::Tuple{FactorisationConstraintsEntry{(:x,), Tuple{Nothing}}, FactorisationConstraintsEntry{(:y,), Tuple{Nothing}}})",
      "    @ Base ./abstractarray.jl:2694",
      "  [5] show(io::IOContext{IOBuffer}, factorisation::FactorisationConstraintsSpecification{Val{(:x, :y)}, Tuple{FactorisationConstraintsEntry{(:x,), Tuple{Nothing}}, FactorisationConstraintsEntry{(:y,), Tuple{Nothing}}}})",
      "    @ Main ./In[82]:18",
      "  [6] print(io::IOContext{IOBuffer}, x::FactorisationConstraintsSpecification{Val{(:x, :y)}, Tuple{FactorisationConstraintsEntry{(:x,), Tuple{Nothing}}, FactorisationConstraintsEntry{(:y,), Tuple{Nothing}}}})",
      "    @ Base ./strings/io.jl:35",
      "  [7] print(::IOContext{IOBuffer}, ::String, ::FactorisationConstraintsSpecification{Val{(:x, :y)}, Tuple{FactorisationConstraintsEntry{(:x,), Tuple{Nothing}}, FactorisationConstraintsEntry{(:y,), Tuple{Nothing}}}}, ::Vararg{Any})",
      "    @ Base ./strings/io.jl:46",
      "  [8] #1",
      "    @ ./In[3]:10 [inlined]",
      "  [9] foreach(f::var\"#1#2\"{IOContext{IOBuffer}}, itr::Tuple{FactorisationConstraintsSpecification{Val{(:x, :y)}, Tuple{FactorisationConstraintsEntry{(:x,), Tuple{Nothing}}, FactorisationConstraintsEntry{(:y,), Tuple{Nothing}}}}, FactorisationConstraintsSpecification{Val{(:x, :y, :θ)}, Tuple{FactorisationConstraintsSpecification{Val{(:x, :y)}, Tuple{FactorisationConstraintsEntry{(:x,), Tuple{Nothing}}, FactorisationConstraintsEntry{(:y,), Tuple{Nothing}}}}, FactorisationConstraintsEntry{(:θ,), Tuple{Nothing}}}}, FactorisationConstraintsSpecification{Val{(:x, :y, :z)}, Tuple{FactorisationConstraintsSpecification{Val{(:x, :y)}, Tuple{FactorisationConstraintsEntry{(:x,), Tuple{Nothing}}, FactorisationConstraintsEntry{(:y,), Tuple{Nothing}}}}, FactorisationConstraintsEntry{(:z,), Tuple{Nothing}}}}})",
      "    @ Base ./abstractarray.jl:2694",
      " [10] show(io::IOContext{IOBuffer}, specification::ConstraintsSpecification{Tuple{FactorisationConstraintsSpecification{Val{(:x, :y)}, Tuple{FactorisationConstraintsEntry{(:x,), Tuple{Nothing}}, FactorisationConstraintsEntry{(:y,), Tuple{Nothing}}}}, FactorisationConstraintsSpecification{Val{(:x, :y, :θ)}, Tuple{FactorisationConstraintsSpecification{Val{(:x, :y)}, Tuple{FactorisationConstraintsEntry{(:x,), Tuple{Nothing}}, FactorisationConstraintsEntry{(:y,), Tuple{Nothing}}}}, FactorisationConstraintsEntry{(:θ,), Tuple{Nothing}}}}, FactorisationConstraintsSpecification{Val{(:x, :y, :z)}, Tuple{FactorisationConstraintsSpecification{Val{(:x, :y)}, Tuple{FactorisationConstraintsEntry{(:x,), Tuple{Nothing}}, FactorisationConstraintsEntry{(:y,), Tuple{Nothing}}}}, FactorisationConstraintsEntry{(:z,), Tuple{Nothing}}}}}, Tuple{}})",
      "    @ Main ./In[3]:9",
      " [11] show",
      "    @ ./multimedia.jl:47 [inlined]",
      " [12] limitstringmime(mime::MIME{Symbol(\"text/plain\")}, x::ConstraintsSpecification{Tuple{FactorisationConstraintsSpecification{Val{(:x, :y)}, Tuple{FactorisationConstraintsEntry{(:x,), Tuple{Nothing}}, FactorisationConstraintsEntry{(:y,), Tuple{Nothing}}}}, FactorisationConstraintsSpecification{Val{(:x, :y, :θ)}, Tuple{FactorisationConstraintsSpecification{Val{(:x, :y)}, Tuple{FactorisationConstraintsEntry{(:x,), Tuple{Nothing}}, FactorisationConstraintsEntry{(:y,), Tuple{Nothing}}}}, FactorisationConstraintsEntry{(:θ,), Tuple{Nothing}}}}, FactorisationConstraintsSpecification{Val{(:x, :y, :z)}, Tuple{FactorisationConstraintsSpecification{Val{(:x, :y)}, Tuple{FactorisationConstraintsEntry{(:x,), Tuple{Nothing}}, FactorisationConstraintsEntry{(:y,), Tuple{Nothing}}}}, FactorisationConstraintsEntry{(:z,), Tuple{Nothing}}}}}, Tuple{}})",
      "    @ IJulia ~/.julia/packages/IJulia/e8kqU/src/inline.jl:43",
      " [13] display_mimestring",
      "    @ ~/.julia/packages/IJulia/e8kqU/src/display.jl:71 [inlined]",
      " [14] display_dict(x::ConstraintsSpecification{Tuple{FactorisationConstraintsSpecification{Val{(:x, :y)}, Tuple{FactorisationConstraintsEntry{(:x,), Tuple{Nothing}}, FactorisationConstraintsEntry{(:y,), Tuple{Nothing}}}}, FactorisationConstraintsSpecification{Val{(:x, :y, :θ)}, Tuple{FactorisationConstraintsSpecification{Val{(:x, :y)}, Tuple{FactorisationConstraintsEntry{(:x,), Tuple{Nothing}}, FactorisationConstraintsEntry{(:y,), Tuple{Nothing}}}}, FactorisationConstraintsEntry{(:θ,), Tuple{Nothing}}}}, FactorisationConstraintsSpecification{Val{(:x, :y, :z)}, Tuple{FactorisationConstraintsSpecification{Val{(:x, :y)}, Tuple{FactorisationConstraintsEntry{(:x,), Tuple{Nothing}}, FactorisationConstraintsEntry{(:y,), Tuple{Nothing}}}}, FactorisationConstraintsEntry{(:z,), Tuple{Nothing}}}}}, Tuple{}})",
      "    @ IJulia ~/.julia/packages/IJulia/e8kqU/src/display.jl:102",
      " [15] #invokelatest#2",
      "    @ ./essentials.jl:716 [inlined]",
      " [16] invokelatest",
      "    @ ./essentials.jl:714 [inlined]",
      " [17] execute_request(socket::ZMQ.Socket, msg::IJulia.Msg)",
      "    @ IJulia ~/.julia/packages/IJulia/e8kqU/src/execute_request.jl:112",
      " [18] #invokelatest#2",
      "    @ ./essentials.jl:716 [inlined]",
      " [19] invokelatest",
      "    @ ./essentials.jl:714 [inlined]",
      " [20] eventloop(socket::ZMQ.Socket)",
      "    @ IJulia ~/.julia/packages/IJulia/e8kqU/src/eventloop.jl:8",
      " [21] (::IJulia.var\"#15#18\")()",
      "    @ IJulia ./task.jl:423"
     ]
    }
   ],
   "source": [
    "cs"
   ]
  },
  {
   "cell_type": "code",
   "execution_count": 6,
   "metadata": {},
   "outputs": [
    {
     "data": {
      "text/plain": [
       "make_constraints_specification (generic function with 1 method)"
      ]
     },
     "execution_count": 6,
     "metadata": {},
     "output_type": "execute_result"
    }
   ],
   "source": [
    "struct ReactiveMPBackend end\n",
    "\n",
    "__get_current_backend() = ReactiveMPBackend()\n",
    "\n",
    "macro constraints(constraints_specification)\n",
    "    return generate_constraints_expression(__get_current_backend(), constraints_specification)\n",
    "end\n",
    "\n",
    "make_constraints_specification(factorisation, form) = :(ConstraintsSpecification($factorisation, $form))"
   ]
  },
  {
   "cell_type": "code",
   "execution_count": 7,
   "metadata": {},
   "outputs": [
    {
     "data": {
      "text/plain": [
       "isblock (generic function with 1 method)"
      ]
     },
     "execution_count": 7,
     "metadata": {},
     "output_type": "execute_result"
    }
   ],
   "source": [
    "isexpr(expr::Expr) = true\n",
    "isexpr()           = false\n",
    "\n",
    "ishead(something, head) = isexpr(something) && something.head === head\n",
    "\n",
    "isblock(something) = ishead(something, :block)"
   ]
  },
  {
   "cell_type": "code",
   "execution_count": 8,
   "metadata": {},
   "outputs": [],
   "source": [
    "struct LHSMeta\n",
    "    name :: String\n",
    "    hash :: UInt\n",
    "    varname :: Symbol\n",
    "end"
   ]
  },
  {
   "cell_type": "code",
   "execution_count": 56,
   "metadata": {},
   "outputs": [
    {
     "data": {
      "text/plain": [
       "generate_constraints_expression (generic function with 1 method)"
      ]
     },
     "execution_count": 56,
     "metadata": {},
     "output_type": "execute_result"
    }
   ],
   "source": [
    "function generate_constraints_expression(backend, constraints_specification)\n",
    "\n",
    "    if isblock(constraints_specification)\n",
    "        generatedfname = gensym(:constraints)\n",
    "        generatedfbody = :(function $(generatedfname)() $constraints_specification end)\n",
    "        return :($(generate_constraints_expression(backend, generatedfbody))())\n",
    "    end\n",
    "\n",
    "    @capture(constraints_specification, (function cs_name_(cs_args__; cs_kwargs__) cs_body_ end) | (function cs_name_(cs_args__) cs_body_ end)) || \n",
    "        error(\"Constraints specification language requires full function definition\")\n",
    "    \n",
    "    cs_args   = cs_args === nothing ? [] : cs_args\n",
    "    cs_kwargs = cs_kwargs === nothing ? [] : cs_kwargs\n",
    "    \n",
    "    lhs_dict = Dict{UInt, LHSMeta}()\n",
    "    \n",
    "    # We iteratively overwrite extend form constraint tuple, but we use different names for it to enable type-stability\n",
    "    form_constraints_symbol      = gensym(:form_constraint)\n",
    "    form_constraints_symbol_init = :($form_constraints_symbol = ())\n",
    "    \n",
    "    # We iteratively overwrite extend factorisation constraint tuple, but we use different names for it to enable type-stability\n",
    "    factorisation_constraints_symbol      = gensym(:factorisation_constraint)\n",
    "    factorisation_constraints_symbol_init = :($factorisation_constraints_symbol = ())\n",
    "    \n",
    "    # First we record all lhs expression's hash ids and create unique variable names for them\n",
    "    # q(x, y) = q(x)q(y) -> hash(q(x, y))\n",
    "    # We do allow multiple definitions in case of if statements, but we do check later overwrites, which are not allowed\n",
    "    cs_body = postwalk(cs_body) do expression\n",
    "        # We also do a simple sanity check right now, names should be an array of Symbols only\n",
    "        if @capture(expression, lhs_ = rhs_) && @capture(lhs, q(names__))\n",
    "            lhs_hash = hash(lhs)\n",
    "            lhs_meta = if haskey(lhs_dict, lhs_hash)\n",
    "                lhs_dict[ lhs_hash ]\n",
    "            else\n",
    "                lhs_name = string(\"q(\", join(names, \", \"), \")\")\n",
    "                lhs_varname = gensym(lhs_name)\n",
    "                lhs_meta = LHSMeta(lhs_name, lhs_hash, lhs_varname)\n",
    "                lhs_dict[lhs_hash] = lhs_meta\n",
    "            end\n",
    "            lhs_name = lhs_meta.name\n",
    "            lhs_varname = lhs_meta.varname\n",
    "            (length(names) !== 0 && all(name -> name isa Symbol, names)) || \n",
    "                error(\"\"\"Error in factorisation constraints specification $(lhs_name) = ...\\nLeft hand side of the equality expression should have only variable identifiers.\"\"\")\n",
    "            \n",
    "            next_factorisation_constraints_symbol = gensym(:factorisation_constraint)\n",
    "            \n",
    "            new_factorisation_specification = register_q_factorisation_specification(:(Val{ ($(map(QuoteNode, names)...),) }), rhs)\n",
    "            \n",
    "            result = quote \n",
    "                ($(lhs_varname) === nothing) || error(\"Factorisation constraints specification $($lhs_name) = ... has been redefined.\")\n",
    "                $(lhs_varname) = $(new_factorisation_specification)\n",
    "                $next_factorisation_constraints_symbol = ($factorisation_constraints_symbol..., $(lhs_varname))\n",
    "            end\n",
    "            \n",
    "            factorisation_constraints_symbol = next_factorisation_constraints_symbol\n",
    "            \n",
    "            return result\n",
    "        end\n",
    "        return expression\n",
    "    end\n",
    "    \n",
    "    # This block write initial variables for factorisation specification\n",
    "    cs_lhs_init_block = map(collect(lhs_dict)) do pair\n",
    "        lhs_meta = last(pair)\n",
    "        lhs_varname = lhs_meta.varname\n",
    "        return quote \n",
    "            $(lhs_varname) = nothing\n",
    "        end\n",
    "    end\n",
    "    \n",
    "    cs_body = prewalk(cs_body) do expression\n",
    "        if @capture(expression, q(args__))\n",
    "            expr_hash = hash(expression)\n",
    "            if haskey(lhs_dict, expr_hash)\n",
    "                lhs_meta = lhs_dict[ expr_hash ]\n",
    "                lhs_name = lhs_meta.name\n",
    "                lhs_varname = lhs_meta.varname\n",
    "                return lhs_varname\n",
    "            else\n",
    "                # TODO add check that entries from LHS and RHS has same names\n",
    "                # TODO parse rhs here\n",
    "                rhs_prod_entries_args = map(args) do arg\n",
    "                    if @capture(arg, argname_Symbol)\n",
    "                        return make_factorisation_constraints_entry(:($argname = nothing, ))\n",
    "                    else\n",
    "                        error(\"Not implemented yet\")\n",
    "                    end\n",
    "                end\n",
    "                \n",
    "                return :(($(rhs_prod_entries_args...), ))\n",
    "            end\n",
    "        end\n",
    "        return expression\n",
    "    end\n",
    "    \n",
    "    return_specification = make_constraints_specification(factorisation_constraints_symbol, form_constraints_symbol)\n",
    "    \n",
    "    res = quote\n",
    "         function $cs_name($(cs_args...); $(cs_kwargs...))\n",
    "            $(form_constraints_symbol_init)\n",
    "            $(factorisation_constraints_symbol_init)\n",
    "            $(cs_lhs_init_block...)\n",
    "            $(cs_body)\n",
    "            $(return_specification)\n",
    "        end \n",
    "    end\n",
    "    \n",
    "    return esc(res)\n",
    "end"
   ]
  },
  {
   "cell_type": "code",
   "execution_count": 59,
   "metadata": {},
   "outputs": [
    {
     "name": "stdout",
     "output_type": "stream",
     "text": [
      "(function albatross(; )\n",
      "    nightingale = ()\n",
      "    lemur = ()\n",
      "    lyrebird = nothing\n",
      "    pheasant = nothing\n",
      "    sheep = nothing\n",
      "    lyrebird === nothing || error(\"Factorisation constraints specification q(x, y) = ... has been redefined.\")\n",
      "    lyrebird = FactorisationConstraintsSpecification(Val{(:x, :y)}, (FactorisationConstraintsEntry((x = nothing,)),) * (FactorisationConstraintsEntry((y = nothing,)),))\n",
      "    oyster = (lemur..., lyrebird)\n",
      "    sheep === nothing || error(\"Factorisation constraints specification q(x, y, θ) = ... has been redefined.\")\n",
      "    sheep = FactorisationConstraintsSpecification(Val{(:x, :y, :θ)}, lyrebird * (FactorisationConstraintsEntry((θ = nothing,)),))\n",
      "    heron = (oyster..., sheep)\n",
      "    pheasant === nothing || error(\"Factorisation constraints specification q(x, y, z) = ... has been redefined.\")\n",
      "    pheasant = FactorisationConstraintsSpecification(Val{(:x, :y, :z)}, lyrebird * (FactorisationConstraintsEntry((z = nothing,)),))\n",
      "    panda = (heron..., pheasant)\n",
      "    ConstraintsSpecification(panda, nightingale)\n",
      "end)()\n"
     ]
    },
    {
     "data": {
      "text/plain": [
       "Constraints:\n",
       "\tform: ()\n",
       "\tfactorisation\n",
       "\t\tq(x, y)q(x)q(y)\n",
       "\t\tq(x, y, θ)q(x, y)q(x)q(y)q(θ)\n",
       "\t\tq(x, y, z)q(x, y)q(x)q(y)q(z)\n"
      ]
     },
     "execution_count": 59,
     "metadata": {},
     "output_type": "execute_result"
    },
    {
     "name": "stdout",
     "output_type": "stream",
     "text": [
      " =  =  =  =  = "
     ]
    }
   ],
   "source": [
    "cs = @e @constraints begin\n",
    "    q(x, y) = q(x)q(y)\n",
    "    q(x, y, θ) = q(x, y)q(θ)\n",
    "    q(x, y, z) = q(x, y)q(z)\n",
    "end"
   ]
  },
  {
   "cell_type": "code",
   "execution_count": 11,
   "metadata": {},
   "outputs": [
    {
     "ename": "LoadError",
     "evalue": "UndefVarError: cs not defined",
     "output_type": "error",
     "traceback": [
      "UndefVarError: cs not defined",
      "",
      "Stacktrace:",
      " [1] top-level scope",
      "   @ :0",
      " [2] eval",
      "   @ ./boot.jl:373 [inlined]",
      " [3] include_string(mapexpr::typeof(REPL.softscope), mod::Module, code::String, filename::String)",
      "   @ Base ./loading.jl:1196"
     ]
    }
   ],
   "source": [
    "cs"
   ]
  },
  {
   "cell_type": "code",
   "execution_count": 12,
   "metadata": {},
   "outputs": [
    {
     "ename": "LoadError",
     "evalue": "UndefVarError: constraints not defined",
     "output_type": "error",
     "traceback": [
      "UndefVarError: constraints not defined",
      "",
      "Stacktrace:",
      " [1] top-level scope",
      "   @ In[12]:1",
      " [2] eval",
      "   @ ./boot.jl:373 [inlined]",
      " [3] include_string(mapexpr::typeof(REPL.softscope), mod::Module, code::String, filename::String)",
      "   @ Base ./loading.jl:1196"
     ]
    }
   ],
   "source": [
    "cs = constraints(true)"
   ]
  },
  {
   "cell_type": "code",
   "execution_count": 13,
   "metadata": {},
   "outputs": [
    {
     "ename": "LoadError",
     "evalue": "UndefVarError: cs not defined",
     "output_type": "error",
     "traceback": [
      "UndefVarError: cs not defined",
      "",
      "Stacktrace:",
      " [1] top-level scope",
      "   @ In[13]:1",
      " [2] eval",
      "   @ ./boot.jl:373 [inlined]",
      " [3] include_string(mapexpr::typeof(REPL.softscope), mod::Module, code::String, filename::String)",
      "   @ Base ./loading.jl:1196"
     ]
    }
   ],
   "source": [
    "dump(cs)"
   ]
  },
  {
   "cell_type": "code",
   "execution_count": 14,
   "metadata": {},
   "outputs": [
    {
     "ename": "LoadError",
     "evalue": "UndefVarError: constraints not defined",
     "output_type": "error",
     "traceback": [
      "UndefVarError: constraints not defined",
      "",
      "Stacktrace:",
      " [1] top-level scope",
      "   @ In[14]:1",
      " [2] eval",
      "   @ ./boot.jl:373 [inlined]",
      " [3] include_string(mapexpr::typeof(REPL.softscope), mod::Module, code::String, filename::String)",
      "   @ Base ./loading.jl:1196"
     ]
    }
   ],
   "source": [
    "@code_warntype constraints(true)"
   ]
  },
  {
   "cell_type": "code",
   "execution_count": null,
   "metadata": {},
   "outputs": [],
   "source": []
  }
 ],
 "metadata": {
  "kernelspec": {
   "display_name": "Julia 1.7.0",
   "language": "julia",
   "name": "julia-1.7"
  },
  "language_info": {
   "file_extension": ".jl",
   "mimetype": "application/julia",
   "name": "julia",
   "version": "1.7.1"
  }
 },
 "nbformat": 4,
 "nbformat_minor": 4
}
