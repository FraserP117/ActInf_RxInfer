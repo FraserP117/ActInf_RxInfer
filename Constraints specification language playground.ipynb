{
 "cells": [
  {
   "cell_type": "code",
   "execution_count": 1,
   "metadata": {},
   "outputs": [
    {
     "name": "stderr",
     "output_type": "stream",
     "text": [
      "┌ Info: Precompiling ReactiveMP [a194aa59-28ba-4574-a09c-4a745416d6e3]\n",
      "└ @ Base loading.jl:1423\n",
      "\u001b[33m\u001b[1m┌ \u001b[22m\u001b[39m\u001b[33m\u001b[1mWarning: \u001b[22m\u001b[39mPackage ReactiveMP does not have Unrolled in its dependencies:\n",
      "\u001b[33m\u001b[1m│ \u001b[22m\u001b[39m- If you have ReactiveMP checked out for development and have\n",
      "\u001b[33m\u001b[1m│ \u001b[22m\u001b[39m  added Unrolled as a dependency but haven't updated your primary\n",
      "\u001b[33m\u001b[1m│ \u001b[22m\u001b[39m  environment's manifest file, try `Pkg.resolve()`.\n",
      "\u001b[33m\u001b[1m│ \u001b[22m\u001b[39m- Otherwise you may need to report an issue with ReactiveMP\n",
      "\u001b[33m\u001b[1m└ \u001b[22m\u001b[39mLoading Unrolled into ReactiveMP from project dependency, future warnings for ReactiveMP are suppressed.\n"
     ]
    }
   ],
   "source": [
    "using MacroTools\n",
    "using BenchmarkTools \n",
    "using TupleTools\n",
    "using Test\n",
    "using ReactiveMP\n",
    "\n",
    "import MacroTools: prewalk, postwalk"
   ]
  },
  {
   "cell_type": "code",
   "execution_count": 2,
   "metadata": {},
   "outputs": [
    {
     "data": {
      "text/plain": [
       "@e (macro with 1 method)"
      ]
     },
     "execution_count": 2,
     "metadata": {},
     "output_type": "execute_result"
    }
   ],
   "source": [
    "macro e(something)\n",
    "    if something.head === :macrocall\n",
    "        return esc(:(println(MacroTools.prettify(@macroexpand $something)); $something))\n",
    "    end\n",
    "    return esc(something)\n",
    "end"
   ]
  },
  {
   "cell_type": "code",
   "execution_count": 3,
   "metadata": {},
   "outputs": [
    {
     "data": {
      "text/plain": [
       "make_functional_index (generic function with 1 method)"
      ]
     },
     "execution_count": 3,
     "metadata": {},
     "output_type": "execute_result"
    }
   ],
   "source": [
    "# TODO: copy to GraphPPL\n",
    "make_functional_index(reprsymbol::Symbol, fnsymbol::Symbol) = :(ReactiveMP.FunctionalIndex{$(QuoteNode(reprsymbol))}($fnsymbol))"
   ]
  },
  {
   "cell_type": "code",
   "execution_count": 4,
   "metadata": {},
   "outputs": [
    {
     "data": {
      "text/plain": [
       "make_factorisation_split (generic function with 1 method)"
      ]
     },
     "execution_count": 4,
     "metadata": {},
     "output_type": "execute_result"
    }
   ],
   "source": [
    "# TODO: copy to GraphPPL\n",
    "make_combined_range(l, r) = :(ReactiveMP.CombinedRange($l, $r))\n",
    "# TODO: copy to GraphPPL\n",
    "make_splitted_range(l, r) = :(ReactiveMP.SplittedRange($l, $r))\n",
    "make_factorisation_split(l, r) = :(ReactiveMP.factorisation_split($l, $r)) "
   ]
  },
  {
   "cell_type": "code",
   "execution_count": 5,
   "metadata": {},
   "outputs": [
    {
     "data": {
      "text/plain": [
       "make_constraints_specification (generic function with 1 method)"
      ]
     },
     "execution_count": 5,
     "metadata": {},
     "output_type": "execute_result"
    }
   ],
   "source": [
    "# TODO: copy to GraphPPL\n",
    "make_constraints_specification(factorisation, form) = :(ReactiveMP.ConstraintsSpecification($factorisation, $form))"
   ]
  },
  {
   "cell_type": "code",
   "execution_count": 6,
   "metadata": {},
   "outputs": [],
   "source": [
    "# Copied to ReactiveMP, but not GraphPPL"
   ]
  },
  {
   "cell_type": "code",
   "execution_count": 7,
   "metadata": {},
   "outputs": [
    {
     "data": {
      "text/plain": [
       "make_factorisation_constraint_entry (generic function with 1 method)"
      ]
     },
     "execution_count": 7,
     "metadata": {},
     "output_type": "execute_result"
    }
   ],
   "source": [
    "# TODO: Copy to GraphPPL\n",
    "make_factorisation_constraint_entry(N, T) = :(ReactiveMP.FactorisationConstraintsEntry($N, $T))"
   ]
  },
  {
   "cell_type": "code",
   "execution_count": 8,
   "metadata": {},
   "outputs": [
    {
     "data": {
      "text/plain": [
       "make_factorisation_constraint (generic function with 1 method)"
      ]
     },
     "execution_count": 8,
     "metadata": {},
     "output_type": "execute_result"
    }
   ],
   "source": [
    "# TODO: Copy to GraphPPL.jl\n",
    "make_factorisation_constraint(N, E) = :(ReactiveMP.FactorisationConstraintsSpecification($N, $E))"
   ]
  },
  {
   "cell_type": "code",
   "execution_count": 9,
   "metadata": {},
   "outputs": [
    {
     "data": {
      "text/plain": [
       "check_factorisation_is_not_defined (generic function with 1 method)"
      ]
     },
     "execution_count": 9,
     "metadata": {},
     "output_type": "execute_result"
    }
   ],
   "source": [
    "init_factorisation_not_defined(V, S)  = :($V = ReactiveMP.FactorisationSpecificationNotDefinedYet{$(QuoteNode(S))}())\n",
    "check_factorisation_is_not_defined(V) = :($V isa ReactiveMP.FactorisationSpecificationNotDefinedYet)"
   ]
  },
  {
   "cell_type": "code",
   "execution_count": 10,
   "metadata": {},
   "outputs": [
    {
     "data": {
      "text/plain": [
       "@constraints (macro with 1 method)"
      ]
     },
     "execution_count": 10,
     "metadata": {},
     "output_type": "execute_result"
    }
   ],
   "source": [
    "struct ReactiveMPBackend end\n",
    "\n",
    "__get_current_backend() = ReactiveMPBackend()\n",
    "\n",
    "macro constraints(constraints_specification)\n",
    "    return generate_constraints_expression(__get_current_backend(), constraints_specification)\n",
    "end"
   ]
  },
  {
   "cell_type": "code",
   "execution_count": 11,
   "metadata": {},
   "outputs": [
    {
     "data": {
      "text/plain": [
       "isref (generic function with 1 method)"
      ]
     },
     "execution_count": 11,
     "metadata": {},
     "output_type": "execute_result"
    }
   ],
   "source": [
    "isexpr(expr::Expr) = true\n",
    "isexpr()           = false\n",
    "\n",
    "ishead(something, head) = isexpr(something) && something.head === head\n",
    "\n",
    "isblock(something) = ishead(something, :block)\n",
    "isref(something) = ishead(something, :ref)"
   ]
  },
  {
   "cell_type": "code",
   "execution_count": 12,
   "metadata": {},
   "outputs": [],
   "source": [
    "struct LHSMeta\n",
    "    name :: String\n",
    "    hash :: UInt\n",
    "    varname :: Symbol\n",
    "end"
   ]
  },
  {
   "cell_type": "code",
   "execution_count": 13,
   "metadata": {},
   "outputs": [],
   "source": [
    "# TODO: check for intersections of ranges during an actual execution"
   ]
  },
  {
   "cell_type": "code",
   "execution_count": 14,
   "metadata": {},
   "outputs": [
    {
     "data": {
      "text/plain": [
       "generate_constraints_expression (generic function with 1 method)"
      ]
     },
     "execution_count": 14,
     "metadata": {},
     "output_type": "execute_result"
    }
   ],
   "source": [
    "function generate_constraints_expression(backend, constraints_specification)\n",
    "\n",
    "    if isblock(constraints_specification)\n",
    "        generatedfname = gensym(:constraints)\n",
    "        generatedfbody = :(function $(generatedfname)() $constraints_specification end)\n",
    "        return :($(generate_constraints_expression(backend, generatedfbody))())\n",
    "    end\n",
    "\n",
    "    @capture(constraints_specification, (function cs_name_(cs_args__; cs_kwargs__) cs_body_ end) | (function cs_name_(cs_args__) cs_body_ end)) || \n",
    "        error(\"Constraints specification language requires full function definition\")\n",
    "    \n",
    "    cs_args   = cs_args === nothing ? [] : cs_args\n",
    "    cs_kwargs = cs_kwargs === nothing ? [] : cs_kwargs\n",
    "    \n",
    "    lhs_dict = Dict{UInt, LHSMeta}()\n",
    "    \n",
    "    # We iteratively overwrite extend form constraint tuple, but we use different names for it to enable type-stability\n",
    "    form_constraints_symbol      = gensym(:form_constraint)\n",
    "    form_constraints_symbol_init = :($form_constraints_symbol = ())\n",
    "    \n",
    "    # We iteratively overwrite extend factorisation constraint tuple, but we use different names for it to enable type-stability\n",
    "    factorisation_constraints_symbol      = gensym(:factorisation_constraint)\n",
    "    factorisation_constraints_symbol_init = :($factorisation_constraints_symbol = ())\n",
    "    \n",
    "    # First we record all lhs expression's hash ids and create unique variable names for them\n",
    "    # q(x, y) = q(x)q(y) -> hash(q(x, y))\n",
    "    # We do allow multiple definitions in case of if statements, but we do check later overwrites, which are not allowed\n",
    "    cs_body = postwalk(cs_body) do expression\n",
    "        # We also do a simple sanity check right now, names should be an array of Symbols only\n",
    "        if @capture(expression, lhs_ = rhs_) && @capture(lhs, q(names__))\n",
    "            \n",
    "            (length(names) !== 0 && all(name -> name isa Symbol, names)) || \n",
    "                error(\"\"\"Error in factorisation constraints specification $(lhs_name) = ...\\nLeft hand side of the equality expression should have only variable identifiers.\"\"\")\n",
    "            \n",
    "            # We replace '..' in RHS expression with `make_factorisation_split`\n",
    "            rhs = postwalk(rhs) do rexpr\n",
    "                if @capture(rexpr, a_ .. b_)\n",
    "                    return make_factorisation_split(a, b)\n",
    "                end\n",
    "                return rexpr\n",
    "            end\n",
    "            \n",
    "            lhs_names = Set{Symbol}(names)\n",
    "            rhs_names = Set{Symbol}()\n",
    "            \n",
    "            # We do a simple check to be sure that LHS and RHS has the exact same set of names\n",
    "            # We also check here that all indices are either a simple Symbol or an indexing expression here\n",
    "            rhs = postwalk(MacroTools.prettify(rhs, alias = false)) do entry\n",
    "                if @capture(entry, q(indices__))\n",
    "                    for index in indices\n",
    "                        if index isa Symbol\n",
    "                            (index ∉ rhs_names) || error(\"RHS of the $(expression) expression used $(index) without indexing twice, which is not allowed. Try to decompose factorisation constraint expression into several subexpression.\")\n",
    "                            push!(rhs_names, index)\n",
    "                            (index ∉ lhs_names) && error(\"LHS of the $(expression) expression does not have $(index) variable, but is used in RHS.\")\n",
    "                        elseif isref(index)\n",
    "                            push!(rhs_names, first(index.args))\n",
    "                            (first(index.args) ∉ lhs_names) && error(\"LHS of the $(expression) expression does not have $(first(index.args)) variable, but is used in RHS.\")\n",
    "                        else\n",
    "                           error(\"Cannot parse expression $(index) in the RHS $(rhs) expression. Index expression should be either a single variable symbol or an indexing expression.\") \n",
    "                        end\n",
    "                    end\n",
    "                end\n",
    "                return entry\n",
    "            end\n",
    "            \n",
    "            (lhs_names == rhs_names) || error(\"LHS and RHS of the $(expression) expression has different set of variables.\")\n",
    "            \n",
    "            lhs_hash = hash(lhs)\n",
    "            lhs_meta = if haskey(lhs_dict, lhs_hash)\n",
    "                lhs_dict[ lhs_hash ]\n",
    "            else\n",
    "                lhs_name = string(\"q(\", join(names, \", \"), \")\")\n",
    "                lhs_varname = gensym(lhs_name)\n",
    "                lhs_meta = LHSMeta(lhs_name, lhs_hash, lhs_varname)\n",
    "                lhs_dict[lhs_hash] = lhs_meta\n",
    "            end\n",
    "            \n",
    "            lhs_name = lhs_meta.name\n",
    "            lhs_varname = lhs_meta.varname\n",
    "            \n",
    "            new_factorisation_specification = make_factorisation_constraint(:(Val(($(map(QuoteNode, names)...),))), :(Val($(rhs))))\n",
    "            check_is_not_defined            = check_factorisation_is_not_defined(lhs_varname)\n",
    "            \n",
    "            result = quote \n",
    "                $(check_is_not_defined) || error(\"Factorisation constraints specification $($lhs_name) = ... has been redefined.\")\n",
    "                $(lhs_varname) = $(new_factorisation_specification)\n",
    "                $factorisation_constraints_symbol = ($factorisation_constraints_symbol..., $(lhs_varname))\n",
    "            end\n",
    "            \n",
    "            return result\n",
    "        end\n",
    "        return expression\n",
    "    end\n",
    "    \n",
    "    # This block write initial variables for factorisation specification\n",
    "    cs_lhs_init_block = map(collect(lhs_dict)) do pair\n",
    "        lhs_meta = last(pair)\n",
    "        lhs_name = lhs_meta.name\n",
    "        lhs_varname = lhs_meta.varname\n",
    "        lhs_symbol = Symbol(lhs_name)\n",
    "        return init_factorisation_not_defined(lhs_varname, lhs_symbol)\n",
    "    end\n",
    "    \n",
    "    cs_body = prewalk(cs_body) do expression\n",
    "        if @capture(expression, q(args__))\n",
    "            rhs_prod_names = Symbol[]\n",
    "            rhs_prod_entries_args = map(args) do arg\n",
    "                if arg isa Symbol\n",
    "                    push!(rhs_prod_names, arg)\n",
    "                    return :(nothing)\n",
    "                elseif isref(arg)\n",
    "                    (length(arg.args) === 2) || error(\"Indexing expression $(expression) is too difficult to parse and is not supported (yet?).\")\n",
    "                    push!(rhs_prod_names, first(arg.args))\n",
    "\n",
    "                    index = last(arg.args)\n",
    "\n",
    "                    # First we replace all `begin` and `end` with `firstindex` and `lastindex` functions\n",
    "                    index = postwalk(index) do iexpr\n",
    "                        if iexpr isa Symbol && iexpr === :begin\n",
    "                            return make_functional_index(:begin, :firstindex)\n",
    "                        elseif iexpr isa Symbol && iexpr === :end\n",
    "                            return make_functional_index(:end, :lastindex)\n",
    "                        else\n",
    "                            return iexpr\n",
    "                        end\n",
    "                    end\n",
    "\n",
    "                    if @capture(index, a_:b_)\n",
    "                        return make_combined_range(a, b)\n",
    "                    else\n",
    "                        return index\n",
    "                    end\n",
    "                else\n",
    "                    error(\"Cannot parse expression $(index) in the RHS $(rhs) expression. Index expression should be either a single variable symbol or an indexing expression.\") \n",
    "                end\n",
    "            end\n",
    "\n",
    "            entry = make_factorisation_constraint_entry(:(Val(($(map(QuoteNode, rhs_prod_names)...), ))), :(Val(($(rhs_prod_entries_args...), ))))\n",
    "\n",
    "            return :(($entry, ))\n",
    "        end\n",
    "        return expression\n",
    "    end\n",
    "    \n",
    "    return_specification = make_constraints_specification(factorisation_constraints_symbol, form_constraints_symbol)\n",
    "    \n",
    "    res = quote\n",
    "         function $cs_name($(cs_args...); $(cs_kwargs...))\n",
    "            $(form_constraints_symbol_init)\n",
    "            $(factorisation_constraints_symbol_init)\n",
    "            $(cs_lhs_init_block...)\n",
    "            $(cs_body)\n",
    "            $(return_specification)\n",
    "        end \n",
    "    end\n",
    "    \n",
    "    return esc(res)\n",
    "end"
   ]
  },
  {
   "cell_type": "code",
   "execution_count": 15,
   "metadata": {},
   "outputs": [
    {
     "name": "stdout",
     "output_type": "stream",
     "text": [
      "  0.000007 seconds (14 allocations: 2.062 KiB)\n",
      "  0.000010 seconds (14 allocations: 2.062 KiB)\n"
     ]
    },
    {
     "data": {
      "text/plain": [
       "Constraints:\n",
       "\tform: ()\n",
       "\tfactorisation\n",
       "\t\tq(x, y) = q(x)q(y)\n",
       "\t\tq(x, y, t, r) = q(x, y)q(t)q(r)\n",
       "\t\tq(x, w) = q(x)q(w)\n",
       "\t\tq(y, w) = q(y)q(w)\n",
       "\t\tq(x) = q(x[(begin):((begin) + 2)])q(x[((begin) + 3)..(end)])\n"
      ]
     },
     "execution_count": 15,
     "metadata": {},
     "output_type": "execute_result"
    }
   ],
   "source": [
    "cs = @constraints function test()\n",
    "    q(x, y) = q(x)q(y)\n",
    "    q(x, y, t, r) = q(x, y)q(t)q(r)\n",
    "    q(x, w) = q(x)q(w)\n",
    "    q(y, w) = q(y)q(w)\n",
    "    q(x) = q(x[begin:begin+2])q(x[begin+3])..q(x[end])\n",
    "end\n",
    "        \n",
    "@time test()\n",
    "@time test()\n",
    "\n",
    "cs = test()"
   ]
  },
  {
   "cell_type": "code",
   "execution_count": 16,
   "metadata": {},
   "outputs": [],
   "source": [
    "model = Model()\n",
    "\n",
    "x = randomvar(model, :x, 10)\n",
    "y = randomvar(model, :y, 10)\n",
    "tmp = randomvar(model, :tmp)\n",
    "t = randomvar(model, :t, 10)\n",
    "r = randomvar(model, :r)\n",
    "\n",
    "vars = (x[3], x[4], y[1], t[1]);\n",
    "# vars = (xvar, yvar, tvar)"
   ]
  },
  {
   "cell_type": "code",
   "execution_count": 17,
   "metadata": {},
   "outputs": [
    {
     "name": "stdout",
     "output_type": "stream",
     "text": [
      "  1.020368 seconds (2.67 M allocations: 146.782 MiB, 3.68% gc time, 99.91% compilation time)\n",
      "  0.000057 seconds (187 allocations: 6.609 KiB)\n"
     ]
    },
    {
     "data": {
      "text/plain": [
       "((1,), (2,), (3,), (4,))"
      ]
     },
     "execution_count": 17,
     "metadata": {},
     "output_type": "execute_result"
    }
   ],
   "source": [
    "@time ReactiveMP.resolve_factorisation(:(1 + 1), vars, cs, model)\n",
    "@time ReactiveMP.resolve_factorisation(:(1 + 1), vars, cs, model)"
   ]
  },
  {
   "cell_type": "code",
   "execution_count": 18,
   "metadata": {},
   "outputs": [
    {
     "name": "stdout",
     "output_type": "stream",
     "text": [
      "  0.000091 seconds (187 allocations: 6.609 KiB)\n",
      "  0.000064 seconds (187 allocations: 6.609 KiB)\n"
     ]
    },
    {
     "data": {
      "text/plain": [
       "((1,), (2,), (3,), (4,))"
      ]
     },
     "execution_count": 18,
     "metadata": {},
     "output_type": "execute_result"
    }
   ],
   "source": [
    "@time ReactiveMP.resolve_factorisation(:(1 + 1), vars, cs, model)\n",
    "@time ReactiveMP.resolve_factorisation(:(1 + 1), vars, cs, model)"
   ]
  },
  {
   "cell_type": "code",
   "execution_count": 19,
   "metadata": {},
   "outputs": [
    {
     "name": "stdout",
     "output_type": "stream",
     "text": [
      "  6.841 μs (181 allocations: 6.42 KiB)\n"
     ]
    },
    {
     "data": {
      "text/plain": [
       "((1,), (2,), (3,), (4,))"
      ]
     },
     "execution_count": 19,
     "metadata": {},
     "output_type": "execute_result"
    }
   ],
   "source": [
    "@btime ReactiveMP.resolve_factorisation(:(1 + 1), $vars, $cs, $model)"
   ]
  },
  {
   "cell_type": "code",
   "execution_count": 20,
   "metadata": {},
   "outputs": [
    {
     "name": "stdout",
     "output_type": "stream",
     "text": [
      "  0.666028 seconds (1.65 M allocations: 89.499 MiB, 3.30% gc time, 99.90% compilation time)\n",
      "  0.000097 seconds (331 allocations: 13.547 KiB)\n",
      "  13.143 μs (325 allocations: 13.36 KiB)\n"
     ]
    },
    {
     "data": {
      "text/plain": [
       "((1, 3), (2, 4), (5, 6))"
      ]
     },
     "execution_count": 20,
     "metadata": {},
     "output_type": "execute_result"
    }
   ],
   "source": [
    "# fast playground\n",
    "let \n",
    "    cs = @constraints begin\n",
    "        q(x, y) = q(x[begin], y[begin])..q(x[end], y[end])\n",
    "        # q(x, y) = (q(x[begin])..q(x[end]))*(q(y[begin])..q(y[end]))        \n",
    "        q(x, y, t) = q(x, y)q(t)\n",
    "        q(x, y, r) = q(x, y)q(r)\n",
    "    end\n",
    "            \n",
    "    model = Model()\n",
    "            \n",
    "    y = randomvar(model, :y, 10)\n",
    "    x = randomvar(model, :x, 10)\n",
    "    t = randomvar(model, :t)\n",
    "    r = randomvar(model, :r)\n",
    "    \n",
    "    vars = (y[1], y[2], x[1], x[2], t, r)\n",
    "    \n",
    "    @time ReactiveMP.resolve_factorisation(:(1 + 1), vars, cs, model)\n",
    "    @time ReactiveMP.resolve_factorisation(:(1 + 1), vars, cs, model)\n",
    "    \n",
    "    @btime ReactiveMP.resolve_factorisation(:(1 + 1), $vars, $cs, $model)\n",
    "end"
   ]
  },
  {
   "cell_type": "code",
   "execution_count": 21,
   "metadata": {},
   "outputs": [
    {
     "name": "stdout",
     "output_type": "stream",
     "text": [
      "  0.219370 seconds (607.40 k allocations: 32.503 MiB, 99.88% compilation time)\n",
      "  0.000058 seconds (307 allocations: 12.562 KiB)\n",
      "  11.403 μs (301 allocations: 12.38 KiB)\n"
     ]
    },
    {
     "data": {
      "text/plain": [
       "((1,), (2,), (3,), (4,), (5, 6))"
      ]
     },
     "execution_count": 21,
     "metadata": {},
     "output_type": "execute_result"
    }
   ],
   "source": [
    "# fast playground\n",
    "let \n",
    "    cs = @constraints begin\n",
    "        q(x, y) = (q(x[begin])..q(x[end]))*(q(y[begin])..q(y[end]))        \n",
    "        q(x, y, t) = q(x, y)q(t)\n",
    "        q(x, y, r) = q(x, y)q(r)\n",
    "    end\n",
    "            \n",
    "    model = Model()\n",
    "            \n",
    "    y = randomvar(model, :y, 10)\n",
    "    x = randomvar(model, :x, 10)\n",
    "    t = randomvar(model, :t)\n",
    "    r = randomvar(model, :r)\n",
    "    \n",
    "    vars = (y[1], y[2], x[1], x[2], t, r)\n",
    "    \n",
    "    @time ReactiveMP.resolve_factorisation(:(1 + 1), vars, cs, model)\n",
    "    @time ReactiveMP.resolve_factorisation(:(1 + 1), vars, cs, model)\n",
    "    \n",
    "    @btime ReactiveMP.resolve_factorisation(:(1 + 1), $vars, $cs, $model)\n",
    "end"
   ]
  },
  {
   "cell_type": "code",
   "execution_count": 22,
   "metadata": {},
   "outputs": [
    {
     "name": "stdout",
     "output_type": "stream",
     "text": [
      "  0.408522 seconds (1.10 M allocations: 59.181 MiB, 3.02% gc time, 99.92% compilation time)\n",
      "  0.000062 seconds (395 allocations: 15.141 KiB)\n",
      "  15.064 μs (389 allocations: 14.95 KiB)\n"
     ]
    },
    {
     "data": {
      "text/plain": [
       "((1,), (2, 3), (4,), (5, 6))"
      ]
     },
     "execution_count": 22,
     "metadata": {},
     "output_type": "execute_result"
    }
   ],
   "source": [
    "# fast playground\n",
    "let \n",
    "    cs = @constraints begin\n",
    "        q(x, y) = q(y[1])q(x[begin], y[begin+1])..q(x[end], y[end])       \n",
    "        q(x, y, t) = q(x, y)q(t)\n",
    "        q(x, y, r) = q(x, y)q(r)\n",
    "    end\n",
    "            \n",
    "    model = Model()\n",
    "            \n",
    "    y = randomvar(model, :y, 11)\n",
    "    x = randomvar(model, :x, 10)\n",
    "    t = randomvar(model, :t)\n",
    "    r = randomvar(model, :r)\n",
    "    \n",
    "    vars = (y[1], y[2], x[1], x[2], t, r)\n",
    "    \n",
    "    @time ReactiveMP.resolve_factorisation(:(1 + 1), vars, cs, model)\n",
    "    @time ReactiveMP.resolve_factorisation(:(1 + 1), vars, cs, model)\n",
    "    \n",
    "    @btime ReactiveMP.resolve_factorisation(:(1 + 1), $vars, $cs, $model)\n",
    "end"
   ]
  },
  {
   "cell_type": "code",
   "execution_count": 23,
   "metadata": {},
   "outputs": [
    {
     "name": "stdout",
     "output_type": "stream",
     "text": [
      "  0.101990 seconds (300.36 k allocations: 15.434 MiB, 99.90% compilation time)\n",
      "  0.000024 seconds (89 allocations: 3.750 KiB)\n",
      "  3.887 μs (83 allocations: 3.56 KiB)\n"
     ]
    },
    {
     "data": {
      "text/plain": [
       "((1, 2), (3, 4))"
      ]
     },
     "execution_count": 23,
     "metadata": {},
     "output_type": "execute_result"
    }
   ],
   "source": [
    "# fast playground\n",
    "let \n",
    "    cs = @constraints begin\n",
    "        q(x, y) = q(x)q(y)\n",
    "    end\n",
    "            \n",
    "    model = Model()\n",
    "            \n",
    "    y = randomvar(model, :y, 11)\n",
    "    x = randomvar(model, :x, 10)\n",
    "    \n",
    "    vars = (y[1], y[2], x[1], x[2])\n",
    "    \n",
    "    @time ReactiveMP.resolve_factorisation(:(1 + 1), vars, cs, model)\n",
    "    @time ReactiveMP.resolve_factorisation(:(1 + 1), vars, cs, model)\n",
    "    \n",
    "    @btime ReactiveMP.resolve_factorisation(:(1 + 1), $vars, $cs, $model)\n",
    "end"
   ]
  },
  {
   "cell_type": "code",
   "execution_count": 24,
   "metadata": {},
   "outputs": [
    {
     "name": "stdout",
     "output_type": "stream",
     "text": [
      "  0.184243 seconds (449.99 k allocations: 23.848 MiB, 6.52% gc time, 99.89% compilation time)\n",
      "  0.000024 seconds (49 allocations: 1.844 KiB)\n",
      "  2.045 μs (43 allocations: 1.66 KiB)\n"
     ]
    },
    {
     "data": {
      "text/plain": [
       "((1,), (2,))"
      ]
     },
     "execution_count": 24,
     "metadata": {},
     "output_type": "execute_result"
    }
   ],
   "source": [
    "# fast playground\n",
    "let \n",
    "    cs = @constraints begin\n",
    "        q(x, y) = q(x)q(y)\n",
    "    end\n",
    "            \n",
    "    model = Model()\n",
    "            \n",
    "    y = randomvar(model, :y, 11)\n",
    "    x = randomvar(model, :x, 10)\n",
    "    \n",
    "    vars = (y[1], x[1])\n",
    "    \n",
    "    @time ReactiveMP.resolve_factorisation(:(1 + 1), vars, cs, model)\n",
    "    @time ReactiveMP.resolve_factorisation(:(1 + 1), vars, cs, model)\n",
    "    \n",
    "    @btime ReactiveMP.resolve_factorisation(:(1 + 1), $vars, $cs, $model)\n",
    "end"
   ]
  },
  {
   "cell_type": "code",
   "execution_count": 25,
   "metadata": {},
   "outputs": [
    {
     "name": "stdout",
     "output_type": "stream",
     "text": [
      "ReactiveMP.resolve_factorisation($(Expr(:quote, :(1 + 1))), vars, withflag(true), model) = ((1,), (2,))\n",
      "ReactiveMP.resolve_factorisation($(Expr(:quote, :(1 + 1))), vars, withflag(false), model) = ((1, 2),)\n"
     ]
    },
    {
     "data": {
      "text/plain": [
       "((1, 2),)"
      ]
     },
     "execution_count": 25,
     "metadata": {},
     "output_type": "execute_result"
    }
   ],
   "source": [
    "# fast playground\n",
    "let \n",
    "    @constraints function withflag(flag)\n",
    "        if flag\n",
    "            q(x, y) = q(x)q(y)\n",
    "        else\n",
    "            q(x, y) = q(x, y)\n",
    "        end\n",
    "    end\n",
    "            \n",
    "    model = Model()\n",
    "            \n",
    "    y = randomvar(model, :y, 11)\n",
    "    x = randomvar(model, :x, 10)\n",
    "    \n",
    "    vars = (y[1], x[1])\n",
    "    \n",
    "    @show ReactiveMP.resolve_factorisation(:(1 + 1), vars, withflag(true), model)\n",
    "    @show ReactiveMP.resolve_factorisation(:(1 + 1), vars, withflag(false), model)\n",
    "end"
   ]
  },
  {
   "cell_type": "code",
   "execution_count": 26,
   "metadata": {},
   "outputs": [
    {
     "name": "stdout",
     "output_type": "stream",
     "text": [
      "ReactiveMP.resolve_factorisation($(Expr(:quote, :(1 + 1))), vars, withflag(2), model) = ((1,), (2,), (3,))\n",
      "ReactiveMP.resolve_factorisation($(Expr(:quote, :(1 + 1))), vars, withflag(4), model) = ((1,), (2, 3))\n"
     ]
    },
    {
     "data": {
      "text/plain": [
       "((1,), (2, 3))"
      ]
     },
     "execution_count": 26,
     "metadata": {},
     "output_type": "execute_result"
    }
   ],
   "source": [
    "# fast playground\n",
    "let \n",
    "    @constraints function withflag(n)\n",
    "        q(x, y) = q(x[1:n])*(q(x[n+1])..q(x[end]))*q(y)\n",
    "    end\n",
    "            \n",
    "    model = Model()\n",
    "            \n",
    "    y = randomvar(model, :y, 11)\n",
    "    x = randomvar(model, :x, 10)\n",
    "    \n",
    "    vars = (y[1], x[2], x[3])\n",
    "    \n",
    "    @show ReactiveMP.resolve_factorisation(:(1 + 1), vars, withflag(2), model)\n",
    "    @show ReactiveMP.resolve_factorisation(:(1 + 1), vars, withflag(4), model)\n",
    "end"
   ]
  },
  {
   "cell_type": "code",
   "execution_count": 30,
   "metadata": {},
   "outputs": [
    {
     "name": "stdout",
     "output_type": "stream",
     "text": [
      "ReactiveMP.resolve_factorisation($(Expr(:quote, :(1 + 1))), (y[1], x[1], x[2]), cs, model) = ((1,), (2,), (3,))\n",
      "ReactiveMP.resolve_factorisation($(Expr(:quote, :(1 + 1))), (y[1], x[2], x[3]), cs, model) = ((1,), (2, 3))\n"
     ]
    },
    {
     "data": {
      "text/plain": [
       "((1,), (2, 3))"
      ]
     },
     "execution_count": 30,
     "metadata": {},
     "output_type": "execute_result"
    }
   ],
   "source": [
    "# fast playground\n",
    "let \n",
    "    cs = @constraints begin\n",
    "       q(x, y) = q(x[begin])*q(x[begin+1:end])*q(y)\n",
    "    end\n",
    "            \n",
    "    model = Model()\n",
    "            \n",
    "    y = randomvar(model, :y, 11)\n",
    "    x = randomvar(model, :x, 10)\n",
    "    \n",
    "    @show ReactiveMP.resolve_factorisation(:(1 + 1), (y[1], x[1], x[2]), cs, model)\n",
    "    @show ReactiveMP.resolve_factorisation(:(1 + 1), (y[1], x[2], x[3]), cs, model)\n",
    "end"
   ]
  },
  {
   "cell_type": "code",
   "execution_count": 27,
   "metadata": {},
   "outputs": [
    {
     "ename": "LoadError",
     "evalue": "Cannot split q(x[(begin)], x[(begin)]) and q(x[(end)], x[(end)]). Names should be unique.",
     "output_type": "error",
     "traceback": [
      "Cannot split q(x[(begin)], x[(begin)]) and q(x[(end)], x[(end)]). Names should be unique.",
      "",
      "Stacktrace:",
      " [1] error(s::String)",
      "   @ Base ./error.jl:33",
      " [2] factorisation_split",
      "   @ ~/.julia/dev/ReactiveMP.jl/src/constraints/spec/factorisation_spec.jl:142 [inlined]",
      " [3] macro expansion",
      "   @ ./In[14]:86 [inlined]",
      " [4] macro expansion",
      "   @ ./In[27]:3 [inlined]",
      " [5] var\"##constraints#408\"()",
      "   @ Main ./In[14]:5",
      " [6] top-level scope",
      "   @ In[14]:148",
      " [7] eval",
      "   @ ./boot.jl:373 [inlined]",
      " [8] include_string(mapexpr::typeof(REPL.softscope), mod::Module, code::String, filename::String)",
      "   @ Base ./loading.jl:1196"
     ]
    }
   ],
   "source": [
    "# Should error\n",
    "@constraints begin\n",
    "    q(x, y) = q(x[begin], x[begin])..q(x[end], x[end])q(y)\n",
    "end"
   ]
  },
  {
   "cell_type": "code",
   "execution_count": null,
   "metadata": {},
   "outputs": [],
   "source": []
  }
 ],
 "metadata": {
  "kernelspec": {
   "display_name": "Julia 1.7.2",
   "language": "julia",
   "name": "julia-1.7"
  },
  "language_info": {
   "file_extension": ".jl",
   "mimetype": "application/julia",
   "name": "julia",
   "version": "1.7.2"
  }
 },
 "nbformat": 4,
 "nbformat_minor": 4
}
