{
 "cells": [
  {
   "cell_type": "code",
   "execution_count": 1,
   "metadata": {},
   "outputs": [],
   "source": [
    "using MacroTools\n",
    "using BenchmarkTools \n",
    "\n",
    "import MacroTools: prewalk, postwalk"
   ]
  },
  {
   "cell_type": "code",
   "execution_count": 2,
   "metadata": {},
   "outputs": [
    {
     "data": {
      "text/plain": [
       "@e (macro with 1 method)"
      ]
     },
     "execution_count": 2,
     "metadata": {},
     "output_type": "execute_result"
    }
   ],
   "source": [
    "macro e(something)\n",
    "    if something.head === :macrocall\n",
    "        return esc(:(println(MacroTools.prettify(@macroexpand $something)); $something))\n",
    "    end\n",
    "    return esc(something)\n",
    "end"
   ]
  },
  {
   "cell_type": "code",
   "execution_count": 3,
   "metadata": {},
   "outputs": [],
   "source": [
    "struct ConstraintsSpecification{F, M}\n",
    "    factorisation :: F\n",
    "    form :: M\n",
    "end\n",
    "\n",
    "function Base.show(io::IO, specification::ConstraintsSpecification) \n",
    "    print(io, \"Constraints:\\n\\tform: $(specification.form)\\n\")\n",
    "    print(io, \"\\tfactorisation\\n\")\n",
    "    foreach(specification.factorisation) do f\n",
    "        print(io, \"\\t\\t\", f, \"\\n\")\n",
    "    end\n",
    "end"
   ]
  },
  {
   "cell_type": "code",
   "execution_count": 14,
   "metadata": {},
   "outputs": [],
   "source": [
    "struct FactorisationConstraintsEntry{N, T}\n",
    "    indices :: T\n",
    "end\n",
    "\n",
    "Base.:(*)(left::Tuple{Vararg{T where T <: FactorisationConstraintsEntry}}, right::Tuple{Vararg{T where T <: FactorisationConstraintsEntry}}) = (left..., right...)\n",
    "\n",
    "__io_entry_pair(pair::Pair)                     = __io_entry_pair(first(pair), last(pair))\n",
    "__io_entry_pair(symbol::Symbol, ::Nothing)      = string(symbol)\n",
    "__io_entry_pair(symbol::Symbol, index::Integer) = string(symbol, \"[\", index, \"]\")\n",
    "__io_entry_pair(symbol::Symbol, range::AbstractRange) = string(symbol, \"[\", range, \"]\")\n",
    "\n",
    "FactorisationConstraintsEntry(::Val{N}, indices::T) where { N, T } = FactorisationConstraintsEntry{N, T}(indices)\n",
    "\n",
    "make_factorisation_constraint_entry(N, T) = :(FactorisationConstraintsEntry($N, $T))\n",
    "\n",
    "function Base.show(io::IO, entry::FactorisationConstraintsEntry) \n",
    "    print(io, \"q(\")\n",
    "    entries = map(__io_entry_pair, collect(pairs(entry.indices)))\n",
    "    join(io, entries, \", \")\n",
    "    print(io, \")\")\n",
    "end"
   ]
  },
  {
   "cell_type": "code",
   "execution_count": 5,
   "metadata": {},
   "outputs": [
    {
     "data": {
      "text/plain": [
       "make_factorisation_constraint (generic function with 1 method)"
      ]
     },
     "execution_count": 5,
     "metadata": {},
     "output_type": "execute_result"
    }
   ],
   "source": [
    "struct FactorisationConstraintsSpecification{N, E}\n",
    "    entries :: E\n",
    "end\n",
    "\n",
    "Base.:(*)(left::FactorisationConstraintsSpecification, right::NTuple{N2, <: FactorisationConstraintsEntry}) where { N1, N2 } = (left, right...)\n",
    "Base.:(*)(left::NTuple{N1, <: FactorisationConstraintsEntry}, right::FactorisationConstraintsSpecification) where { N1, N2 } = (left..., right)\n",
    "\n",
    "function Base.show(io::IO, factorisation::FactorisationConstraintsSpecification{Names}) where Names\n",
    "    \n",
    "    print(io, \"q(\")\n",
    "    join(io, Names, \", \")\n",
    "    print(io, \")\")\n",
    "    \n",
    "    compact = get(io, :compact, false)\n",
    "    \n",
    "    if !compact \n",
    "        print(io, \" = \")\n",
    "        foreach(factorisation.entries) do e\n",
    "            print(IOContext(io, :compact => true), e)\n",
    "        end\n",
    "    end\n",
    "    \n",
    "end\n",
    "\n",
    "FactorisationConstraintsSpecification(::Val{N}, entries::E) where { N, E } = FactorisationConstraintsSpecification{N, E}(entries)\n",
    "    \n",
    "make_factorisation_constraint(N, E) = :(FactorisationConstraintsSpecification($N, $E))"
   ]
  },
  {
   "cell_type": "code",
   "execution_count": 6,
   "metadata": {},
   "outputs": [
    {
     "data": {
      "text/plain": [
       "make_constraints_specification (generic function with 1 method)"
      ]
     },
     "execution_count": 6,
     "metadata": {},
     "output_type": "execute_result"
    }
   ],
   "source": [
    "struct ReactiveMPBackend end\n",
    "\n",
    "__get_current_backend() = ReactiveMPBackend()\n",
    "\n",
    "macro constraints(constraints_specification)\n",
    "    return generate_constraints_expression(__get_current_backend(), constraints_specification)\n",
    "end\n",
    "\n",
    "make_constraints_specification(factorisation, form) = :(ConstraintsSpecification($factorisation, $form))"
   ]
  },
  {
   "cell_type": "code",
   "execution_count": 7,
   "metadata": {},
   "outputs": [
    {
     "data": {
      "text/plain": [
       "isref (generic function with 1 method)"
      ]
     },
     "execution_count": 7,
     "metadata": {},
     "output_type": "execute_result"
    }
   ],
   "source": [
    "isexpr(expr::Expr) = true\n",
    "isexpr()           = false\n",
    "\n",
    "ishead(something, head) = isexpr(something) && something.head === head\n",
    "\n",
    "isblock(something) = ishead(something, :block)\n",
    "isref(something) = ishead(something, :ref)"
   ]
  },
  {
   "cell_type": "code",
   "execution_count": 8,
   "metadata": {},
   "outputs": [],
   "source": [
    "struct LHSMeta\n",
    "    name :: String\n",
    "    hash :: UInt\n",
    "    varname :: Symbol\n",
    "end"
   ]
  },
  {
   "cell_type": "code",
   "execution_count": 27,
   "metadata": {},
   "outputs": [
    {
     "data": {
      "text/plain": [
       "generate_constraints_expression (generic function with 1 method)"
      ]
     },
     "execution_count": 27,
     "metadata": {},
     "output_type": "execute_result"
    }
   ],
   "source": [
    "function generate_constraints_expression(backend, constraints_specification)\n",
    "\n",
    "    if isblock(constraints_specification)\n",
    "        generatedfname = gensym(:constraints)\n",
    "        generatedfbody = :(function $(generatedfname)() $constraints_specification end)\n",
    "        return :($(generate_constraints_expression(backend, generatedfbody))())\n",
    "    end\n",
    "\n",
    "    @capture(constraints_specification, (function cs_name_(cs_args__; cs_kwargs__) cs_body_ end) | (function cs_name_(cs_args__) cs_body_ end)) || \n",
    "        error(\"Constraints specification language requires full function definition\")\n",
    "    \n",
    "    cs_args   = cs_args === nothing ? [] : cs_args\n",
    "    cs_kwargs = cs_kwargs === nothing ? [] : cs_kwargs\n",
    "    \n",
    "    lhs_dict = Dict{UInt, LHSMeta}()\n",
    "    \n",
    "    # We iteratively overwrite extend form constraint tuple, but we use different names for it to enable type-stability\n",
    "    form_constraints_symbol      = gensym(:form_constraint)\n",
    "    form_constraints_symbol_init = :($form_constraints_symbol = ())\n",
    "    \n",
    "    # We iteratively overwrite extend factorisation constraint tuple, but we use different names for it to enable type-stability\n",
    "    factorisation_constraints_symbol      = gensym(:factorisation_constraint)\n",
    "    factorisation_constraints_symbol_init = :($factorisation_constraints_symbol = ())\n",
    "    \n",
    "    # First we record all lhs expression's hash ids and create unique variable names for them\n",
    "    # q(x, y) = q(x)q(y) -> hash(q(x, y))\n",
    "    # We do allow multiple definitions in case of if statements, but we do check later overwrites, which are not allowed\n",
    "    cs_body = postwalk(cs_body) do expression\n",
    "        # We also do a simple sanity check right now, names should be an array of Symbols only\n",
    "        if @capture(expression, lhs_ = rhs_) && @capture(lhs, q(names__))\n",
    "            \n",
    "            (length(names) !== 0 && all(name -> name isa Symbol, names)) || \n",
    "                error(\"\"\"Error in factorisation constraints specification $(lhs_name) = ...\\nLeft hand side of the equality expression should have only variable identifiers.\"\"\")\n",
    "            \n",
    "            @capture(rhs, *(rhs_prod_entries__)) || error(\"Invalid RHS $(rhs) of the factorisation specification expression $(expression)\")\n",
    "            \n",
    "            lhs_names = Set(names)\n",
    "            rhs_names = Set{Symbol}()\n",
    "            \n",
    "            # We do a simple check to be sure that LHS and RHS has the exact same set of names\n",
    "            # We also check here that all indices are either a simple Symbol or an indexing expression here\n",
    "            for entry in rhs_prod_entries\n",
    "                if @capture(entry, q(indices__))\n",
    "                    for index in indices\n",
    "                        if index isa Symbol\n",
    "                            (index ∉ rhs_names) || error(\"RHS of the $(expression) expression used $(index) without indexing twice, which is not allowed. Try to decompose factorisation constraint expression into several subexpression.\")\n",
    "                            push!(rhs_names, index)\n",
    "                            (index ∉ lhs_names) && error(\"LHS of the $(expression) expression does not have $(index) variable, but is used in RHS.\")\n",
    "                        elseif isref(index)\n",
    "                            push!(rhs_names, first(index.args))\n",
    "                            (first(index.args) ∉ lhs_names) && error(\"LHS of the $(expression) expression does not have $(first(index.args)) variable, but is used in RHS.\")\n",
    "                        else\n",
    "                           error(\"Cannot parse expression $(index) in the RHS $(rhs) expression. Index expression should be either a single variable symbol or an indexing expression.\") \n",
    "                        end\n",
    "                    end\n",
    "                end\n",
    "            end\n",
    "            \n",
    "            (lhs_names == rhs_names) || error(\"LHS and RHS of the $(expression) expression has different set of variables.\")\n",
    "            \n",
    "            lhs_hash = hash(lhs)\n",
    "            lhs_meta = if haskey(lhs_dict, lhs_hash)\n",
    "                lhs_dict[ lhs_hash ]\n",
    "            else\n",
    "                lhs_name = string(\"q(\", join(names, \", \"), \")\")\n",
    "                lhs_varname = gensym(lhs_name)\n",
    "                lhs_meta = LHSMeta(lhs_name, lhs_hash, lhs_varname)\n",
    "                lhs_dict[lhs_hash] = lhs_meta\n",
    "            end\n",
    "            \n",
    "            lhs_name = lhs_meta.name\n",
    "            lhs_varname = lhs_meta.varname\n",
    "            \n",
    "            new_factorisation_specification = make_factorisation_constraint(:(Val(($(map(QuoteNode, names)...),))), rhs)\n",
    "            \n",
    "            result = quote \n",
    "                ($(lhs_varname) === nothing) || error(\"Factorisation constraints specification $($lhs_name) = ... has been redefined.\")\n",
    "                $(lhs_varname) = $(new_factorisation_specification)\n",
    "                $factorisation_constraints_symbol = ($factorisation_constraints_symbol..., $(lhs_varname))\n",
    "            end\n",
    "            \n",
    "            return result\n",
    "        end\n",
    "        return expression\n",
    "    end\n",
    "    \n",
    "    # This block write initial variables for factorisation specification\n",
    "    cs_lhs_init_block = map(collect(lhs_dict)) do pair\n",
    "        lhs_meta = last(pair)\n",
    "        lhs_varname = lhs_meta.varname\n",
    "        return quote \n",
    "            $(lhs_varname) = nothing\n",
    "        end\n",
    "    end\n",
    "    \n",
    "    cs_body = prewalk(cs_body) do expression\n",
    "        if @capture(expression, q(args__))\n",
    "            expr_hash = hash(expression)\n",
    "            if haskey(lhs_dict, expr_hash)\n",
    "                lhs_meta = lhs_dict[ expr_hash ]\n",
    "                lhs_name = lhs_meta.name\n",
    "                lhs_varname = lhs_meta.varname\n",
    "                return lhs_varname\n",
    "            else\n",
    "                rhs_prod_names = Symbol[]\n",
    "                rhs_prod_entries_args = map(args) do arg\n",
    "                    if arg isa Symbol\n",
    "                        push!(rhs_prod_names, arg)\n",
    "                        return :($(QuoteNode(arg)) => nothing)\n",
    "                    elseif isref(arg)\n",
    "                        push!(rhs_prod_names, first(arg.args))\n",
    "                        return :($(QuoteNode(first(arg.args))) => $(last(arg.args)))\n",
    "                    else\n",
    "                        error(\"Cannot parse expression $(index) in the RHS $(rhs) expression. Index expression should be either a single variable symbol or an indexing expression.\") \n",
    "                    end\n",
    "                end\n",
    "                \n",
    "                entry = make_factorisation_constraint_entry(:(Val(($(map(QuoteNode, rhs_prod_names)...), ))), :(($(rhs_prod_entries_args...), )))\n",
    "                \n",
    "                return :(($entry, ))\n",
    "            end\n",
    "        end\n",
    "        return expression\n",
    "    end\n",
    "    \n",
    "    return_specification = make_constraints_specification(factorisation_constraints_symbol, form_constraints_symbol)\n",
    "    \n",
    "    res = quote\n",
    "         function $cs_name($(cs_args...); $(cs_kwargs...))\n",
    "            $(form_constraints_symbol_init)\n",
    "            $(factorisation_constraints_symbol_init)\n",
    "            $(cs_lhs_init_block...)\n",
    "            $(cs_body)\n",
    "            $(return_specification)\n",
    "        end \n",
    "    end\n",
    "    \n",
    "    return esc(res)\n",
    "end"
   ]
  },
  {
   "cell_type": "code",
   "execution_count": 28,
   "metadata": {},
   "outputs": [],
   "source": [
    "# TODO: check for intersections of ranges during an actual execution"
   ]
  },
  {
   "cell_type": "code",
   "execution_count": 29,
   "metadata": {},
   "outputs": [
    {
     "name": "stdout",
     "output_type": "stream",
     "text": [
      "function forbench(flag, n; )\n",
      "    anteater = ()\n",
      "    caterpillar = ()\n",
      "    otter = nothing\n",
      "    salmon = nothing\n",
      "    otter === nothing || error(\"Factorisation constraints specification q(x) = ... has been redefined.\")\n",
      "    otter = FactorisationConstraintsSpecification(Val((:x,)), (FactorisationConstraintsEntry(Val((:x,)), (:x => n - 2,)),) * (FactorisationConstraintsEntry(Val((:x, :x)), (:x => n - 1, :x => n)),))\n",
      "    caterpillar = (caterpillar..., otter)\n",
      "    salmon === nothing || error(\"Factorisation constraints specification q(x, y, z, r) = ... has been redefined.\")\n",
      "    salmon = FactorisationConstraintsSpecification(Val((:x, :y, :z, :r)), (FactorisationConstraintsEntry(Val((:x, :y)), (:x => nothing, :y => nothing)),) * (FactorisationConstraintsEntry(Val((:z, :r)), (:z => nothing, :r => nothing)),))\n",
      "    caterpillar = (caterpillar..., salmon)\n",
      "    ConstraintsSpecification(caterpillar, anteater)\n",
      "end\n",
      "  0.000005 seconds\n",
      "  0.000004 seconds\n"
     ]
    },
    {
     "ename": "MethodError",
     "evalue": "MethodError: no method matching __io_entry_pair(::Int64, ::Pair{Symbol, Int64})",
     "output_type": "error",
     "traceback": [
      "MethodError: no method matching __io_entry_pair(::Int64, ::Pair{Symbol, Int64})",
      "",
      "Stacktrace:",
      "  [1] __io_entry_pair(pair::Pair{Int64, Pair{Symbol, Int64}})",
      "    @ Main ./In[14]:7",
      "  [2] iterate",
      "    @ ./generator.jl:47 [inlined]",
      "  [3] _collect",
      "    @ ./array.jl:744 [inlined]",
      "  [4] collect_similar",
      "    @ ./array.jl:653 [inlined]",
      "  [5] map",
      "    @ ./abstractarray.jl:2849 [inlined]",
      "  [6] show(io::IOContext{IOBuffer}, entry::FactorisationConstraintsEntry{(:x,), Tuple{Pair{Symbol, Int64}}})",
      "    @ Main ./In[14]:18",
      "  [7] print(io::IOContext{IOBuffer}, x::FactorisationConstraintsEntry{(:x,), Tuple{Pair{Symbol, Int64}}})",
      "    @ Base ./strings/io.jl:35",
      "  [8] #3",
      "    @ ./In[5]:19 [inlined]",
      "  [9] foreach",
      "    @ ./abstractarray.jl:2694 [inlined]",
      " [10] show(io::IOContext{IOBuffer}, factorisation::FactorisationConstraintsSpecification{(:x,), Tuple{FactorisationConstraintsEntry{(:x,), Tuple{Pair{Symbol, Int64}}}, FactorisationConstraintsEntry{(:x, :x), Tuple{Pair{Symbol, Int64}, Pair{Symbol, Int64}}}}})",
      "    @ Main ./In[5]:18",
      " [11] print(io::IOContext{IOBuffer}, x::FactorisationConstraintsSpecification{(:x,), Tuple{FactorisationConstraintsEntry{(:x,), Tuple{Pair{Symbol, Int64}}}, FactorisationConstraintsEntry{(:x, :x), Tuple{Pair{Symbol, Int64}, Pair{Symbol, Int64}}}}})",
      "    @ Base ./strings/io.jl:35",
      " [12] print(::IOContext{IOBuffer}, ::String, ::FactorisationConstraintsSpecification{(:x,), Tuple{FactorisationConstraintsEntry{(:x,), Tuple{Pair{Symbol, Int64}}}, FactorisationConstraintsEntry{(:x, :x), Tuple{Pair{Symbol, Int64}, Pair{Symbol, Int64}}}}}, ::Vararg{Any})",
      "    @ Base ./strings/io.jl:46",
      " [13] #1",
      "    @ ./In[3]:10 [inlined]",
      " [14] foreach",
      "    @ ./abstractarray.jl:2694 [inlined]",
      " [15] show(io::IOContext{IOBuffer}, specification::ConstraintsSpecification{Tuple{FactorisationConstraintsSpecification{(:x,), Tuple{FactorisationConstraintsEntry{(:x,), Tuple{Pair{Symbol, Int64}}}, FactorisationConstraintsEntry{(:x, :x), Tuple{Pair{Symbol, Int64}, Pair{Symbol, Int64}}}}}, FactorisationConstraintsSpecification{(:x, :y, :z, :r), Tuple{FactorisationConstraintsEntry{(:x, :y), Tuple{Pair{Symbol, Nothing}, Pair{Symbol, Nothing}}}, FactorisationConstraintsEntry{(:z, :r), Tuple{Pair{Symbol, Nothing}, Pair{Symbol, Nothing}}}}}}, Tuple{}})",
      "    @ Main ./In[3]:9",
      " [16] show",
      "    @ ./multimedia.jl:47 [inlined]",
      " [17] limitstringmime(mime::MIME{Symbol(\"text/plain\")}, x::ConstraintsSpecification{Tuple{FactorisationConstraintsSpecification{(:x,), Tuple{FactorisationConstraintsEntry{(:x,), Tuple{Pair{Symbol, Int64}}}, FactorisationConstraintsEntry{(:x, :x), Tuple{Pair{Symbol, Int64}, Pair{Symbol, Int64}}}}}, FactorisationConstraintsSpecification{(:x, :y, :z, :r), Tuple{FactorisationConstraintsEntry{(:x, :y), Tuple{Pair{Symbol, Nothing}, Pair{Symbol, Nothing}}}, FactorisationConstraintsEntry{(:z, :r), Tuple{Pair{Symbol, Nothing}, Pair{Symbol, Nothing}}}}}}, Tuple{}})",
      "    @ IJulia ~/.julia/packages/IJulia/e8kqU/src/inline.jl:43",
      " [18] display_mimestring",
      "    @ ~/.julia/packages/IJulia/e8kqU/src/display.jl:71 [inlined]",
      " [19] display_dict(x::ConstraintsSpecification{Tuple{FactorisationConstraintsSpecification{(:x,), Tuple{FactorisationConstraintsEntry{(:x,), Tuple{Pair{Symbol, Int64}}}, FactorisationConstraintsEntry{(:x, :x), Tuple{Pair{Symbol, Int64}, Pair{Symbol, Int64}}}}}, FactorisationConstraintsSpecification{(:x, :y, :z, :r), Tuple{FactorisationConstraintsEntry{(:x, :y), Tuple{Pair{Symbol, Nothing}, Pair{Symbol, Nothing}}}, FactorisationConstraintsEntry{(:z, :r), Tuple{Pair{Symbol, Nothing}, Pair{Symbol, Nothing}}}}}}, Tuple{}})",
      "    @ IJulia ~/.julia/packages/IJulia/e8kqU/src/display.jl:102",
      " [20] #invokelatest#2",
      "    @ ./essentials.jl:716 [inlined]",
      " [21] invokelatest",
      "    @ ./essentials.jl:714 [inlined]",
      " [22] execute_request(socket::ZMQ.Socket, msg::IJulia.Msg)",
      "    @ IJulia ~/.julia/packages/IJulia/e8kqU/src/execute_request.jl:112",
      " [23] #invokelatest#2",
      "    @ ./essentials.jl:716 [inlined]",
      " [24] invokelatest",
      "    @ ./essentials.jl:714 [inlined]",
      " [25] eventloop(socket::ZMQ.Socket)",
      "    @ IJulia ~/.julia/packages/IJulia/e8kqU/src/eventloop.jl:8",
      " [26] (::IJulia.var\"#15#18\")()",
      "    @ IJulia ./task.jl:423"
     ]
    }
   ],
   "source": [
    "@e @constraints function forbench(flag, n)\n",
    "    # q(x) = q(x[1])..q(x[n-2])q(x[n-1], x[n])\n",
    "    q(x) = q(x[n-2])q(x[n-1], x[n])\n",
    "    q(x, y, z, r) = q(x, y)q(z, r)\n",
    "end\n",
    "\n",
    "@time forbench(true, 2)\n",
    "@time forbench(true, 2)\n",
    "\n",
    "cs = forbench(true, 2)"
   ]
  },
  {
   "cell_type": "code",
   "execution_count": null,
   "metadata": {},
   "outputs": [],
   "source": []
  },
  {
   "cell_type": "code",
   "execution_count": 12,
   "metadata": {},
   "outputs": [
    {
     "data": {
      "text/plain": [
       ".. (generic function with 1 method)"
      ]
     },
     "execution_count": 12,
     "metadata": {},
     "output_type": "execute_result"
    }
   ],
   "source": [
    "..(a::Int, b::Int) = a + b"
   ]
  },
  {
   "cell_type": "code",
   "execution_count": 13,
   "metadata": {},
   "outputs": [
    {
     "name": "stdout",
     "output_type": "stream",
     "text": [
      "MethodInstance for forbench(::Bool, ::Int64)\n",
      "  from forbench(flag, n) in Main at In[9]:129\n",
      "Arguments\n",
      "  #self#\u001b[36m::Core.Const(forbench)\u001b[39m\n",
      "  flag\u001b[36m::Bool\u001b[39m\n",
      "  n\u001b[36m::Int64\u001b[39m\n",
      "Locals\n",
      "  q(x, y, z, r)#294\u001b[36m::Nothing\u001b[39m\n",
      "  q(x)#293\u001b[36m::Nothing\u001b[39m\n",
      "  factorisation_constraint#292\u001b[36m::Tuple{}\u001b[39m\n",
      "  form_constraint#291\u001b[36m::Tuple{}\u001b[39m\n",
      "Body\u001b[36m::Union{}\u001b[39m\n",
      "\u001b[90m1 ─\u001b[39m       (form_constraint#291 = ())\n",
      "\u001b[90m│  \u001b[39m       (factorisation_constraint#292 = ())\n",
      "\u001b[90m│  \u001b[39m       (q(x)#293 = Main.nothing)\n",
      "\u001b[90m│  \u001b[39m       (q(x, y, z, r)#294 = Main.nothing)\n",
      "\u001b[90m│  \u001b[39m %5  = (q(x)#293 === Main.nothing)\u001b[36m::Core.Const(true)\u001b[39m\n",
      "\u001b[90m│  \u001b[39m       Core.typeassert(%5, Core.Bool)\n",
      "\u001b[90m└──\u001b[39m       goto #3\n",
      "\u001b[90m2 ─\u001b[39m       Core.Const(:(Base.string(\"Factorisation constraints specification \", \"q(x)\", \" = ... has been redefined.\")))\n",
      "\u001b[90m└──\u001b[39m       Core.Const(:(Main.error(%8)))\n",
      "\u001b[90m3 ┄\u001b[39m %10 = (:x,)\u001b[36m::Core.Const((:x,))\u001b[39m\n",
      "\u001b[90m│  \u001b[39m       Main.Val(%10)\n",
      "\u001b[90m│  \u001b[39m %12 = (n - 2)\u001b[36m::Int64\u001b[39m\n",
      "\u001b[90m│  \u001b[39m %13 = (:x => %12)\u001b[36m::Core.PartialStruct(Pair{Symbol, Int64}, Any[Core.Const(:x), Int64])\u001b[39m\n",
      "\u001b[90m│  \u001b[39m %14 = Core.tuple(%13)\u001b[36m::Core.PartialStruct(Tuple{Pair{Symbol, Int64}}, Any[Core.PartialStruct(Pair{Symbol, Int64}, Any[Core.Const(:x), Int64])])\u001b[39m\n",
      "\u001b[90m│  \u001b[39m       Main.FactorisationConstraintsEntry(%14)\n",
      "\u001b[90m│  \u001b[39m       Core.Const(:(Core.tuple(%15)))\n",
      "\u001b[90m│  \u001b[39m       Core.Const(:(n - 1))\n",
      "\u001b[90m│  \u001b[39m       Core.Const(:(:x => %17))\n",
      "\u001b[90m│  \u001b[39m       Core.Const(:(:x => n))\n",
      "\u001b[90m│  \u001b[39m       Core.Const(:(Core.tuple(%18, %19)))\n",
      "\u001b[90m│  \u001b[39m       Core.Const(:(Main.FactorisationConstraintsEntry(%20)))\n",
      "\u001b[90m│  \u001b[39m       Core.Const(:(Core.tuple(%21)))\n",
      "\u001b[90m│  \u001b[39m       Core.Const(:(%16 * %22))\n",
      "\u001b[90m│  \u001b[39m       Core.Const(:(q(x)#293 = Main.FactorisationConstraintsSpecification(%11, %23)))\n",
      "\u001b[90m│  \u001b[39m       Core.Const(:(factorisation_constraint#292))\n",
      "\u001b[90m│  \u001b[39m       Core.Const(:(Core.tuple(q(x)#293)))\n",
      "\u001b[90m│  \u001b[39m       Core.Const(:(factorisation_constraint#292 = Core._apply_iterate(Base.iterate, Core.tuple, %25, %26)))\n",
      "\u001b[90m│  \u001b[39m       Core.Const(:(q(x, y, z, r)#294 === Main.nothing))\n",
      "\u001b[90m│  \u001b[39m       Core.Const(:(Core.typeassert(%28, Core.Bool)))\n",
      "\u001b[90m│  \u001b[39m       Core.Const(:(goto %33))\n",
      "\u001b[90m│  \u001b[39m       Core.Const(:(Base.string(\"Factorisation constraints specification \", \"q(x, y, z, r)\", \" = ... has been redefined.\")))\n",
      "\u001b[90m│  \u001b[39m       Core.Const(:(Main.error(%31)))\n",
      "\u001b[90m│  \u001b[39m       Core.Const((:x, :y, :z, :r))\n",
      "\u001b[90m│  \u001b[39m       Core.Const(:(Main.Val(%33)))\n",
      "\u001b[90m│  \u001b[39m       Core.Const(:(:x => Main.nothing))\n",
      "\u001b[90m│  \u001b[39m       Core.Const(:(:y => Main.nothing))\n",
      "\u001b[90m│  \u001b[39m       Core.Const(:(Core.tuple(%35, %36)))\n",
      "\u001b[90m│  \u001b[39m       Core.Const(:(Main.FactorisationConstraintsEntry(%37)))\n",
      "\u001b[90m│  \u001b[39m       Core.Const(:(Core.tuple(%38)))\n",
      "\u001b[90m│  \u001b[39m       Core.Const(:(:z => Main.nothing))\n",
      "\u001b[90m│  \u001b[39m       Core.Const(:(:r => Main.nothing))\n",
      "\u001b[90m│  \u001b[39m       Core.Const(:(Core.tuple(%40, %41)))\n",
      "\u001b[90m│  \u001b[39m       Core.Const(:(Main.FactorisationConstraintsEntry(%42)))\n",
      "\u001b[90m│  \u001b[39m       Core.Const(:(Core.tuple(%43)))\n",
      "\u001b[90m│  \u001b[39m       Core.Const(:(%39 * %44))\n",
      "\u001b[90m│  \u001b[39m       Core.Const(:(q(x, y, z, r)#294 = Main.FactorisationConstraintsSpecification(%34, %45)))\n",
      "\u001b[90m│  \u001b[39m       Core.Const(:(factorisation_constraint#292))\n",
      "\u001b[90m│  \u001b[39m       Core.Const(:(Core.tuple(q(x, y, z, r)#294)))\n",
      "\u001b[90m│  \u001b[39m       Core.Const(:(factorisation_constraint#292 = Core._apply_iterate(Base.iterate, Core.tuple, %47, %48)))\n",
      "\u001b[90m│  \u001b[39m       Core.Const(:(Main.ConstraintsSpecification(factorisation_constraint#292, form_constraint#291)))\n",
      "\u001b[90m└──\u001b[39m       Core.Const(:(return %50))\n",
      "\n"
     ]
    }
   ],
   "source": [
    "@code_warntype forbench(true, 2)"
   ]
  },
  {
   "cell_type": "code",
   "execution_count": null,
   "metadata": {},
   "outputs": [],
   "source": []
  }
 ],
 "metadata": {
  "kernelspec": {
   "display_name": "Julia 1.7.2",
   "language": "julia",
   "name": "julia-1.7"
  },
  "language_info": {
   "file_extension": ".jl",
   "mimetype": "application/julia",
   "name": "julia",
   "version": "1.7.2"
  }
 },
 "nbformat": 4,
 "nbformat_minor": 4
}
