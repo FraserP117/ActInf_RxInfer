{
 "cells": [
  {
   "cell_type": "code",
   "execution_count": 1,
   "metadata": {},
   "outputs": [],
   "source": [
    "using MacroTools\n",
    "using BenchmarkTools \n",
    "\n",
    "import MacroTools: prewalk, postwalk"
   ]
  },
  {
   "cell_type": "code",
   "execution_count": 2,
   "metadata": {},
   "outputs": [
    {
     "data": {
      "text/plain": [
       "@e (macro with 1 method)"
      ]
     },
     "execution_count": 2,
     "metadata": {},
     "output_type": "execute_result"
    }
   ],
   "source": [
    "macro e(something)\n",
    "    if something.head === :macrocall\n",
    "        return esc(:(println(MacroTools.prettify(@macroexpand $something)); $something))\n",
    "    end\n",
    "    return esc(something)\n",
    "end"
   ]
  },
  {
   "cell_type": "code",
   "execution_count": 132,
   "metadata": {},
   "outputs": [
    {
     "data": {
      "text/plain": [
       "make_factorisation_split (generic function with 1 method)"
      ]
     },
     "execution_count": 132,
     "metadata": {},
     "output_type": "execute_result"
    }
   ],
   "source": [
    "__range_io_helper(value::Integer) = value\n",
    "__range_io_helper(value::typeof(firstindex)) = :begin\n",
    "__range_io_helper(value::typeof(lastindex)) = :end\n",
    "\n",
    "struct CombinedRange{L, R}\n",
    "    from :: L\n",
    "    to   :: R\n",
    "end\n",
    "\n",
    "Base.show(io::IO, range::CombinedRange) = print(io, __range_io_helper(range.from), \":\", __range_io_helper(range.to)\n",
    "\n",
    "make_combined_range(l, r) = :(CombinedRange($l, $r))\n",
    "\n",
    "struct SplittedRange{L, R}\n",
    "    from :: L\n",
    "    to   :: R\n",
    "end\n",
    "\n",
    "Base.show(io::IO, range::SplittedRange) = print(io, range.from, \"..\", range.to)\n",
    "\n",
    "make_splitted_range(l, r) = :(SplittedRange($l, $r))\n",
    "make_factorisation_split(l, r) = :(factorisation_split($l, $r))"
   ]
  },
  {
   "cell_type": "code",
   "execution_count": null,
   "metadata": {},
   "outputs": [],
   "source": []
  },
  {
   "cell_type": "code",
   "execution_count": 118,
   "metadata": {},
   "outputs": [],
   "source": [
    "struct ConstraintsSpecification{F, M}\n",
    "    factorisation :: F\n",
    "    form :: M\n",
    "end\n",
    "\n",
    "function Base.show(io::IO, specification::ConstraintsSpecification) \n",
    "    print(io, \"Constraints:\\n\\tform: $(specification.form)\\n\")\n",
    "    print(io, \"\\tfactorisation\\n\")\n",
    "    foreach(specification.factorisation) do f\n",
    "        print(io, \"\\t\\t\", f, \"\\n\")\n",
    "    end\n",
    "end"
   ]
  },
  {
   "cell_type": "code",
   "execution_count": 141,
   "metadata": {},
   "outputs": [
    {
     "data": {
      "text/plain": [
       "(2, 3, 4)"
      ]
     },
     "execution_count": 141,
     "metadata": {},
     "output_type": "execute_result"
    }
   ],
   "source": [
    "a = (1, 2, 3)\n",
    "b = (2, 3, 4)"
   ]
  },
  {
   "cell_type": "code",
   "execution_count": 144,
   "metadata": {},
   "outputs": [
    {
     "data": {
      "text/plain": [
       "3-element Vector{Int64}:\n",
       " 3\n",
       " 5\n",
       " 7"
      ]
     },
     "execution_count": 144,
     "metadata": {},
     "output_type": "execute_result"
    }
   ],
   "source": [
    "map(e -> +(e...), zip(a, b))"
   ]
  },
  {
   "cell_type": "code",
   "execution_count": 192,
   "metadata": {},
   "outputs": [],
   "source": [
    "struct FactorisationConstraintsEntry{N, T}\n",
    "    indices :: T\n",
    "end\n",
    "\n",
    "getnames(entry::FactorisationConstraintsEntry{N}) where N = N\n",
    "getindices(entry::FactorisationConstraintsEntry) = entry.indices\n",
    "\n",
    "Base.:(*)(left::Tuple{Vararg{T where T <: FactorisationConstraintsEntry}}, right::Tuple{Vararg{T where T <: FactorisationConstraintsEntry}}) = (left..., right...)\n",
    "\n",
    "FactorisationConstraintsEntry(::Val{N}, indices::T) where { N, T } = FactorisationConstraintsEntry{N, T}(indices)\n",
    "\n",
    "make_factorisation_constraint_entry(N, T) = :(FactorisationConstraintsEntry($N, $T))\n",
    "\n",
    "__io_entry_pair(pair::Tuple)                    = __io_entry_pair(first(pair), last(pair))\n",
    "__io_entry_pair(symbol::Symbol, ::Nothing)      = string(symbol)\n",
    "__io_entry_pair(symbol::Symbol, index::Integer) = string(symbol, \"[\", index, \"]\")\n",
    "__io_entry_pair(symbol::Symbol, index::typeof(firstindex)) = string(symbol, \"[begin]\")\n",
    "__io_entry_pair(symbol::Symbol, index::typeof(lastindex)) = string(symbol, \"[end]\")\n",
    "__io_entry_pair(symbol::Symbol, range::CombinedRange) = string(symbol, \"[\", range, \"]\")\n",
    "__io_entry_pair(symbol::Symbol, range::SplittedRange) = string(symbol, \"[\", range, \"]\")\n",
    "\n",
    "function Base.show(io::IO, entry::FactorisationConstraintsEntry{Names}) where Names\n",
    "    print(io, \"q(\")\n",
    "    entries = map(__io_entry_pair, zip(Names, entry.indices))\n",
    "    join(io, entries, \", \")\n",
    "    print(io, \")\")\n",
    "end"
   ]
  },
  {
   "cell_type": "code",
   "execution_count": 193,
   "metadata": {},
   "outputs": [
    {
     "data": {
      "text/plain": [
       "make_factorisation_constraint (generic function with 1 method)"
      ]
     },
     "execution_count": 193,
     "metadata": {},
     "output_type": "execute_result"
    }
   ],
   "source": [
    "struct FactorisationConstraintsSpecification{N, E}\n",
    "    entries :: E\n",
    "end\n",
    "\n",
    "Base.:(*)(left::FactorisationConstraintsSpecification, right::NTuple{N2, <: FactorisationConstraintsEntry}) where { N1, N2 } = (left, right...)\n",
    "Base.:(*)(left::NTuple{N1, <: FactorisationConstraintsEntry}, right::FactorisationConstraintsSpecification) where { N1, N2 } = (left..., right)\n",
    "\n",
    "function Base.show(io::IO, factorisation::FactorisationConstraintsSpecification{Names}) where Names\n",
    "    \n",
    "    print(io, \"q(\")\n",
    "    join(io, Names, \", \")\n",
    "    print(io, \")\")\n",
    "    \n",
    "    compact = get(io, :compact, false)\n",
    "    \n",
    "    if !compact \n",
    "        print(io, \" = \")\n",
    "        foreach(factorisation.entries) do e\n",
    "            print(IOContext(io, :compact => true), e)\n",
    "        end\n",
    "    end\n",
    "    \n",
    "end\n",
    "\n",
    "FactorisationConstraintsSpecification(::Val{N}, entries::E) where { N, E } = FactorisationConstraintsSpecification{N, E}(entries)\n",
    "    \n",
    "make_factorisation_constraint(N, E) = :(FactorisationConstraintsSpecification($N, $E))"
   ]
  },
  {
   "cell_type": "code",
   "execution_count": 194,
   "metadata": {},
   "outputs": [],
   "source": [
    "using Unrolled"
   ]
  },
  {
   "cell_type": "code",
   "execution_count": 225,
   "metadata": {},
   "outputs": [
    {
     "data": {
      "text/plain": [
       "factorisation_split (generic function with 1 method)"
      ]
     },
     "execution_count": 225,
     "metadata": {},
     "output_type": "execute_result"
    }
   ],
   "source": [
    "# Split related functions\n",
    "\n",
    "Base.:(*)(left::Tuple{Vararg{T where T <: FactorisationConstraintsEntry}}, right::Tuple{Vararg{T where T <: FactorisationConstraintsEntry}}) = (left..., right...)\n",
    "\n",
    "# Only these combinations are allowed to be merged\n",
    "__factorisation_split_merge_range(a::Int, b::Int)                              = SplittedRange(a, b)\n",
    "__factorisation_split_merge_range(a::typeof(firstindex), b::Int)               = SplittedRange(a, b)\n",
    "__factorisation_split_merge_range(a::Int, b::typeof(lastindex))                = SplittedRange(a, b)\n",
    "__factorisation_split_merge_range(a::typeof(firstindex), b::typeof(lastindex)) = SplittedRange(a, b)\n",
    "__factorisation_split_merge_range(a::Any, b::Any) = error(\"Cannot merge $(a) and $(b) indexes in `factorisation_split`\")\n",
    "\n",
    "function factorisation_split(left::Tuple{Vararg{T where T <: FactorisationConstraintsEntry}}, right::Tuple{Vararg{T where T <: FactorisationConstraintsEntry}})\n",
    "    left_last   = last(left)\n",
    "    right_first = first(right)\n",
    "    (getnames(left_last) === getnames(right_first)) || error(\"Cannot split $(left_last) and $(right_first).\")\n",
    "    lindices = getindices(left_last)\n",
    "    rindices = getindices(right_first)\n",
    "    split_merged = unrolled_map(__factorisation_split_merge_range, lindices, rindices)\n",
    "    return (left[1:end - 1]..., FactorisationConstraintsEntry(Val(getnames(left_last)), split_merged), right[begin+1:end])\n",
    "end"
   ]
  },
  {
   "cell_type": "code",
   "execution_count": 226,
   "metadata": {},
   "outputs": [
    {
     "data": {
      "text/plain": [
       "make_constraints_specification (generic function with 1 method)"
      ]
     },
     "execution_count": 226,
     "metadata": {},
     "output_type": "execute_result"
    }
   ],
   "source": [
    "struct ReactiveMPBackend end\n",
    "\n",
    "__get_current_backend() = ReactiveMPBackend()\n",
    "\n",
    "macro constraints(constraints_specification)\n",
    "    return generate_constraints_expression(__get_current_backend(), constraints_specification)\n",
    "end\n",
    "\n",
    "make_constraints_specification(factorisation, form) = :(ConstraintsSpecification($factorisation, $form))"
   ]
  },
  {
   "cell_type": "code",
   "execution_count": 227,
   "metadata": {},
   "outputs": [
    {
     "data": {
      "text/plain": [
       "isref (generic function with 1 method)"
      ]
     },
     "execution_count": 227,
     "metadata": {},
     "output_type": "execute_result"
    }
   ],
   "source": [
    "isexpr(expr::Expr) = true\n",
    "isexpr()           = false\n",
    "\n",
    "ishead(something, head) = isexpr(something) && something.head === head\n",
    "\n",
    "isblock(something) = ishead(something, :block)\n",
    "isref(something) = ishead(something, :ref)"
   ]
  },
  {
   "cell_type": "code",
   "execution_count": 228,
   "metadata": {},
   "outputs": [],
   "source": [
    "struct LHSMeta\n",
    "    name :: String\n",
    "    hash :: UInt\n",
    "    varname :: Symbol\n",
    "end"
   ]
  },
  {
   "cell_type": "code",
   "execution_count": 229,
   "metadata": {},
   "outputs": [],
   "source": [
    "# TODO: check for intersections of ranges during an actual execution"
   ]
  },
  {
   "cell_type": "code",
   "execution_count": 230,
   "metadata": {},
   "outputs": [
    {
     "data": {
      "text/plain": [
       "generate_constraints_expression (generic function with 1 method)"
      ]
     },
     "execution_count": 230,
     "metadata": {},
     "output_type": "execute_result"
    }
   ],
   "source": [
    "function generate_constraints_expression(backend, constraints_specification)\n",
    "\n",
    "    if isblock(constraints_specification)\n",
    "        generatedfname = gensym(:constraints)\n",
    "        generatedfbody = :(function $(generatedfname)() $constraints_specification end)\n",
    "        return :($(generate_constraints_expression(backend, generatedfbody))())\n",
    "    end\n",
    "\n",
    "    @capture(constraints_specification, (function cs_name_(cs_args__; cs_kwargs__) cs_body_ end) | (function cs_name_(cs_args__) cs_body_ end)) || \n",
    "        error(\"Constraints specification language requires full function definition\")\n",
    "    \n",
    "    cs_args   = cs_args === nothing ? [] : cs_args\n",
    "    cs_kwargs = cs_kwargs === nothing ? [] : cs_kwargs\n",
    "    \n",
    "    lhs_dict = Dict{UInt, LHSMeta}()\n",
    "    \n",
    "    # We iteratively overwrite extend form constraint tuple, but we use different names for it to enable type-stability\n",
    "    form_constraints_symbol      = gensym(:form_constraint)\n",
    "    form_constraints_symbol_init = :($form_constraints_symbol = ())\n",
    "    \n",
    "    # We iteratively overwrite extend factorisation constraint tuple, but we use different names for it to enable type-stability\n",
    "    factorisation_constraints_symbol      = gensym(:factorisation_constraint)\n",
    "    factorisation_constraints_symbol_init = :($factorisation_constraints_symbol = ())\n",
    "    \n",
    "    # First we record all lhs expression's hash ids and create unique variable names for them\n",
    "    # q(x, y) = q(x)q(y) -> hash(q(x, y))\n",
    "    # We do allow multiple definitions in case of if statements, but we do check later overwrites, which are not allowed\n",
    "    cs_body = postwalk(cs_body) do expression\n",
    "        # We also do a simple sanity check right now, names should be an array of Symbols only\n",
    "        if @capture(expression, lhs_ = rhs_) && @capture(lhs, q(names__))\n",
    "            \n",
    "            (length(names) !== 0 && all(name -> name isa Symbol, names)) || \n",
    "                error(\"\"\"Error in factorisation constraints specification $(lhs_name) = ...\\nLeft hand side of the equality expression should have only variable identifiers.\"\"\")\n",
    "            \n",
    "            # We replace '..' in RHS expression with `make_factorisation_split`\n",
    "            rhs = postwalk(rhs) do rexpr\n",
    "                if @capture(rexpr, a_ .. b_)\n",
    "                    return make_factorisation_split(a, b)\n",
    "                end\n",
    "                return rexpr\n",
    "            end\n",
    "            \n",
    "            lhs_names = Set{Symbol}(names)\n",
    "            rhs_names = Set{Symbol}()\n",
    "            \n",
    "            # We do a simple check to be sure that LHS and RHS has the exact same set of names\n",
    "            # We also check here that all indices are either a simple Symbol or an indexing expression here\n",
    "            rhs = postwalk(rhs) do entry\n",
    "                if @capture(entry, q(indices__))\n",
    "                    for index in indices\n",
    "                        if index isa Symbol\n",
    "                            (index ∉ rhs_names) || error(\"RHS of the $(expression) expression used $(index) without indexing twice, which is not allowed. Try to decompose factorisation constraint expression into several subexpression.\")\n",
    "                            push!(rhs_names, index)\n",
    "                            (index ∉ lhs_names) && error(\"LHS of the $(expression) expression does not have $(index) variable, but is used in RHS.\")\n",
    "                        elseif isref(index)\n",
    "                            push!(rhs_names, first(index.args))\n",
    "                            (first(index.args) ∉ lhs_names) && error(\"LHS of the $(expression) expression does not have $(first(index.args)) variable, but is used in RHS.\")\n",
    "                        else\n",
    "                           error(\"Cannot parse expression $(index) in the RHS $(rhs) expression. Index expression should be either a single variable symbol or an indexing expression.\") \n",
    "                        end\n",
    "                    end\n",
    "                end\n",
    "                return entry\n",
    "            end\n",
    "            \n",
    "            (lhs_names == rhs_names) || error(\"LHS and RHS of the $(expression) expression has different set of variables.\")\n",
    "            \n",
    "            lhs_hash = hash(lhs)\n",
    "            lhs_meta = if haskey(lhs_dict, lhs_hash)\n",
    "                lhs_dict[ lhs_hash ]\n",
    "            else\n",
    "                lhs_name = string(\"q(\", join(names, \", \"), \")\")\n",
    "                lhs_varname = gensym(lhs_name)\n",
    "                lhs_meta = LHSMeta(lhs_name, lhs_hash, lhs_varname)\n",
    "                lhs_dict[lhs_hash] = lhs_meta\n",
    "            end\n",
    "            \n",
    "            lhs_name = lhs_meta.name\n",
    "            lhs_varname = lhs_meta.varname\n",
    "            \n",
    "            new_factorisation_specification = make_factorisation_constraint(:(Val(($(map(QuoteNode, names)...),))), rhs)\n",
    "            \n",
    "            result = quote \n",
    "                ($(lhs_varname) === nothing) || error(\"Factorisation constraints specification $($lhs_name) = ... has been redefined.\")\n",
    "                $(lhs_varname) = $(new_factorisation_specification)\n",
    "                $factorisation_constraints_symbol = ($factorisation_constraints_symbol..., $(lhs_varname))\n",
    "            end\n",
    "            \n",
    "            return result\n",
    "        end\n",
    "        return expression\n",
    "    end\n",
    "    \n",
    "    # This block write initial variables for factorisation specification\n",
    "    cs_lhs_init_block = map(collect(lhs_dict)) do pair\n",
    "        lhs_meta = last(pair)\n",
    "        lhs_varname = lhs_meta.varname\n",
    "        return quote \n",
    "            $(lhs_varname) = nothing\n",
    "        end\n",
    "    end\n",
    "    \n",
    "    cs_body = prewalk(cs_body) do expression\n",
    "        if @capture(expression, q(args__))\n",
    "            expr_hash = hash(expression)\n",
    "            if haskey(lhs_dict, expr_hash)\n",
    "                lhs_meta = lhs_dict[ expr_hash ]\n",
    "                lhs_name = lhs_meta.name\n",
    "                lhs_varname = lhs_meta.varname\n",
    "                return lhs_varname\n",
    "            else\n",
    "                rhs_prod_names = Symbol[]\n",
    "                rhs_prod_entries_args = map(args) do arg\n",
    "                    if arg isa Symbol\n",
    "                        push!(rhs_prod_names, arg)\n",
    "                        return :(nothing)\n",
    "                    elseif isref(arg)\n",
    "                        (length(arg.args) === 2) || error(\"Indexing expression $(expression) is too difficult to parse and is not supported (yet?).\")\n",
    "                        push!(rhs_prod_names, first(arg.args))\n",
    "                        \n",
    "                        index = last(arg.args)\n",
    "                        \n",
    "                        # First we replace all `begin` and `end` with `firstindex` and `lastindex` functions\n",
    "                        index = postwalk(index) do iexpr\n",
    "                            if iexpr isa Symbol && iexpr === :begin\n",
    "                                return :(firstindex)\n",
    "                            elseif iexpr isa Symbol && iexpr === :end\n",
    "                                return :(lastindex)\n",
    "                            else\n",
    "                                return iexpr\n",
    "                            end\n",
    "                        end\n",
    "                        \n",
    "                        if @capture(index, a_:b_)\n",
    "                            return make_combined_range(a, b)\n",
    "                        elseif @capture(index, firstindex)\n",
    "                            return index\n",
    "                        elseif @capture(index, lastindex)\n",
    "                            return index\n",
    "                        else\n",
    "                            return :(convert(Integer, $index))\n",
    "                        end\n",
    "                    else\n",
    "                        error(\"Cannot parse expression $(index) in the RHS $(rhs) expression. Index expression should be either a single variable symbol or an indexing expression.\") \n",
    "                    end\n",
    "                end\n",
    "                \n",
    "                entry = make_factorisation_constraint_entry(:(Val(($(map(QuoteNode, rhs_prod_names)...), ))), :(($(rhs_prod_entries_args...), )))\n",
    "                \n",
    "                return :(($entry, ))\n",
    "            end\n",
    "        end\n",
    "        return expression\n",
    "    end\n",
    "    \n",
    "    return_specification = make_constraints_specification(factorisation_constraints_symbol, form_constraints_symbol)\n",
    "    \n",
    "    res = quote\n",
    "         function $cs_name($(cs_args...); $(cs_kwargs...))\n",
    "            $(form_constraints_symbol_init)\n",
    "            $(factorisation_constraints_symbol_init)\n",
    "            $(cs_lhs_init_block...)\n",
    "            $(cs_body)\n",
    "            $(return_specification)\n",
    "        end \n",
    "    end\n",
    "    \n",
    "    return esc(res)\n",
    "end"
   ]
  },
  {
   "cell_type": "code",
   "execution_count": 231,
   "metadata": {},
   "outputs": [
    {
     "name": "stdout",
     "output_type": "stream",
     "text": [
      "  0.000003 seconds\n",
      "  0.000001 seconds\n"
     ]
    },
    {
     "data": {
      "text/plain": [
       "Constraints:\n",
       "\tform: ()\n",
       "\tfactorisation\n",
       "\t\tq(x, y) = q(x[firstindex..lastindex])(q(y),)\n",
       "\t\tq(x, y, z, r) = q(x, y)q(z, r)\n"
      ]
     },
     "execution_count": 231,
     "metadata": {},
     "output_type": "execute_result"
    }
   ],
   "source": [
    "@constraints function forbench(flag, n)\n",
    "    # q(x) = q(x[1])..q(x[n-2])q(x[n-1], x[n])\n",
    "    q(x, y) = q(x[begin])..q(x[end])q(y)\n",
    "    q(x, y, z, r) = q(x, y)q(z, r)\n",
    "end\n",
    "\n",
    "@time forbench(true, 2)\n",
    "@time forbench(true, 2)\n",
    "\n",
    "cs = forbench(true, 2)"
   ]
  },
  {
   "cell_type": "code",
   "execution_count": 232,
   "metadata": {},
   "outputs": [
    {
     "name": "stdout",
     "output_type": "stream",
     "text": [
      "ConstraintsSpecification{Tuple{FactorisationConstraintsSpecification{(:x, :y), Tuple{FactorisationConstraintsEntry{(:x,), Tuple{SplittedRange{typeof(firstindex), typeof(lastindex)}}}, Tuple{FactorisationConstraintsEntry{(:y,), Tuple{Nothing}}}}}, FactorisationConstraintsSpecification{(:x, :y, :z, :r), Tuple{FactorisationConstraintsSpecification{(:x, :y), Tuple{FactorisationConstraintsEntry{(:x,), Tuple{SplittedRange{typeof(firstindex), typeof(lastindex)}}}, Tuple{FactorisationConstraintsEntry{(:y,), Tuple{Nothing}}}}}, FactorisationConstraintsEntry{(:z, :r), Tuple{Nothing, Nothing}}}}}, Tuple{}}\n",
      "  factorisation: Tuple{FactorisationConstraintsSpecification{(:x, :y), Tuple{FactorisationConstraintsEntry{(:x,), Tuple{SplittedRange{typeof(firstindex), typeof(lastindex)}}}, Tuple{FactorisationConstraintsEntry{(:y,), Tuple{Nothing}}}}}, FactorisationConstraintsSpecification{(:x, :y, :z, :r), Tuple{FactorisationConstraintsSpecification{(:x, :y), Tuple{FactorisationConstraintsEntry{(:x,), Tuple{SplittedRange{typeof(firstindex), typeof(lastindex)}}}, Tuple{FactorisationConstraintsEntry{(:y,), Tuple{Nothing}}}}}, FactorisationConstraintsEntry{(:z, :r), Tuple{Nothing, Nothing}}}}}\n",
      "    1: FactorisationConstraintsSpecification{(:x, :y), Tuple{FactorisationConstraintsEntry{(:x,), Tuple{SplittedRange{typeof(firstindex), typeof(lastindex)}}}, Tuple{FactorisationConstraintsEntry{(:y,), Tuple{Nothing}}}}}\n",
      "      entries: Tuple{FactorisationConstraintsEntry{(:x,), Tuple{SplittedRange{typeof(firstindex), typeof(lastindex)}}}, Tuple{FactorisationConstraintsEntry{(:y,), Tuple{Nothing}}}}\n",
      "        1: FactorisationConstraintsEntry{(:x,), Tuple{SplittedRange{typeof(firstindex), typeof(lastindex)}}}\n",
      "          indices: Tuple{SplittedRange{typeof(firstindex), typeof(lastindex)}}\n",
      "            1: SplittedRange{typeof(firstindex), typeof(lastindex)}\n",
      "              from: firstindex (function of type typeof(firstindex))\n",
      "              to: lastindex (function of type typeof(lastindex))\n",
      "        2: Tuple{FactorisationConstraintsEntry{(:y,), Tuple{Nothing}}}\n",
      "          1: FactorisationConstraintsEntry{(:y,), Tuple{Nothing}}\n",
      "            indices: Tuple{Nothing}\n",
      "              1: Nothing nothing\n",
      "    2: FactorisationConstraintsSpecification{(:x, :y, :z, :r), Tuple{FactorisationConstraintsSpecification{(:x, :y), Tuple{FactorisationConstraintsEntry{(:x,), Tuple{SplittedRange{typeof(firstindex), typeof(lastindex)}}}, Tuple{FactorisationConstraintsEntry{(:y,), Tuple{Nothing}}}}}, FactorisationConstraintsEntry{(:z, :r), Tuple{Nothing, Nothing}}}}\n",
      "      entries: Tuple{FactorisationConstraintsSpecification{(:x, :y), Tuple{FactorisationConstraintsEntry{(:x,), Tuple{SplittedRange{typeof(firstindex), typeof(lastindex)}}}, Tuple{FactorisationConstraintsEntry{(:y,), Tuple{Nothing}}}}}, FactorisationConstraintsEntry{(:z, :r), Tuple{Nothing, Nothing}}}\n",
      "        1: FactorisationConstraintsSpecification{(:x, :y), Tuple{FactorisationConstraintsEntry{(:x,), Tuple{SplittedRange{typeof(firstindex), typeof(lastindex)}}}, Tuple{FactorisationConstraintsEntry{(:y,), Tuple{Nothing}}}}}\n",
      "          entries: Tuple{FactorisationConstraintsEntry{(:x,), Tuple{SplittedRange{typeof(firstindex), typeof(lastindex)}}}, Tuple{FactorisationConstraintsEntry{(:y,), Tuple{Nothing}}}}\n",
      "            1: FactorisationConstraintsEntry{(:x,), Tuple{SplittedRange{typeof(firstindex), typeof(lastindex)}}}\n",
      "              indices: Tuple{SplittedRange{typeof(firstindex), typeof(lastindex)}}\n",
      "                1: SplittedRange{typeof(firstindex), typeof(lastindex)}\n",
      "            2: Tuple{FactorisationConstraintsEntry{(:y,), Tuple{Nothing}}}\n",
      "              1: FactorisationConstraintsEntry{(:y,), Tuple{Nothing}}\n",
      "                indices: Tuple{Nothing}\n",
      "        2: FactorisationConstraintsEntry{(:z, :r), Tuple{Nothing, Nothing}}\n",
      "          indices: Tuple{Nothing, Nothing}\n",
      "            1: Nothing nothing\n",
      "            2: Nothing nothing\n",
      "  form: Tuple{} ()\n"
     ]
    }
   ],
   "source": [
    "dump(cs)"
   ]
  },
  {
   "cell_type": "code",
   "execution_count": 12,
   "metadata": {},
   "outputs": [
    {
     "data": {
      "text/plain": [
       ".. (generic function with 1 method)"
      ]
     },
     "execution_count": 12,
     "metadata": {},
     "output_type": "execute_result"
    }
   ],
   "source": [
    "..(a::Int, b::Int) = a + b"
   ]
  },
  {
   "cell_type": "code",
   "execution_count": 54,
   "metadata": {},
   "outputs": [
    {
     "name": "stdout",
     "output_type": "stream",
     "text": [
      "MethodInstance for forbench(::Bool, ::Int64)\n",
      "  from forbench(flag, n) in Main at In[50]:130\n",
      "Arguments\n",
      "  #self#\u001b[36m::Core.Const(forbench)\u001b[39m\n",
      "  flag\u001b[36m::Bool\u001b[39m\n",
      "  n\u001b[36m::Int64\u001b[39m\n",
      "Locals\n",
      "  q(x, y, z, r)#390\u001b[33m\u001b[1m::Union{Nothing, FactorisationConstraintsSpecification{(:x, :y, :z, :r), Tuple{FactorisationConstraintsEntry{(:x, :y), Tuple{Nothing, Nothing}}, FactorisationConstraintsEntry{(:z, :r), Tuple{Nothing, Nothing}}}}}\u001b[22m\u001b[39m\n",
      "  q(x)#389\u001b[33m\u001b[1m::Union{Nothing, FactorisationConstraintsSpecification{(:x,), Tuple{FactorisationConstraintsEntry{(:x,), Tuple{Int64}}, FactorisationConstraintsEntry{(:x, :x), Tuple{Int64, Int64}}, FactorisationConstraintsEntry{(:x,), Tuple{UnitRange{Int64}}}, FactorisationConstraintsEntry{(:x,), Tuple{Int64}}}}}\u001b[22m\u001b[39m\n",
      "  factorisation_constraint#388\u001b[91m\u001b[1m::Union{Tuple{}, Tuple{FactorisationConstraintsSpecification{(:x,), Tuple{FactorisationConstraintsEntry{(:x,), Tuple{Int64}}, FactorisationConstraintsEntry{(:x, :x), Tuple{Int64, Int64}}, FactorisationConstraintsEntry{(:x,), Tuple{UnitRange{Int64}}}, FactorisationConstraintsEntry{(:x,), Tuple{Int64}}}}}, Tuple{FactorisationConstraintsSpecification{(:x,), Tuple{FactorisationConstraintsEntry{(:x,), Tuple{Int64}}, FactorisationConstraintsEntry{(:x, :x), Tuple{Int64, Int64}}, FactorisationConstraintsEntry{(:x,), Tuple{UnitRange{Int64}}}, FactorisationConstraintsEntry{(:x,), Tuple{Int64}}}}, FactorisationConstraintsSpecification{(:x, :y, :z, :r), Tuple{FactorisationConstraintsEntry{(:x, :y), Tuple{Nothing, Nothing}}, FactorisationConstraintsEntry{(:z, :r), Tuple{Nothing, Nothing}}}}}}\u001b[22m\u001b[39m\n",
      "  form_constraint#387\u001b[36m::Tuple{}\u001b[39m\n",
      "Body\u001b[36m::ConstraintsSpecification{Tuple{FactorisationConstraintsSpecification{(:x,), Tuple{FactorisationConstraintsEntry{(:x,), Tuple{Int64}}, FactorisationConstraintsEntry{(:x, :x), Tuple{Int64, Int64}}, FactorisationConstraintsEntry{(:x,), Tuple{UnitRange{Int64}}}, FactorisationConstraintsEntry{(:x,), Tuple{Int64}}}}, FactorisationConstraintsSpecification{(:x, :y, :z, :r), Tuple{FactorisationConstraintsEntry{(:x, :y), Tuple{Nothing, Nothing}}, FactorisationConstraintsEntry{(:z, :r), Tuple{Nothing, Nothing}}}}}, Tuple{}}\u001b[39m\n",
      "\u001b[90m1 ─\u001b[39m       (form_constraint#387 = ())\n",
      "\u001b[90m│  \u001b[39m       (factorisation_constraint#388 = ())\n",
      "\u001b[90m│  \u001b[39m       (q(x)#389 = Main.nothing)\n",
      "\u001b[90m│  \u001b[39m       (q(x, y, z, r)#390 = Main.nothing)\n",
      "\u001b[90m│  \u001b[39m %5  = (q(x)#389::Core.Const(nothing) === Main.nothing)\u001b[36m::Core.Const(true)\u001b[39m\n",
      "\u001b[90m│  \u001b[39m       Core.typeassert(%5, Core.Bool)\n",
      "\u001b[90m└──\u001b[39m       goto #3\n",
      "\u001b[90m2 ─\u001b[39m       Core.Const(:(Base.string(\"Factorisation constraints specification \", \"q(x)\", \" = ... has been redefined.\")))\n",
      "\u001b[90m└──\u001b[39m       Core.Const(:(Main.error(%8)))\n",
      "\u001b[90m3 ┄\u001b[39m %10 = (:x,)\u001b[36m::Core.Const((:x,))\u001b[39m\n",
      "\u001b[90m│  \u001b[39m %11 = Main.Val(%10)\u001b[36m::Core.Const(Val{(:x,)}())\u001b[39m\n",
      "\u001b[90m│  \u001b[39m %12 = (:x,)\u001b[36m::Core.Const((:x,))\u001b[39m\n",
      "\u001b[90m│  \u001b[39m %13 = Main.Val(%12)\u001b[36m::Core.Const(Val{(:x,)}())\u001b[39m\n",
      "\u001b[90m│  \u001b[39m %14 = (n - 2)\u001b[36m::Int64\u001b[39m\n",
      "\u001b[90m│  \u001b[39m %15 = Core.tuple(%14)\u001b[36m::Tuple{Int64}\u001b[39m\n",
      "\u001b[90m│  \u001b[39m %16 = Main.FactorisationConstraintsEntry(%13, %15)\u001b[36m::FactorisationConstraintsEntry{(:x,), Tuple{Int64}}\u001b[39m\n",
      "\u001b[90m│  \u001b[39m %17 = Core.tuple(%16)\u001b[36m::Tuple{FactorisationConstraintsEntry{(:x,), Tuple{Int64}}}\u001b[39m\n",
      "\u001b[90m│  \u001b[39m %18 = (:x, :x)\u001b[36m::Core.Const((:x, :x))\u001b[39m\n",
      "\u001b[90m│  \u001b[39m %19 = Main.Val(%18)\u001b[36m::Core.Const(Val{(:x, :x)}())\u001b[39m\n",
      "\u001b[90m│  \u001b[39m %20 = (n - 1)\u001b[36m::Int64\u001b[39m\n",
      "\u001b[90m│  \u001b[39m %21 = Core.tuple(%20, n)\u001b[36m::Tuple{Int64, Int64}\u001b[39m\n",
      "\u001b[90m│  \u001b[39m %22 = Main.FactorisationConstraintsEntry(%19, %21)\u001b[36m::FactorisationConstraintsEntry{(:x, :x), Tuple{Int64, Int64}}\u001b[39m\n",
      "\u001b[90m│  \u001b[39m %23 = Core.tuple(%22)\u001b[36m::Tuple{FactorisationConstraintsEntry{(:x, :x), Tuple{Int64, Int64}}}\u001b[39m\n",
      "\u001b[90m│  \u001b[39m %24 = (:x,)\u001b[36m::Core.Const((:x,))\u001b[39m\n",
      "\u001b[90m│  \u001b[39m %25 = Main.Val(%24)\u001b[36m::Core.Const(Val{(:x,)}())\u001b[39m\n",
      "\u001b[90m│  \u001b[39m %26 = (n + 1)\u001b[36m::Int64\u001b[39m\n",
      "\u001b[90m│  \u001b[39m %27 = (2 * n)\u001b[36m::Int64\u001b[39m\n",
      "\u001b[90m│  \u001b[39m %28 = (%26:%27)\u001b[36m::UnitRange{Int64}\u001b[39m\n",
      "\u001b[90m│  \u001b[39m %29 = Core.tuple(%28)\u001b[36m::Tuple{UnitRange{Int64}}\u001b[39m\n",
      "\u001b[90m│  \u001b[39m %30 = Main.FactorisationConstraintsEntry(%25, %29)\u001b[36m::FactorisationConstraintsEntry{(:x,), Tuple{UnitRange{Int64}}}\u001b[39m\n",
      "\u001b[90m│  \u001b[39m %31 = Core.tuple(%30)\u001b[36m::Tuple{FactorisationConstraintsEntry{(:x,), Tuple{UnitRange{Int64}}}}\u001b[39m\n",
      "\u001b[90m│  \u001b[39m %32 = (:x,)\u001b[36m::Core.Const((:x,))\u001b[39m\n",
      "\u001b[90m│  \u001b[39m %33 = Main.Val(%32)\u001b[36m::Core.Const(Val{(:x,)}())\u001b[39m\n",
      "\u001b[90m│  \u001b[39m %34 = Core.tuple(3)\u001b[36m::Core.Const((3,))\u001b[39m\n",
      "\u001b[90m│  \u001b[39m %35 = Main.FactorisationConstraintsEntry(%33, %34)\u001b[36m::Core.Const(q(x[3]))\u001b[39m\n",
      "\u001b[90m│  \u001b[39m %36 = Core.tuple(%35)\u001b[36m::Core.Const((q(x[3]),))\u001b[39m\n",
      "\u001b[90m│  \u001b[39m %37 = (%17 * %23 * %31 * %36)\u001b[36m::Core.PartialStruct(Tuple{FactorisationConstraintsEntry{(:x,), Tuple{Int64}}, FactorisationConstraintsEntry{(:x, :x), Tuple{Int64, Int64}}, FactorisationConstraintsEntry{(:x,), Tuple{UnitRange{Int64}}}, FactorisationConstraintsEntry{(:x,), Tuple{Int64}}}, Any[FactorisationConstraintsEntry{(:x,), Tuple{Int64}}, FactorisationConstraintsEntry{(:x, :x), Tuple{Int64, Int64}}, FactorisationConstraintsEntry{(:x,), Tuple{UnitRange{Int64}}}, Core.Const(q(x[3]))])\u001b[39m\n",
      "\u001b[90m│  \u001b[39m       (q(x)#389 = Main.FactorisationConstraintsSpecification(%11, %37))\n",
      "\u001b[90m│  \u001b[39m %39 = factorisation_constraint#388\u001b[36m::Core.Const(())\u001b[39m\n",
      "\u001b[90m│  \u001b[39m %40 = Core.tuple(q(x)#389::Core.PartialStruct(FactorisationConstraintsSpecification{(:x,), Tuple{FactorisationConstraintsEntry{(:x,), Tuple{Int64}}, FactorisationConstraintsEntry{(:x, :x), Tuple{Int64, Int64}}, FactorisationConstraintsEntry{(:x,), Tuple{UnitRange{Int64}}}, FactorisationConstraintsEntry{(:x,), Tuple{Int64}}}}, Any[Core.PartialStruct(Tuple{FactorisationConstraintsEntry{(:x,), Tuple{Int64}}, FactorisationConstraintsEntry{(:x, :x), Tuple{Int64, Int64}}, FactorisationConstraintsEntry{(:x,), Tuple{UnitRange{Int64}}}, FactorisationConstraintsEntry{(:x,), Tuple{Int64}}}, Any[FactorisationConstraintsEntry{(:x,), Tuple{Int64}}, FactorisationConstraintsEntry{(:x, :x), Tuple{Int64, Int64}}, FactorisationConstraintsEntry{(:x,), Tuple{UnitRange{Int64}}}, Core.Const(q(x[3]))])]))\u001b[36m::Core.PartialStruct(Tuple{FactorisationConstraintsSpecification{(:x,), Tuple{FactorisationConstraintsEntry{(:x,), Tuple{Int64}}, FactorisationConstraintsEntry{(:x, :x), Tuple{Int64, Int64}}, FactorisationConstraintsEntry{(:x,), Tuple{UnitRange{Int64}}}, FactorisationConstraintsEntry{(:x,), Tuple{Int64}}}}}, Any[Core.PartialStruct(FactorisationConstraintsSpecification{(:x,), Tuple{FactorisationConstraintsEntry{(:x,), Tuple{Int64}}, FactorisationConstraintsEntry{(:x, :x), Tuple{Int64, Int64}}, FactorisationConstraintsEntry{(:x,), Tuple{UnitRange{Int64}}}, FactorisationConstraintsEntry{(:x,), Tuple{Int64}}}}, Any[Core.PartialStruct(Tuple{FactorisationConstraintsEntry{(:x,), Tuple{Int64}}, FactorisationConstraintsEntry{(:x, :x), Tuple{Int64, Int64}}, FactorisationConstraintsEntry{(:x,), Tuple{UnitRange{Int64}}}, FactorisationConstraintsEntry{(:x,), Tuple{Int64}}}, Any[FactorisationConstraintsEntry{(:x,), Tuple{Int64}}, FactorisationConstraintsEntry{(:x, :x), Tuple{Int64, Int64}}, FactorisationConstraintsEntry{(:x,), Tuple{UnitRange{Int64}}}, Core.Const(q(x[3]))])])])\u001b[39m\n",
      "\u001b[90m│  \u001b[39m       (factorisation_constraint#388 = Core._apply_iterate(Base.iterate, Core.tuple, %39, %40))\n",
      "\u001b[90m│  \u001b[39m %42 = (q(x, y, z, r)#390::Core.Const(nothing) === Main.nothing)\u001b[36m::Core.Const(true)\u001b[39m\n",
      "\u001b[90m│  \u001b[39m       Core.typeassert(%42, Core.Bool)\n",
      "\u001b[90m└──\u001b[39m       goto #5\n",
      "\u001b[90m4 ─\u001b[39m       Core.Const(:(Base.string(\"Factorisation constraints specification \", \"q(x, y, z, r)\", \" = ... has been redefined.\")))\n",
      "\u001b[90m└──\u001b[39m       Core.Const(:(Main.error(%45)))\n",
      "\u001b[90m5 ┄\u001b[39m %47 = (:x, :y, :z, :r)\u001b[36m::Core.Const((:x, :y, :z, :r))\u001b[39m\n",
      "\u001b[90m│  \u001b[39m %48 = Main.Val(%47)\u001b[36m::Core.Const(Val{(:x, :y, :z, :r)}())\u001b[39m\n",
      "\u001b[90m│  \u001b[39m %49 = (:x, :y)\u001b[36m::Core.Const((:x, :y))\u001b[39m\n",
      "\u001b[90m│  \u001b[39m %50 = Main.Val(%49)\u001b[36m::Core.Const(Val{(:x, :y)}())\u001b[39m\n",
      "\u001b[90m│  \u001b[39m %51 = Core.tuple(Main.nothing, Main.nothing)\u001b[36m::Core.Const((nothing, nothing))\u001b[39m\n",
      "\u001b[90m│  \u001b[39m %52 = Main.FactorisationConstraintsEntry(%50, %51)\u001b[36m::Core.Const(q(x, y))\u001b[39m\n",
      "\u001b[90m│  \u001b[39m %53 = Core.tuple(%52)\u001b[36m::Core.Const((q(x, y),))\u001b[39m\n",
      "\u001b[90m│  \u001b[39m %54 = (:z, :r)\u001b[36m::Core.Const((:z, :r))\u001b[39m\n",
      "\u001b[90m│  \u001b[39m %55 = Main.Val(%54)\u001b[36m::Core.Const(Val{(:z, :r)}())\u001b[39m\n",
      "\u001b[90m│  \u001b[39m %56 = Core.tuple(Main.nothing, Main.nothing)\u001b[36m::Core.Const((nothing, nothing))\u001b[39m\n",
      "\u001b[90m│  \u001b[39m %57 = Main.FactorisationConstraintsEntry(%55, %56)\u001b[36m::Core.Const(q(z, r))\u001b[39m\n",
      "\u001b[90m│  \u001b[39m %58 = Core.tuple(%57)\u001b[36m::Core.Const((q(z, r),))\u001b[39m\n",
      "\u001b[90m│  \u001b[39m %59 = (%53 * %58)\u001b[36m::Core.Const((q(x, y), q(z, r)))\u001b[39m\n",
      "\u001b[90m│  \u001b[39m       (q(x, y, z, r)#390 = Main.FactorisationConstraintsSpecification(%48, %59))\n",
      "\u001b[90m│  \u001b[39m %61 = factorisation_constraint#388\u001b[36m::Core.PartialStruct(Tuple{FactorisationConstraintsSpecification{(:x,), Tuple{FactorisationConstraintsEntry{(:x,), Tuple{Int64}}, FactorisationConstraintsEntry{(:x, :x), Tuple{Int64, Int64}}, FactorisationConstraintsEntry{(:x,), Tuple{UnitRange{Int64}}}, FactorisationConstraintsEntry{(:x,), Tuple{Int64}}}}}, Any[Core.PartialStruct(FactorisationConstraintsSpecification{(:x,), Tuple{FactorisationConstraintsEntry{(:x,), Tuple{Int64}}, FactorisationConstraintsEntry{(:x, :x), Tuple{Int64, Int64}}, FactorisationConstraintsEntry{(:x,), Tuple{UnitRange{Int64}}}, FactorisationConstraintsEntry{(:x,), Tuple{Int64}}}}, Any[Core.PartialStruct(Tuple{FactorisationConstraintsEntry{(:x,), Tuple{Int64}}, FactorisationConstraintsEntry{(:x, :x), Tuple{Int64, Int64}}, FactorisationConstraintsEntry{(:x,), Tuple{UnitRange{Int64}}}, FactorisationConstraintsEntry{(:x,), Tuple{Int64}}}, Any[FactorisationConstraintsEntry{(:x,), Tuple{Int64}}, FactorisationConstraintsEntry{(:x, :x), Tuple{Int64, Int64}}, FactorisationConstraintsEntry{(:x,), Tuple{UnitRange{Int64}}}, Core.Const(q(x[3]))])])])\u001b[39m\n"
     ]
    },
    {
     "name": "stdout",
     "output_type": "stream",
     "text": [
      "\u001b[90m│  \u001b[39m %62 = Core.tuple(q(x, y, z, r)#390::Core.Const(q(x, y, z, r) = q(x, y)q(z, r)))\u001b[36m::Core.Const((q(x, y, z, r) = q(x, y)q(z, r),))\u001b[39m\n",
      "\u001b[90m│  \u001b[39m       (factorisation_constraint#388 = Core._apply_iterate(Base.iterate, Core.tuple, %61, %62))\n",
      "\u001b[90m│  \u001b[39m %64 = Main.ConstraintsSpecification(factorisation_constraint#388::Core.PartialStruct(Tuple{FactorisationConstraintsSpecification{(:x,), Tuple{FactorisationConstraintsEntry{(:x,), Tuple{Int64}}, FactorisationConstraintsEntry{(:x, :x), Tuple{Int64, Int64}}, FactorisationConstraintsEntry{(:x,), Tuple{UnitRange{Int64}}}, FactorisationConstraintsEntry{(:x,), Tuple{Int64}}}}, FactorisationConstraintsSpecification{(:x, :y, :z, :r), Tuple{FactorisationConstraintsEntry{(:x, :y), Tuple{Nothing, Nothing}}, FactorisationConstraintsEntry{(:z, :r), Tuple{Nothing, Nothing}}}}}, Any[Core.PartialStruct(FactorisationConstraintsSpecification{(:x,), Tuple{FactorisationConstraintsEntry{(:x,), Tuple{Int64}}, FactorisationConstraintsEntry{(:x, :x), Tuple{Int64, Int64}}, FactorisationConstraintsEntry{(:x,), Tuple{UnitRange{Int64}}}, FactorisationConstraintsEntry{(:x,), Tuple{Int64}}}}, Any[Core.PartialStruct(Tuple{FactorisationConstraintsEntry{(:x,), Tuple{Int64}}, FactorisationConstraintsEntry{(:x, :x), Tuple{Int64, Int64}}, FactorisationConstraintsEntry{(:x,), Tuple{UnitRange{Int64}}}, FactorisationConstraintsEntry{(:x,), Tuple{Int64}}}, Any[FactorisationConstraintsEntry{(:x,), Tuple{Int64}}, FactorisationConstraintsEntry{(:x, :x), Tuple{Int64, Int64}}, FactorisationConstraintsEntry{(:x,), Tuple{UnitRange{Int64}}}, Core.Const(q(x[3]))])]), FactorisationConstraintsSpecification{(:x, :y, :z, :r), Tuple{FactorisationConstraintsEntry{(:x, :y), Tuple{Nothing, Nothing}}, FactorisationConstraintsEntry{(:z, :r), Tuple{Nothing, Nothing}}}}]), form_constraint#387)\u001b[36m::Core.PartialStruct(ConstraintsSpecification{Tuple{FactorisationConstraintsSpecification{(:x,), Tuple{FactorisationConstraintsEntry{(:x,), Tuple{Int64}}, FactorisationConstraintsEntry{(:x, :x), Tuple{Int64, Int64}}, FactorisationConstraintsEntry{(:x,), Tuple{UnitRange{Int64}}}, FactorisationConstraintsEntry{(:x,), Tuple{Int64}}}}, FactorisationConstraintsSpecification{(:x, :y, :z, :r), Tuple{FactorisationConstraintsEntry{(:x, :y), Tuple{Nothing, Nothing}}, FactorisationConstraintsEntry{(:z, :r), Tuple{Nothing, Nothing}}}}}, Tuple{}}, Any[Core.PartialStruct(Tuple{FactorisationConstraintsSpecification{(:x,), Tuple{FactorisationConstraintsEntry{(:x,), Tuple{Int64}}, FactorisationConstraintsEntry{(:x, :x), Tuple{Int64, Int64}}, FactorisationConstraintsEntry{(:x,), Tuple{UnitRange{Int64}}}, FactorisationConstraintsEntry{(:x,), Tuple{Int64}}}}, FactorisationConstraintsSpecification{(:x, :y, :z, :r), Tuple{FactorisationConstraintsEntry{(:x, :y), Tuple{Nothing, Nothing}}, FactorisationConstraintsEntry{(:z, :r), Tuple{Nothing, Nothing}}}}}, Any[Core.PartialStruct(FactorisationConstraintsSpecification{(:x,), Tuple{FactorisationConstraintsEntry{(:x,), Tuple{Int64}}, FactorisationConstraintsEntry{(:x, :x), Tuple{Int64, Int64}}, FactorisationConstraintsEntry{(:x,), Tuple{UnitRange{Int64}}}, FactorisationConstraintsEntry{(:x,), Tuple{Int64}}}}, Any[Core.PartialStruct(Tuple{FactorisationConstraintsEntry{(:x,), Tuple{Int64}}, FactorisationConstraintsEntry{(:x, :x), Tuple{Int64, Int64}}, FactorisationConstraintsEntry{(:x,), Tuple{UnitRange{Int64}}}, FactorisationConstraintsEntry{(:x,), Tuple{Int64}}}, Any[FactorisationConstraintsEntry{(:x,), Tuple{Int64}}, FactorisationConstraintsEntry{(:x, :x), Tuple{Int64, Int64}}, FactorisationConstraintsEntry{(:x,), Tuple{UnitRange{Int64}}}, Core.Const(q(x[3]))])]), FactorisationConstraintsSpecification{(:x, :y, :z, :r), Tuple{FactorisationConstraintsEntry{(:x, :y), Tuple{Nothing, Nothing}}, FactorisationConstraintsEntry{(:z, :r), Tuple{Nothing, Nothing}}}}]), Core.Const(())])\u001b[39m\n",
      "\u001b[90m└──\u001b[39m       return %64\n",
      "\n"
     ]
    }
   ],
   "source": [
    "@code_warntype forbench(true, 2)"
   ]
  },
  {
   "cell_type": "code",
   "execution_count": null,
   "metadata": {},
   "outputs": [],
   "source": []
  }
 ],
 "metadata": {
  "kernelspec": {
   "display_name": "Julia 1.7.2",
   "language": "julia",
   "name": "julia-1.7"
  },
  "language_info": {
   "file_extension": ".jl",
   "mimetype": "application/julia",
   "name": "julia",
   "version": "1.7.2"
  }
 },
 "nbformat": 4,
 "nbformat_minor": 4
}
