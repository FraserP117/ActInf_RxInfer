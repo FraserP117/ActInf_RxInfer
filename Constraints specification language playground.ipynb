{
 "cells": [
  {
   "cell_type": "code",
   "execution_count": 43,
   "metadata": {},
   "outputs": [],
   "source": [
    "using MacroTools\n",
    "using BenchmarkTools \n",
    "\n",
    "import MacroTools: prewalk, postwalk"
   ]
  },
  {
   "cell_type": "code",
   "execution_count": 2,
   "metadata": {},
   "outputs": [
    {
     "data": {
      "text/plain": [
       "@e (macro with 1 method)"
      ]
     },
     "execution_count": 2,
     "metadata": {},
     "output_type": "execute_result"
    }
   ],
   "source": [
    "macro e(something)\n",
    "    if something.head === :macrocall\n",
    "        return esc(:(println(MacroTools.prettify(@macroexpand $something)); $something))\n",
    "    end\n",
    "    return esc(something)\n",
    "end"
   ]
  },
  {
   "cell_type": "code",
   "execution_count": 210,
   "metadata": {},
   "outputs": [],
   "source": [
    "struct ConstraintsSpecification{F, M}\n",
    "    factorisation :: F\n",
    "    form :: M\n",
    "end\n",
    "\n",
    "function Base.show(io::IO, specification::ConstraintsSpecification) \n",
    "    print(io, \"Constraints:\\n\\tform: $(specification.form)\\n\")\n",
    "    print(io, \"\\tfactorisation\\n\")\n",
    "    foreach(specification.factorisation) do f\n",
    "        print(io, \"\\t\\t\", f, \"\\n\")\n",
    "    end\n",
    "end"
   ]
  },
  {
   "cell_type": "code",
   "execution_count": 203,
   "metadata": {},
   "outputs": [],
   "source": [
    "struct FactorisationConstraintsEntry{N, T}\n",
    "    indices :: NamedTuple{N, T}\n",
    "end\n",
    "\n",
    "__io_entry_pair(pair::Pair{Symbol, Nothing})::String = string(first(pair))\n",
    "\n",
    "make_factorisation_constraints_entry(indices) = :(FactorisationConstraintsEntry($indices))\n",
    "\n",
    "function Base.show(io::IO, entry::FactorisationConstraintsEntry) \n",
    "    print(io, \"q(\")\n",
    "    entries = map(__io_entry_pair, collect(pairs(entry.indices)))\n",
    "    join(io, entries, \", \")\n",
    "    print(io, \")\")\n",
    "end"
   ]
  },
  {
   "cell_type": "code",
   "execution_count": 214,
   "metadata": {},
   "outputs": [
    {
     "data": {
      "text/plain": [
       "register_q_factorisation_specification (generic function with 1 method)"
      ]
     },
     "execution_count": 214,
     "metadata": {},
     "output_type": "execute_result"
    }
   ],
   "source": [
    "struct FactorisationConstraintsSpecification{N, E}\n",
    "    entries :: E\n",
    "end\n",
    "\n",
    "function Base.show(io::IO, factorisation::FactorisationConstraintsSpecification{Val{Names}}) where Names\n",
    "    print(io, \"q(\")\n",
    "    join(io, Names, \", \")\n",
    "    print(io, \") = \")\n",
    "    foreach(factorisation.entries) do e\n",
    "        print(io, e)\n",
    "    end\n",
    "end\n",
    "\n",
    "FactorisationConstraintsSpecification(::Type{ Val{N} }, entries::E) where { N, E } = FactorisationConstraintsSpecification{Val{N}, E}(entries)\n",
    "    \n",
    "register_q_factorisation_specification(N, E) = :(FactorisationConstraintsSpecification($N, ($(E...), )))"
   ]
  },
  {
   "cell_type": "code",
   "execution_count": 138,
   "metadata": {},
   "outputs": [
    {
     "data": {
      "text/plain": [
       "register_q_factorisation_specification (generic function with 1 method)"
      ]
     },
     "execution_count": 138,
     "metadata": {},
     "output_type": "execute_result"
    }
   ],
   "source": [
    "struct ReactiveMPBackend end\n",
    "\n",
    "__get_current_backend() = ReactiveMPBackend()\n",
    "\n",
    "macro constraints(constraints_specification)\n",
    "    return generate_constraints_expression(__get_current_backend(), constraints_specification)\n",
    "end\n",
    "\n",
    "make_constraints_specification(factorisation, form) = :(ConstraintsSpecification($factorisation, $form))"
   ]
  },
  {
   "cell_type": "code",
   "execution_count": 139,
   "metadata": {},
   "outputs": [
    {
     "data": {
      "text/plain": [
       "isblock (generic function with 1 method)"
      ]
     },
     "execution_count": 139,
     "metadata": {},
     "output_type": "execute_result"
    }
   ],
   "source": [
    "isexpr(expr::Expr) = true\n",
    "isexpr()           = false\n",
    "\n",
    "ishead(something, head) = isexpr(something) && something.head === head\n",
    "\n",
    "isblock(something) = ishead(something, :block)"
   ]
  },
  {
   "cell_type": "code",
   "execution_count": 140,
   "metadata": {},
   "outputs": [],
   "source": [
    "struct LHSMeta\n",
    "    name :: String\n",
    "    hash :: UInt\n",
    "    varname :: Symbol\n",
    "    varname_used :: Symbol\n",
    "end"
   ]
  },
  {
   "cell_type": "code",
   "execution_count": 170,
   "metadata": {},
   "outputs": [
    {
     "data": {
      "text/plain": [
       "generate_constraints_expression (generic function with 1 method)"
      ]
     },
     "execution_count": 170,
     "metadata": {},
     "output_type": "execute_result"
    }
   ],
   "source": [
    "function generate_constraints_expression(backend, constraints_specification)\n",
    "\n",
    "    if isblock(constraints_specification)\n",
    "        generatedfname = gensym(:constraints)\n",
    "        generatedfbody = :(function $(generatedfname)() $constraints_specification end)\n",
    "        return :($(generate_constraints_expression(backend, generatedfbody))())\n",
    "    end\n",
    "\n",
    "    @capture(constraints_specification, (function cs_name_(cs_args__; cs_kwargs__) cs_body_ end) | (function cs_name_(cs_args__) cs_body_ end)) || \n",
    "        error(\"Constraints specification language requires full function definition\")\n",
    "    \n",
    "    cs_args   = cs_args === nothing ? [] : cs_args\n",
    "    cs_kwargs = cs_kwargs === nothing ? [] : cs_kwargs\n",
    "    \n",
    "    lhs_dict = Dict{UInt, LHSMeta}()\n",
    "    \n",
    "    # We iteratively overwrite extend form constraint tuple, but we use different names for it to enable type-stability\n",
    "    form_constraints_symbol      = gensym(:form_constraint)\n",
    "    form_constraints_symbol_init = :($form_constraints_symbol = ())\n",
    "    \n",
    "    # We iteratively overwrite extend factorisation constraint tuple, but we use different names for it to enable type-stability\n",
    "    factorisation_constraints_symbol      = gensym(:factorisation_constraint)\n",
    "    factorisation_constraints_symbol_init = :($factorisation_constraints_symbol = ())\n",
    "    \n",
    "    # First we record all lhs expression's hash ids and create unique variable names for them\n",
    "    # q(x, y) = q(x)q(y) -> hash(q(x, y))\n",
    "    # We do allow multiple definitions in case of if statements, but we do check later overwrites, which are not allowed\n",
    "    cs_body = postwalk(cs_body) do expression\n",
    "        # We also do a simple sanity check right now, names should be an array of Symbols only\n",
    "        if @capture(expression, lhs_ = rhs_) && @capture(lhs, q(names__))\n",
    "            lhs_hash = hash(lhs)\n",
    "            lhs_meta = if haskey(lhs_dict, lhs_hash)\n",
    "                lhs_dict[ lhs_hash ]\n",
    "            else\n",
    "                lhs_name = string(\"q(\", join(names, \", \"), \")\")\n",
    "                lhs_varname = gensym(lhs_name)\n",
    "                lhs_varname_used = Symbol(lhs_varname, :_used)\n",
    "                lhs_meta = LHSMeta(lhs_name, lhs_hash, lhs_varname, lhs_varname_used)\n",
    "                lhs_dict[lhs_hash] = lhs_meta\n",
    "            end\n",
    "            lhs_name = lhs_meta.name\n",
    "            lhs_varname = lhs_meta.varname\n",
    "            (length(names) !== 0 && all(name -> name isa Symbol, names)) || \n",
    "                error(\"\"\"Error in factorisation constraints specification $(lhs_name) = ...\\nLeft hand side of the equality expression should have only variable identifiers.\"\"\")\n",
    "            \n",
    "            rhs_prod_entries = nothing\n",
    "            \n",
    "            # Here we extract all entry expression from the right hand side of the base expression\n",
    "            # TODO add special case with `..`\n",
    "            if @capture(rhs, *(prod_entries__, ))\n",
    "                rhs_prod_entries = map(prod_entries) do entry \n",
    "                    @capture(entry, q(b_)) || error(\"Cannot parse a single RHS entry $(entry) of the expressiob $(expression)\") \n",
    "                    return b\n",
    "                end\n",
    "            else\n",
    "                error(\"Cannot parse RHS of the $(expression) expression.\")\n",
    "            end\n",
    "            \n",
    "            rhs_prod_entries = map(rhs_prod_entries) do prod_entry \n",
    "                # Check if it is a raw symbol\n",
    "                if @capture(prod_entry, entryname_Symbol)\n",
    "                    return make_factorisation_constraints_entry(:($entryname = nothing, ))\n",
    "                else\n",
    "                    # TODO parse single/multiple indices\n",
    "                    error(\"Not yet implemented\")\n",
    "                end\n",
    "            end\n",
    "            \n",
    "            # TODO add check that entries from LHS and RHS has same names\n",
    "            \n",
    "            next_factorisation_constraints_symbol = gensym(:factorisation_constraint)\n",
    "            \n",
    "            new_factorisation_specification = register_q_factorisation_specification(:(Val{ ($(map(QuoteNode, names)...),) }), rhs_prod_entries)\n",
    "            \n",
    "            result = quote \n",
    "                ($(lhs_varname) === nothing) || error(\"Factorisation constraints specification $($lhs_name) = ... has been redefined.\")\n",
    "                $(lhs_varname) = $(new_factorisation_specification)\n",
    "                $next_factorisation_constraints_symbol = ($factorisation_constraints_symbol..., $(lhs_varname))\n",
    "            end\n",
    "            \n",
    "            factorisation_constraints_symbol = next_factorisation_constraints_symbol\n",
    "            \n",
    "            return result\n",
    "        end\n",
    "        return expression\n",
    "    end\n",
    "    \n",
    "    # This block write initial variables for factorisation specification\n",
    "    cs_lhs_init_block = map(collect(lhs_dict)) do pair\n",
    "        lhs_meta = last(pair)\n",
    "        lhs_varname = lhs_meta.varname\n",
    "        lhs_varname_used = lhs_meta.varname_used\n",
    "        return quote \n",
    "            $(lhs_varname) = nothing\n",
    "            $(lhs_varname_used) = false\n",
    "        end\n",
    "    end\n",
    "    \n",
    "    cs_body = prewalk(cs_body) do expression\n",
    "        if @capture(expression, q(args__))\n",
    "            reconstructed_expression = Expr(:call, :q, args...)\n",
    "            reconstructed_hash = hash(reconstructed_expression)\n",
    "            if haskey(lhs_dict, reconstructed_hash)\n",
    "                lhs_meta = lhs_dict[ reconstructed_hash ]\n",
    "                lhs_name = lhs_meta.name\n",
    "                lhs_varname = lhs_meta.varname\n",
    "                lhs_varname_used = lhs_meta.varname_used\n",
    "                return quote\n",
    "                    if $(lhs_varname_used)\n",
    "                        error(\"Factorisation constraint $(lhs_name) has been used multiple times\")\n",
    "                    end\n",
    "                    $(lhs_varname_used) = true\n",
    "                    $(lhs_varname)\n",
    "                end\n",
    "            else\n",
    "                # TODO parse rhs here\n",
    "                return expression\n",
    "            end\n",
    "        end\n",
    "        return expression\n",
    "    end\n",
    "    \n",
    "    return_specification = make_constraints_specification(factorisation_constraints_symbol, form_constraints_symbol)\n",
    "    \n",
    "    res = quote\n",
    "         function $cs_name($(cs_args...); $(cs_kwargs...))\n",
    "            $(form_constraints_symbol_init)\n",
    "            $(factorisation_constraints_symbol_init)\n",
    "            $(cs_lhs_init_block...)\n",
    "            $(cs_body)\n",
    "            $(return_specification)\n",
    "        end \n",
    "    end\n",
    "    \n",
    "    return esc(res)\n",
    "end"
   ]
  },
  {
   "cell_type": "code",
   "execution_count": 224,
   "metadata": {},
   "outputs": [
    {
     "name": "stdout",
     "output_type": "stream",
     "text": [
      "(function albatross(; )\n",
      "    nightingale = ()\n",
      "    lemur = ()\n",
      "    lyrebird = nothing\n",
      "    pheasant = false\n",
      "    sheep = nothing\n",
      "    oyster = false\n",
      "    lyrebird === nothing || error(\"Factorisation constraints specification q(x, y) = ... has been redefined.\")\n",
      "    lyrebird = FactorisationConstraintsSpecification(Val{(:x, :y)}, (FactorisationConstraintsEntry((x = nothing,)), FactorisationConstraintsEntry((y = nothing,))))\n",
      "    heron = (lemur..., lyrebird)\n",
      "    sheep === nothing || error(\"Factorisation constraints specification q(x, θ) = ... has been redefined.\")\n",
      "    sheep = FactorisationConstraintsSpecification(Val{(:x, :θ)}, (FactorisationConstraintsEntry((θ = nothing,)), FactorisationConstraintsEntry((x = nothing,))))\n",
      "    panda = (heron..., sheep)\n",
      "    ConstraintsSpecification(panda, nightingale)\n",
      "end)()\n"
     ]
    },
    {
     "data": {
      "text/plain": [
       "Constraints:\n",
       "\tform: ()\n",
       "\tfactorisation\n",
       "\t\tq(x, y) = q(x)q(y)\n",
       "\t\tq(x, θ) = q(θ)q(x)\n"
      ]
     },
     "execution_count": 224,
     "metadata": {},
     "output_type": "execute_result"
    }
   ],
   "source": [
    "cs = @e @constraints begin\n",
    "    q(x, y) = q(x)q(y)\n",
    "    q(x, θ) = q(θ)q(x)\n",
    "end"
   ]
  },
  {
   "cell_type": "code",
   "execution_count": 225,
   "metadata": {},
   "outputs": [
    {
     "data": {
      "text/plain": [
       "Constraints:\n",
       "\tform: ()\n",
       "\tfactorisation\n",
       "\t\tq(x, y) = q(x)q(y)\n",
       "\t\tq(x, θ) = q(θ)q(x)\n"
      ]
     },
     "execution_count": 225,
     "metadata": {},
     "output_type": "execute_result"
    }
   ],
   "source": [
    "cs"
   ]
  },
  {
   "cell_type": "code",
   "execution_count": 221,
   "metadata": {},
   "outputs": [
    {
     "data": {
      "text/plain": [
       "Constraints:\n",
       "\tform: ()\n",
       "\tfactorisation\n",
       "\t\tq(x, y) = q(x)q(y)\n",
       "\t\tq(x, θ) = q(θ)q(x)\n"
      ]
     },
     "execution_count": 221,
     "metadata": {},
     "output_type": "execute_result"
    }
   ],
   "source": [
    "cs = constraints(true)"
   ]
  },
  {
   "cell_type": "code",
   "execution_count": 160,
   "metadata": {},
   "outputs": [
    {
     "name": "stdout",
     "output_type": "stream",
     "text": [
      "ConstraintsSpecification{Tuple{FactorisationConstraintsSpecification{Val{(:x, :y)}, FactorisationConstraintsEntries{Tuple{FactorisationConstraintsEntry{(:x,), Tuple{Nothing}}, FactorisationConstraintsEntry{(:y,), Tuple{Nothing}}}}}}, Tuple{}}\n",
      "  factorisation: Tuple{FactorisationConstraintsSpecification{Val{(:x, :y)}, FactorisationConstraintsEntries{Tuple{FactorisationConstraintsEntry{(:x,), Tuple{Nothing}}, FactorisationConstraintsEntry{(:y,), Tuple{Nothing}}}}}}\n",
      "    1: FactorisationConstraintsSpecification{Val{(:x, :y)}, FactorisationConstraintsEntries{Tuple{FactorisationConstraintsEntry{(:x,), Tuple{Nothing}}, FactorisationConstraintsEntry{(:y,), Tuple{Nothing}}}}}\n",
      "      entries: FactorisationConstraintsEntries{Tuple{FactorisationConstraintsEntry{(:x,), Tuple{Nothing}}, FactorisationConstraintsEntry{(:y,), Tuple{Nothing}}}}\n",
      "        prod: Tuple{FactorisationConstraintsEntry{(:x,), Tuple{Nothing}}, FactorisationConstraintsEntry{(:y,), Tuple{Nothing}}}\n",
      "          1: FactorisationConstraintsEntry{(:x,), Tuple{Nothing}}\n",
      "            indices: NamedTuple{(:x,), Tuple{Nothing}}\n",
      "              x: Nothing nothing\n",
      "          2: FactorisationConstraintsEntry{(:y,), Tuple{Nothing}}\n",
      "            indices: NamedTuple{(:y,), Tuple{Nothing}}\n",
      "              y: Nothing nothing\n",
      "  form: Tuple{} ()\n"
     ]
    }
   ],
   "source": [
    "dump(cs)"
   ]
  },
  {
   "cell_type": "code",
   "execution_count": 99,
   "metadata": {},
   "outputs": [
    {
     "name": "stdout",
     "output_type": "stream",
     "text": [
      "MethodInstance for constraints(::Bool)\n",
      "  from constraints(flag) in Main at In[96]:101\n",
      "Arguments\n",
      "  #self#\u001b[36m::Core.Const(constraints)\u001b[39m\n",
      "  flag\u001b[36m::Bool\u001b[39m\n",
      "Locals\n",
      "  factorisation_constraint#455\u001b[36m::Tuple{FactorisationConstraintsSpecification{Val{(:x, :y)}, Int64}}\u001b[39m\n",
      "  q(x, y)#454_used\u001b[36m::Bool\u001b[39m\n",
      "  q(x, y)#454\u001b[33m\u001b[1m::Union{Nothing, FactorisationConstraintsSpecification{Val{(:x, :y)}, Int64}}\u001b[22m\u001b[39m\n",
      "  factorisation_constraint#453\u001b[36m::Tuple{}\u001b[39m\n",
      "  form_constraint#452\u001b[36m::Tuple{}\u001b[39m\n",
      "Body\u001b[36m::Expr\u001b[39m\n",
      "\u001b[90m1 ─\u001b[39m       Core.NewvarNode(:(factorisation_constraint#455))\n",
      "\u001b[90m│  \u001b[39m       (form_constraint#452 = ())\n",
      "\u001b[90m│  \u001b[39m       (factorisation_constraint#453 = ())\n",
      "\u001b[90m│  \u001b[39m       (q(x, y)#454 = Main.nothing)\n",
      "\u001b[90m│  \u001b[39m       (q(x, y)#454_used = false)\n",
      "\u001b[90m│  \u001b[39m %6  = (q(x, y)#454::Core.Const(nothing) === Main.nothing)\u001b[36m::Core.Const(true)\u001b[39m\n",
      "\u001b[90m│  \u001b[39m       Core.typeassert(%6, Core.Bool)\n",
      "\u001b[90m└──\u001b[39m       goto #3\n",
      "\u001b[90m2 ─\u001b[39m       Core.Const(:(Base.string(\"Factorisation constraints specification \", \"q(x, y)\", \" = ... has been redefined.\")))\n",
      "\u001b[90m└──\u001b[39m       Core.Const(:(Main.error(%9)))\n",
      "\u001b[90m3 ┄\u001b[39m %11 = (:x, :y)\u001b[36m::Core.Const((:x, :y))\u001b[39m\n",
      "\u001b[90m│  \u001b[39m %12 = Core.apply_type(Main.Val, %11)\u001b[36m::Core.Const(Val{(:x, :y)})\u001b[39m\n",
      "\u001b[90m│  \u001b[39m %13 = Main.q(Main.x)\u001b[36m::Core.Const(1)\u001b[39m\n",
      "\u001b[90m│  \u001b[39m %14 = Main.q(Main.y)\u001b[36m::Core.Const(1)\u001b[39m\n",
      "\u001b[90m│  \u001b[39m %15 = (%13 * %14)\u001b[36m::Core.Const(1)\u001b[39m\n",
      "\u001b[90m│  \u001b[39m       (q(x, y)#454 = Main.FactorisationConstraintsSpecification(%12, %15))\n",
      "\u001b[90m│  \u001b[39m %17 = factorisation_constraint#453\u001b[36m::Core.Const(())\u001b[39m\n",
      "\u001b[90m│  \u001b[39m %18 = Core.tuple(q(x, y)#454::Core.Const(FactorisationConstraintsSpecification{Val{(:x, :y)}, Int64}(1)))\u001b[36m::Core.Const((FactorisationConstraintsSpecification{Val{(:x, :y)}, Int64}(1),))\u001b[39m\n",
      "\u001b[90m│  \u001b[39m       (factorisation_constraint#455 = Core._apply_iterate(Base.iterate, Core.tuple, %17, %18))\n",
      "\u001b[90m│  \u001b[39m %20 = Main.make_constraints_specification(factorisation_constraint#455::Core.Const((FactorisationConstraintsSpecification{Val{(:x, :y)}, Int64}(1),)), form_constraint#452)\u001b[36m::Expr\u001b[39m\n",
      "\u001b[90m└──\u001b[39m       return %20\n",
      "\n"
     ]
    }
   ],
   "source": [
    "@code_warntype constraints(true)"
   ]
  },
  {
   "cell_type": "code",
   "execution_count": null,
   "metadata": {},
   "outputs": [],
   "source": []
  }
 ],
 "metadata": {
  "kernelspec": {
   "display_name": "Julia 1.7.0",
   "language": "julia",
   "name": "julia-1.7"
  },
  "language_info": {
   "file_extension": ".jl",
   "mimetype": "application/julia",
   "name": "julia",
   "version": "1.7.1"
  }
 },
 "nbformat": 4,
 "nbformat_minor": 4
}
