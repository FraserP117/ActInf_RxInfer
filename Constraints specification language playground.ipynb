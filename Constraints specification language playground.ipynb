{
 "cells": [
  {
   "cell_type": "code",
   "execution_count": 1,
   "metadata": {},
   "outputs": [],
   "source": [
    "using MacroTools\n",
    "using BenchmarkTools \n",
    "using TupleTools\n",
    "\n",
    "import MacroTools: prewalk, postwalk"
   ]
  },
  {
   "cell_type": "code",
   "execution_count": 2,
   "metadata": {},
   "outputs": [
    {
     "data": {
      "text/plain": [
       "@e (macro with 1 method)"
      ]
     },
     "execution_count": 2,
     "metadata": {},
     "output_type": "execute_result"
    }
   ],
   "source": [
    "macro e(something)\n",
    "    if something.head === :macrocall\n",
    "        return esc(:(println(MacroTools.prettify(@macroexpand $something)); $something))\n",
    "    end\n",
    "    return esc(something)\n",
    "end"
   ]
  },
  {
   "cell_type": "code",
   "execution_count": 3,
   "metadata": {},
   "outputs": [
    {
     "data": {
      "text/plain": [
       "make_factorisation_split (generic function with 1 method)"
      ]
     },
     "execution_count": 3,
     "metadata": {},
     "output_type": "execute_result"
    }
   ],
   "source": [
    "__range_io_helper(value::Integer) = value\n",
    "__range_io_helper(value::typeof(firstindex)) = :begin\n",
    "__range_io_helper(value::typeof(lastindex)) = :end\n",
    "\n",
    "struct CombinedRange{L, R}\n",
    "    from :: L\n",
    "    to   :: R\n",
    "end\n",
    "\n",
    "Base.show(io::IO, range::CombinedRange) = print(io, __range_io_helper(range.from), \":\", __range_io_helper(range.to))\n",
    "\n",
    "make_combined_range(l, r) = :(CombinedRange($l, $r))\n",
    "\n",
    "struct SplittedRange{L, R}\n",
    "    from :: L\n",
    "    to   :: R\n",
    "end\n",
    "\n",
    "Base.show(io::IO, range::SplittedRange) = print(io, __range_io_helper(range.from), \"..\", __range_io_helper(range.to))\n",
    "\n",
    "make_splitted_range(l, r) = :(SplittedRange($l, $r))\n",
    "make_factorisation_split(l, r) = :(factorisation_split($l, $r))"
   ]
  },
  {
   "cell_type": "code",
   "execution_count": 4,
   "metadata": {},
   "outputs": [],
   "source": [
    "struct NotDefinedYet{S} end"
   ]
  },
  {
   "cell_type": "code",
   "execution_count": 5,
   "metadata": {},
   "outputs": [
    {
     "data": {
      "text/plain": [
       "make_constraints_specification (generic function with 1 method)"
      ]
     },
     "execution_count": 5,
     "metadata": {},
     "output_type": "execute_result"
    }
   ],
   "source": [
    "const ConstraintsSpecificationPreallocatedDefaultSize = 64\n",
    "\n",
    "struct ConstraintsSpecificationPreallocated\n",
    "    clusters_template :: BitVector\n",
    "    clusters_usage    :: BitVector\n",
    "    clusters_set      :: Set{Tuple}\n",
    "    cluster_indices   :: Vector{Int}\n",
    "    \n",
    "    ConstraintsSpecificationPreallocated() = new(trues(ConstraintsSpecificationPreallocatedDefaultSize), falses(ConstraintsSpecificationPreallocatedDefaultSize), Set{Tuple}(), Vector{Int}(undef, ConstraintsSpecificationPreallocatedDefaultSize))\n",
    "end\n",
    "\n",
    "function __reset_preallocated!(preallocated::ConstraintsSpecificationPreallocated, size::Int)\n",
    "    abs2size = abs2(size)\n",
    "    if length(preallocated.clusters_template) < abs2size\n",
    "        resize!(preallocated.clusters_template, abs2size)\n",
    "        resize!(preallocated.clusters_usage, abs2size) # note: we dont need `size^2` for this, just `size` should be enough, but just to avoid extra checks\n",
    "    end\n",
    "    \n",
    "    if length(preallocated.cluster_indices) < size\n",
    "        resize!(preallocated.cluster_indices, size)\n",
    "    end\n",
    "    \n",
    "    fill!(preallocated.clusters_template, true)\n",
    "    fill!(preallocated.clusters_usage, false)\n",
    "    \n",
    "    empty!(preallocated.clusters_set)\n",
    "end\n",
    "\n",
    "struct ConstraintsSpecification{F, M}\n",
    "    factorisation :: F\n",
    "    form :: M\n",
    "    preallocated :: ConstraintsSpecificationPreallocated\n",
    "end\n",
    "\n",
    "ConstraintsSpecification(factorisation::F, form::M) where { F, M } = ConstraintsSpecification{F, M}(factorisation, form, ConstraintsSpecificationPreallocated())\n",
    "\n",
    "__reset_preallocated!(specification::ConstraintsSpecification, size::Int) = __reset_preallocated!(specification.preallocated, size)\n",
    "\n",
    "function Base.show(io::IO, specification::ConstraintsSpecification) \n",
    "    print(io, \"Constraints:\\n\\tform: $(specification.form)\\n\")\n",
    "    print(io, \"\\tfactorisation\\n\")\n",
    "    foreach(specification.factorisation) do f\n",
    "        print(io, \"\\t\\t\", f, \"\\n\")\n",
    "    end\n",
    "end\n",
    "\n",
    "make_constraints_specification(factorisation, form) = :(ConstraintsSpecification($factorisation, $form))"
   ]
  },
  {
   "cell_type": "code",
   "execution_count": 6,
   "metadata": {},
   "outputs": [],
   "source": [
    "struct FactorisationConstraintsEntry{N, I} end\n",
    "\n",
    "getnames(entry::FactorisationConstraintsEntry{N}) where N = N\n",
    "getindices(entry::FactorisationConstraintsEntry{N, I}) where { N, I } = I\n",
    "\n",
    "Base.:(*)(left::Tuple{Vararg{T where T <: FactorisationConstraintsEntry}}, right::Tuple{Vararg{T where T <: FactorisationConstraintsEntry}}) = (left..., right...)\n",
    "\n",
    "FactorisationConstraintsEntry(::Val{N}, ::Val{I}) where { N, I } = FactorisationConstraintsEntry{N, I}()\n",
    "\n",
    "make_factorisation_constraint_entry(N, T) = :(FactorisationConstraintsEntry($N, $T))\n",
    "\n",
    "__io_entry_pair(pair::Tuple)                    = __io_entry_pair(first(pair), last(pair))\n",
    "__io_entry_pair(symbol::Symbol, ::Nothing)      = string(symbol)\n",
    "__io_entry_pair(symbol::Symbol, index::Integer) = string(symbol, \"[\", index, \"]\")\n",
    "__io_entry_pair(symbol::Symbol, index::typeof(firstindex)) = string(symbol, \"[begin]\")\n",
    "__io_entry_pair(symbol::Symbol, index::typeof(lastindex)) = string(symbol, \"[end]\")\n",
    "__io_entry_pair(symbol::Symbol, range::CombinedRange) = string(symbol, \"[\", range, \"]\")\n",
    "__io_entry_pair(symbol::Symbol, range::SplittedRange) = string(symbol, \"[\", range, \"]\")\n",
    "\n",
    "function Base.show(io::IO, entry::FactorisationConstraintsEntry)\n",
    "    print(io, \"q(\")\n",
    "    entries = map(__io_entry_pair, zip(getnames(entry), getindices(entry)))\n",
    "    join(io, entries, \", \")\n",
    "    print(io, \")\")\n",
    "end"
   ]
  },
  {
   "cell_type": "code",
   "execution_count": 7,
   "metadata": {},
   "outputs": [
    {
     "data": {
      "text/plain": [
       "make_factorisation_constraint (generic function with 1 method)"
      ]
     },
     "execution_count": 7,
     "metadata": {},
     "output_type": "execute_result"
    }
   ],
   "source": [
    "struct FactorisationConstraintsSpecification{N, E} end\n",
    "\n",
    "getnames(specification::FactorisationConstraintsSpecification{N})      where N = N\n",
    "getentries(specification::FactorisationConstraintsSpecification{N, E}) where { N, E } = E\n",
    "\n",
    "Base.:(*)(left::Union{ <:FactorisationConstraintsSpecification, <:FactorisationConstraintsEntry }, right::NTuple{N2, <: Union{ <:FactorisationConstraintsSpecification, <:FactorisationConstraintsEntry }}) where { N1, N2 } = (left, right...)\n",
    "Base.:(*)(left::NTuple{N1, <: Union{ <:FactorisationConstraintsSpecification, <:FactorisationConstraintsEntry }}, right::Union{ <:FactorisationConstraintsSpecification, <:FactorisationConstraintsEntry }) where { N1, N2 } = (left..., right)\n",
    "Base.:(*)(left::Union{ <:FactorisationConstraintsSpecification, <:FactorisationConstraintsEntry }, right::Union{ <:FactorisationConstraintsSpecification, <:FactorisationConstraintsEntry }) = (left, right)\n",
    "\n",
    "Base.:(*)(::NotDefinedYet{S}, something::Any) where S = error(\"Cannot multiply $S and $something. $S has not been defined yet.\")\n",
    "Base.:(*)(something::Any, ::NotDefinedYet{S}) where S = error(\"Cannot multiply $S and $something. $S has not been defined yet.\")\n",
    "Base.:(*)(::NotDefinedYet{S1}, ::NotDefinedYet{S2}) where { S1, S2 } = error(\"Cannot multiply $S1 and $S2. Both $S1 and $S2 have not been defined yet.\")\n",
    "\n",
    "function Base.show(io::IO, factorisation::FactorisationConstraintsSpecification{Names}) where Names\n",
    "    \n",
    "    print(io, \"q(\")\n",
    "    join(io, getnames(factorisation), \", \")\n",
    "    print(io, \")\")\n",
    "    \n",
    "    compact = get(io, :compact, false)\n",
    "    \n",
    "    if !compact \n",
    "        print(io, \" = \")\n",
    "        foreach(getentries(factorisation)) do e\n",
    "            print(IOContext(io, :compact => true), e)\n",
    "        end\n",
    "    end\n",
    "    \n",
    "end\n",
    "\n",
    "FactorisationConstraintsSpecification(::Val{N}, ::Val{E})       where { N, E }       = FactorisationConstraintsSpecification{N, E}()\n",
    "FactorisationConstraintsSpecification(::Val{N}, ::Val{nothing}) where { N          } = error(\"Cannot create q(\", join(N, \",\"), \") factorisation constraints specification\")\n",
    "    \n",
    "make_factorisation_constraint(N, E) = :(FactorisationConstraintsSpecification($N, $E))"
   ]
  },
  {
   "cell_type": "code",
   "execution_count": 8,
   "metadata": {},
   "outputs": [],
   "source": [
    "using Unrolled"
   ]
  },
  {
   "cell_type": "code",
   "execution_count": 9,
   "metadata": {},
   "outputs": [
    {
     "data": {
      "text/plain": [
       "factorisation_split (generic function with 1 method)"
      ]
     },
     "execution_count": 9,
     "metadata": {},
     "output_type": "execute_result"
    }
   ],
   "source": [
    "# Split related functions\n",
    "\n",
    "Base.:(*)(left::Tuple{Vararg{T where T <: FactorisationConstraintsEntry}}, right::Tuple{Vararg{T where T <: FactorisationConstraintsEntry}}) = (left..., right...)\n",
    "\n",
    "# Only these combinations are allowed to be merged\n",
    "__factorisation_split_merge_range(a::Int, b::Int)                              = SplittedRange(a, b)\n",
    "__factorisation_split_merge_range(a::typeof(firstindex), b::Int)               = SplittedRange(a, b)\n",
    "__factorisation_split_merge_range(a::Int, b::typeof(lastindex))                = SplittedRange(a, b)\n",
    "__factorisation_split_merge_range(a::typeof(firstindex), b::typeof(lastindex)) = SplittedRange(a, b)\n",
    "__factorisation_split_merge_range(a::Any, b::Any) = error(\"Cannot merge $(a) and $(b) indexes in `factorisation_split`\")\n",
    "\n",
    "function factorisation_split(left::Tuple{Vararg{T where T <: FactorisationConstraintsEntry}}, right::Tuple{Vararg{T where T <: FactorisationConstraintsEntry}})\n",
    "    left_last   = last(left)\n",
    "    right_first = first(right)\n",
    "    (getnames(left_last) === getnames(right_first)) || error(\"Cannot split $(left_last) and $(right_first).\")\n",
    "    lindices = getindices(left_last)\n",
    "    rindices = getindices(right_first)\n",
    "    split_merged = unrolled_map(__factorisation_split_merge_range, lindices, rindices)\n",
    "    \n",
    "    first_split = first(split_merged)\n",
    "    unrolled_all(e -> e === first_split, split_merged) || error(\"Inconsistent indices within factorisation split. Check $(split_merged) indices for $(getnames(left_last)) variables.\")\n",
    "    \n",
    "    return (left[1:end - 1]..., FactorisationConstraintsEntry(Val(getnames(left_last)), Val(split_merged)), right[begin+1:end]...)\n",
    "end"
   ]
  },
  {
   "cell_type": "code",
   "execution_count": 10,
   "metadata": {},
   "outputs": [
    {
     "data": {
      "text/plain": [
       "@constraints (macro with 1 method)"
      ]
     },
     "execution_count": 10,
     "metadata": {},
     "output_type": "execute_result"
    }
   ],
   "source": [
    "struct ReactiveMPBackend end\n",
    "\n",
    "__get_current_backend() = ReactiveMPBackend()\n",
    "\n",
    "macro constraints(constraints_specification)\n",
    "    return generate_constraints_expression(__get_current_backend(), constraints_specification)\n",
    "end"
   ]
  },
  {
   "cell_type": "code",
   "execution_count": 11,
   "metadata": {},
   "outputs": [
    {
     "data": {
      "text/plain": [
       "isref (generic function with 1 method)"
      ]
     },
     "execution_count": 11,
     "metadata": {},
     "output_type": "execute_result"
    }
   ],
   "source": [
    "isexpr(expr::Expr) = true\n",
    "isexpr()           = false\n",
    "\n",
    "ishead(something, head) = isexpr(something) && something.head === head\n",
    "\n",
    "isblock(something) = ishead(something, :block)\n",
    "isref(something) = ishead(something, :ref)"
   ]
  },
  {
   "cell_type": "code",
   "execution_count": 12,
   "metadata": {},
   "outputs": [],
   "source": [
    "struct LHSMeta\n",
    "    name :: String\n",
    "    hash :: UInt\n",
    "    varname :: Symbol\n",
    "end"
   ]
  },
  {
   "cell_type": "code",
   "execution_count": 13,
   "metadata": {},
   "outputs": [],
   "source": [
    "# TODO: check for intersections of ranges during an actual execution"
   ]
  },
  {
   "cell_type": "code",
   "execution_count": 14,
   "metadata": {},
   "outputs": [
    {
     "data": {
      "text/plain": [
       "generate_constraints_expression (generic function with 1 method)"
      ]
     },
     "execution_count": 14,
     "metadata": {},
     "output_type": "execute_result"
    }
   ],
   "source": [
    "function generate_constraints_expression(backend, constraints_specification)\n",
    "\n",
    "    if isblock(constraints_specification)\n",
    "        generatedfname = gensym(:constraints)\n",
    "        generatedfbody = :(function $(generatedfname)() $constraints_specification end)\n",
    "        return :($(generate_constraints_expression(backend, generatedfbody))())\n",
    "    end\n",
    "\n",
    "    @capture(constraints_specification, (function cs_name_(cs_args__; cs_kwargs__) cs_body_ end) | (function cs_name_(cs_args__) cs_body_ end)) || \n",
    "        error(\"Constraints specification language requires full function definition\")\n",
    "    \n",
    "    cs_args   = cs_args === nothing ? [] : cs_args\n",
    "    cs_kwargs = cs_kwargs === nothing ? [] : cs_kwargs\n",
    "    \n",
    "    lhs_dict = Dict{UInt, LHSMeta}()\n",
    "    \n",
    "    # We iteratively overwrite extend form constraint tuple, but we use different names for it to enable type-stability\n",
    "    form_constraints_symbol      = gensym(:form_constraint)\n",
    "    form_constraints_symbol_init = :($form_constraints_symbol = ())\n",
    "    \n",
    "    # We iteratively overwrite extend factorisation constraint tuple, but we use different names for it to enable type-stability\n",
    "    factorisation_constraints_symbol      = gensym(:factorisation_constraint)\n",
    "    factorisation_constraints_symbol_init = :($factorisation_constraints_symbol = ())\n",
    "    \n",
    "    # First we record all lhs expression's hash ids and create unique variable names for them\n",
    "    # q(x, y) = q(x)q(y) -> hash(q(x, y))\n",
    "    # We do allow multiple definitions in case of if statements, but we do check later overwrites, which are not allowed\n",
    "    cs_body = postwalk(cs_body) do expression\n",
    "        # We also do a simple sanity check right now, names should be an array of Symbols only\n",
    "        if @capture(expression, lhs_ = rhs_) && @capture(lhs, q(names__))\n",
    "            \n",
    "            (length(names) !== 0 && all(name -> name isa Symbol, names)) || \n",
    "                error(\"\"\"Error in factorisation constraints specification $(lhs_name) = ...\\nLeft hand side of the equality expression should have only variable identifiers.\"\"\")\n",
    "            \n",
    "            # We replace '..' in RHS expression with `make_factorisation_split`\n",
    "            rhs = postwalk(rhs) do rexpr\n",
    "                if @capture(rexpr, a_ .. b_)\n",
    "                    return make_factorisation_split(a, b)\n",
    "                end\n",
    "                return rexpr\n",
    "            end\n",
    "            \n",
    "            lhs_names = Set{Symbol}(names)\n",
    "            rhs_names = Set{Symbol}()\n",
    "            \n",
    "            # We do a simple check to be sure that LHS and RHS has the exact same set of names\n",
    "            # We also check here that all indices are either a simple Symbol or an indexing expression here\n",
    "            rhs = postwalk(MacroTools.prettify(rhs, alias = false)) do entry\n",
    "                if @capture(entry, q(indices__))\n",
    "                    for index in indices\n",
    "                        if index isa Symbol\n",
    "                            (index ∉ rhs_names) || error(\"RHS of the $(expression) expression used $(index) without indexing twice, which is not allowed. Try to decompose factorisation constraint expression into several subexpression.\")\n",
    "                            push!(rhs_names, index)\n",
    "                            (index ∉ lhs_names) && error(\"LHS of the $(expression) expression does not have $(index) variable, but is used in RHS.\")\n",
    "                        elseif isref(index)\n",
    "                            push!(rhs_names, first(index.args))\n",
    "                            (first(index.args) ∉ lhs_names) && error(\"LHS of the $(expression) expression does not have $(first(index.args)) variable, but is used in RHS.\")\n",
    "                        else\n",
    "                           error(\"Cannot parse expression $(index) in the RHS $(rhs) expression. Index expression should be either a single variable symbol or an indexing expression.\") \n",
    "                        end\n",
    "                    end\n",
    "                end\n",
    "                return entry\n",
    "            end\n",
    "            \n",
    "            (lhs_names == rhs_names) || error(\"LHS and RHS of the $(expression) expression has different set of variables.\")\n",
    "            \n",
    "            lhs_hash = hash(lhs)\n",
    "            lhs_meta = if haskey(lhs_dict, lhs_hash)\n",
    "                lhs_dict[ lhs_hash ]\n",
    "            else\n",
    "                lhs_name = string(\"q(\", join(names, \", \"), \")\")\n",
    "                lhs_varname = gensym(lhs_name)\n",
    "                lhs_meta = LHSMeta(lhs_name, lhs_hash, lhs_varname)\n",
    "                lhs_dict[lhs_hash] = lhs_meta\n",
    "            end\n",
    "            \n",
    "            lhs_name = lhs_meta.name\n",
    "            lhs_varname = lhs_meta.varname\n",
    "            \n",
    "            new_factorisation_specification = make_factorisation_constraint(:(Val(($(map(QuoteNode, names)...),))), :(Val($(rhs))))\n",
    "            \n",
    "            result = quote \n",
    "                ($(lhs_varname) isa NotDefinedYet) || error(\"Factorisation constraints specification $($lhs_name) = ... has been redefined.\")\n",
    "                $(lhs_varname) = $(new_factorisation_specification)\n",
    "                $factorisation_constraints_symbol = ($factorisation_constraints_symbol..., $(lhs_varname))\n",
    "            end\n",
    "            \n",
    "            return result\n",
    "        end\n",
    "        return expression\n",
    "    end\n",
    "    \n",
    "    # This block write initial variables for factorisation specification\n",
    "    cs_lhs_init_block = map(collect(lhs_dict)) do pair\n",
    "        lhs_meta = last(pair)\n",
    "        lhs_name = lhs_meta.name\n",
    "        lhs_varname = lhs_meta.varname\n",
    "        lhs_symbol = Symbol(lhs_name)\n",
    "        return quote \n",
    "            $(lhs_varname) = NotDefinedYet{$(QuoteNode(lhs_symbol))}()\n",
    "        end\n",
    "    end\n",
    "    \n",
    "    cs_body = prewalk(cs_body) do expression\n",
    "        if @capture(expression, q(args__))\n",
    "            expr_hash = hash(expression)\n",
    "            if haskey(lhs_dict, expr_hash)\n",
    "                lhs_meta = lhs_dict[ expr_hash ]\n",
    "                lhs_name = lhs_meta.name\n",
    "                lhs_varname = lhs_meta.varname\n",
    "                return lhs_varname\n",
    "            else\n",
    "                rhs_prod_names = Symbol[]\n",
    "                rhs_prod_entries_args = map(args) do arg\n",
    "                    if arg isa Symbol\n",
    "                        push!(rhs_prod_names, arg)\n",
    "                        return :(nothing)\n",
    "                    elseif isref(arg)\n",
    "                        (length(arg.args) === 2) || error(\"Indexing expression $(expression) is too difficult to parse and is not supported (yet?).\")\n",
    "                        push!(rhs_prod_names, first(arg.args))\n",
    "                        \n",
    "                        index = last(arg.args)\n",
    "                        \n",
    "                        # First we replace all `begin` and `end` with `firstindex` and `lastindex` functions\n",
    "                        index = postwalk(index) do iexpr\n",
    "                            if iexpr isa Symbol && iexpr === :begin\n",
    "                                return :(firstindex)\n",
    "                            elseif iexpr isa Symbol && iexpr === :end\n",
    "                                return :(lastindex)\n",
    "                            else\n",
    "                                return iexpr\n",
    "                            end\n",
    "                        end\n",
    "                        \n",
    "                        if @capture(index, a_:b_)\n",
    "                            return make_combined_range(a, b)\n",
    "                        elseif @capture(index, firstindex)\n",
    "                            return index\n",
    "                        elseif @capture(index, lastindex)\n",
    "                            return index\n",
    "                        else\n",
    "                            return :(convert(Integer, $index))\n",
    "                        end\n",
    "                    else\n",
    "                        error(\"Cannot parse expression $(index) in the RHS $(rhs) expression. Index expression should be either a single variable symbol or an indexing expression.\") \n",
    "                    end\n",
    "                end\n",
    "                \n",
    "                entry = make_factorisation_constraint_entry(:(Val(($(map(QuoteNode, rhs_prod_names)...), ))), :(Val(($(rhs_prod_entries_args...), ))))\n",
    "                \n",
    "                return :(($entry, ))\n",
    "            end\n",
    "        end\n",
    "        return expression\n",
    "    end\n",
    "    \n",
    "    return_specification = make_constraints_specification(factorisation_constraints_symbol, form_constraints_symbol)\n",
    "    \n",
    "    res = quote\n",
    "         function $cs_name($(cs_args...); $(cs_kwargs...))\n",
    "            $(form_constraints_symbol_init)\n",
    "            $(factorisation_constraints_symbol_init)\n",
    "            $(cs_lhs_init_block...)\n",
    "            $(cs_body)\n",
    "            $(return_specification)\n",
    "        end \n",
    "    end\n",
    "    \n",
    "    return esc(res)\n",
    "end"
   ]
  },
  {
   "cell_type": "code",
   "execution_count": 15,
   "metadata": {},
   "outputs": [],
   "source": [
    "# node with (x, t, y, w) pure indices"
   ]
  },
  {
   "cell_type": "code",
   "execution_count": 16,
   "metadata": {},
   "outputs": [],
   "source": [
    "# Didnt work out\n",
    "# using DataStructures\n",
    "# struct FirstForwardOrdering <: Base.Ordering end\n",
    "# Base.lt(::FirstForwardOrdering, a, b) = Base.Order.lt(Base.Order.Forward, first(a), first(b))"
   ]
  },
  {
   "cell_type": "code",
   "execution_count": 17,
   "metadata": {},
   "outputs": [],
   "source": [
    "# struct ConstraintsSpecificationPreallocated\n",
    "#     clusters_template :: BitVector\n",
    "#     clusters_set      :: Set{Tuple}\n",
    "#     cluster_indices   :: Vector{Int}\n",
    "# end"
   ]
  },
  {
   "cell_type": "code",
   "execution_count": 41,
   "metadata": {},
   "outputs": [],
   "source": [
    "struct ClusterIntersectionError\n",
    "    names\n",
    "    expression\n",
    "    indexmap\n",
    "    clusters\n",
    "    constraints\n",
    "end\n",
    "\n",
    "__throw_intersection_error(names, expression, indexmap, clusters, constraints) = throw(ClusterIntersectionError(names, expression, indexmap, clusters, constraints))\n",
    "\n",
    "function Base.showerror(io::IO, error::ClusterIntersectionError)\n",
    "    print(io, \"Cluster intersection error in the expression `$(error.expression)`.\\n\")\n",
    "    print(io, \"Based on factorisation constraints the resulting clusters are: \")\n",
    "    mapping = collect(pairs(error.indexmap))\n",
    "    for cluster in error.clusters\n",
    "        print(io, \"q(\")\n",
    "        names = map(cluster) do clusterindex\n",
    "            name_index = findnext(el -> last(el) === clusterindex, mapping, 1)\n",
    "            return first(mapping[name_index])\n",
    "        end\n",
    "        join(io, names, \",\")\n",
    "        print(io, \")\")\n",
    "    end\n",
    "    print(io, \"\\n\", error.constraints)\n",
    "end"
   ]
  },
  {
   "cell_type": "code",
   "execution_count": 58,
   "metadata": {},
   "outputs": [
    {
     "data": {
      "text/plain": [
       "create_factorisation (generic function with 1 method)"
      ]
     },
     "execution_count": 58,
     "metadata": {},
     "output_type": "execute_result"
    }
   ],
   "source": [
    "function create_factorisation(expr::Expr, ::Val{ns}, is, constraints) where { ns }\n",
    "    # Indexmap creates simple mapping for each symbol in `ns`\n",
    "    # E.g. ns = (:x, y)\n",
    "    # indexmap = (x = 1, y = 2)\n",
    "    N = length(ns)\n",
    "    indexmap = NamedTuple{ns}(ntuple(identity, N))\n",
    "    \n",
    "    # `factorisation` is a tuple of `FactorisationConstraintsSpecification`s\n",
    "    # FactorisationConstraintsSpecification has names of LHS and specs of RHS\n",
    "    factorisation = constraints.factorisation\n",
    "    \n",
    "    preallocated = constraints.preallocated\n",
    "    \n",
    "    __reset_preallocated!(preallocated, N)\n",
    "    \n",
    "    clusters_template = preallocated.clusters_template\n",
    "    clusters_usage    = preallocated.clusters_usage\n",
    "    clusters_set      = preallocated.clusters_set\n",
    "    cluster_indices   = preallocated.cluster_indices\n",
    "    \n",
    "    function __process_factorisation_entry!(symbol::Symbol, shift::Int)\n",
    "        \n",
    "        # This function unrolles and reduces (1, 2, 3, 4) for each product entry in factorisation specification\n",
    "        # E.g if q(x, y) = q(x) * q(y) this function iterates over [ q(x), q(y) ]\n",
    "        __filter_template!(factorisation_entries::Tuple)                              = unrolled_foreach((rentry) -> __filter_template!(Val(true), rentry), factorisation_entries)\n",
    "        __filter_template!(::Val{true}, spec::FactorisationConstraintsSpecification)  = __filter_template!(getentries(spec))\n",
    "        __filter_template!(::Val{false}, spec::FactorisationConstraintsSpecification) = symbol ∈ getnames(spec) ? __filter_template!(getentries(spec)) : nothing\n",
    "        \n",
    "        # This is totally wrong but just to test an idea\n",
    "        # Does not support indices\n",
    "        # Does not support ranges\n",
    "        # Does not support split ranges\n",
    "        function __filter_template!(::Val{true}, csentry::FactorisationConstraintsEntry)\n",
    "            if symbol ∉ getnames(csentry)\n",
    "                unrolled_foreach(getnames(csentry)) do name\n",
    "                    if haskey(indexmap, name)\n",
    "                        name_index = indexmap[name]\n",
    "                        clusters_template[ shift + name_index ] = false\n",
    "                    end\n",
    "                end\n",
    "            end\n",
    "        end\n",
    "        \n",
    "        for spec in factorisation\n",
    "            __filter_template!(Val(false), spec)\n",
    "        end\n",
    "\n",
    "    end\n",
    "    \n",
    "    shift = 0\n",
    "    for spec in ns\n",
    "        __process_factorisation_entry!(spec, shift)\n",
    "        shift += N\n",
    "    end\n",
    "    \n",
    "    @inbounds for index in 1:N\n",
    "        range_left  = (index - 1) * N + 1\n",
    "        range_right = range_left + N - 1\n",
    "        \n",
    "        ki = 0\n",
    "        @inbounds for (index, flag) in enumerate(view(clusters_template, range_left:range_right))\n",
    "            if flag\n",
    "                ki += 1\n",
    "                cluster_indices[ki] = index\n",
    "            end\n",
    "        end\n",
    "        \n",
    "        output = Tuple(view(cluster_indices, 1:ki))\n",
    "        \n",
    "        push!(clusters_set, output)\n",
    "    end\n",
    "    \n",
    "    sorted_clusters = sort!(collect(clusters_set); by = first, alg = QuickSort)\n",
    "    \n",
    "    # Check if clusters do intersect\n",
    "    for cluster in sorted_clusters\n",
    "        for index in cluster\n",
    "            if clusters_usage[index] === true\n",
    "                __throw_intersection_error(ns, expr, indexmap, sorted_clusters, constraints)\n",
    "            end \n",
    "            clusters_usage[index] = true\n",
    "        end\n",
    "    end\n",
    "    \n",
    "    return Tuple(sorted_clusters)\n",
    "    # return template\n",
    "end"
   ]
  },
  {
   "cell_type": "code",
   "execution_count": 59,
   "metadata": {},
   "outputs": [
    {
     "data": {
      "text/plain": [
       "Constraints:\n",
       "\tform: ()\n",
       "\tfactorisation\n",
       "\t\tq(x, y) = q(x)q(y)\n",
       "\t\tq(x, y, t) = q(x, y)q(t)\n",
       "\t\tq(x, w) = q(x)q(w)\n",
       "\t\tq(y, w) = q(y)q(w)\n"
      ]
     },
     "execution_count": 59,
     "metadata": {},
     "output_type": "execute_result"
    }
   ],
   "source": [
    "cs = @constraints function test()\n",
    "    q(x, y) = q(x)q(y)\n",
    "    q(x, y, t) = q(x, y)q(t)\n",
    "    q(x, w) = q(x)q(w)\n",
    "    q(y, w) = q(y)q(w)\n",
    "end\n",
    "\n",
    "cs = test()"
   ]
  },
  {
   "cell_type": "code",
   "execution_count": 60,
   "metadata": {},
   "outputs": [
    {
     "name": "stdout",
     "output_type": "stream",
     "text": [
      "ns = (:x, :w, :y, :t) = (:x, :w, :y, :t)\n",
      "is = (nothing, nothing, nothing, nothing) = (nothing, nothing, nothing, nothing)\n"
     ]
    },
    {
     "data": {
      "text/plain": [
       "(nothing, nothing, nothing, nothing)"
      ]
     },
     "execution_count": 60,
     "metadata": {},
     "output_type": "execute_result"
    }
   ],
   "source": [
    "@show ns = (:x, :w, :y, :t)\n",
    "@show is = (nothing, nothing, nothing, nothing)"
   ]
  },
  {
   "cell_type": "code",
   "execution_count": 61,
   "metadata": {},
   "outputs": [
    {
     "data": {
      "text/plain": [
       "Constraints:\n",
       "\tform: ()\n",
       "\tfactorisation\n",
       "\t\tq(x, y) = q(x)q(y)\n",
       "\t\tq(x, y, t) = q(x, y)q(t)\n",
       "\t\tq(x, w) = q(x)q(w)\n",
       "\t\tq(y, w) = q(y)q(w)\n"
      ]
     },
     "execution_count": 61,
     "metadata": {},
     "output_type": "execute_result"
    }
   ],
   "source": [
    "cs = test()"
   ]
  },
  {
   "cell_type": "code",
   "execution_count": 62,
   "metadata": {},
   "outputs": [
    {
     "name": "stdout",
     "output_type": "stream",
     "text": [
      "  0.166264 seconds (439.70 k allocations: 23.467 MiB, 3.76% gc time, 99.84% compilation time)\n",
      "  0.000028 seconds (35 allocations: 1.375 KiB)\n"
     ]
    },
    {
     "data": {
      "text/plain": [
       "((1,), (2, 4), (3,))"
      ]
     },
     "execution_count": 62,
     "metadata": {},
     "output_type": "execute_result"
    }
   ],
   "source": [
    "@time create_factorisation(:(1 + 1), Val(ns), is, cs)\n",
    "@time create_factorisation(:(1 + 1), Val(ns), is, cs)"
   ]
  },
  {
   "cell_type": "code",
   "execution_count": 63,
   "metadata": {},
   "outputs": [
    {
     "name": "stdout",
     "output_type": "stream",
     "text": [
      "  0.000043 seconds (35 allocations: 1.375 KiB)\n",
      "  0.000023 seconds (35 allocations: 1.375 KiB)\n"
     ]
    },
    {
     "data": {
      "text/plain": [
       "((1,), (2, 4), (3,))"
      ]
     },
     "execution_count": 63,
     "metadata": {},
     "output_type": "execute_result"
    }
   ],
   "source": [
    "@time create_factorisation(:(1 + 1), Val(ns), is, cs)\n",
    "@time create_factorisation(:(1 + 1), Val(ns), is, cs)"
   ]
  },
  {
   "cell_type": "code",
   "execution_count": 66,
   "metadata": {},
   "outputs": [
    {
     "name": "stdout",
     "output_type": "stream",
     "text": [
      "  2.351 μs (28 allocations: 1.14 KiB)\n"
     ]
    },
    {
     "data": {
      "text/plain": [
       "((1,), (2, 4), (3,))"
      ]
     },
     "execution_count": 66,
     "metadata": {},
     "output_type": "execute_result"
    }
   ],
   "source": [
    "@btime create_factorisation(:(1 + 1), $(Val(ns)), $is, $cs)"
   ]
  },
  {
   "cell_type": "code",
   "execution_count": 65,
   "metadata": {},
   "outputs": [
    {
     "data": {
      "text/plain": [
       "foo (generic function with 1 method)"
      ]
     },
     "execution_count": 65,
     "metadata": {},
     "output_type": "execute_result"
    }
   ],
   "source": [
    "function foo(n)\n",
    "    ns = Val((:x, :w, :y, :t))\n",
    "    is = (nothing, nothing, nothing, nothing)\n",
    "    cs = test()\n",
    "    for i in 1:n\n",
    "        create_factorisation(:(1 + 1), ns, is, cs)\n",
    "    end\n",
    "end"
   ]
  },
  {
   "cell_type": "code",
   "execution_count": 68,
   "metadata": {},
   "outputs": [
    {
     "name": "stdout",
     "output_type": "stream",
     "text": [
      "  2.359 ms (28009 allocations: 1.11 MiB)\n"
     ]
    }
   ],
   "source": [
    "@btime foo(1000)"
   ]
  },
  {
   "cell_type": "code",
   "execution_count": null,
   "metadata": {},
   "outputs": [],
   "source": []
  }
 ],
 "metadata": {
  "kernelspec": {
   "display_name": "Julia 1.7.2",
   "language": "julia",
   "name": "julia-1.7"
  },
  "language_info": {
   "file_extension": ".jl",
   "mimetype": "application/julia",
   "name": "julia",
   "version": "1.7.2"
  }
 },
 "nbformat": 4,
 "nbformat_minor": 4
}
