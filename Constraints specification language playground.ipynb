{
 "cells": [
  {
   "cell_type": "code",
   "execution_count": 1,
   "metadata": {},
   "outputs": [],
   "source": [
    "using MacroTools\n",
    "using BenchmarkTools \n",
    "using TupleTools\n",
    "using Test\n",
    "\n",
    "import MacroTools: prewalk, postwalk"
   ]
  },
  {
   "cell_type": "code",
   "execution_count": 2,
   "metadata": {},
   "outputs": [
    {
     "data": {
      "text/plain": [
       "@e (macro with 1 method)"
      ]
     },
     "execution_count": 2,
     "metadata": {},
     "output_type": "execute_result"
    }
   ],
   "source": [
    "macro e(something)\n",
    "    if something.head === :macrocall\n",
    "        return esc(:(println(MacroTools.prettify(@macroexpand $something)); $something))\n",
    "    end\n",
    "    return esc(something)\n",
    "end"
   ]
  },
  {
   "cell_type": "code",
   "execution_count": 3,
   "metadata": {},
   "outputs": [
    {
     "name": "stdout",
     "output_type": "stream",
     "text": [
      "\u001b[0m\u001b[1mTest Summary:   | \u001b[22m\u001b[32m\u001b[1mPass  \u001b[22m\u001b[39m\u001b[36m\u001b[1mTotal\u001b[22m\u001b[39m\n",
      "FunctionalIndex | \u001b[32m  42  \u001b[39m\u001b[36m   42\u001b[39m\n"
     ]
    },
    {
     "data": {
      "text/plain": [
       "Test.DefaultTestSet(\"FunctionalIndex\", Any[], 42, false, false)"
      ]
     },
     "execution_count": 3,
     "metadata": {},
     "output_type": "execute_result"
    }
   ],
   "source": [
    "\"\"\"\n",
    "    FunctionalIndex\n",
    "\n",
    "A special type of an index that represents a function that can be used only in pair with a collection. \n",
    "An example of a `FunctionalIndex` can be `firstindex` or `lastindex`, but more complex use cases are possible too, \n",
    "e.g. `firstindex + 1` can be represented as `FunctionalIndex((x) -> firstindex(x) + 1)`.\n",
    "\n",
    "This structure is used to dispatch on and to replace `begin` or `end` (or more complex use cases, e.g. `begin + 1`) marker\n",
    "\"\"\"\n",
    "struct FunctionalIndex{R, F}\n",
    "    f :: F\n",
    "    \n",
    "    FunctionalIndex{R}(f::F) where { R, F } = new{R, F}(f)\n",
    "end\n",
    "\n",
    "(index::FunctionalIndex{R, F})(collection) where { R, F } = __functional_apply(R, index.f, collection)::Integer\n",
    "\n",
    "__functional_apply(::Symbol, f, collection) = f(collection)\n",
    "__functional_apply(subindex::FunctionalIndex, f::Base.Fix2{typeof(+), <: Integer}, collection) = subindex(collection) .+ f.x\n",
    "__functional_apply(subindex::FunctionalIndex, f::Base.Fix2{typeof(-), <: Integer}, collection) = subindex(collection) .- f.x\n",
    "\n",
    "Base.:(+)(left::FunctionalIndex, index::Integer) = FunctionalIndex{left}(Base.Fix2(+, index))\n",
    "Base.:(-)(left::FunctionalIndex, index::Integer) = FunctionalIndex{left}(Base.Fix2(-, index))\n",
    "\n",
    "__functional_print(io::IO, f::typeof(firstindex)) = nothing\n",
    "__functional_print(io::IO, f::typeof(lastindex))  = nothing\n",
    "__functional_print(io::IO, f::Base.Fix2{typeof(+), <: Integer}) = print(io, \" + \", f.x) # `f.x` here might be broken in future Julia?\n",
    "__functional_print(io::IO, f::Base.Fix2{typeof(-), <: Integer}) = print(io, \" - \", f.x)\n",
    "\n",
    "function Base.show(io::IO, index::FunctionalIndex{R, F}) where { R, F }\n",
    "    print(io, \"(\")\n",
    "    print(io, R)\n",
    "    __functional_print(io, index.f)\n",
    "    print(io, \")\")\n",
    "end\n",
    "\n",
    "make_functional_index(reprsymbol::Symbol, fnsymbol::Symbol) = :(FunctionalIndex{$(QuoteNode(reprsymbol))}($fnsymbol))\n",
    "\n",
    "@testset \"FunctionalIndex\" begin\n",
    "    \n",
    "    for N in 1:5\n",
    "        collection = ones(N)\n",
    "        @test FunctionalIndex{:nothing}(firstindex)(collection) === firstindex(collection)\n",
    "        @test FunctionalIndex{:nothing}(lastindex)(collection) === lastindex(collection)\n",
    "        @test (FunctionalIndex{:nothing}(firstindex) + 1)(collection) === firstindex(collection) + 1\n",
    "        @test (FunctionalIndex{:nothing}(lastindex) - 1)(collection) === lastindex(collection) - 1\n",
    "        @test (FunctionalIndex{:nothing}(firstindex) + 1 - 2 + 3)(collection) === firstindex(collection) + 1 - 2 + 3\n",
    "        @test (FunctionalIndex{:nothing}(lastindex) - 1 + 2 - 3)(collection) === lastindex(collection) - 1 + 2 - 3\n",
    "    end\n",
    "    \n",
    "    @test repr(FunctionalIndex{:begin}(firstindex)) === \"(begin)\"\n",
    "    @test repr(FunctionalIndex{:begin}(firstindex) + 1) === \"((begin) + 1)\"\n",
    "    @test repr(FunctionalIndex{:begin}(firstindex) - 1) === \"((begin) - 1)\"\n",
    "    @test repr(FunctionalIndex{:begin}(firstindex) - 1 + 1) === \"(((begin) - 1) + 1)\"\n",
    "    \n",
    "    @test repr(FunctionalIndex{:end}(lastindex)) === \"(end)\"\n",
    "    @test repr(FunctionalIndex{:end}(lastindex) + 1) === \"((end) + 1)\"\n",
    "    @test repr(FunctionalIndex{:end}(lastindex) - 1) === \"((end) - 1)\"\n",
    "    @test repr(FunctionalIndex{:end}(lastindex) - 1 + 1) === \"(((end) - 1) + 1)\"\n",
    "    \n",
    "    @test isbitstype(typeof((FunctionalIndex{:begin}(firstindex) + 1)))\n",
    "    @test isbitstype(typeof((FunctionalIndex{:begin}(firstindex) - 1)))\n",
    "    @test isbitstype(typeof((FunctionalIndex{:begin}(firstindex) + 1 + 1)))\n",
    "    @test isbitstype(typeof((FunctionalIndex{:begin}(firstindex) - 1 + 1)))\n",
    "end"
   ]
  },
  {
   "cell_type": "code",
   "execution_count": 4,
   "metadata": {},
   "outputs": [
    {
     "data": {
      "text/plain": [
       "make_factorisation_split (generic function with 1 method)"
      ]
     },
     "execution_count": 4,
     "metadata": {},
     "output_type": "execute_result"
    }
   ],
   "source": [
    "__range_io_helper(value::Integer)         = value\n",
    "__range_io_helper(value::FunctionalIndex) = repr(value)\n",
    "\n",
    "struct CombinedRange{L, R}\n",
    "    from :: L\n",
    "    to   :: R\n",
    "end\n",
    "\n",
    "Base.show(io::IO, range::CombinedRange) = print(io, __range_io_helper(range.from), \":\", __range_io_helper(range.to))\n",
    "\n",
    "make_combined_range(l, r) = :(CombinedRange($l, $r))\n",
    "\n",
    "struct SplittedRange{L, R}\n",
    "    from :: L\n",
    "    to   :: R\n",
    "end\n",
    "\n",
    "Base.show(io::IO, range::SplittedRange) = print(io, __range_io_helper(range.from), \"..\", __range_io_helper(range.to))\n",
    "\n",
    "make_splitted_range(l, r) = :(SplittedRange($l, $r))\n",
    "make_factorisation_split(l, r) = :(factorisation_split($l, $r))"
   ]
  },
  {
   "cell_type": "code",
   "execution_count": 5,
   "metadata": {},
   "outputs": [],
   "source": [
    "struct NotDefinedYet{S} end"
   ]
  },
  {
   "cell_type": "code",
   "execution_count": 6,
   "metadata": {},
   "outputs": [
    {
     "data": {
      "text/plain": [
       "make_constraints_specification (generic function with 1 method)"
      ]
     },
     "execution_count": 6,
     "metadata": {},
     "output_type": "execute_result"
    }
   ],
   "source": [
    "const ConstraintsSpecificationPreallocatedDefaultSize = 64\n",
    "\n",
    "struct ConstraintsSpecificationPreallocated\n",
    "    clusters_template :: BitVector\n",
    "    clusters_usage    :: BitVector\n",
    "    clusters_set      :: Set{Tuple}\n",
    "    cluster_indices   :: Vector{Int}\n",
    "    \n",
    "    ConstraintsSpecificationPreallocated() = new(trues(ConstraintsSpecificationPreallocatedDefaultSize), falses(ConstraintsSpecificationPreallocatedDefaultSize), Set{Tuple}(), Vector{Int}(undef, ConstraintsSpecificationPreallocatedDefaultSize))\n",
    "end\n",
    "\n",
    "function __reset_preallocated!(preallocated::ConstraintsSpecificationPreallocated, size::Int)\n",
    "    abs2size = abs2(size)\n",
    "    if length(preallocated.clusters_template) < abs2size\n",
    "        resize!(preallocated.clusters_template, abs2size)\n",
    "        resize!(preallocated.clusters_usage, abs2size) # note: we dont need `size^2` for this, just `size` should be enough, but just to avoid extra checks\n",
    "    end\n",
    "    \n",
    "    if length(preallocated.cluster_indices) < size\n",
    "        resize!(preallocated.cluster_indices, size)\n",
    "    end\n",
    "    \n",
    "    fill!(preallocated.clusters_template, true)\n",
    "    fill!(preallocated.clusters_usage, false)\n",
    "    \n",
    "    empty!(preallocated.clusters_set)\n",
    "end\n",
    "\n",
    "struct ConstraintsSpecification{F, M}\n",
    "    factorisation :: F\n",
    "    form :: M\n",
    "    preallocated :: ConstraintsSpecificationPreallocated\n",
    "end\n",
    "\n",
    "ConstraintsSpecification(factorisation::F, form::M) where { F, M } = ConstraintsSpecification{F, M}(factorisation, form, ConstraintsSpecificationPreallocated())\n",
    "\n",
    "__reset_preallocated!(specification::ConstraintsSpecification, size::Int) = __reset_preallocated!(specification.preallocated, size)\n",
    "\n",
    "function Base.show(io::IO, specification::ConstraintsSpecification) \n",
    "    print(io, \"Constraints:\\n\\tform: $(specification.form)\\n\")\n",
    "    print(io, \"\\tfactorisation\\n\")\n",
    "    foreach(specification.factorisation) do f\n",
    "        print(io, \"\\t\\t\", f, \"\\n\")\n",
    "    end\n",
    "end\n",
    "\n",
    "make_constraints_specification(factorisation, form) = :(ConstraintsSpecification($factorisation, $form))"
   ]
  },
  {
   "cell_type": "code",
   "execution_count": 7,
   "metadata": {},
   "outputs": [],
   "source": [
    "struct FactorisationConstraintsEntry{N, I} end\n",
    "\n",
    "getnames(entry::FactorisationConstraintsEntry{N}) where N = N\n",
    "getindices(entry::FactorisationConstraintsEntry{N, I}) where { N, I } = I\n",
    "getpairs(entry::FactorisationConstraintsEntry) = zip(getnames(entry), getindices(entry))\n",
    "\n",
    "FactorisationConstraintsEntry(::Val{N}, ::Val{I}) where { N, I } = FactorisationConstraintsEntry{N, I}()\n",
    "\n",
    "make_factorisation_constraint_entry(N, T) = :(FactorisationConstraintsEntry($N, $T))\n",
    "\n",
    "__io_entry_pair(pair::Tuple)                    = __io_entry_pair(first(pair), last(pair))\n",
    "__io_entry_pair(symbol::Symbol, ::Nothing)      = string(symbol)\n",
    "__io_entry_pair(symbol::Symbol, index::Integer) = string(symbol, \"[\", index, \"]\")\n",
    "__io_entry_pair(symbol::Symbol, index::FunctionalIndex) = string(symbol, \"[\", repr(index), \"]\")\n",
    "__io_entry_pair(symbol::Symbol, range::CombinedRange) = string(symbol, \"[\", range, \"]\")\n",
    "__io_entry_pair(symbol::Symbol, range::SplittedRange) = string(symbol, \"[\", range, \"]\")\n",
    "\n",
    "function Base.show(io::IO, entry::FactorisationConstraintsEntry)\n",
    "    print(io, \"q(\")\n",
    "    entries = map(__io_entry_pair, zip(getnames(entry), getindices(entry)))\n",
    "    join(io, entries, \", \")\n",
    "    print(io, \")\")\n",
    "end"
   ]
  },
  {
   "cell_type": "code",
   "execution_count": 8,
   "metadata": {},
   "outputs": [
    {
     "data": {
      "text/plain": [
       "make_factorisation_constraint (generic function with 1 method)"
      ]
     },
     "execution_count": 8,
     "metadata": {},
     "output_type": "execute_result"
    }
   ],
   "source": [
    "struct FactorisationConstraintsSpecification{N, E} end\n",
    "\n",
    "getnames(specification::FactorisationConstraintsSpecification{N})      where N = N\n",
    "getentries(specification::FactorisationConstraintsSpecification{N, E}) where { N, E } = E\n",
    "\n",
    "Base.:(*)(left::Tuple{Vararg{T where T <: Union{ <:FactorisationConstraintsSpecification, <:FactorisationConstraintsEntry }}}, right::Tuple{Vararg{T where T <: Union{ <:FactorisationConstraintsSpecification, <:FactorisationConstraintsEntry }}}) = (left..., right...)\n",
    "Base.:(*)(left::Union{ <:FactorisationConstraintsSpecification, <:FactorisationConstraintsEntry }, right::Tuple{Vararg{T where T <: Union{ <:FactorisationConstraintsSpecification, <:FactorisationConstraintsEntry }}}) = (left, right...)\n",
    "Base.:(*)(left::Tuple{Vararg{T where T <: Union{ <:FactorisationConstraintsSpecification, <:FactorisationConstraintsEntry }}}, right::Union{ <:FactorisationConstraintsSpecification, <:FactorisationConstraintsEntry }) = (left..., right)\n",
    "Base.:(*)(left::Union{ <:FactorisationConstraintsSpecification, <:FactorisationConstraintsEntry }, right::Union{ <:FactorisationConstraintsSpecification, <:FactorisationConstraintsEntry }) = (left, right)\n",
    "\n",
    "Base.:(*)(::NotDefinedYet{S}, something::Any) where S = error(\"Cannot multiply $S and $something. $S has not been defined yet.\")\n",
    "Base.:(*)(something::Any, ::NotDefinedYet{S}) where S = error(\"Cannot multiply $S and $something. $S has not been defined yet.\")\n",
    "Base.:(*)(::NotDefinedYet{S1}, ::NotDefinedYet{S2}) where { S1, S2 } = error(\"Cannot multiply $S1 and $S2. Both $S1 and $S2 have not been defined yet.\")\n",
    "\n",
    "function Base.show(io::IO, factorisation::FactorisationConstraintsSpecification{Names}) where Names\n",
    "    \n",
    "    print(io, \"q(\")\n",
    "    join(io, getnames(factorisation), \", \")\n",
    "    print(io, \")\")\n",
    "    \n",
    "    iscompact = get(io, :compact, false)\n",
    "    \n",
    "    if !iscompact\n",
    "        print(io, \" = \")\n",
    "        foreach(getentries(factorisation)) do e\n",
    "            print(IOContext(io, :compact => true), e)\n",
    "        end\n",
    "    end\n",
    "\n",
    "end\n",
    "\n",
    "FactorisationConstraintsSpecification(::Val{N}, ::Val{E})       where { N, E }       = FactorisationConstraintsSpecification{N, E}()\n",
    "FactorisationConstraintsSpecification(::Val{N}, ::Val{nothing}) where { N          } = error(\"Cannot create q(\", join(N, \",\"), \") factorisation constraints specification\")\n",
    "    \n",
    "make_factorisation_constraint(N, E) = :(FactorisationConstraintsSpecification($N, $E))"
   ]
  },
  {
   "cell_type": "code",
   "execution_count": 9,
   "metadata": {},
   "outputs": [],
   "source": [
    "using Unrolled"
   ]
  },
  {
   "cell_type": "code",
   "execution_count": 10,
   "metadata": {},
   "outputs": [
    {
     "data": {
      "text/plain": [
       "factorisation_split (generic function with 1 method)"
      ]
     },
     "execution_count": 10,
     "metadata": {},
     "output_type": "execute_result"
    }
   ],
   "source": [
    "# Split related functions\n",
    "\n",
    "Base.:(*)(left::Tuple{Vararg{T where T <: FactorisationConstraintsEntry}}, right::Tuple{Vararg{T where T <: FactorisationConstraintsEntry}}) = (left..., right...)\n",
    "\n",
    "# Only these combinations are allowed to be merged\n",
    "__factorisation_split_merge_range(a::Int, b::Int)                         = SplittedRange(a, b)\n",
    "__factorisation_split_merge_range(a::FunctionalIndex, b::Int)             = SplittedRange(a, b)\n",
    "__factorisation_split_merge_range(a::Int, b::FunctionalIndex)             = SplittedRange(a, b)\n",
    "__factorisation_split_merge_range(a::FunctionalIndex, b::FunctionalIndex) = SplittedRange(a, b)\n",
    "__factorisation_split_merge_range(a::Any, b::Any) = error(\"Cannot merge $(a) and $(b) indexes in `factorisation_split`\")\n",
    "\n",
    "function factorisation_split(left::Tuple{Vararg{T where T <: FactorisationConstraintsEntry}}, right::Tuple{Vararg{T where T <: FactorisationConstraintsEntry}})\n",
    "    left_last   = last(left)\n",
    "    right_first = first(right)\n",
    "    (getnames(left_last) === getnames(right_first)) || error(\"Cannot split $(left_last) and $(right_first).\")\n",
    "    lindices = getindices(left_last)\n",
    "    rindices = getindices(right_first)\n",
    "    split_merged = unrolled_map(__factorisation_split_merge_range, lindices, rindices)\n",
    "    \n",
    "    first_split = first(split_merged)\n",
    "    unrolled_all(e -> e === first_split, split_merged) || error(\"Inconsistent indices within factorisation split. Check $(split_merged) indices for $(getnames(left_last)) variables.\")\n",
    "    \n",
    "    return (left[1:end - 1]..., FactorisationConstraintsEntry(Val(getnames(left_last)), Val(split_merged)), right[begin+1:end]...)\n",
    "end"
   ]
  },
  {
   "cell_type": "code",
   "execution_count": 11,
   "metadata": {},
   "outputs": [
    {
     "data": {
      "text/plain": [
       "@constraints (macro with 1 method)"
      ]
     },
     "execution_count": 11,
     "metadata": {},
     "output_type": "execute_result"
    }
   ],
   "source": [
    "struct ReactiveMPBackend end\n",
    "\n",
    "__get_current_backend() = ReactiveMPBackend()\n",
    "\n",
    "macro constraints(constraints_specification)\n",
    "    return generate_constraints_expression(__get_current_backend(), constraints_specification)\n",
    "end"
   ]
  },
  {
   "cell_type": "code",
   "execution_count": 12,
   "metadata": {},
   "outputs": [
    {
     "data": {
      "text/plain": [
       "isref (generic function with 1 method)"
      ]
     },
     "execution_count": 12,
     "metadata": {},
     "output_type": "execute_result"
    }
   ],
   "source": [
    "isexpr(expr::Expr) = true\n",
    "isexpr()           = false\n",
    "\n",
    "ishead(something, head) = isexpr(something) && something.head === head\n",
    "\n",
    "isblock(something) = ishead(something, :block)\n",
    "isref(something) = ishead(something, :ref)"
   ]
  },
  {
   "cell_type": "code",
   "execution_count": 13,
   "metadata": {},
   "outputs": [],
   "source": [
    "struct LHSMeta\n",
    "    name :: String\n",
    "    hash :: UInt\n",
    "    varname :: Symbol\n",
    "end"
   ]
  },
  {
   "cell_type": "code",
   "execution_count": 14,
   "metadata": {},
   "outputs": [],
   "source": [
    "# TODO: check for intersections of ranges during an actual execution"
   ]
  },
  {
   "cell_type": "code",
   "execution_count": 15,
   "metadata": {},
   "outputs": [
    {
     "data": {
      "text/plain": [
       "generate_constraints_expression (generic function with 1 method)"
      ]
     },
     "execution_count": 15,
     "metadata": {},
     "output_type": "execute_result"
    }
   ],
   "source": [
    "function generate_constraints_expression(backend, constraints_specification)\n",
    "\n",
    "    if isblock(constraints_specification)\n",
    "        generatedfname = gensym(:constraints)\n",
    "        generatedfbody = :(function $(generatedfname)() $constraints_specification end)\n",
    "        return :($(generate_constraints_expression(backend, generatedfbody))())\n",
    "    end\n",
    "\n",
    "    @capture(constraints_specification, (function cs_name_(cs_args__; cs_kwargs__) cs_body_ end) | (function cs_name_(cs_args__) cs_body_ end)) || \n",
    "        error(\"Constraints specification language requires full function definition\")\n",
    "    \n",
    "    cs_args   = cs_args === nothing ? [] : cs_args\n",
    "    cs_kwargs = cs_kwargs === nothing ? [] : cs_kwargs\n",
    "    \n",
    "    lhs_dict = Dict{UInt, LHSMeta}()\n",
    "    \n",
    "    # We iteratively overwrite extend form constraint tuple, but we use different names for it to enable type-stability\n",
    "    form_constraints_symbol      = gensym(:form_constraint)\n",
    "    form_constraints_symbol_init = :($form_constraints_symbol = ())\n",
    "    \n",
    "    # We iteratively overwrite extend factorisation constraint tuple, but we use different names for it to enable type-stability\n",
    "    factorisation_constraints_symbol      = gensym(:factorisation_constraint)\n",
    "    factorisation_constraints_symbol_init = :($factorisation_constraints_symbol = ())\n",
    "    \n",
    "    # First we record all lhs expression's hash ids and create unique variable names for them\n",
    "    # q(x, y) = q(x)q(y) -> hash(q(x, y))\n",
    "    # We do allow multiple definitions in case of if statements, but we do check later overwrites, which are not allowed\n",
    "    cs_body = postwalk(cs_body) do expression\n",
    "        # We also do a simple sanity check right now, names should be an array of Symbols only\n",
    "        if @capture(expression, lhs_ = rhs_) && @capture(lhs, q(names__))\n",
    "            \n",
    "            (length(names) !== 0 && all(name -> name isa Symbol, names)) || \n",
    "                error(\"\"\"Error in factorisation constraints specification $(lhs_name) = ...\\nLeft hand side of the equality expression should have only variable identifiers.\"\"\")\n",
    "            \n",
    "            # We replace '..' in RHS expression with `make_factorisation_split`\n",
    "            rhs = postwalk(rhs) do rexpr\n",
    "                if @capture(rexpr, a_ .. b_)\n",
    "                    return make_factorisation_split(a, b)\n",
    "                end\n",
    "                return rexpr\n",
    "            end\n",
    "            \n",
    "            lhs_names = Set{Symbol}(names)\n",
    "            rhs_names = Set{Symbol}()\n",
    "            \n",
    "            # We do a simple check to be sure that LHS and RHS has the exact same set of names\n",
    "            # We also check here that all indices are either a simple Symbol or an indexing expression here\n",
    "            rhs = postwalk(MacroTools.prettify(rhs, alias = false)) do entry\n",
    "                if @capture(entry, q(indices__))\n",
    "                    for index in indices\n",
    "                        if index isa Symbol\n",
    "                            (index ∉ rhs_names) || error(\"RHS of the $(expression) expression used $(index) without indexing twice, which is not allowed. Try to decompose factorisation constraint expression into several subexpression.\")\n",
    "                            push!(rhs_names, index)\n",
    "                            (index ∉ lhs_names) && error(\"LHS of the $(expression) expression does not have $(index) variable, but is used in RHS.\")\n",
    "                        elseif isref(index)\n",
    "                            push!(rhs_names, first(index.args))\n",
    "                            (first(index.args) ∉ lhs_names) && error(\"LHS of the $(expression) expression does not have $(first(index.args)) variable, but is used in RHS.\")\n",
    "                        else\n",
    "                           error(\"Cannot parse expression $(index) in the RHS $(rhs) expression. Index expression should be either a single variable symbol or an indexing expression.\") \n",
    "                        end\n",
    "                    end\n",
    "                end\n",
    "                return entry\n",
    "            end\n",
    "            \n",
    "            (lhs_names == rhs_names) || error(\"LHS and RHS of the $(expression) expression has different set of variables.\")\n",
    "            \n",
    "            lhs_hash = hash(lhs)\n",
    "            lhs_meta = if haskey(lhs_dict, lhs_hash)\n",
    "                lhs_dict[ lhs_hash ]\n",
    "            else\n",
    "                lhs_name = string(\"q(\", join(names, \", \"), \")\")\n",
    "                lhs_varname = gensym(lhs_name)\n",
    "                lhs_meta = LHSMeta(lhs_name, lhs_hash, lhs_varname)\n",
    "                lhs_dict[lhs_hash] = lhs_meta\n",
    "            end\n",
    "            \n",
    "            lhs_name = lhs_meta.name\n",
    "            lhs_varname = lhs_meta.varname\n",
    "            \n",
    "            new_factorisation_specification = make_factorisation_constraint(:(Val(($(map(QuoteNode, names)...),))), :(Val($(rhs))))\n",
    "            \n",
    "            result = quote \n",
    "                ($(lhs_varname) isa NotDefinedYet) || error(\"Factorisation constraints specification $($lhs_name) = ... has been redefined.\")\n",
    "                $(lhs_varname) = $(new_factorisation_specification)\n",
    "                $factorisation_constraints_symbol = ($factorisation_constraints_symbol..., $(lhs_varname))\n",
    "            end\n",
    "            \n",
    "            return result\n",
    "        end\n",
    "        return expression\n",
    "    end\n",
    "    \n",
    "    # This block write initial variables for factorisation specification\n",
    "    cs_lhs_init_block = map(collect(lhs_dict)) do pair\n",
    "        lhs_meta = last(pair)\n",
    "        lhs_name = lhs_meta.name\n",
    "        lhs_varname = lhs_meta.varname\n",
    "        lhs_symbol = Symbol(lhs_name)\n",
    "        return quote \n",
    "            $(lhs_varname) = NotDefinedYet{$(QuoteNode(lhs_symbol))}()\n",
    "        end\n",
    "    end\n",
    "    \n",
    "    cs_body = prewalk(cs_body) do expression\n",
    "        if @capture(expression, q(args__))\n",
    "            rhs_prod_names = Symbol[]\n",
    "            rhs_prod_entries_args = map(args) do arg\n",
    "                if arg isa Symbol\n",
    "                    push!(rhs_prod_names, arg)\n",
    "                    return :(nothing)\n",
    "                elseif isref(arg)\n",
    "                    (length(arg.args) === 2) || error(\"Indexing expression $(expression) is too difficult to parse and is not supported (yet?).\")\n",
    "                    push!(rhs_prod_names, first(arg.args))\n",
    "\n",
    "                    index = last(arg.args)\n",
    "\n",
    "                    # First we replace all `begin` and `end` with `firstindex` and `lastindex` functions\n",
    "                    index = postwalk(index) do iexpr\n",
    "                        if iexpr isa Symbol && iexpr === :begin\n",
    "                            return make_functional_index(:begin, :firstindex)\n",
    "                        elseif iexpr isa Symbol && iexpr === :end\n",
    "                            return make_functional_index(:end, :lastindex)\n",
    "                        else\n",
    "                            return iexpr\n",
    "                        end\n",
    "                    end\n",
    "\n",
    "                    if @capture(index, a_:b_)\n",
    "                        return make_combined_range(a, b)\n",
    "                    else\n",
    "                        return index\n",
    "                    end\n",
    "                else\n",
    "                    error(\"Cannot parse expression $(index) in the RHS $(rhs) expression. Index expression should be either a single variable symbol or an indexing expression.\") \n",
    "                end\n",
    "            end\n",
    "\n",
    "            entry = make_factorisation_constraint_entry(:(Val(($(map(QuoteNode, rhs_prod_names)...), ))), :(Val(($(rhs_prod_entries_args...), ))))\n",
    "\n",
    "            return :(($entry, ))\n",
    "        end\n",
    "        return expression\n",
    "    end\n",
    "    \n",
    "    return_specification = make_constraints_specification(factorisation_constraints_symbol, form_constraints_symbol)\n",
    "    \n",
    "    res = quote\n",
    "         function $cs_name($(cs_args...); $(cs_kwargs...))\n",
    "            $(form_constraints_symbol_init)\n",
    "            $(factorisation_constraints_symbol_init)\n",
    "            $(cs_lhs_init_block...)\n",
    "            $(cs_body)\n",
    "            $(return_specification)\n",
    "        end \n",
    "    end\n",
    "    \n",
    "    return esc(res)\n",
    "end"
   ]
  },
  {
   "cell_type": "code",
   "execution_count": 16,
   "metadata": {},
   "outputs": [],
   "source": [
    "# node with (x, t, y, w) pure indices"
   ]
  },
  {
   "cell_type": "code",
   "execution_count": 17,
   "metadata": {},
   "outputs": [],
   "source": [
    "# Didnt work out\n",
    "# using DataStructures\n",
    "# struct FirstForwardOrdering <: Base.Ordering end\n",
    "# Base.lt(::FirstForwardOrdering, a, b) = Base.Order.lt(Base.Order.Forward, first(a), first(b))"
   ]
  },
  {
   "cell_type": "code",
   "execution_count": 18,
   "metadata": {},
   "outputs": [],
   "source": [
    "# struct ConstraintsSpecificationPreallocated\n",
    "#     clusters_template :: BitVector\n",
    "#     clusters_set      :: Set{Tuple}\n",
    "#     cluster_indices   :: Vector{Int}\n",
    "# end"
   ]
  },
  {
   "cell_type": "code",
   "execution_count": null,
   "metadata": {},
   "outputs": [],
   "source": []
  },
  {
   "cell_type": "code",
   "execution_count": 78,
   "metadata": {},
   "outputs": [],
   "source": [
    "struct ClusterIntersectionError\n",
    "    expression\n",
    "    varrefs\n",
    "    clusters\n",
    "    constraints\n",
    "end\n",
    "\n",
    "__throw_intersection_error(expression, varrefs, clusters, constraints) = throw(ClusterIntersectionError(expression, varrefs, clusters, constraints))\n",
    "\n",
    "function Base.showerror(io::IO, error::ClusterIntersectionError)\n",
    "    print(io, \"Cluster intersection error in the expression `$(error.expression)`.\\n\")\n",
    "    print(io, \"Based on factorisation constraints the resulting local constraint \")\n",
    "    varnames = \n",
    "    print(io, \"q(\")\n",
    "    join(io, map(first, error.varrefs), \", \")\n",
    "    print(io, \") = \")\n",
    "    for cluster in error.clusters\n",
    "        print(io, \"q(\")\n",
    "        entries = map(cluster) do clusterindex\n",
    "            __for_error_convert(tuple::Tuple)        = __for_error_convert(first(tuple), last(tuple))\n",
    "            __for_error_convert(var, index)          = string(var, \"[\", index, \"]\")\n",
    "            __for_error_convert(var, index::Nothing) = string(var)\n",
    "            __for_error_convert(error.varrefs[clusterindex])\n",
    "        end\n",
    "        join(io, entries, \", \")\n",
    "        print(io, \")\")\n",
    "    end\n",
    "    print(io, \" has cluster intersections, which is disallowed by default.\")\n",
    "    print(io, \"\\nTechnical info: clusters = \", error.clusters)\n",
    "    print(io, \"\\n\", error.constraints)\n",
    "end"
   ]
  },
  {
   "cell_type": "code",
   "execution_count": 85,
   "metadata": {},
   "outputs": [
    {
     "data": {
      "text/plain": [
       "create_factorisation (generic function with 1 method)"
      ]
     },
     "execution_count": 85,
     "metadata": {},
     "output_type": "execute_result"
    }
   ],
   "source": [
    "function create_factorisation(expr::Expr, variables, constraints) \n",
    "    # Indexmap creates simple mapping for each symbol in `ns`\n",
    "    # E.g. ns = (:x, y)\n",
    "    # indexmap = (x = 1, y = 2)\n",
    "    N = length(variables)\n",
    "    var_refs       = map(get_factorisation_reference, variables)\n",
    "    var_refs_names = map(first, var_refs)\n",
    "    # indexmap = NamedTuple{Names}(ntuple(identity, N))\n",
    "    \n",
    "    # `factorisation` is a tuple of `FactorisationConstraintsSpecification`s\n",
    "    # FactorisationConstraintsSpecification has names of LHS and specs of RHS\n",
    "    factorisation = constraints.factorisation\n",
    "    \n",
    "    preallocated = constraints.preallocated\n",
    "    \n",
    "    __reset_preallocated!(preallocated, N)\n",
    "    \n",
    "    clusters_template = preallocated.clusters_template\n",
    "    clusters_usage    = preallocated.clusters_usage\n",
    "    clusters_set      = preallocated.clusters_set\n",
    "    cluster_indices   = preallocated.cluster_indices\n",
    "    \n",
    "    function __process_factorisation_entry!(symbol::Symbol, index, shift::Int) where N\n",
    "        # `symbols` refers to all possible symbols that refer to the current variable\n",
    "        \n",
    "        function __filter_template!(spec::FactorisationConstraintsSpecification, factorisation_entries::Tuple)\n",
    "            # This function applies a given `spec` with rhs = `factorisation_entries`\n",
    "            # Function goes all over `factorisation_entries` and check that the target `symbols` are found only once\n",
    "            # This is to prevent situations like q(x) = q(x[1])q(x[1]), which are correct from syntax point of view, but are not allowed in runtime\n",
    "            found_once = false\n",
    "            for entry in factorisation_entries\n",
    "                is_found = __filter_template!(Val(true), entry)\n",
    "                if is_found && found_once\n",
    "                    error(\"Found variable $(symbol) twice in the factorisation specification $(spec).\")\n",
    "                end\n",
    "                found_once = found_once | is_found\n",
    "            end\n",
    "            return found_once\n",
    "        end\n",
    "        \n",
    "        # First argument `force` is a compile time flag that indicates if we want to check names of the `spec` first\n",
    "        __filter_template!(force::Val{true}, spec::FactorisationConstraintsSpecification)  = __filter_template!(spec, getentries(spec))\n",
    "        __filter_template!(force::Val{false}, spec::FactorisationConstraintsSpecification) = symbol ∈ getnames(spec) ? __filter_template!(spec, getentries(spec)) : false\n",
    "        \n",
    "        # This is totally wrong but just to test an idea\n",
    "        # Does not support indices\n",
    "        # Does not support ranges\n",
    "        # Does not support split ranges\n",
    "        function __filter_template!(force::Val{true}, csentry::FactorisationConstraintsEntry)\n",
    "            entry_names   = getnames(csentry)\n",
    "            entry_indices = getindices(csentry)\n",
    "            entry_pairs   = getpairs(csentry)\n",
    "            \n",
    "            if symbol ∉ entry_names\n",
    "                unrolled_foreach(entry_pairs) do qpair\n",
    "                    \n",
    "                    name_position = if last(qpair) === nothing \n",
    "                        # First we check if variable in factorisation specification has no index associated with it\n",
    "                        # In this case we ignore any indexing in variable references and exclude it based purely on name\n",
    "                        findnext(==(first(qpair)), var_refs_names, 1)\n",
    "                    else\n",
    "                        # todo this check does not support functional indices (and regular indices too)\n",
    "                        # `var_refs` here refers to a tuple of `(varname, index)` elements\n",
    "                        findnext(==(qpair), var_refs, 1)\n",
    "                    end\n",
    "                        \n",
    "                    if name_position !== nothing\n",
    "                        clusters_template[ shift + name_position ] = false\n",
    "                    end\n",
    "                end\n",
    "                return false\n",
    "            else\n",
    "                symbol_position = findnext(==(symbol), entry_names, 1)::Integer # symbol_position cannot be `nothing` here \n",
    "                symbol_index    = entry_indices[symbol_position] \n",
    "                \n",
    "                # Case `1`: User passed a single variable (index = nothing), but factorisation assumes indexing. e.g q(x) = q(x[begin])..q(x[end])\n",
    "                if index === nothing && symbol_index !== nothing\n",
    "                    error(\"Factorisation specification entry $(csentry) assumes variable $(symbol) can be indexed, however variable $(symbol) created in the model cannot be indexed.\")\n",
    "                end\n",
    "                \n",
    "                # Case `2`: User passed an indexed variable (index = some_integer) and factorisation acts on whe whole set, q(x, y) = q(x)q(y)\n",
    "                if index isa Integer && symbol_index === nothing # `isa` is not really a Julia way to solve things, but I believe it is reasonable here \n",
    "                     return true\n",
    "                end\n",
    "                \n",
    "                return true\n",
    "            end\n",
    "        end\n",
    "        \n",
    "        unrolled_foreach(factorisation) do spec\n",
    "            __filter_template!(Val(false), spec)\n",
    "        end\n",
    "        \n",
    "    end\n",
    "    \n",
    "    shift = 0\n",
    "    for varref in var_refs\n",
    "        __process_factorisation_entry!(first(varref), last(varref), shift)\n",
    "        shift += N\n",
    "    end\n",
    "    \n",
    "    @inbounds for index in 1:N\n",
    "        range_left  = (index - 1) * N + 1\n",
    "        range_right = range_left + N - 1\n",
    "        \n",
    "        ki = 0\n",
    "        @inbounds for (index, flag) in enumerate(view(clusters_template, range_left:range_right))\n",
    "            if flag\n",
    "                ki += 1\n",
    "                cluster_indices[ki] = index\n",
    "            end\n",
    "        end\n",
    "        \n",
    "        output = Tuple(view(cluster_indices, 1:ki))\n",
    "        \n",
    "        push!(clusters_set, output)\n",
    "    end\n",
    "    \n",
    "    sorted_clusters = sort!(collect(clusters_set); by = first, alg = QuickSort)\n",
    "    \n",
    "    # Check if clusters do intersect\n",
    "    for cluster in sorted_clusters\n",
    "        for index in cluster\n",
    "            if clusters_usage[index] === true\n",
    "                __throw_intersection_error(expr, var_refs, sorted_clusters, constraints)\n",
    "            end \n",
    "            clusters_usage[index] = true\n",
    "        end\n",
    "    end\n",
    "    \n",
    "    return Tuple(sorted_clusters)\n",
    "    # return template\n",
    "end"
   ]
  },
  {
   "cell_type": "code",
   "execution_count": 80,
   "metadata": {},
   "outputs": [
    {
     "data": {
      "text/plain": [
       "Constraints:\n",
       "\tform: ()\n",
       "\tfactorisation\n",
       "\t\tq(x, y) = q(x)q(y)\n",
       "\t\tq(x, y, t, r) = q(x, y)q(t)q(r)\n",
       "\t\tq(x, w) = q(x)q(w)\n",
       "\t\tq(y, w) = q(y)q(w)\n"
      ]
     },
     "execution_count": 80,
     "metadata": {},
     "output_type": "execute_result"
    }
   ],
   "source": [
    "cs = @constraints function test()\n",
    "    q(x, y) = q(x)q(y)\n",
    "    q(x, y, t, r) = q(x, y)q(t)q(r)\n",
    "    q(x, w) = q(x)q(w)\n",
    "    q(y, w) = q(y)q(w)\n",
    "    # q(x) = q(x[begin])q(x[begin + 1])..q(x[end])\n",
    "end\n",
    "\n",
    "cs = test()"
   ]
  },
  {
   "cell_type": "code",
   "execution_count": 81,
   "metadata": {},
   "outputs": [
    {
     "data": {
      "text/plain": [
       "get_factorisation_reference (generic function with 4 methods)"
      ]
     },
     "execution_count": 81,
     "metadata": {},
     "output_type": "execute_result"
    }
   ],
   "source": [
    "struct DummyVariable\n",
    "    name   :: Symbol\n",
    "    index\n",
    "    proxy\n",
    "end\n",
    "\n",
    "get_factorisation_reference(variable::DummyVariable) = get_factorisation_reference(variable, variable.proxy, variable.name, variable.index)\n",
    "\n",
    "get_factorisation_reference(::DummyVariable, ::Nothing, name::Symbol, index) = (name, index)\n",
    "get_factorisation_reference(::DummyVariable, something::Tuple{T}, name, index) where T = get_factorisation_reference(first(something))\n",
    "get_factorisation_reference(::DummyVariable, something::Tuple, name, index)            = error(\"Multiple proxies are dissalowed: todo better error message. The idea here is that if variable has been auto-created and refers to two different variables in the model we simply throw an error. User must explistly create a new variable and name it and use it in constraints specification.\")\n",
    "\n",
    "# struct DummyVariable\n",
    "#     name :: Symbol\n",
    "# end\n",
    "\n",
    "# getnames(variable::DummyVariable) = (variable.name, )"
   ]
  },
  {
   "cell_type": "code",
   "execution_count": 82,
   "metadata": {},
   "outputs": [
    {
     "data": {
      "text/plain": [
       "(DummyVariable(:x, 1, nothing), DummyVariable(:tmpy, nothing, (DummyVariable(:y, nothing, nothing),)), DummyVariable(:t, nothing, nothing))"
      ]
     },
     "execution_count": 82,
     "metadata": {},
     "output_type": "execute_result"
    }
   ],
   "source": [
    "xvar = DummyVariable(:x, 1, nothing)\n",
    "wvar = DummyVariable(:w, nothing, nothing)\n",
    "yvar = DummyVariable(:tmpy, nothing, (DummyVariable(:y, nothing, nothing), ))\n",
    "# yvar = DummyVariable(:tmpy, nothing, nothing)\n",
    "tvar = DummyVariable(:t, nothing, nothing)\n",
    "\n",
    "# vars = (xvar, wvar, yvar, tvar)\n",
    "vars = (xvar, yvar, tvar)"
   ]
  },
  {
   "cell_type": "code",
   "execution_count": 83,
   "metadata": {},
   "outputs": [
    {
     "name": "stdout",
     "output_type": "stream",
     "text": [
      "  0.000010 seconds (9 allocations: 1.125 KiB)\n",
      "  0.000006 seconds (9 allocations: 1.125 KiB)\n"
     ]
    },
    {
     "data": {
      "text/plain": [
       "Constraints:\n",
       "\tform: ()\n",
       "\tfactorisation\n",
       "\t\tq(x, y) = q(x)q(y)\n",
       "\t\tq(x, y, t, r) = q(x, y)q(t)q(r)\n",
       "\t\tq(x, w) = q(x)q(w)\n",
       "\t\tq(y, w) = q(y)q(w)\n"
      ]
     },
     "execution_count": 83,
     "metadata": {},
     "output_type": "execute_result"
    }
   ],
   "source": [
    "@time test()\n",
    "@time test()\n",
    "\n",
    "cs = test()"
   ]
  },
  {
   "cell_type": "code",
   "execution_count": 84,
   "metadata": {},
   "outputs": [
    {
     "ename": "LoadError",
     "evalue": "Cluster intersection error in the expression `1 + 1`.\nBased on factorisation constraints the resulting local constraint q(x, y, t) = q(x[1], y)q(x[1], t)q(x[1]) has cluster intersections, which is disallowed by default.\nTechnical info: clusters = Tuple[(1, 2), (1, 3), (1,)]\nConstraints:\n\tform: ()\n\tfactorisation\n\t\tq(x, y) = q(x)q(y)\n\t\tq(x, y, t, r) = q(x, y)q(t)q(r)\n\t\tq(x, w) = q(x)q(w)\n\t\tq(y, w) = q(y)q(w)\n",
     "output_type": "error",
     "traceback": [
      "Cluster intersection error in the expression `1 + 1`.\nBased on factorisation constraints the resulting local constraint q(x, y, t) = q(x[1], y)q(x[1], t)q(x[1]) has cluster intersections, which is disallowed by default.\nTechnical info: clusters = Tuple[(1, 2), (1, 3), (1,)]\nConstraints:\n\tform: ()\n\tfactorisation\n\t\tq(x, y) = q(x)q(y)\n\t\tq(x, y, t, r) = q(x, y)q(t)q(r)\n\t\tq(x, w) = q(x)q(w)\n\t\tq(y, w) = q(y)q(w)\n",
      "",
      "Stacktrace:",
      " [1] __throw_intersection_error(expression::Expr, varrefs::Tuple{Tuple{Symbol, Int64}, Tuple{Symbol, Nothing}, Tuple{Symbol, Nothing}}, clusters::Vector{Tuple}, constraints::ConstraintsSpecification{Tuple{FactorisationConstraintsSpecification{(:x, :y), (q(x), q(y))}, FactorisationConstraintsSpecification{(:x, :y, :t, :r), (q(x, y), q(t), q(r))}, FactorisationConstraintsSpecification{(:x, :w), (q(x), q(w))}, FactorisationConstraintsSpecification{(:y, :w), (q(y), q(w))}}, Tuple{}})",
      "   @ Main ./In[78]:8",
      " [2] create_factorisation(expr::Expr, variables::Tuple{DummyVariable, DummyVariable, DummyVariable}, constraints::ConstraintsSpecification{Tuple{FactorisationConstraintsSpecification{(:x, :y), (q(x), q(y))}, FactorisationConstraintsSpecification{(:x, :y, :t, :r), (q(x, y), q(t), q(r))}, FactorisationConstraintsSpecification{(:x, :w), (q(x), q(w))}, FactorisationConstraintsSpecification{(:y, :w), (q(y), q(w))}}, Tuple{}})",
      "   @ Main ./In[79]:115",
      " [3] top-level scope",
      "   @ timing.jl:220",
      " [4] eval",
      "   @ ./boot.jl:373 [inlined]",
      " [5] include_string(mapexpr::typeof(REPL.softscope), mod::Module, code::String, filename::String)",
      "   @ Base ./loading.jl:1196"
     ]
    }
   ],
   "source": [
    "@time create_factorisation(:(1 + 1), vars, cs)\n",
    "@time create_factorisation(:(1 + 1), vars, cs)"
   ]
  },
  {
   "cell_type": "code",
   "execution_count": 26,
   "metadata": {},
   "outputs": [
    {
     "name": "stdout",
     "output_type": "stream",
     "text": [
      "  0.000041 seconds (39 allocations: 1.250 KiB)\n",
      "  0.000023 seconds (39 allocations: 1.250 KiB)\n"
     ]
    },
    {
     "data": {
      "text/plain": [
       "((1,), (2,), (3,))"
      ]
     },
     "execution_count": 26,
     "metadata": {},
     "output_type": "execute_result"
    }
   ],
   "source": [
    "@time create_factorisation(:(1 + 1), vars, cs)\n",
    "@time create_factorisation(:(1 + 1), vars, cs)"
   ]
  },
  {
   "cell_type": "code",
   "execution_count": 27,
   "metadata": {},
   "outputs": [
    {
     "name": "stdout",
     "output_type": "stream",
     "text": [
      "  2.463 μs (33 allocations: 1.06 KiB)\n"
     ]
    },
    {
     "data": {
      "text/plain": [
       "((1,), (2,), (3,))"
      ]
     },
     "execution_count": 27,
     "metadata": {},
     "output_type": "execute_result"
    }
   ],
   "source": [
    "@btime create_factorisation(:(1 + 1), $vars, $cs)"
   ]
  },
  {
   "cell_type": "code",
   "execution_count": 28,
   "metadata": {},
   "outputs": [
    {
     "data": {
      "text/plain": [
       "foo (generic function with 1 method)"
      ]
     },
     "execution_count": 28,
     "metadata": {},
     "output_type": "execute_result"
    }
   ],
   "source": [
    "function foo(n)\n",
    "    ns = Val((:x, :w, :y, :t))\n",
    "    is = (nothing, nothing, nothing, nothing)\n",
    "    cs = test()\n",
    "    for i in 1:n\n",
    "        create_factorisation(:(1 + 1), ns, is, cs)\n",
    "    end\n",
    "end"
   ]
  },
  {
   "cell_type": "code",
   "execution_count": 29,
   "metadata": {},
   "outputs": [],
   "source": [
    "# @btime foo(1000)"
   ]
  },
  {
   "cell_type": "code",
   "execution_count": null,
   "metadata": {},
   "outputs": [],
   "source": []
  }
 ],
 "metadata": {
  "kernelspec": {
   "display_name": "Julia 1.7.2",
   "language": "julia",
   "name": "julia-1.7"
  },
  "language_info": {
   "file_extension": ".jl",
   "mimetype": "application/julia",
   "name": "julia",
   "version": "1.7.2"
  }
 },
 "nbformat": 4,
 "nbformat_minor": 4
}
