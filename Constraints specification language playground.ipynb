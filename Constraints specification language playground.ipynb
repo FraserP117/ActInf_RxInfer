{
 "cells": [
  {
   "cell_type": "code",
   "execution_count": 1,
   "metadata": {},
   "outputs": [],
   "source": [
    "using MacroTools\n",
    "using BenchmarkTools \n",
    "\n",
    "import MacroTools: prewalk, postwalk"
   ]
  },
  {
   "cell_type": "code",
   "execution_count": 2,
   "metadata": {},
   "outputs": [
    {
     "data": {
      "text/plain": [
       "@e (macro with 1 method)"
      ]
     },
     "execution_count": 2,
     "metadata": {},
     "output_type": "execute_result"
    }
   ],
   "source": [
    "macro e(something)\n",
    "    if something.head === :macrocall\n",
    "        return esc(:(println(MacroTools.prettify(@macroexpand $something)); $something))\n",
    "    end\n",
    "    return esc(something)\n",
    "end"
   ]
  },
  {
   "cell_type": "code",
   "execution_count": 3,
   "metadata": {},
   "outputs": [],
   "source": [
    "struct ConstraintsSpecification{F, M}\n",
    "    factorisation :: F\n",
    "    form :: M\n",
    "end\n",
    "\n",
    "function Base.show(io::IO, specification::ConstraintsSpecification) \n",
    "    print(io, \"Constraints:\\n\\tform: $(specification.form)\\n\")\n",
    "    print(io, \"\\tfactorisation\\n\")\n",
    "    foreach(specification.factorisation) do f\n",
    "        print(io, \"\\t\\t\", f, \"\\n\")\n",
    "    end\n",
    "end"
   ]
  },
  {
   "cell_type": "code",
   "execution_count": 21,
   "metadata": {},
   "outputs": [],
   "source": [
    "struct FactorisationConstraintsEntry{N, T}\n",
    "    indices :: NamedTuple{N, T}\n",
    "end\n",
    "\n",
    "Base.:(*)(left::Tuple{Vararg{T where T <: FactorisationConstraintsEntry}}, right::Tuple{Vararg{T where T <: FactorisationConstraintsEntry}}) = (left..., right...)\n",
    "\n",
    "\n",
    "__io_entry_pair(pair::Pair)                     = __io_entry_pair(first(pair), last(pair))\n",
    "__io_entry_pair(symbol::Symbol, ::Nothing)      = string(symbol)\n",
    "__io_entry_pair(symbol::Symbol, index::Integer) = string(symbol, \"[\", index, \"]\")\n",
    "__io_entry_pair(symbol::Symbol, range::AbstractRange) = string(symbol, \"[\", range, \"]\")\n",
    "\n",
    "make_factorisation_constraints_entry(indices) = :(FactorisationConstraintsEntry($indices))\n",
    "\n",
    "function Base.show(io::IO, entry::FactorisationConstraintsEntry) \n",
    "    print(io, \"q(\")\n",
    "    entries = map(__io_entry_pair, collect(pairs(entry.indices)))\n",
    "    join(io, entries, \", \")\n",
    "    print(io, \")\")\n",
    "end"
   ]
  },
  {
   "cell_type": "code",
   "execution_count": 5,
   "metadata": {},
   "outputs": [
    {
     "data": {
      "text/plain": [
       "register_q_factorisation_specification (generic function with 1 method)"
      ]
     },
     "execution_count": 5,
     "metadata": {},
     "output_type": "execute_result"
    }
   ],
   "source": [
    "struct FactorisationConstraintsSpecification{N, E}\n",
    "    entries :: E\n",
    "end\n",
    "\n",
    "Base.:(*)(left::FactorisationConstraintsSpecification, right::NTuple{N2, <: FactorisationConstraintsEntry}) where { N1, N2 } = (left, right...)\n",
    "Base.:(*)(left::NTuple{N1, <: FactorisationConstraintsEntry}, right::FactorisationConstraintsSpecification) where { N1, N2 } = (left..., right)\n",
    "\n",
    "function Base.show(io::IO, factorisation::FactorisationConstraintsSpecification{Names}) where Names\n",
    "    \n",
    "    print(io, \"q(\")\n",
    "    join(io, Names, \", \")\n",
    "    print(io, \")\")\n",
    "    \n",
    "    compact = get(io, :compact, false)\n",
    "    \n",
    "    if !compact \n",
    "        print(io, \" = \")\n",
    "        foreach(factorisation.entries) do e\n",
    "            print(IOContext(io, :compact => true), e)\n",
    "        end\n",
    "    end\n",
    "    \n",
    "end\n",
    "\n",
    "FactorisationConstraintsSpecification(::Val{N}, entries::E) where { N, E } = FactorisationConstraintsSpecification{N, E}(entries)\n",
    "    \n",
    "register_q_factorisation_specification(N, E) = :(FactorisationConstraintsSpecification($N, $E))"
   ]
  },
  {
   "cell_type": "code",
   "execution_count": 6,
   "metadata": {},
   "outputs": [
    {
     "data": {
      "text/plain": [
       "make_constraints_specification (generic function with 1 method)"
      ]
     },
     "execution_count": 6,
     "metadata": {},
     "output_type": "execute_result"
    }
   ],
   "source": [
    "struct ReactiveMPBackend end\n",
    "\n",
    "__get_current_backend() = ReactiveMPBackend()\n",
    "\n",
    "macro constraints(constraints_specification)\n",
    "    return generate_constraints_expression(__get_current_backend(), constraints_specification)\n",
    "end\n",
    "\n",
    "make_constraints_specification(factorisation, form) = :(ConstraintsSpecification($factorisation, $form))"
   ]
  },
  {
   "cell_type": "code",
   "execution_count": 7,
   "metadata": {},
   "outputs": [
    {
     "data": {
      "text/plain": [
       "isref (generic function with 1 method)"
      ]
     },
     "execution_count": 7,
     "metadata": {},
     "output_type": "execute_result"
    }
   ],
   "source": [
    "isexpr(expr::Expr) = true\n",
    "isexpr()           = false\n",
    "\n",
    "ishead(something, head) = isexpr(something) && something.head === head\n",
    "\n",
    "isblock(something) = ishead(something, :block)\n",
    "isref(something) = ishead(something, :ref)"
   ]
  },
  {
   "cell_type": "code",
   "execution_count": 8,
   "metadata": {},
   "outputs": [],
   "source": [
    "struct LHSMeta\n",
    "    name :: String\n",
    "    hash :: UInt\n",
    "    varname :: Symbol\n",
    "end"
   ]
  },
  {
   "cell_type": "code",
   "execution_count": 46,
   "metadata": {},
   "outputs": [
    {
     "data": {
      "text/plain": [
       "generate_constraints_expression (generic function with 1 method)"
      ]
     },
     "execution_count": 46,
     "metadata": {},
     "output_type": "execute_result"
    }
   ],
   "source": [
    "function generate_constraints_expression(backend, constraints_specification)\n",
    "\n",
    "    if isblock(constraints_specification)\n",
    "        generatedfname = gensym(:constraints)\n",
    "        generatedfbody = :(function $(generatedfname)() $constraints_specification end)\n",
    "        return :($(generate_constraints_expression(backend, generatedfbody))())\n",
    "    end\n",
    "\n",
    "    @capture(constraints_specification, (function cs_name_(cs_args__; cs_kwargs__) cs_body_ end) | (function cs_name_(cs_args__) cs_body_ end)) || \n",
    "        error(\"Constraints specification language requires full function definition\")\n",
    "    \n",
    "    cs_args   = cs_args === nothing ? [] : cs_args\n",
    "    cs_kwargs = cs_kwargs === nothing ? [] : cs_kwargs\n",
    "    \n",
    "    lhs_dict = Dict{UInt, LHSMeta}()\n",
    "    \n",
    "    # We iteratively overwrite extend form constraint tuple, but we use different names for it to enable type-stability\n",
    "    form_constraints_symbol      = gensym(:form_constraint)\n",
    "    form_constraints_symbol_init = :($form_constraints_symbol = ())\n",
    "    \n",
    "    # We iteratively overwrite extend factorisation constraint tuple, but we use different names for it to enable type-stability\n",
    "    factorisation_constraints_symbol      = gensym(:factorisation_constraint)\n",
    "    factorisation_constraints_symbol_init = :($factorisation_constraints_symbol = ())\n",
    "    \n",
    "    # First we record all lhs expression's hash ids and create unique variable names for them\n",
    "    # q(x, y) = q(x)q(y) -> hash(q(x, y))\n",
    "    # We do allow multiple definitions in case of if statements, but we do check later overwrites, which are not allowed\n",
    "    cs_body = postwalk(cs_body) do expression\n",
    "        # We also do a simple sanity check right now, names should be an array of Symbols only\n",
    "        if @capture(expression, lhs_ = rhs_) && @capture(lhs, q(names__))\n",
    "            \n",
    "            (length(names) !== 0 && all(name -> name isa Symbol, names)) || \n",
    "                error(\"\"\"Error in factorisation constraints specification $(lhs_name) = ...\\nLeft hand side of the equality expression should have only variable identifiers.\"\"\")\n",
    "            \n",
    "            @capture(rhs, *(rhs_prod_entries__)) || error(\"Invalid RHS $(rhs) of the factorisation specification expression $(expression)\")\n",
    "            \n",
    "            lhs_names = Set(names)\n",
    "            rhs_names = Set{Symbol}()\n",
    "            \n",
    "            # We do a simple check to be sure that LHS and RHS has the exact same set of names\n",
    "            # We also check here that all indices are either a simple Symbol or an indexing expression here\n",
    "            for entry in rhs_prod_entries\n",
    "                if @capture(entry, q(indices__))\n",
    "                    for index in indices\n",
    "                        if index isa Symbol\n",
    "                            (index ∉ rhs_names) || error(\"RHS of the $(expression) expression used $(index) without indexing twice, which is not allowed. Try to decompose factorisation constraint expression into several subexpression.\")\n",
    "                            push!(rhs_names, index)\n",
    "                            (index ∉ lhs_names) && error(\"LHS of the $(expression) expression does not have $(index) variable, but is used in RHS.\")\n",
    "                        elseif isref(index)\n",
    "                            push!(rhs_names, first(index.args))\n",
    "                            (first(index.args) ∉ lhs_names) && error(\"LHS of the $(expression) expression does not have $(first(index.args)) variable, but is used in RHS.\")\n",
    "                        else\n",
    "                           error(\"Cannot parse expression $(index) in the RHS $(rhs) expression. Index expression should be either a single variable symbol or an indexing expression.\") \n",
    "                        end\n",
    "                    end\n",
    "                end\n",
    "            end\n",
    "            \n",
    "            (lhs_names == rhs_names) || error(\"LHS and RHS of the $(expression) expression has different set of variables.\")\n",
    "            \n",
    "            lhs_hash = hash(lhs)\n",
    "            lhs_meta = if haskey(lhs_dict, lhs_hash)\n",
    "                lhs_dict[ lhs_hash ]\n",
    "            else\n",
    "                lhs_name = string(\"q(\", join(names, \", \"), \")\")\n",
    "                lhs_varname = gensym(lhs_name)\n",
    "                lhs_meta = LHSMeta(lhs_name, lhs_hash, lhs_varname)\n",
    "                lhs_dict[lhs_hash] = lhs_meta\n",
    "            end\n",
    "            \n",
    "            lhs_name = lhs_meta.name\n",
    "            lhs_varname = lhs_meta.varname\n",
    "            \n",
    "            new_factorisation_specification = register_q_factorisation_specification(:(Val(($(map(QuoteNode, names)...),))), rhs)\n",
    "            \n",
    "            result = quote \n",
    "                ($(lhs_varname) === nothing) || error(\"Factorisation constraints specification $($lhs_name) = ... has been redefined.\")\n",
    "                $(lhs_varname) = $(new_factorisation_specification)\n",
    "                $factorisation_constraints_symbol = ($factorisation_constraints_symbol..., $(lhs_varname))\n",
    "            end\n",
    "            \n",
    "            return result\n",
    "        end\n",
    "        return expression\n",
    "    end\n",
    "    \n",
    "    # This block write initial variables for factorisation specification\n",
    "    cs_lhs_init_block = map(collect(lhs_dict)) do pair\n",
    "        lhs_meta = last(pair)\n",
    "        lhs_varname = lhs_meta.varname\n",
    "        return quote \n",
    "            $(lhs_varname) = nothing\n",
    "        end\n",
    "    end\n",
    "    \n",
    "    cs_body = prewalk(cs_body) do expression\n",
    "        if @capture(expression, q(args__))\n",
    "            expr_hash = hash(expression)\n",
    "            if haskey(lhs_dict, expr_hash)\n",
    "                lhs_meta = lhs_dict[ expr_hash ]\n",
    "                lhs_name = lhs_meta.name\n",
    "                lhs_varname = lhs_meta.varname\n",
    "                return lhs_varname\n",
    "            else\n",
    "                # TODO add check that entries from LHS and RHS has same names\n",
    "                # TODO parse rhs here\n",
    "                rhs_prod_entries_args = map(args) do arg\n",
    "                    if arg isa Symbol\n",
    "                        return :($arg = nothing)\n",
    "                    elseif isref(arg)\n",
    "                        return :($(first(arg.args)) = $(last(arg.args)))\n",
    "                        error(\"Not implemented yet\")\n",
    "                    else\n",
    "                        error(\"Cannot parse expression $(index) in the RHS $(rhs) expression. Index expression should be either a single variable symbol or an indexing expression.\") \n",
    "                    end\n",
    "                end\n",
    "                \n",
    "                entry = make_factorisation_constraints_entry(:(($(rhs_prod_entries_args...), )))\n",
    "                \n",
    "                return :(($entry, ))\n",
    "            end\n",
    "        end\n",
    "        return expression\n",
    "    end\n",
    "    \n",
    "    return_specification = make_constraints_specification(factorisation_constraints_symbol, form_constraints_symbol)\n",
    "    \n",
    "    res = quote\n",
    "         function $cs_name($(cs_args...); $(cs_kwargs...))\n",
    "            $(form_constraints_symbol_init)\n",
    "            $(factorisation_constraints_symbol_init)\n",
    "            $(cs_lhs_init_block...)\n",
    "            $(cs_body)\n",
    "            $(return_specification)\n",
    "        end \n",
    "    end\n",
    "    \n",
    "    return esc(res)\n",
    "end"
   ]
  },
  {
   "cell_type": "code",
   "execution_count": 55,
   "metadata": {},
   "outputs": [],
   "source": [
    "# TODO: check for intersections of ranges during an actual execution"
   ]
  },
  {
   "cell_type": "code",
   "execution_count": 54,
   "metadata": {},
   "outputs": [
    {
     "name": "stdout",
     "output_type": "stream",
     "text": [
      "function forbench(flag, n; )\n",
      "    albatross = ()\n",
      "    nightingale = ()\n",
      "    lemur = nothing\n",
      "    lyrebird = nothing\n",
      "    lemur === nothing || error(\"Factorisation constraints specification q(x) = ... has been redefined.\")\n",
      "    lemur = FactorisationConstraintsSpecification(Val((:x,)), (FactorisationConstraintsEntry((x = 1:n,)),) * (FactorisationConstraintsEntry((x = n + 1:10,)),))\n",
      "    nightingale = (nightingale..., lemur)\n",
      "    lyrebird === nothing || error(\"Factorisation constraints specification q(x, y, z, r) = ... has been redefined.\")\n",
      "    lyrebird = FactorisationConstraintsSpecification(Val((:x, :y, :z, :r)), (FactorisationConstraintsEntry((x = nothing, y = nothing)),) * (FactorisationConstraintsEntry((z = nothing, r = nothing)),))\n",
      "    nightingale = (nightingale..., lyrebird)\n",
      "    ConstraintsSpecification(nightingale, albatross)\n",
      "end\n",
      "  0.000001 seconds\n",
      "  0.000004 seconds\n"
     ]
    },
    {
     "data": {
      "text/plain": [
       "Constraints:\n",
       "\tform: ()\n",
       "\tfactorisation\n",
       "\t\tq(x) = q(x[1:2])q(x[3:10])\n",
       "\t\tq(x, y, z, r) = q(x, y)q(z, r)\n"
      ]
     },
     "execution_count": 54,
     "metadata": {},
     "output_type": "execute_result"
    }
   ],
   "source": [
    "@e @constraints function forbench(flag, n)\n",
    "    q(x) = q(x[1:n])q(x[(n+1):10])\n",
    "    q(x, y, z, r) = q(x, y)q(z, r)\n",
    "end\n",
    "\n",
    "@time forbench(true, 2)\n",
    "@time forbench(true, 2)\n",
    "\n",
    "cs = forbench(true, 2)"
   ]
  },
  {
   "cell_type": "code",
   "execution_count": 49,
   "metadata": {},
   "outputs": [
    {
     "name": "stdout",
     "output_type": "stream",
     "text": [
      "MethodInstance for forbench(::Bool, ::Int64)\n",
      "  from forbench(flag, n) in Main at In[46]:129\n",
      "Arguments\n",
      "  #self#\u001b[36m::Core.Const(forbench)\u001b[39m\n",
      "  flag\u001b[36m::Bool\u001b[39m\n",
      "  n\u001b[36m::Int64\u001b[39m\n",
      "Locals\n",
      "  q(x, y, z, r)#332\u001b[33m\u001b[1m::Union{Nothing, FactorisationConstraintsSpecification{(:x, :y, :z, :r), Tuple{FactorisationConstraintsEntry{(:x, :y), Tuple{Nothing, Nothing}}, FactorisationConstraintsEntry{(:z, :r), Tuple{Nothing, Nothing}}}}}\u001b[22m\u001b[39m\n",
      "  q(x)#331\u001b[33m\u001b[1m::Union{Nothing, FactorisationConstraintsSpecification{(:x,), Tuple{FactorisationConstraintsEntry{(:x,), Tuple{UnitRange{Int64}}}, FactorisationConstraintsEntry{(:x,), Tuple{UnitRange{Int64}}}}}}\u001b[22m\u001b[39m\n",
      "  factorisation_constraint#330\u001b[91m\u001b[1m::Union{Tuple{}, Tuple{FactorisationConstraintsSpecification{(:x,), Tuple{FactorisationConstraintsEntry{(:x,), Tuple{UnitRange{Int64}}}, FactorisationConstraintsEntry{(:x,), Tuple{UnitRange{Int64}}}}}}, Tuple{FactorisationConstraintsSpecification{(:x,), Tuple{FactorisationConstraintsEntry{(:x,), Tuple{UnitRange{Int64}}}, FactorisationConstraintsEntry{(:x,), Tuple{UnitRange{Int64}}}}}, FactorisationConstraintsSpecification{(:x, :y, :z, :r), Tuple{FactorisationConstraintsEntry{(:x, :y), Tuple{Nothing, Nothing}}, FactorisationConstraintsEntry{(:z, :r), Tuple{Nothing, Nothing}}}}}}\u001b[22m\u001b[39m\n",
      "  form_constraint#329\u001b[36m::Tuple{}\u001b[39m\n",
      "Body\u001b[36m::ConstraintsSpecification{Tuple{FactorisationConstraintsSpecification{(:x,), Tuple{FactorisationConstraintsEntry{(:x,), Tuple{UnitRange{Int64}}}, FactorisationConstraintsEntry{(:x,), Tuple{UnitRange{Int64}}}}}, FactorisationConstraintsSpecification{(:x, :y, :z, :r), Tuple{FactorisationConstraintsEntry{(:x, :y), Tuple{Nothing, Nothing}}, FactorisationConstraintsEntry{(:z, :r), Tuple{Nothing, Nothing}}}}}, Tuple{}}\u001b[39m\n",
      "\u001b[90m1 ─\u001b[39m       (form_constraint#329 = ())\n",
      "\u001b[90m│  \u001b[39m       (factorisation_constraint#330 = ())\n",
      "\u001b[90m│  \u001b[39m       (q(x)#331 = Main.nothing)\n",
      "\u001b[90m│  \u001b[39m       (q(x, y, z, r)#332 = Main.nothing)\n",
      "\u001b[90m│  \u001b[39m %5  = (q(x)#331::Core.Const(nothing) === Main.nothing)\u001b[36m::Core.Const(true)\u001b[39m\n",
      "\u001b[90m│  \u001b[39m       Core.typeassert(%5, Core.Bool)\n",
      "\u001b[90m└──\u001b[39m       goto #3\n",
      "\u001b[90m2 ─\u001b[39m       Core.Const(:(Base.string(\"Factorisation constraints specification \", \"q(x)\", \" = ... has been redefined.\")))\n",
      "\u001b[90m└──\u001b[39m       Core.Const(:(Main.error(%8)))\n",
      "\u001b[90m3 ┄\u001b[39m %10 = (:x,)\u001b[36m::Core.Const((:x,))\u001b[39m\n",
      "\u001b[90m│  \u001b[39m %11 = Main.Val(%10)\u001b[36m::Core.Const(Val{(:x,)}())\u001b[39m\n",
      "\u001b[90m│  \u001b[39m %12 = (:x,)\u001b[36m::Core.Const((:x,))\u001b[39m\n",
      "\u001b[90m│  \u001b[39m %13 = Core.apply_type(Core.NamedTuple, %12)\u001b[36m::Core.Const(NamedTuple{(:x,)})\u001b[39m\n",
      "\u001b[90m│  \u001b[39m %14 = (1:5)\u001b[36m::Core.Const(1:5)\u001b[39m\n",
      "\u001b[90m│  \u001b[39m %15 = Core.tuple(%14)\u001b[36m::Core.Const((1:5,))\u001b[39m\n",
      "\u001b[90m│  \u001b[39m %16 = (%13)(%15)\u001b[36m::Core.Const((x = 1:5,))\u001b[39m\n",
      "\u001b[90m│  \u001b[39m %17 = Main.FactorisationConstraintsEntry(%16)\u001b[36m::Core.Const(q(x[1:5]))\u001b[39m\n",
      "\u001b[90m│  \u001b[39m %18 = Core.tuple(%17)\u001b[36m::Core.Const((q(x[1:5]),))\u001b[39m\n",
      "\u001b[90m│  \u001b[39m %19 = (:x,)\u001b[36m::Core.Const((:x,))\u001b[39m\n",
      "\u001b[90m│  \u001b[39m %20 = Core.apply_type(Core.NamedTuple, %19)\u001b[36m::Core.Const(NamedTuple{(:x,)})\u001b[39m\n",
      "\u001b[90m│  \u001b[39m %21 = (5:10)\u001b[36m::Core.Const(5:10)\u001b[39m\n",
      "\u001b[90m│  \u001b[39m %22 = Core.tuple(%21)\u001b[36m::Core.Const((5:10,))\u001b[39m\n",
      "\u001b[90m│  \u001b[39m %23 = (%20)(%22)\u001b[36m::Core.Const((x = 5:10,))\u001b[39m\n",
      "\u001b[90m│  \u001b[39m %24 = Main.FactorisationConstraintsEntry(%23)\u001b[36m::Core.Const(q(x[5:10]))\u001b[39m\n",
      "\u001b[90m│  \u001b[39m %25 = Core.tuple(%24)\u001b[36m::Core.Const((q(x[5:10]),))\u001b[39m\n",
      "\u001b[90m│  \u001b[39m %26 = (%18 * %25)\u001b[36m::Core.Const((q(x[1:5]), q(x[5:10])))\u001b[39m\n",
      "\u001b[90m│  \u001b[39m       (q(x)#331 = Main.FactorisationConstraintsSpecification(%11, %26))\n",
      "\u001b[90m│  \u001b[39m %28 = factorisation_constraint#330\u001b[36m::Core.Const(())\u001b[39m\n",
      "\u001b[90m│  \u001b[39m %29 = Core.tuple(q(x)#331::Core.Const(q(x) = q(x[1:5])q(x[5:10])))\u001b[36m::Core.Const((q(x) = q(x[1:5])q(x[5:10]),))\u001b[39m\n",
      "\u001b[90m│  \u001b[39m       (factorisation_constraint#330 = Core._apply_iterate(Base.iterate, Core.tuple, %28, %29))\n",
      "\u001b[90m│  \u001b[39m %31 = (q(x, y, z, r)#332::Core.Const(nothing) === Main.nothing)\u001b[36m::Core.Const(true)\u001b[39m\n",
      "\u001b[90m│  \u001b[39m       Core.typeassert(%31, Core.Bool)\n",
      "\u001b[90m└──\u001b[39m       goto #5\n",
      "\u001b[90m4 ─\u001b[39m       Core.Const(:(Base.string(\"Factorisation constraints specification \", \"q(x, y, z, r)\", \" = ... has been redefined.\")))\n",
      "\u001b[90m└──\u001b[39m       Core.Const(:(Main.error(%34)))\n",
      "\u001b[90m5 ┄\u001b[39m %36 = (:x, :y, :z, :r)\u001b[36m::Core.Const((:x, :y, :z, :r))\u001b[39m\n",
      "\u001b[90m│  \u001b[39m %37 = Main.Val(%36)\u001b[36m::Core.Const(Val{(:x, :y, :z, :r)}())\u001b[39m\n",
      "\u001b[90m│  \u001b[39m %38 = (:x, :y)\u001b[36m::Core.Const((:x, :y))\u001b[39m\n",
      "\u001b[90m│  \u001b[39m %39 = Core.apply_type(Core.NamedTuple, %38)\u001b[36m::Core.Const(NamedTuple{(:x, :y)})\u001b[39m\n",
      "\u001b[90m│  \u001b[39m %40 = Core.tuple(Main.nothing, Main.nothing)\u001b[36m::Core.Const((nothing, nothing))\u001b[39m\n",
      "\u001b[90m│  \u001b[39m %41 = (%39)(%40)\u001b[36m::Core.Const((x = nothing, y = nothing))\u001b[39m\n",
      "\u001b[90m│  \u001b[39m %42 = Main.FactorisationConstraintsEntry(%41)\u001b[36m::Core.Const(q(x, y))\u001b[39m\n",
      "\u001b[90m│  \u001b[39m %43 = Core.tuple(%42)\u001b[36m::Core.Const((q(x, y),))\u001b[39m\n",
      "\u001b[90m│  \u001b[39m %44 = (:z, :r)\u001b[36m::Core.Const((:z, :r))\u001b[39m\n",
      "\u001b[90m│  \u001b[39m %45 = Core.apply_type(Core.NamedTuple, %44)\u001b[36m::Core.Const(NamedTuple{(:z, :r)})\u001b[39m\n",
      "\u001b[90m│  \u001b[39m %46 = Core.tuple(Main.nothing, Main.nothing)\u001b[36m::Core.Const((nothing, nothing))\u001b[39m\n",
      "\u001b[90m│  \u001b[39m %47 = (%45)(%46)\u001b[36m::Core.Const((z = nothing, r = nothing))\u001b[39m\n",
      "\u001b[90m│  \u001b[39m %48 = Main.FactorisationConstraintsEntry(%47)\u001b[36m::Core.Const(q(z, r))\u001b[39m\n",
      "\u001b[90m│  \u001b[39m %49 = Core.tuple(%48)\u001b[36m::Core.Const((q(z, r),))\u001b[39m\n",
      "\u001b[90m│  \u001b[39m %50 = (%43 * %49)\u001b[36m::Core.Const((q(x, y), q(z, r)))\u001b[39m\n",
      "\u001b[90m│  \u001b[39m       (q(x, y, z, r)#332 = Main.FactorisationConstraintsSpecification(%37, %50))\n",
      "\u001b[90m│  \u001b[39m %52 = factorisation_constraint#330\u001b[36m::Core.Const((q(x) = q(x[1:5])q(x[5:10]),))\u001b[39m\n",
      "\u001b[90m│  \u001b[39m %53 = Core.tuple(q(x, y, z, r)#332::Core.Const(q(x, y, z, r) = q(x, y)q(z, r)))\u001b[36m::Core.Const((q(x, y, z, r) = q(x, y)q(z, r),))\u001b[39m\n",
      "\u001b[90m│  \u001b[39m       (factorisation_constraint#330 = Core._apply_iterate(Base.iterate, Core.tuple, %52, %53))\n",
      "\u001b[90m│  \u001b[39m %55 = Main.ConstraintsSpecification(factorisation_constraint#330::Core.Const((q(x) = q(x[1:5])q(x[5:10]), q(x, y, z, r) = q(x, y)q(z, r))), form_constraint#329)\u001b[36m::Core.Const(Constraints:\u001b[39m\n",
      "\u001b[36m\tform: ()\u001b[39m\n",
      "\u001b[36m\tfactorisation\u001b[39m\n",
      "\u001b[36m\t\tq(x) = q(x[1:5])q(x[5:10])\u001b[39m\n",
      "\u001b[36m\t\tq(x, y, z, r) = q(x, y)q(z, r)\u001b[39m\n",
      "\u001b[36m)\u001b[39m\n",
      "\u001b[90m└──\u001b[39m       return %55\n",
      "\n"
     ]
    }
   ],
   "source": [
    "@code_warntype forbench(true, 2)"
   ]
  },
  {
   "cell_type": "code",
   "execution_count": null,
   "metadata": {},
   "outputs": [],
   "source": []
  }
 ],
 "metadata": {
  "kernelspec": {
   "display_name": "Julia 1.7.0",
   "language": "julia",
   "name": "julia-1.7"
  },
  "language_info": {
   "file_extension": ".jl",
   "mimetype": "application/julia",
   "name": "julia",
   "version": "1.7.1"
  }
 },
 "nbformat": 4,
 "nbformat_minor": 4
}
