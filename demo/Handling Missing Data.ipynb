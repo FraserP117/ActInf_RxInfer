{
 "cells": [
  {
   "cell_type": "code",
   "execution_count": 1,
   "metadata": {},
   "outputs": [
    {
     "name": "stderr",
     "output_type": "stream",
     "text": [
      "┌ Info: Precompiling ReactiveMP [a194aa59-28ba-4574-a09c-4a745416d6e3]\n",
      "└ @ Base loading.jl:1278\n",
      "┌ Warning: Package ReactiveMP does not have Rocket in its dependencies:\n",
      "│ - If you have ReactiveMP checked out for development and have\n",
      "│   added Rocket as a dependency but haven't updated your primary\n",
      "│   environment's manifest file, try `Pkg.resolve()`.\n",
      "│ - Otherwise you may need to report an issue with ReactiveMP\n",
      "└ Loading Rocket into ReactiveMP from project dependency, future warnings for ReactiveMP are suppressed.\n",
      "┌ Info: Precompiling GraphPPL [b3f8163a-e979-4e85-b43e-1f63d8c8b42c]\n",
      "└ @ Base loading.jl:1278\n",
      "┌ Warning: Package GraphPPL does not have ReactiveMP in its dependencies:\n",
      "│ - If you have GraphPPL checked out for development and have\n",
      "│   added ReactiveMP as a dependency but haven't updated your primary\n",
      "│   environment's manifest file, try `Pkg.resolve()`.\n",
      "│ - Otherwise you may need to report an issue with GraphPPL\n",
      "└ Loading ReactiveMP into GraphPPL from project dependency, future warnings for GraphPPL are suppressed.\n"
     ]
    }
   ],
   "source": [
    "using Rocket\n",
    "using ReactiveMP\n",
    "using GraphPPL\n",
    "using BenchmarkTools\n",
    "using Distributions\n",
    "using MacroTools"
   ]
  },
  {
   "cell_type": "code",
   "execution_count": 2,
   "metadata": {
    "scrolled": false
   },
   "outputs": [
    {
     "data": {
      "text/plain": [
       "smoothing (generic function with 1 method)"
      ]
     },
     "execution_count": 2,
     "metadata": {},
     "output_type": "execute_result"
    }
   ],
   "source": [
    "@model function smoothing(n, x0, P::ConstVariable)\n",
    "    \n",
    "    x_prior ~ NormalMeanVariance(mean(x0), cov(x0)) \n",
    "\n",
    "    x = randomvar(n)\n",
    "    y = datavar(Float64, n)\n",
    "    c = constvar(1.0)\n",
    "\n",
    "    x_prev = x_prior\n",
    "\n",
    "    for i in 1:n\n",
    "        x[i] ~ x_prev + c\n",
    "        y[i] ~ NormalMeanVariance(x[i], P)\n",
    "        \n",
    "        x_prev = x[i]\n",
    "    end\n",
    "\n",
    "    return x, y\n",
    "end"
   ]
  },
  {
   "cell_type": "code",
   "execution_count": 3,
   "metadata": {},
   "outputs": [],
   "source": [
    "@rule NormalMeanVariance(:μ, Marginalisation) (m_out::Any, m_v::Missing) = missing\n",
    "@rule NormalMeanVariance(:μ, Marginalisation) (m_out::Missing, m_v::Any) = missing\n",
    "\n",
    "@rule typeof(+)(:in1, Marginalisation) (m_out::Missing, m_in2::Any) = missing\n",
    "@rule typeof(+)(:in1, Marginalisation) (m_out::Any, m_in2::Missing) = missing"
   ]
  },
  {
   "cell_type": "code",
   "execution_count": 4,
   "metadata": {},
   "outputs": [],
   "source": [
    "P = 1.0\n",
    "\n",
    "n = 500\n",
    "data = convert(Vector{Union{Float64, Missing}}, collect(1:n) + rand(Normal(0.0, sqrt(P)), n));\n",
    "\n",
    "for index in map(d -> rem(abs(d), n), rand(Int, Int(n / 2)))\n",
    "    data[index] = missing\n",
    "end"
   ]
  },
  {
   "cell_type": "code",
   "execution_count": 5,
   "metadata": {},
   "outputs": [
    {
     "data": {
      "text/plain": [
       "inference (generic function with 1 method)"
      ]
     },
     "execution_count": 5,
     "metadata": {},
     "output_type": "execute_result"
    }
   ],
   "source": [
    "function inference(data, x0, P)\n",
    "    n = length(data)\n",
    "    \n",
    "    _, (x, y) = smoothing(n, x0, P);\n",
    "\n",
    "    buffer    = Vector{Marginal}(undef, n)\n",
    "    marginals = collectLatest(getmarginals(x))\n",
    "    \n",
    "    subscription = subscribe!(marginals, (ms) -> copyto!(buffer, ms))\n",
    "    \n",
    "    update!(y, data)\n",
    "    \n",
    "    unsubscribe!(subscription)\n",
    "    \n",
    "    return buffer\n",
    "end"
   ]
  },
  {
   "cell_type": "code",
   "execution_count": 6,
   "metadata": {},
   "outputs": [
    {
     "data": {
      "text/plain": [
       "500-element Array{Marginal,1}:\n",
       " Marginal{NormalMeanVariance{Float64}}(NormalMeanVariance{Float64}(μ=1.0208089079029299, v=0.0032679631765909294))\n",
       " Marginal{NormalMeanVariance{Float64}}(NormalMeanVariance{Float64}(μ=2.02080890790293, v=0.0032679631765909294))\n",
       " Marginal{NormalMeanVariance{Float64}}(NormalMeanVariance{Float64}(μ=3.0208089079029294, v=0.0032679631765909294))\n",
       " Marginal{NormalMeanVariance{Float64}}(NormalMeanVariance{Float64}(μ=4.02080890790293, v=0.00326796317659093))\n",
       " Marginal{NormalMeanVariance{Float64}}(NormalMeanVariance{Float64}(μ=5.02080890790293, v=0.0032679631765909294))\n",
       " Marginal{NormalMeanVariance{Float64}}(NormalMeanVariance{Float64}(μ=6.020808907902929, v=0.003267963176590929))\n",
       " Marginal{NormalMeanVariance{Float64}}(NormalMeanVariance{Float64}(μ=7.020808907902929, v=0.003267963176590929))\n",
       " Marginal{NormalMeanVariance{Float64}}(NormalMeanVariance{Float64}(μ=8.020808907902927, v=0.003267963176590929))\n",
       " Marginal{NormalMeanVariance{Float64}}(NormalMeanVariance{Float64}(μ=9.020808907902929, v=0.003267963176590929))\n",
       " Marginal{NormalMeanVariance{Float64}}(NormalMeanVariance{Float64}(μ=10.02080890790293, v=0.003267963176590929))\n",
       " Marginal{NormalMeanVariance{Float64}}(NormalMeanVariance{Float64}(μ=11.020808907902932, v=0.003267963176590929))\n",
       " Marginal{NormalMeanVariance{Float64}}(NormalMeanVariance{Float64}(μ=12.020808907902932, v=0.003267963176590929))\n",
       " Marginal{NormalMeanVariance{Float64}}(NormalMeanVariance{Float64}(μ=13.020808907902932, v=0.003267963176590929))\n",
       " ⋮\n",
       " Marginal{NormalMeanVariance{Float64}}(NormalMeanVariance{Float64}(μ=489.02080890790245, v=0.003267963176590926))\n",
       " Marginal{NormalMeanVariance{Float64}}(NormalMeanVariance{Float64}(μ=490.02080890790234, v=0.003267963176590926))\n",
       " Marginal{NormalMeanVariance{Float64}}(NormalMeanVariance{Float64}(μ=491.02080890790234, v=0.003267963176590926))\n",
       " Marginal{NormalMeanVariance{Float64}}(NormalMeanVariance{Float64}(μ=492.02080890790234, v=0.003267963176590926))\n",
       " Marginal{NormalMeanVariance{Float64}}(NormalMeanVariance{Float64}(μ=493.0208089079024, v=0.0032679631765909255))\n",
       " Marginal{NormalMeanVariance{Float64}}(NormalMeanVariance{Float64}(μ=494.02080890790234, v=0.0032679631765909255))\n",
       " Marginal{NormalMeanVariance{Float64}}(NormalMeanVariance{Float64}(μ=495.0208089079024, v=0.0032679631765909255))\n",
       " Marginal{NormalMeanVariance{Float64}}(NormalMeanVariance{Float64}(μ=496.0208089079024, v=0.0032679631765909255))\n",
       " Marginal{NormalMeanVariance{Float64}}(NormalMeanVariance{Float64}(μ=497.02080890790234, v=0.003267963176590925))\n",
       " Marginal{NormalMeanVariance{Float64}}(NormalMeanVariance{Float64}(μ=498.02080890790234, v=0.0032679631765909255))\n",
       " Marginal{NormalMeanVariance{Float64}}(NormalMeanVariance{Float64}(μ=499.0208089079023, v=0.003267963176590925))\n",
       " Marginal{NormalMeanVariance{Float64}}(NormalMeanVariance{Float64}(μ=500.0208089079023, v=0.003267963176590925))"
      ]
     },
     "execution_count": 6,
     "metadata": {},
     "output_type": "execute_result"
    }
   ],
   "source": [
    "x0_prior = NormalMeanVariance(0.0, 1000.0)\n",
    "res = inference(data, x0_prior, P)"
   ]
  },
  {
   "cell_type": "code",
   "execution_count": null,
   "metadata": {},
   "outputs": [],
   "source": []
  }
 ],
 "metadata": {
  "kernelspec": {
   "display_name": "Julia 1.5.3",
   "language": "julia",
   "name": "julia-1.5"
  },
  "language_info": {
   "file_extension": ".jl",
   "mimetype": "application/julia",
   "name": "julia",
   "version": "1.5.3"
  }
 },
 "nbformat": 4,
 "nbformat_minor": 4
}
