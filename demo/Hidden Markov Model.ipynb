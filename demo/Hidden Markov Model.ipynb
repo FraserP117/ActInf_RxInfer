{
 "cells": [
  {
   "cell_type": "code",
   "execution_count": 1,
   "metadata": {},
   "outputs": [
    {
     "name": "stderr",
     "output_type": "stream",
     "text": [
      "┌ Info: Precompiling ReactiveMP [a194aa59-28ba-4574-a09c-4a745416d6e3]\n",
      "└ @ Base loading.jl:1278\n",
      "┌ Info: Precompiling GraphPPL [b3f8163a-e979-4e85-b43e-1f63d8c8b42c]\n",
      "└ @ Base loading.jl:1278\n",
      "┌ Warning: Package GraphPPL does not have ReactiveMP in its dependencies:\n",
      "│ - If you have GraphPPL checked out for development and have\n",
      "│   added ReactiveMP as a dependency but haven't updated your primary\n",
      "│   environment's manifest file, try `Pkg.resolve()`.\n",
      "│ - Otherwise you may need to report an issue with GraphPPL\n",
      "└ Loading ReactiveMP into GraphPPL from project dependency, future warnings for GraphPPL are suppressed.\n"
     ]
    }
   ],
   "source": [
    "using Rocket\n",
    "using ReactiveMP\n",
    "using GraphPPL\n",
    "using BenchmarkTools\n",
    "using Distributions\n",
    "using MacroTools\n",
    "using LinearAlgebra"
   ]
  },
  {
   "cell_type": "code",
   "execution_count": 53,
   "metadata": {},
   "outputs": [
    {
     "data": {
      "text/plain": [
       "transition_model (generic function with 1 method)"
      ]
     },
     "execution_count": 53,
     "metadata": {},
     "output_type": "execute_result"
    }
   ],
   "source": [
    "@model function transition_model(n)\n",
    "    \n",
    "    A ~ MatrixDirichlet(ones(3, 3)) \n",
    "    B ~ MatrixDirichlet([ 10.0 1.0 1.0; 1.0 10.0 1.0; 1.0 1.0 10.0 ])\n",
    "    \n",
    "    s_0 ~ Categorical(fill(1.0 / 3.0, 3))\n",
    "    \n",
    "    s = randomvar(n)\n",
    "    x = datavar(Vector{Float64}, n)\n",
    "    \n",
    "    s_prev = s_0\n",
    "    \n",
    "    for t in 1:n\n",
    "        s[t] ~ Transition(s_prev, A) where { q = q(out, in)q(a) }\n",
    "        x[t] ~ Transition(s[t], B) where { q = MeanField() }\n",
    "        s_prev = s[t]\n",
    "    end\n",
    "    \n",
    "    return s, x, A, B\n",
    "end"
   ]
  },
  {
   "cell_type": "code",
   "execution_count": 70,
   "metadata": {},
   "outputs": [
    {
     "data": {
      "text/plain": [
       "inference (generic function with 1 method)"
      ]
     },
     "execution_count": 70,
     "metadata": {},
     "output_type": "execute_result"
    }
   ],
   "source": [
    "function inference(data, n_its)\n",
    "    n = length(data)\n",
    "    \n",
    "    model, (s, x, A, B) = transition_model(n)\n",
    "    \n",
    "    sbuffer = Vector{Vector{Marginal}}()\n",
    "    Abuffer = Vector{Marginal}()\n",
    "    Bbuffer = Vector{Marginal}()\n",
    "    \n",
    "    # fe_scheduler = PendingScheduler()\n",
    "    \n",
    "    ssub = subscribe!(collectLatest(getmarginals(s)), (ms) -> push!(sbuffer, ms))\n",
    "    Asub = subscribe!(getmarginal(A), (mA) -> push!(Abuffer, mA))\n",
    "    Bsub = subscribe!(getmarginal(B), (mB) -> push!(Bbuffer, mB))\n",
    "    \n",
    "    setmarginal!(A, vague(MatrixDirichlet, 3, 3))\n",
    "    setmarginal!(B, vague(MatrixDirichlet, 3, 3))\n",
    "    \n",
    "#     foreach(s) do svar\n",
    "#         setmarginal!(svar, vague(Categorical, 3))\n",
    "#     end\n",
    "    # setmarginal!(γ, Gamma(0.01, 100.0))\n",
    "    \n",
    "    for i in 1:n_its\n",
    "        update!(x, data)\n",
    "        # release!(fe_scheduler)\n",
    "    end\n",
    "    \n",
    "    unsubscribe!(ssub)\n",
    "    unsubscribe!(Asub)\n",
    "    unsubscribe!(Bsub)\n",
    "    \n",
    "    \n",
    "    return sbuffer, Abuffer, Bbuffer\n",
    "end"
   ]
  },
  {
   "cell_type": "code",
   "execution_count": 71,
   "metadata": {},
   "outputs": [
    {
     "data": {
      "text/plain": [
       "generate_data (generic function with 1 method)"
      ]
     },
     "execution_count": 71,
     "metadata": {},
     "output_type": "execute_result"
    }
   ],
   "source": [
    "import ForneyLab\n",
    "\n",
    "function generate_data()\n",
    "    n_samples = 100\n",
    "    A_data = [0.9 0.0 0.1; 0.1 0.9 0.0; 0.0 0.1 0.9] # Transition probabilities (some transitions are impossible)\n",
    "    B_data = [0.9 0.05 0.05; 0.05 0.9 0.05; 0.05 0.05 0.9] # Observation noise\n",
    "    s_0_data = [1.0, 0.0, 0.0] # Initial state\n",
    "    # Generate some data\n",
    "    s_data = Vector{Vector{Float64}}(undef, n_samples) # one-hot encoding of the states\n",
    "    x_data = Vector{Vector{Float64}}(undef, n_samples) # one-hot encoding of the observations\n",
    "    s_t_min_data = s_0_data\n",
    "    for t = 1:n_samples\n",
    "        a = A_data*s_t_min_data\n",
    "        s_data[t] = ForneyLab.sample(ForneyLab.ProbabilityDistribution(ForneyLab.Categorical, p=a./sum(a))) # Simulate state transition\n",
    "        b = B_data*s_data[t]\n",
    "        x_data[t] = ForneyLab.sample(ForneyLab.ProbabilityDistribution(ForneyLab.Categorical, p=b./sum(b))) # Simulate observation\n",
    "        s_t_min_data = s_data[t]\n",
    "    end\n",
    "    ;\n",
    "    return x_data, s_data\n",
    "end"
   ]
  },
  {
   "cell_type": "code",
   "execution_count": 78,
   "metadata": {},
   "outputs": [],
   "source": [
    "x_data, s_data = generate_data();"
   ]
  },
  {
   "cell_type": "code",
   "execution_count": 79,
   "metadata": {},
   "outputs": [
    {
     "name": "stdout",
     "output_type": "stream",
     "text": [
      "  0.072084 seconds (534.74 k allocations: 38.806 MiB)\n"
     ]
    }
   ],
   "source": [
    "@time sbuffer, Abuffer, Bbuffer = inference(x_data, 20);"
   ]
  },
  {
   "cell_type": "code",
   "execution_count": 74,
   "metadata": {},
   "outputs": [],
   "source": [
    "using Plots"
   ]
  },
  {
   "cell_type": "code",
   "execution_count": 77,
   "metadata": {},
   "outputs": [
    {
     "data": {
      "text/plain": [
       "3×3 Array{Float64,2}:\n",
       " 0.863823   0.0481804  0.0239232\n",
       " 0.049749   0.882761   0.0668449\n",
       " 0.0864279  0.0690589  0.909232"
      ]
     },
     "execution_count": 77,
     "metadata": {},
     "output_type": "execute_result"
    }
   ],
   "source": [
    "mean.(Bbuffer)[end]"
   ]
  },
  {
   "cell_type": "code",
   "execution_count": 66,
   "metadata": {},
   "outputs": [
    {
     "data": {
      "text/plain": [
       "11"
      ]
     },
     "execution_count": 66,
     "metadata": {},
     "output_type": "execute_result"
    }
   ],
   "source": [
    "length(sbuffer)"
   ]
  },
  {
   "cell_type": "code",
   "execution_count": 59,
   "metadata": {},
   "outputs": [
    {
     "data": {
      "text/plain": [
       "100-element Array{Float64,1}:\n",
       " -6.591949208711867e-17\n",
       "  1.7780915628762273e-17\n",
       " -5.160802341031001e-17\n",
       "  7.958043946043603e-17\n",
       " -1.8127860323957634e-16\n",
       "  8.794912497930851e-17\n",
       " -2.865343053971847e-17\n",
       "  5.107608671943431e-17\n",
       "  1.183593018516324e-16\n",
       "  1.5597264690740686e-16\n",
       " -5.411862906597176e-17\n",
       "  1.969859822134601e-17\n",
       "  1.2262665383989957e-16\n",
       "  ⋮\n",
       "  9.8879238130678e-17\n",
       "  1.6501557065229377e-16\n",
       " -4.2392304944183223e-17\n",
       " -3.3237572850258745e-17\n",
       " -1.2835937282691667e-17\n",
       "  2.4508051295855926e-17\n",
       " -1.5670109524204556e-18\n",
       " -8.679716017104266e-17\n",
       " -8.497434526855141e-17\n",
       "  3.5778671692021646e-17\n",
       "  5.346471963069144e-17\n",
       " -5.149960319306146e-17"
      ]
     },
     "execution_count": 59,
     "metadata": {},
     "output_type": "execute_result"
    }
   ],
   "source": [
    "sum.(ReactiveMP.probvec.(sbuffer[end]) .- s_data)"
   ]
  },
  {
   "cell_type": "code",
   "execution_count": 29,
   "metadata": {},
   "outputs": [
    {
     "data": {
      "text/plain": [
       "1-element Array{Float64,1}:\n",
       " -0.269936031369128"
      ]
     },
     "execution_count": 29,
     "metadata": {},
     "output_type": "execute_result"
    }
   ],
   "source": [
    "coefs"
   ]
  },
  {
   "cell_type": "code",
   "execution_count": 30,
   "metadata": {},
   "outputs": [
    {
     "name": "stdout",
     "output_type": "stream",
     "text": [
      "mean.(θbuffer)[end] = [-0.2537372243225593]\n"
     ]
    },
    {
     "data": {
      "text/plain": [
       "1-element Array{Float64,1}:\n",
       " -0.2537372243225593"
      ]
     },
     "execution_count": 30,
     "metadata": {},
     "output_type": "execute_result"
    }
   ],
   "source": [
    "@show mean.(θbuffer)[end]"
   ]
  },
  {
   "cell_type": "code",
   "execution_count": 31,
   "metadata": {},
   "outputs": [
    {
     "name": "stdout",
     "output_type": "stream",
     "text": [
      "mean.(γbuffer) = Any[]\n"
     ]
    },
    {
     "data": {
      "text/plain": [
       "Any[]"
      ]
     },
     "execution_count": 31,
     "metadata": {},
     "output_type": "execute_result"
    }
   ],
   "source": [
    "@show mean.(γbuffer)"
   ]
  },
  {
   "cell_type": "code",
   "execution_count": 32,
   "metadata": {},
   "outputs": [
    {
     "data": {
      "text/plain": [
       "10-element Array{Float64,1}:\n",
       " 140.0493209580581\n",
       " 140.0493209580581\n",
       " 140.0493209580581\n",
       " 140.0493209580581\n",
       " 140.0493209580581\n",
       " 140.0493209580581\n",
       " 140.0493209580581\n",
       " 140.0493209580581\n",
       " 140.0493209580581\n",
       " 140.0493209580581"
      ]
     },
     "execution_count": 32,
     "metadata": {},
     "output_type": "execute_result"
    }
   ],
   "source": [
    "fe"
   ]
  },
  {
   "cell_type": "code",
   "execution_count": null,
   "metadata": {},
   "outputs": [],
   "source": []
  }
 ],
 "metadata": {
  "kernelspec": {
   "display_name": "Julia 1.5.3",
   "language": "julia",
   "name": "julia-1.5"
  },
  "language_info": {
   "file_extension": ".jl",
   "mimetype": "application/julia",
   "name": "julia",
   "version": "1.5.3"
  }
 },
 "nbformat": 4,
 "nbformat_minor": 4
}
