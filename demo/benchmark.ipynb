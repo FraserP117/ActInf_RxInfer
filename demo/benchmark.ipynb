{
 "cells": [
  {
   "cell_type": "code",
   "execution_count": 1,
   "metadata": {},
   "outputs": [
    {
     "name": "stderr",
     "output_type": "stream",
     "text": [
      "┌ Info: Precompiling ReactiveMP [a194aa59-28ba-4574-a09c-4a745416d6e3]\n",
      "└ @ Base loading.jl:1278\n",
      "┌ Warning: Package ReactiveMP does not have Rocket in its dependencies:\n",
      "│ - If you have ReactiveMP checked out for development and have\n",
      "│   added Rocket as a dependency but haven't updated your primary\n",
      "│   environment's manifest file, try `Pkg.resolve()`.\n",
      "│ - Otherwise you may need to report an issue with ReactiveMP\n",
      "└ Loading Rocket into ReactiveMP from project dependency, future warnings for ReactiveMP are suppressed.\n",
      "┌ Info: Precompiling GraphPPL [b3f8163a-e979-4e85-b43e-1f63d8c8b42c]\n",
      "└ @ Base loading.jl:1278\n",
      "┌ Warning: Package GraphPPL does not have ReactiveMP in its dependencies:\n",
      "│ - If you have GraphPPL checked out for development and have\n",
      "│   added ReactiveMP as a dependency but haven't updated your primary\n",
      "│   environment's manifest file, try `Pkg.resolve()`.\n",
      "│ - Otherwise you may need to report an issue with GraphPPL\n",
      "└ Loading ReactiveMP into GraphPPL from project dependency, future warnings for GraphPPL are suppressed.\n"
     ]
    }
   ],
   "source": [
    "using Rocket\n",
    "using ReactiveMP\n",
    "using GraphPPL\n",
    "using BenchmarkTools\n",
    "using Distributions\n",
    "using MacroTools"
   ]
  },
  {
   "cell_type": "code",
   "execution_count": 2,
   "metadata": {
    "scrolled": false
   },
   "outputs": [
    {
     "data": {
      "text/plain": [
       "smoothing (generic function with 1 method)"
      ]
     },
     "execution_count": 2,
     "metadata": {},
     "output_type": "execute_result"
    }
   ],
   "source": [
    "@model function smoothing(n, x0, P)\n",
    "    \n",
    "    x_prior ~ NormalMeanVariance(mean(x0), cov(x0)) \n",
    "\n",
    "    x = randomvar(n)\n",
    "    y = datavar(Float64, n)\n",
    "\n",
    "    x_prev = x_prior\n",
    "\n",
    "    for i in 1:n\n",
    "        x[i] ~ x_prev + 1.0\n",
    "        y[i] ~ NormalMeanVariance(x[i], P)\n",
    "        \n",
    "        x_prev = x[i]\n",
    "    end\n",
    "\n",
    "    return x, y\n",
    "end"
   ]
  },
  {
   "cell_type": "code",
   "execution_count": 3,
   "metadata": {},
   "outputs": [],
   "source": [
    "P = 1.0\n",
    "\n",
    "n = 500\n",
    "data = collect(1:n) + rand(Normal(0.0, sqrt(P)), n);"
   ]
  },
  {
   "cell_type": "code",
   "execution_count": 4,
   "metadata": {},
   "outputs": [
    {
     "data": {
      "text/plain": [
       "inference (generic function with 1 method)"
      ]
     },
     "execution_count": 4,
     "metadata": {},
     "output_type": "execute_result"
    }
   ],
   "source": [
    "function inference(data, x0, P)\n",
    "    n = length(data)\n",
    "    \n",
    "    _, (x, y) = smoothing(n, x0, P);\n",
    "\n",
    "    buffer    = Vector{Marginal}(undef, n)\n",
    "    marginals = collectLatest(getmarginals(x))\n",
    "    \n",
    "    subscription = subscribe!(marginals, (ms) -> copyto!(buffer, ms))\n",
    "    \n",
    "    update!(y, data)\n",
    "    \n",
    "    unsubscribe!(subscription)\n",
    "    \n",
    "    return buffer\n",
    "end"
   ]
  },
  {
   "cell_type": "code",
   "execution_count": 5,
   "metadata": {},
   "outputs": [
    {
     "data": {
      "text/plain": [
       "BenchmarkTools.Trial: \n",
       "  memory estimate:  22.12 MiB\n",
       "  allocs estimate:  355402\n",
       "  --------------\n",
       "  minimum time:     27.970 ms (0.00% GC)\n",
       "  median time:      37.574 ms (17.20% GC)\n",
       "  mean time:        36.613 ms (16.72% GC)\n",
       "  maximum time:     49.385 ms (36.63% GC)\n",
       "  --------------\n",
       "  samples:          137\n",
       "  evals/sample:     1"
      ]
     },
     "execution_count": 5,
     "metadata": {},
     "output_type": "execute_result"
    }
   ],
   "source": [
    "x0_prior = NormalMeanVariance(0.0, 10000.0)\n",
    "@benchmark res = inference($data, $x0_prior, $P)"
   ]
  },
  {
   "cell_type": "code",
   "execution_count": null,
   "metadata": {},
   "outputs": [],
   "source": []
  }
 ],
 "metadata": {
  "kernelspec": {
   "display_name": "Julia 1.5.3",
   "language": "julia",
   "name": "julia-1.5"
  },
  "language_info": {
   "file_extension": ".jl",
   "mimetype": "application/julia",
   "name": "julia",
   "version": "1.5.3"
  }
 },
 "nbformat": 4,
 "nbformat_minor": 4
}
