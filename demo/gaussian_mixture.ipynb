{
 "cells": [
  {
   "cell_type": "code",
   "execution_count": 57,
   "metadata": {},
   "outputs": [],
   "source": [
    "using Rocket\n",
    "using ReactiveMP\n",
    "using GraphPPL\n",
    "using Distributions\n",
    "using Random\n",
    "using BenchmarkTools"
   ]
  },
  {
   "cell_type": "code",
   "execution_count": 58,
   "metadata": {},
   "outputs": [
    {
     "data": {
      "text/plain": [
       "gaussian_mixture_model (generic function with 1 method)"
      ]
     },
     "execution_count": 58,
     "metadata": {},
     "output_type": "execute_result"
    }
   ],
   "source": [
    "@model [ outbound_message_portal = EmptyPortal() ] function gaussian_mixture_model(n)\n",
    "    \n",
    "    s ~ Beta(1.0, 1.0)\n",
    "    \n",
    "    m1 ~ NormalMeanVariance(0.0, 100.0)\n",
    "    w1 ~ Gamma(0.01, 100.0)\n",
    "    \n",
    "    m2 ~ NormalMeanVariance(0.0, 100.0)\n",
    "    w2 ~ Gamma(0.01, 100.0)\n",
    "    \n",
    "    z = randomvar(n)\n",
    "    y = datavar(Float64, n)\n",
    "    \n",
    "    for i in 1:n\n",
    "        z[i] ~ Bernoulli(s) where { q = MeanField() }\n",
    "        y[i] ~ NormalMixture(z[i], (m1, m2), (w1, w2)) where { q = MeanField() }\n",
    "    end\n",
    "    \n",
    "    return s, m1, w1, m2, w2, z, y\n",
    "end"
   ]
  },
  {
   "cell_type": "code",
   "execution_count": 59,
   "metadata": {},
   "outputs": [],
   "source": [
    "using Random"
   ]
  },
  {
   "cell_type": "code",
   "execution_count": 71,
   "metadata": {},
   "outputs": [
    {
     "data": {
      "text/plain": [
       "inference (generic function with 1 method)"
      ]
     },
     "execution_count": 71,
     "metadata": {},
     "output_type": "execute_result"
    }
   ],
   "source": [
    "function inference(data)\n",
    "    n = length(data)\n",
    "    model, (s, m1, w1, m2, w2, z, y) = gaussian_mixture_model(n);\n",
    "    \n",
    "    buffer = Vector{Marginal}()\n",
    "    \n",
    "    switchsub = subscribe!(getmarginal(s), (ms) -> push!(buffer, ms))\n",
    "    \n",
    "    setmarginal!(s, vague(Beta))\n",
    "    setmarginal!(m1, NormalMeanVariance(-1.0, 1e4))\n",
    "    setmarginal!(m2, NormalMeanVariance(2.0, 1e4))\n",
    "    setmarginal!(w1, vague(Gamma))\n",
    "    setmarginal!(w2, vague(Gamma))\n",
    "    \n",
    "    for i in 1:25\n",
    "        update!(y, data)\n",
    "    end\n",
    "    \n",
    "    unsubscribe!(switchsub)\n",
    "    \n",
    "    return buffer\n",
    "end"
   ]
  },
  {
   "cell_type": "code",
   "execution_count": 72,
   "metadata": {},
   "outputs": [],
   "source": [
    "n = 1000\n",
    "\n",
    "Random.seed!(124)\n",
    "\n",
    "switch = 0.23\n",
    "z      = rand(n) .< switch\n",
    "y      = Vector{Float64}(undef, n)\n",
    "\n",
    "d1 = Normal(-2.0, 0.75)\n",
    "d2 = Normal(+2.0, 0.75)\n",
    "\n",
    "for i in 1:n\n",
    "    y[i] = z[i] ? rand(d1) : rand(d2)\n",
    "end"
   ]
  },
  {
   "cell_type": "code",
   "execution_count": 73,
   "metadata": {},
   "outputs": [
    {
     "name": "stdout",
     "output_type": "stream",
     "text": [
      "  1.237079 seconds (6.19 M allocations: 299.565 MiB, 25.85% gc time)\n"
     ]
    },
    {
     "data": {
      "text/plain": [
       "0.24442274899442687"
      ]
     },
     "execution_count": 73,
     "metadata": {},
     "output_type": "execute_result"
    }
   ],
   "source": [
    "@time marginals = inference(y); marginals[end] |> mean"
   ]
  },
  {
   "cell_type": "code",
   "execution_count": 74,
   "metadata": {},
   "outputs": [],
   "source": [
    "n = 1000\n",
    "\n",
    "Random.seed!(421)\n",
    "\n",
    "switch = 0.8604\n",
    "z      = rand(n) .< switch\n",
    "y      = Vector{Float64}(undef, n)\n",
    "\n",
    "d1 = Normal(-2.0, 0.75)\n",
    "d2 = Normal(+2.0, 0.75)\n",
    "\n",
    "for i in 1:n\n",
    "    y[i] = z[i] ? rand(d1) : rand(d2)\n",
    "end"
   ]
  },
  {
   "cell_type": "code",
   "execution_count": 75,
   "metadata": {},
   "outputs": [
    {
     "name": "stdout",
     "output_type": "stream",
     "text": [
      "  1.061293 seconds (5.92 M allocations: 285.658 MiB, 23.60% gc time)\n"
     ]
    },
    {
     "data": {
      "text/plain": [
       "0.866239770265741"
      ]
     },
     "execution_count": 75,
     "metadata": {},
     "output_type": "execute_result"
    }
   ],
   "source": [
    "@time marginals = inference(y); marginals[end] |> mean"
   ]
  },
  {
   "cell_type": "code",
   "execution_count": null,
   "metadata": {},
   "outputs": [],
   "source": []
  }
 ],
 "metadata": {
  "kernelspec": {
   "display_name": "Julia 1.5.2",
   "language": "julia",
   "name": "julia-1.5"
  },
  "language_info": {
   "file_extension": ".jl",
   "mimetype": "application/julia",
   "name": "julia",
   "version": "1.5.3"
  }
 },
 "nbformat": 4,
 "nbformat_minor": 2
}
