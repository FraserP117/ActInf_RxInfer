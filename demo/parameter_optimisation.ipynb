{
 "cells": [
  {
   "cell_type": "code",
   "execution_count": 1,
   "metadata": {},
   "outputs": [
    {
     "name": "stderr",
     "output_type": "stream",
     "text": [
      "┌ Info: Precompiling ReactiveMP [a194aa59-28ba-4574-a09c-4a745416d6e3]\n",
      "└ @ Base loading.jl:1278\n",
      "┌ Warning: Package ReactiveMP does not have Rocket in its dependencies:\n",
      "│ - If you have ReactiveMP checked out for development and have\n",
      "│   added Rocket as a dependency but haven't updated your primary\n",
      "│   environment's manifest file, try `Pkg.resolve()`.\n",
      "│ - Otherwise you may need to report an issue with ReactiveMP\n",
      "└ Loading Rocket into ReactiveMP from project dependency, future warnings for ReactiveMP are suppressed.\n",
      "┌ Info: Precompiling GraphPPL [b3f8163a-e979-4e85-b43e-1f63d8c8b42c]\n",
      "└ @ Base loading.jl:1278\n",
      "┌ Warning: Package GraphPPL does not have ReactiveMP in its dependencies:\n",
      "│ - If you have GraphPPL checked out for development and have\n",
      "│   added ReactiveMP as a dependency but haven't updated your primary\n",
      "│   environment's manifest file, try `Pkg.resolve()`.\n",
      "│ - Otherwise you may need to report an issue with GraphPPL\n",
      "└ Loading ReactiveMP into GraphPPL from project dependency, future warnings for GraphPPL are suppressed.\n"
     ]
    }
   ],
   "source": [
    "using Rocket\n",
    "using ReactiveMP\n",
    "using GraphPPL\n",
    "using BenchmarkTools\n",
    "using Distributions\n",
    "using MacroTools"
   ]
  },
  {
   "cell_type": "code",
   "execution_count": 2,
   "metadata": {
    "scrolled": false
   },
   "outputs": [
    {
     "data": {
      "text/plain": [
       "smoothing (generic function with 1 method)"
      ]
     },
     "execution_count": 2,
     "metadata": {},
     "output_type": "execute_result"
    }
   ],
   "source": [
    "@model function smoothing(n, x0, c, P)\n",
    "    \n",
    "    x_prior ~ NormalMeanVariance(mean(x0), cov(x0)) \n",
    "\n",
    "    x = randomvar(n)\n",
    "    y = datavar(Float64, n)\n",
    "\n",
    "    x_prev = x_prior\n",
    "\n",
    "    for i in 1:n\n",
    "        x[i] ~ x_prev + c\n",
    "        y[i] ~ NormalMeanVariance(x[i], P)\n",
    "        \n",
    "        x_prev = x[i]\n",
    "    end\n",
    "\n",
    "    return x, y\n",
    "end"
   ]
  },
  {
   "cell_type": "code",
   "execution_count": 96,
   "metadata": {},
   "outputs": [],
   "source": [
    "using Random"
   ]
  },
  {
   "cell_type": "code",
   "execution_count": 97,
   "metadata": {},
   "outputs": [],
   "source": [
    "P = 1.0\n",
    "\n",
    "Random.seed!(123)\n",
    "\n",
    "n = 250\n",
    "data = -5.0 .+ collect(1:n) + rand(Normal(0.0, sqrt(P)), n);"
   ]
  },
  {
   "cell_type": "code",
   "execution_count": 4,
   "metadata": {},
   "outputs": [
    {
     "data": {
      "text/plain": [
       "inference (generic function with 1 method)"
      ]
     },
     "execution_count": 4,
     "metadata": {},
     "output_type": "execute_result"
    }
   ],
   "source": [
    "function inference(data, x0, c, P)\n",
    "    n = length(data)\n",
    "    \n",
    "    model, (x, y) = smoothing(n, x0, c, P);\n",
    "\n",
    "    ms_buffer = Vector{Marginal}(undef, n)\n",
    "    fe_buffer = nothing\n",
    "    \n",
    "    marginals = collectLatest(getmarginals(x))\n",
    "    \n",
    "    fe_subscription = subscribe!(score(BetheFreeEnergy(), model, AsapScheduler()), (fe) -> fe_buffer = fe)\n",
    "    ms_subscription = subscribe!(marginals, (ms) -> copyto!(ms_buffer, ms))\n",
    "    \n",
    "    update!(y, data)\n",
    "    \n",
    "    unsubscribe!(ms_subscription)\n",
    "    unsubscribe!(fe_subscription)\n",
    "    \n",
    "    return ms_buffer, fe_buffer\n",
    "end"
   ]
  },
  {
   "cell_type": "code",
   "execution_count": 94,
   "metadata": {},
   "outputs": [
    {
     "data": {
      "text/plain": [
       "f (generic function with 1 method)"
      ]
     },
     "execution_count": 94,
     "metadata": {},
     "output_type": "execute_result"
    }
   ],
   "source": [
    "# c[1] is C\n",
    "# c[2] is μ0\n",
    "function f(c)\n",
    "    x0_prior = NormalMeanVariance(c[2], 100.0)\n",
    "    ms, fe = inference(data, x0_prior, c[1], P)\n",
    "    return fe\n",
    "end"
   ]
  },
  {
   "cell_type": "code",
   "execution_count": 98,
   "metadata": {},
   "outputs": [],
   "source": [
    "using Optim"
   ]
  },
  {
   "cell_type": "code",
   "execution_count": 99,
   "metadata": {},
   "outputs": [
    {
     "name": "stdout",
     "output_type": "stream",
     "text": [
      "Iter     Function value   Gradient norm \n",
      "     0     3.655789e+02     8.149754e+02\n",
      " * time: 0.0001761913299560547\n",
      "     1     3.653239e+02     5.997070e-02\n",
      " * time: 0.23605704307556152\n",
      "     2     3.652277e+02     3.413628e+02\n",
      " * time: 1.9465692043304443\n",
      "     3     3.651829e+02     2.788324e-02\n",
      " * time: 2.1853091716766357\n",
      "     4     3.651634e+02     1.591045e+02\n",
      " * time: 3.8991951942443848\n",
      "     5     3.651536e+02     1.385709e-02\n",
      " * time: 4.15316915512085\n",
      "     6     3.651486e+02     7.898214e+01\n",
      " * time: 5.894620180130005\n",
      "     7     3.651462e+02     6.599552e-03\n",
      " * time: 6.1291420459747314\n",
      "     8     3.651447e+02     3.462404e+01\n",
      " * time: 7.8428730964660645\n",
      "     9     3.651442e+02     2.002090e-03\n",
      " * time: 8.084136009216309\n",
      "    10     3.651441e+02     1.142017e+01\n",
      " * time: 9.761056184768677\n",
      "    11     3.651441e+02     9.742167e-04\n",
      " * time: 10.023941993713379\n"
     ]
    },
    {
     "data": {
      "text/plain": [
       " * Status: success\n",
       "\n",
       " * Candidate solution\n",
       "    Final objective value:     3.651441e+02\n",
       "\n",
       " * Found with\n",
       "    Algorithm:     Gradient Descent\n",
       "\n",
       " * Convergence measures\n",
       "    |x - x'|               = 8.77e-06 ≰ 0.0e+00\n",
       "    |x - x'|/|x'|          = 1.79e-06 ≰ 0.0e+00\n",
       "    |f(x) - f(x')|         = 5.01e-05 ≰ 0.0e+00\n",
       "    |f(x) - f(x')|/|f(x')| = 1.37e-07 ≰ 0.0e+00\n",
       "    |g(x)|                 = 9.74e-04 ≤ 1.0e-03\n",
       "\n",
       " * Work counters\n",
       "    Seconds run:   10  (vs limit Inf)\n",
       "    Iterations:    11\n",
       "    f(x) calls:    83\n",
       "    ∇f(x) calls:   83\n"
      ]
     },
     "execution_count": 99,
     "metadata": {},
     "output_type": "execute_result"
    }
   ],
   "source": [
    "res = optimize(f, ones(2), GradientDescent(), Optim.Options(g_tol = 1e-3, iterations = 100, store_trace = true, show_trace = true))"
   ]
  },
  {
   "cell_type": "code",
   "execution_count": 100,
   "metadata": {},
   "outputs": [
    {
     "data": {
      "text/plain": [
       "2-element Array{Float64,1}:\n",
       "  1.0006315218517985\n",
       " -4.90059862195555"
      ]
     },
     "execution_count": 100,
     "metadata": {},
     "output_type": "execute_result"
    }
   ],
   "source": [
    "res.minimizer # Real values are indeed (c = 1.0 and μ0 = -5.0)"
   ]
  },
  {
   "cell_type": "code",
   "execution_count": null,
   "metadata": {},
   "outputs": [],
   "source": []
  }
 ],
 "metadata": {
  "kernelspec": {
   "display_name": "Julia 1.5.3",
   "language": "julia",
   "name": "julia-1.5"
  },
  "language_info": {
   "file_extension": ".jl",
   "mimetype": "application/julia",
   "name": "julia",
   "version": "1.5.3"
  }
 },
 "nbformat": 4,
 "nbformat_minor": 4
}
