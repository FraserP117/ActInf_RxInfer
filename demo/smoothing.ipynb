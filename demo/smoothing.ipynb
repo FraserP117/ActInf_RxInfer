{
 "cells": [
  {
   "cell_type": "code",
   "execution_count": 1,
   "metadata": {},
   "outputs": [
    {
     "name": "stderr",
     "output_type": "stream",
     "text": [
      "┌ Info: Precompiling ReactiveMP [a194aa59-28ba-4574-a09c-4a745416d6e3]\n",
      "└ @ Base loading.jl:1278\n",
      "┌ Warning: Package ReactiveMP does not have Rocket in its dependencies:\n",
      "│ - If you have ReactiveMP checked out for development and have\n",
      "│   added Rocket as a dependency but haven't updated your primary\n",
      "│   environment's manifest file, try `Pkg.resolve()`.\n",
      "│ - Otherwise you may need to report an issue with ReactiveMP\n",
      "└ Loading Rocket into ReactiveMP from project dependency, future warnings for ReactiveMP are suppressed.\n",
      "┌ Info: Precompiling GraphPPL [b3f8163a-e979-4e85-b43e-1f63d8c8b42c]\n",
      "└ @ Base loading.jl:1278\n",
      "┌ Warning: Package GraphPPL does not have ReactiveMP in its dependencies:\n",
      "│ - If you have GraphPPL checked out for development and have\n",
      "│   added ReactiveMP as a dependency but haven't updated your primary\n",
      "│   environment's manifest file, try `Pkg.resolve()`.\n",
      "│ - Otherwise you may need to report an issue with GraphPPL\n",
      "└ Loading ReactiveMP into GraphPPL from project dependency, future warnings for GraphPPL are suppressed.\n"
     ]
    }
   ],
   "source": [
    "using Rocket\n",
    "using ReactiveMP\n",
    "using GraphPPL\n",
    "using BenchmarkTools\n",
    "using Distributions"
   ]
  },
  {
   "cell_type": "code",
   "execution_count": 70,
   "metadata": {},
   "outputs": [
    {
     "data": {
      "text/plain": [
       "smoothing (generic function with 1 method)"
      ]
     },
     "execution_count": 70,
     "metadata": {},
     "output_type": "execute_result"
    }
   ],
   "source": [
    "@model function smoothing(n_observations, noise_mean, noise_var)\n",
    "    \n",
    "    x_prior_mean = datavar(Float64)\n",
    "    x_prior_var  = datavar(Float64)\n",
    "\n",
    "    x_prior ~ NormalMeanVariance(x_prior_mean, x_prior_var) where { q = MeanField() }\n",
    "\n",
    "    x = randomvar(n_observations)\n",
    "    y = datavar(Float64, n_observations)\n",
    "\n",
    "    x[1] = x_prior\n",
    "\n",
    "    for i in 2:n_observations\n",
    "       x[i] ~ x[i - 1] + 1.0\n",
    "       y[i] ~ x[i] + NormalMeanVariance(noise_mean, noise_var)\n",
    "    end\n",
    "\n",
    "    return x_prior_mean, x_prior_var, x, y\n",
    "end"
   ]
  },
  {
   "cell_type": "code",
   "execution_count": 60,
   "metadata": {},
   "outputs": [],
   "source": [
    "noise_real_mean = -10.0\n",
    "noise_real_var  = 10.0\n",
    "\n",
    "n = 500\n",
    "data = map(d -> d + rand(Normal(noise_real_mean, sqrt(noise_real_var))), collect(1:n));"
   ]
  },
  {
   "cell_type": "code",
   "execution_count": 71,
   "metadata": {},
   "outputs": [
    {
     "data": {
      "text/plain": [
       "inference (generic function with 1 method)"
      ]
     },
     "execution_count": 71,
     "metadata": {},
     "output_type": "execute_result"
    }
   ],
   "source": [
    "function inference(; data, x_prior)\n",
    "    n = length(data)\n",
    "    \n",
    "    x_prior_mean, x_prior_var, x, y = smoothing(n, noise_real_mean, noise_real_var);\n",
    "\n",
    "    subscriptions = Vector{Teardown}(undef, n)\n",
    "    marginals = Vector{Marginal}(undef, n)\n",
    "    \n",
    "    for i in 1:n\n",
    "         @inbounds subscriptions[i] = subscribe!(getmarginal(x[i]), (m) -> marginals[i] = m)\n",
    "    end\n",
    "    \n",
    "    update!(x_prior_mean, mean(x_prior))\n",
    "    update!(x_prior_var, var(x_prior))\n",
    "    \n",
    "    for i in 1:n\n",
    "        @inbounds update!(y[i], data[i])\n",
    "    end\n",
    "    \n",
    "    foreach(unsubscribe!, subscriptions)\n",
    "    \n",
    "    return marginals\n",
    "end"
   ]
  },
  {
   "cell_type": "code",
   "execution_count": 72,
   "metadata": {},
   "outputs": [
    {
     "data": {
      "text/plain": [
       "500-element Array{Marginal,1}:\n",
       " Marginal{NormalMeanVariance{Float64}}(NormalMeanVariance{Float64}(μ=0.9982410147492231, v=0.02004003999991985))\n",
       " Marginal{NormalMeanVariance{Float64}}(NormalMeanVariance{Float64}(μ=1.9982410147492229, v=0.02004003999991985))\n",
       " Marginal{NormalMeanVariance{Float64}}(NormalMeanVariance{Float64}(μ=2.9982410147492233, v=0.02004003999991985))\n",
       " Marginal{NormalMeanVariance{Float64}}(NormalMeanVariance{Float64}(μ=3.998241014749223, v=0.020040039999919854))\n",
       " Marginal{NormalMeanVariance{Float64}}(NormalMeanVariance{Float64}(μ=4.998241014749223, v=0.02004003999991985))\n",
       " Marginal{NormalMeanVariance{Float64}}(NormalMeanVariance{Float64}(μ=5.998241014749222, v=0.020040039999919854))\n",
       " Marginal{NormalMeanVariance{Float64}}(NormalMeanVariance{Float64}(μ=6.998241014749222, v=0.020040039999919854))\n",
       " Marginal{NormalMeanVariance{Float64}}(NormalMeanVariance{Float64}(μ=7.998241014749223, v=0.020040039999919854))\n",
       " Marginal{NormalMeanVariance{Float64}}(NormalMeanVariance{Float64}(μ=8.99824101474922, v=0.02004003999991985))\n",
       " Marginal{NormalMeanVariance{Float64}}(NormalMeanVariance{Float64}(μ=9.998241014749222, v=0.020040039999919858))\n",
       " Marginal{NormalMeanVariance{Float64}}(NormalMeanVariance{Float64}(μ=10.998241014749222, v=0.020040039999919858))\n",
       " Marginal{NormalMeanVariance{Float64}}(NormalMeanVariance{Float64}(μ=11.99824101474922, v=0.020040039999919858))\n",
       " Marginal{NormalMeanVariance{Float64}}(NormalMeanVariance{Float64}(μ=12.998241014749222, v=0.020040039999919858))\n",
       " ⋮\n",
       " Marginal{NormalMeanVariance{Float64}}(NormalMeanVariance{Float64}(μ=488.9982410147498, v=0.020040039999919847))\n",
       " Marginal{NormalMeanVariance{Float64}}(NormalMeanVariance{Float64}(μ=489.99824101474985, v=0.020040039999919844))\n",
       " Marginal{NormalMeanVariance{Float64}}(NormalMeanVariance{Float64}(μ=490.99824101474974, v=0.02004003999991984))\n",
       " Marginal{NormalMeanVariance{Float64}}(NormalMeanVariance{Float64}(μ=491.9982410147498, v=0.02004003999991984))\n",
       " Marginal{NormalMeanVariance{Float64}}(NormalMeanVariance{Float64}(μ=492.9982410147496, v=0.020040039999919837))\n",
       " Marginal{NormalMeanVariance{Float64}}(NormalMeanVariance{Float64}(μ=493.99824101474974, v=0.020040039999919837))\n",
       " Marginal{NormalMeanVariance{Float64}}(NormalMeanVariance{Float64}(μ=494.99824101474974, v=0.020040039999919834))\n",
       " Marginal{NormalMeanVariance{Float64}}(NormalMeanVariance{Float64}(μ=495.99824101474974, v=0.02004003999991983))\n",
       " Marginal{NormalMeanVariance{Float64}}(NormalMeanVariance{Float64}(μ=496.99824101474985, v=0.020040039999919834))\n",
       " Marginal{NormalMeanVariance{Float64}}(NormalMeanVariance{Float64}(μ=497.9982410147499, v=0.020040039999919834))\n",
       " Marginal{NormalMeanVariance{Float64}}(NormalMeanVariance{Float64}(μ=498.99824101474985, v=0.020040039999919834))\n",
       " Marginal{NormalMeanVariance{Float64}}(NormalMeanVariance{Float64}(μ=499.99824101474985, v=0.020040039999919834))"
      ]
     },
     "execution_count": 72,
     "metadata": {},
     "output_type": "execute_result"
    }
   ],
   "source": [
    "inference(\n",
    "    data = data,\n",
    "    x_prior = NormalMeanVariance(0.0, 10000.0)\n",
    ")"
   ]
  },
  {
   "cell_type": "code",
   "execution_count": 32,
   "metadata": {},
   "outputs": [],
   "source": [
    "using MacroTools"
   ]
  },
  {
   "cell_type": "code",
   "execution_count": 33,
   "metadata": {},
   "outputs": [
    {
     "data": {
      "text/plain": [
       "true"
      ]
     },
     "execution_count": 33,
     "metadata": {},
     "output_type": "execute_result"
    }
   ],
   "source": [
    "MacroTools.@capture(:(q = q(1)q(2)q(3)), q = *(f__))"
   ]
  },
  {
   "cell_type": "code",
   "execution_count": null,
   "metadata": {},
   "outputs": [],
   "source": []
  }
 ],
 "metadata": {
  "kernelspec": {
   "display_name": "Julia 1.5.2",
   "language": "julia",
   "name": "julia-1.5"
  },
  "language_info": {
   "file_extension": ".jl",
   "mimetype": "application/julia",
   "name": "julia",
   "version": "1.5.2"
  }
 },
 "nbformat": 4,
 "nbformat_minor": 4
}
