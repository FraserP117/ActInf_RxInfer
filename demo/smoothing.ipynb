{
 "cells": [
  {
   "cell_type": "code",
   "execution_count": 123,
   "metadata": {},
   "outputs": [],
   "source": [
    "using Rocket\n",
    "using ReactiveMP\n",
    "using GraphPPL\n",
    "using BenchmarkTools\n",
    "using Distributions"
   ]
  },
  {
   "cell_type": "code",
   "execution_count": 171,
   "metadata": {},
   "outputs": [
    {
     "data": {
      "text/plain": [
       "smoothing (generic function with 1 method)"
      ]
     },
     "execution_count": 171,
     "metadata": {},
     "output_type": "execute_result"
    }
   ],
   "source": [
    "@model function smoothing(n_observations, noise_mean, noise_var)\n",
    "    \n",
    "    x_prior_mean = datavar(Float64)\n",
    "    x_prior_var  = datavar(Float64)\n",
    "\n",
    "    x_prior ~ NormalMeanVariance(x_prior_mean, x_prior_var)\n",
    "\n",
    "    x = randomvar(n_observations)\n",
    "    y = datavar(Float64, n_observations)\n",
    "\n",
    "    x[1] = x_prior\n",
    "\n",
    "    for i in 2:n_observations\n",
    "       x[i] ~ x[i - 1] + 1.0\n",
    "       y[i] ~ x[i] + NormalMeanVariance(noise_mean, 1.0 / 1.0 / 1.0 / 1.0 / noise_var)\n",
    "    end\n",
    "\n",
    "    return x_prior_mean, x_prior_var, x, y\n",
    "end"
   ]
  },
  {
   "cell_type": "code",
   "execution_count": 167,
   "metadata": {},
   "outputs": [],
   "source": [
    "noise_real_mean = -10.0\n",
    "noise_real_var  = 10.0\n",
    "\n",
    "n = 500\n",
    "data = map(d -> d + rand(Normal(noise_real_mean, sqrt(noise_real_var))), collect(1:n));"
   ]
  },
  {
   "cell_type": "code",
   "execution_count": 168,
   "metadata": {},
   "outputs": [
    {
     "data": {
      "text/plain": [
       "inference (generic function with 1 method)"
      ]
     },
     "execution_count": 168,
     "metadata": {},
     "output_type": "execute_result"
    }
   ],
   "source": [
    "function inference(; data, x_prior)\n",
    "    n = length(data)\n",
    "    \n",
    "    x_prior_mean, x_prior_var, x, y = smoothing(n, noise_real_mean, noise_real_var);\n",
    "\n",
    "    subscriptions = Vector{Teardown}(undef, n)\n",
    "    marginals = Vector{Marginal}(undef, n)\n",
    "    \n",
    "    for i in 1:n\n",
    "         @inbounds subscriptions[i] = subscribe!(getmarginal(x[i]), (m) -> marginals[i] = m)\n",
    "    end\n",
    "    \n",
    "    update!(x_prior_mean, mean(x_prior))\n",
    "    update!(x_prior_var, var(x_prior))\n",
    "    \n",
    "    for i in 1:n\n",
    "        @inbounds update!(y[i], data[i])\n",
    "    end\n",
    "    \n",
    "    foreach(unsubscribe!, subscriptions)\n",
    "    \n",
    "    return marginals\n",
    "end"
   ]
  },
  {
   "cell_type": "code",
   "execution_count": 172,
   "metadata": {},
   "outputs": [
    {
     "data": {
      "text/plain": [
       "500-element Array{Marginal,1}:\n",
       " Marginal{NormalMeanVariance{Float64}}(NormalMeanVariance{Float64}(μ=1.0719522132408248, v=0.02004003999991985))\n",
       " Marginal{NormalMeanVariance{Float64}}(NormalMeanVariance{Float64}(μ=2.0719522132408246, v=0.02004003999991985))\n",
       " Marginal{NormalMeanVariance{Float64}}(NormalMeanVariance{Float64}(μ=3.071952213240825, v=0.02004003999991985))\n",
       " Marginal{NormalMeanVariance{Float64}}(NormalMeanVariance{Float64}(μ=4.0719522132408255, v=0.020040039999919854))\n",
       " Marginal{NormalMeanVariance{Float64}}(NormalMeanVariance{Float64}(μ=5.071952213240825, v=0.02004003999991985))\n",
       " Marginal{NormalMeanVariance{Float64}}(NormalMeanVariance{Float64}(μ=6.071952213240825, v=0.020040039999919854))\n",
       " Marginal{NormalMeanVariance{Float64}}(NormalMeanVariance{Float64}(μ=7.071952213240825, v=0.020040039999919854))\n",
       " Marginal{NormalMeanVariance{Float64}}(NormalMeanVariance{Float64}(μ=8.071952213240824, v=0.020040039999919854))\n",
       " Marginal{NormalMeanVariance{Float64}}(NormalMeanVariance{Float64}(μ=9.071952213240824, v=0.02004003999991985))\n",
       " Marginal{NormalMeanVariance{Float64}}(NormalMeanVariance{Float64}(μ=10.071952213240824, v=0.020040039999919858))\n",
       " Marginal{NormalMeanVariance{Float64}}(NormalMeanVariance{Float64}(μ=11.071952213240825, v=0.020040039999919858))\n",
       " Marginal{NormalMeanVariance{Float64}}(NormalMeanVariance{Float64}(μ=12.071952213240825, v=0.020040039999919858))\n",
       " Marginal{NormalMeanVariance{Float64}}(NormalMeanVariance{Float64}(μ=13.071952213240824, v=0.020040039999919858))\n",
       " ⋮\n",
       " Marginal{NormalMeanVariance{Float64}}(NormalMeanVariance{Float64}(μ=489.07195221324156, v=0.020040039999919847))\n",
       " Marginal{NormalMeanVariance{Float64}}(NormalMeanVariance{Float64}(μ=490.0719522132416, v=0.020040039999919844))\n",
       " Marginal{NormalMeanVariance{Float64}}(NormalMeanVariance{Float64}(μ=491.0719522132415, v=0.02004003999991984))\n",
       " Marginal{NormalMeanVariance{Float64}}(NormalMeanVariance{Float64}(μ=492.0719522132415, v=0.02004003999991984))\n",
       " Marginal{NormalMeanVariance{Float64}}(NormalMeanVariance{Float64}(μ=493.07195221324145, v=0.020040039999919837))\n",
       " Marginal{NormalMeanVariance{Float64}}(NormalMeanVariance{Float64}(μ=494.0719522132415, v=0.020040039999919837))\n",
       " Marginal{NormalMeanVariance{Float64}}(NormalMeanVariance{Float64}(μ=495.07195221324156, v=0.020040039999919834))\n",
       " Marginal{NormalMeanVariance{Float64}}(NormalMeanVariance{Float64}(μ=496.0719522132414, v=0.02004003999991983))\n",
       " Marginal{NormalMeanVariance{Float64}}(NormalMeanVariance{Float64}(μ=497.07195221324145, v=0.020040039999919834))\n",
       " Marginal{NormalMeanVariance{Float64}}(NormalMeanVariance{Float64}(μ=498.07195221324156, v=0.020040039999919834))\n",
       " Marginal{NormalMeanVariance{Float64}}(NormalMeanVariance{Float64}(μ=499.0719522132416, v=0.020040039999919834))\n",
       " Marginal{NormalMeanVariance{Float64}}(NormalMeanVariance{Float64}(μ=500.0719522132416, v=0.020040039999919834))"
      ]
     },
     "execution_count": 172,
     "metadata": {},
     "output_type": "execute_result"
    }
   ],
   "source": [
    "inference(\n",
    "    data = data,\n",
    "    x_prior = NormalMeanVariance(0.0, 10000.0)\n",
    ")"
   ]
  },
  {
   "cell_type": "code",
   "execution_count": 83,
   "metadata": {},
   "outputs": [
    {
     "data": {
      "text/plain": [
       "10-element Array{Symbol,1}:\n",
       " :a\n",
       " :a\n",
       " :a\n",
       " :a\n",
       " :a\n",
       " :a\n",
       " :a\n",
       " :a\n",
       " :a\n",
       " :a"
      ]
     },
     "execution_count": 83,
     "metadata": {},
     "output_type": "execute_result"
    }
   ],
   "source": [
    "ss = map(_ -> :a, 1:10)"
   ]
  },
  {
   "cell_type": "code",
   "execution_count": 84,
   "metadata": {},
   "outputs": [
    {
     "name": "stdout",
     "output_type": "stream",
     "text": [
      "  666.089 ns (8 allocations: 352 bytes)\n"
     ]
    },
    {
     "data": {
      "text/plain": [
       ":a_a_a_a_a_a_a_a_a_a"
      ]
     },
     "execution_count": 84,
     "metadata": {},
     "output_type": "execute_result"
    }
   ],
   "source": [
    "@btime Symbol(join(ss, :_))"
   ]
  },
  {
   "cell_type": "code",
   "execution_count": 89,
   "metadata": {},
   "outputs": [
    {
     "name": "stdout",
     "output_type": "stream",
     "text": [
      "  1.669 μs (42 allocations: 1.52 KiB)\n"
     ]
    },
    {
     "data": {
      "text/plain": [
       ":a_a_a_a_a_a_a_a_a_a"
      ]
     },
     "execution_count": 89,
     "metadata": {},
     "output_type": "execute_result"
    }
   ],
   "source": [
    "@btime Symbol(ReactiveMP.with_separator(:_, ss)...)"
   ]
  },
  {
   "cell_type": "code",
   "execution_count": 109,
   "metadata": {},
   "outputs": [
    {
     "name": "stdout",
     "output_type": "stream",
     "text": [
      "  12.146 ms (248309 allocations: 10.48 MiB)\n"
     ]
    },
    {
     "data": {
      "text/plain": [
       "100×100 Array{DataVariable{Subject{Message{Float64},AsapScheduler,AsapScheduler},Float64},2}:\n",
       " DataVariable{Subject{Message{Float64},AsapScheduler,AsapScheduler},Float64}(:name_1_1, Subject(Message{Float64}, AsapScheduler), DataVariableProps(nothing, nothing))    …  DataVariable{Subject{Message{Float64},AsapScheduler,AsapScheduler},Float64}(:name_1_100, Subject(Message{Float64}, AsapScheduler), DataVariableProps(nothing, nothing))\n",
       " DataVariable{Subject{Message{Float64},AsapScheduler,AsapScheduler},Float64}(:name_2_1, Subject(Message{Float64}, AsapScheduler), DataVariableProps(nothing, nothing))       DataVariable{Subject{Message{Float64},AsapScheduler,AsapScheduler},Float64}(:name_2_100, Subject(Message{Float64}, AsapScheduler), DataVariableProps(nothing, nothing))\n",
       " DataVariable{Subject{Message{Float64},AsapScheduler,AsapScheduler},Float64}(:name_3_1, Subject(Message{Float64}, AsapScheduler), DataVariableProps(nothing, nothing))       DataVariable{Subject{Message{Float64},AsapScheduler,AsapScheduler},Float64}(:name_3_100, Subject(Message{Float64}, AsapScheduler), DataVariableProps(nothing, nothing))\n",
       " DataVariable{Subject{Message{Float64},AsapScheduler,AsapScheduler},Float64}(:name_4_1, Subject(Message{Float64}, AsapScheduler), DataVariableProps(nothing, nothing))       DataVariable{Subject{Message{Float64},AsapScheduler,AsapScheduler},Float64}(:name_4_100, Subject(Message{Float64}, AsapScheduler), DataVariableProps(nothing, nothing))\n",
       " DataVariable{Subject{Message{Float64},AsapScheduler,AsapScheduler},Float64}(:name_5_1, Subject(Message{Float64}, AsapScheduler), DataVariableProps(nothing, nothing))       DataVariable{Subject{Message{Float64},AsapScheduler,AsapScheduler},Float64}(:name_5_100, Subject(Message{Float64}, AsapScheduler), DataVariableProps(nothing, nothing))\n",
       " DataVariable{Subject{Message{Float64},AsapScheduler,AsapScheduler},Float64}(:name_6_1, Subject(Message{Float64}, AsapScheduler), DataVariableProps(nothing, nothing))    …  DataVariable{Subject{Message{Float64},AsapScheduler,AsapScheduler},Float64}(:name_6_100, Subject(Message{Float64}, AsapScheduler), DataVariableProps(nothing, nothing))\n",
       " DataVariable{Subject{Message{Float64},AsapScheduler,AsapScheduler},Float64}(:name_7_1, Subject(Message{Float64}, AsapScheduler), DataVariableProps(nothing, nothing))       DataVariable{Subject{Message{Float64},AsapScheduler,AsapScheduler},Float64}(:name_7_100, Subject(Message{Float64}, AsapScheduler), DataVariableProps(nothing, nothing))\n",
       " DataVariable{Subject{Message{Float64},AsapScheduler,AsapScheduler},Float64}(:name_8_1, Subject(Message{Float64}, AsapScheduler), DataVariableProps(nothing, nothing))       DataVariable{Subject{Message{Float64},AsapScheduler,AsapScheduler},Float64}(:name_8_100, Subject(Message{Float64}, AsapScheduler), DataVariableProps(nothing, nothing))\n",
       " DataVariable{Subject{Message{Float64},AsapScheduler,AsapScheduler},Float64}(:name_9_1, Subject(Message{Float64}, AsapScheduler), DataVariableProps(nothing, nothing))       DataVariable{Subject{Message{Float64},AsapScheduler,AsapScheduler},Float64}(:name_9_100, Subject(Message{Float64}, AsapScheduler), DataVariableProps(nothing, nothing))\n",
       " DataVariable{Subject{Message{Float64},AsapScheduler,AsapScheduler},Float64}(:name_10_1, Subject(Message{Float64}, AsapScheduler), DataVariableProps(nothing, nothing))      DataVariable{Subject{Message{Float64},AsapScheduler,AsapScheduler},Float64}(:name_10_100, Subject(Message{Float64}, AsapScheduler), DataVariableProps(nothing, nothing))\n",
       " DataVariable{Subject{Message{Float64},AsapScheduler,AsapScheduler},Float64}(:name_11_1, Subject(Message{Float64}, AsapScheduler), DataVariableProps(nothing, nothing))   …  DataVariable{Subject{Message{Float64},AsapScheduler,AsapScheduler},Float64}(:name_11_100, Subject(Message{Float64}, AsapScheduler), DataVariableProps(nothing, nothing))\n",
       " DataVariable{Subject{Message{Float64},AsapScheduler,AsapScheduler},Float64}(:name_12_1, Subject(Message{Float64}, AsapScheduler), DataVariableProps(nothing, nothing))      DataVariable{Subject{Message{Float64},AsapScheduler,AsapScheduler},Float64}(:name_12_100, Subject(Message{Float64}, AsapScheduler), DataVariableProps(nothing, nothing))\n",
       " DataVariable{Subject{Message{Float64},AsapScheduler,AsapScheduler},Float64}(:name_13_1, Subject(Message{Float64}, AsapScheduler), DataVariableProps(nothing, nothing))      DataVariable{Subject{Message{Float64},AsapScheduler,AsapScheduler},Float64}(:name_13_100, Subject(Message{Float64}, AsapScheduler), DataVariableProps(nothing, nothing))\n",
       " ⋮                                                                                                                                                                        ⋱  \n",
       " DataVariable{Subject{Message{Float64},AsapScheduler,AsapScheduler},Float64}(:name_89_1, Subject(Message{Float64}, AsapScheduler), DataVariableProps(nothing, nothing))      DataVariable{Subject{Message{Float64},AsapScheduler,AsapScheduler},Float64}(:name_89_100, Subject(Message{Float64}, AsapScheduler), DataVariableProps(nothing, nothing))\n",
       " DataVariable{Subject{Message{Float64},AsapScheduler,AsapScheduler},Float64}(:name_90_1, Subject(Message{Float64}, AsapScheduler), DataVariableProps(nothing, nothing))      DataVariable{Subject{Message{Float64},AsapScheduler,AsapScheduler},Float64}(:name_90_100, Subject(Message{Float64}, AsapScheduler), DataVariableProps(nothing, nothing))\n",
       " DataVariable{Subject{Message{Float64},AsapScheduler,AsapScheduler},Float64}(:name_91_1, Subject(Message{Float64}, AsapScheduler), DataVariableProps(nothing, nothing))   …  DataVariable{Subject{Message{Float64},AsapScheduler,AsapScheduler},Float64}(:name_91_100, Subject(Message{Float64}, AsapScheduler), DataVariableProps(nothing, nothing))\n",
       " DataVariable{Subject{Message{Float64},AsapScheduler,AsapScheduler},Float64}(:name_92_1, Subject(Message{Float64}, AsapScheduler), DataVariableProps(nothing, nothing))      DataVariable{Subject{Message{Float64},AsapScheduler,AsapScheduler},Float64}(:name_92_100, Subject(Message{Float64}, AsapScheduler), DataVariableProps(nothing, nothing))\n",
       " DataVariable{Subject{Message{Float64},AsapScheduler,AsapScheduler},Float64}(:name_93_1, Subject(Message{Float64}, AsapScheduler), DataVariableProps(nothing, nothing))      DataVariable{Subject{Message{Float64},AsapScheduler,AsapScheduler},Float64}(:name_93_100, Subject(Message{Float64}, AsapScheduler), DataVariableProps(nothing, nothing))\n",
       " DataVariable{Subject{Message{Float64},AsapScheduler,AsapScheduler},Float64}(:name_94_1, Subject(Message{Float64}, AsapScheduler), DataVariableProps(nothing, nothing))      DataVariable{Subject{Message{Float64},AsapScheduler,AsapScheduler},Float64}(:name_94_100, Subject(Message{Float64}, AsapScheduler), DataVariableProps(nothing, nothing))\n",
       " DataVariable{Subject{Message{Float64},AsapScheduler,AsapScheduler},Float64}(:name_95_1, Subject(Message{Float64}, AsapScheduler), DataVariableProps(nothing, nothing))      DataVariable{Subject{Message{Float64},AsapScheduler,AsapScheduler},Float64}(:name_95_100, Subject(Message{Float64}, AsapScheduler), DataVariableProps(nothing, nothing))\n",
       " DataVariable{Subject{Message{Float64},AsapScheduler,AsapScheduler},Float64}(:name_96_1, Subject(Message{Float64}, AsapScheduler), DataVariableProps(nothing, nothing))   …  DataVariable{Subject{Message{Float64},AsapScheduler,AsapScheduler},Float64}(:name_96_100, Subject(Message{Float64}, AsapScheduler), DataVariableProps(nothing, nothing))\n",
       " DataVariable{Subject{Message{Float64},AsapScheduler,AsapScheduler},Float64}(:name_97_1, Subject(Message{Float64}, AsapScheduler), DataVariableProps(nothing, nothing))      DataVariable{Subject{Message{Float64},AsapScheduler,AsapScheduler},Float64}(:name_97_100, Subject(Message{Float64}, AsapScheduler), DataVariableProps(nothing, nothing))\n",
       " DataVariable{Subject{Message{Float64},AsapScheduler,AsapScheduler},Float64}(:name_98_1, Subject(Message{Float64}, AsapScheduler), DataVariableProps(nothing, nothing))      DataVariable{Subject{Message{Float64},AsapScheduler,AsapScheduler},Float64}(:name_98_100, Subject(Message{Float64}, AsapScheduler), DataVariableProps(nothing, nothing))\n",
       " DataVariable{Subject{Message{Float64},AsapScheduler,AsapScheduler},Float64}(:name_99_1, Subject(Message{Float64}, AsapScheduler), DataVariableProps(nothing, nothing))      DataVariable{Subject{Message{Float64},AsapScheduler,AsapScheduler},Float64}(:name_99_100, Subject(Message{Float64}, AsapScheduler), DataVariableProps(nothing, nothing))\n",
       " DataVariable{Subject{Message{Float64},AsapScheduler,AsapScheduler},Float64}(:name_100_1, Subject(Message{Float64}, AsapScheduler), DataVariableProps(nothing, nothing))     DataVariable{Subject{Message{Float64},AsapScheduler,AsapScheduler},Float64}(:name_100_100, Subject(Message{Float64}, AsapScheduler), DataVariableProps(nothing, nothing))"
      ]
     },
     "execution_count": 109,
     "metadata": {},
     "output_type": "execute_result"
    }
   ],
   "source": [
    "@btime datavar(:name, Float64, 100, 100)"
   ]
  },
  {
   "cell_type": "code",
   "execution_count": 108,
   "metadata": {},
   "outputs": [
    {
     "name": "stdout",
     "output_type": "stream",
     "text": [
      "  14.999 ms (250010 allocations: 10.22 MiB)\n"
     ]
    },
    {
     "data": {
      "text/plain": [
       "100×100 Array{DataVariable{Subject{Message{Float64},AsapScheduler,AsapScheduler},Float64},2}:\n",
       " DataVariable{Subject{Message{Float64},AsapScheduler,AsapScheduler},Float64}(:name_1_1, Subject(Message{Float64}, AsapScheduler), DataVariableProps(nothing, nothing))    …  DataVariable{Subject{Message{Float64},AsapScheduler,AsapScheduler},Float64}(:name_1_100, Subject(Message{Float64}, AsapScheduler), DataVariableProps(nothing, nothing))\n",
       " DataVariable{Subject{Message{Float64},AsapScheduler,AsapScheduler},Float64}(:name_2_1, Subject(Message{Float64}, AsapScheduler), DataVariableProps(nothing, nothing))       DataVariable{Subject{Message{Float64},AsapScheduler,AsapScheduler},Float64}(:name_2_100, Subject(Message{Float64}, AsapScheduler), DataVariableProps(nothing, nothing))\n",
       " DataVariable{Subject{Message{Float64},AsapScheduler,AsapScheduler},Float64}(:name_3_1, Subject(Message{Float64}, AsapScheduler), DataVariableProps(nothing, nothing))       DataVariable{Subject{Message{Float64},AsapScheduler,AsapScheduler},Float64}(:name_3_100, Subject(Message{Float64}, AsapScheduler), DataVariableProps(nothing, nothing))\n",
       " DataVariable{Subject{Message{Float64},AsapScheduler,AsapScheduler},Float64}(:name_4_1, Subject(Message{Float64}, AsapScheduler), DataVariableProps(nothing, nothing))       DataVariable{Subject{Message{Float64},AsapScheduler,AsapScheduler},Float64}(:name_4_100, Subject(Message{Float64}, AsapScheduler), DataVariableProps(nothing, nothing))\n",
       " DataVariable{Subject{Message{Float64},AsapScheduler,AsapScheduler},Float64}(:name_5_1, Subject(Message{Float64}, AsapScheduler), DataVariableProps(nothing, nothing))       DataVariable{Subject{Message{Float64},AsapScheduler,AsapScheduler},Float64}(:name_5_100, Subject(Message{Float64}, AsapScheduler), DataVariableProps(nothing, nothing))\n",
       " DataVariable{Subject{Message{Float64},AsapScheduler,AsapScheduler},Float64}(:name_6_1, Subject(Message{Float64}, AsapScheduler), DataVariableProps(nothing, nothing))    …  DataVariable{Subject{Message{Float64},AsapScheduler,AsapScheduler},Float64}(:name_6_100, Subject(Message{Float64}, AsapScheduler), DataVariableProps(nothing, nothing))\n",
       " DataVariable{Subject{Message{Float64},AsapScheduler,AsapScheduler},Float64}(:name_7_1, Subject(Message{Float64}, AsapScheduler), DataVariableProps(nothing, nothing))       DataVariable{Subject{Message{Float64},AsapScheduler,AsapScheduler},Float64}(:name_7_100, Subject(Message{Float64}, AsapScheduler), DataVariableProps(nothing, nothing))\n",
       " DataVariable{Subject{Message{Float64},AsapScheduler,AsapScheduler},Float64}(:name_8_1, Subject(Message{Float64}, AsapScheduler), DataVariableProps(nothing, nothing))       DataVariable{Subject{Message{Float64},AsapScheduler,AsapScheduler},Float64}(:name_8_100, Subject(Message{Float64}, AsapScheduler), DataVariableProps(nothing, nothing))\n",
       " DataVariable{Subject{Message{Float64},AsapScheduler,AsapScheduler},Float64}(:name_9_1, Subject(Message{Float64}, AsapScheduler), DataVariableProps(nothing, nothing))       DataVariable{Subject{Message{Float64},AsapScheduler,AsapScheduler},Float64}(:name_9_100, Subject(Message{Float64}, AsapScheduler), DataVariableProps(nothing, nothing))\n",
       " DataVariable{Subject{Message{Float64},AsapScheduler,AsapScheduler},Float64}(:name_10_1, Subject(Message{Float64}, AsapScheduler), DataVariableProps(nothing, nothing))      DataVariable{Subject{Message{Float64},AsapScheduler,AsapScheduler},Float64}(:name_10_100, Subject(Message{Float64}, AsapScheduler), DataVariableProps(nothing, nothing))\n",
       " DataVariable{Subject{Message{Float64},AsapScheduler,AsapScheduler},Float64}(:name_11_1, Subject(Message{Float64}, AsapScheduler), DataVariableProps(nothing, nothing))   …  DataVariable{Subject{Message{Float64},AsapScheduler,AsapScheduler},Float64}(:name_11_100, Subject(Message{Float64}, AsapScheduler), DataVariableProps(nothing, nothing))\n",
       " DataVariable{Subject{Message{Float64},AsapScheduler,AsapScheduler},Float64}(:name_12_1, Subject(Message{Float64}, AsapScheduler), DataVariableProps(nothing, nothing))      DataVariable{Subject{Message{Float64},AsapScheduler,AsapScheduler},Float64}(:name_12_100, Subject(Message{Float64}, AsapScheduler), DataVariableProps(nothing, nothing))\n",
       " DataVariable{Subject{Message{Float64},AsapScheduler,AsapScheduler},Float64}(:name_13_1, Subject(Message{Float64}, AsapScheduler), DataVariableProps(nothing, nothing))      DataVariable{Subject{Message{Float64},AsapScheduler,AsapScheduler},Float64}(:name_13_100, Subject(Message{Float64}, AsapScheduler), DataVariableProps(nothing, nothing))\n",
       " ⋮                                                                                                                                                                        ⋱  \n",
       " DataVariable{Subject{Message{Float64},AsapScheduler,AsapScheduler},Float64}(:name_89_1, Subject(Message{Float64}, AsapScheduler), DataVariableProps(nothing, nothing))      DataVariable{Subject{Message{Float64},AsapScheduler,AsapScheduler},Float64}(:name_89_100, Subject(Message{Float64}, AsapScheduler), DataVariableProps(nothing, nothing))\n",
       " DataVariable{Subject{Message{Float64},AsapScheduler,AsapScheduler},Float64}(:name_90_1, Subject(Message{Float64}, AsapScheduler), DataVariableProps(nothing, nothing))      DataVariable{Subject{Message{Float64},AsapScheduler,AsapScheduler},Float64}(:name_90_100, Subject(Message{Float64}, AsapScheduler), DataVariableProps(nothing, nothing))\n",
       " DataVariable{Subject{Message{Float64},AsapScheduler,AsapScheduler},Float64}(:name_91_1, Subject(Message{Float64}, AsapScheduler), DataVariableProps(nothing, nothing))   …  DataVariable{Subject{Message{Float64},AsapScheduler,AsapScheduler},Float64}(:name_91_100, Subject(Message{Float64}, AsapScheduler), DataVariableProps(nothing, nothing))\n",
       " DataVariable{Subject{Message{Float64},AsapScheduler,AsapScheduler},Float64}(:name_92_1, Subject(Message{Float64}, AsapScheduler), DataVariableProps(nothing, nothing))      DataVariable{Subject{Message{Float64},AsapScheduler,AsapScheduler},Float64}(:name_92_100, Subject(Message{Float64}, AsapScheduler), DataVariableProps(nothing, nothing))\n",
       " DataVariable{Subject{Message{Float64},AsapScheduler,AsapScheduler},Float64}(:name_93_1, Subject(Message{Float64}, AsapScheduler), DataVariableProps(nothing, nothing))      DataVariable{Subject{Message{Float64},AsapScheduler,AsapScheduler},Float64}(:name_93_100, Subject(Message{Float64}, AsapScheduler), DataVariableProps(nothing, nothing))\n",
       " DataVariable{Subject{Message{Float64},AsapScheduler,AsapScheduler},Float64}(:name_94_1, Subject(Message{Float64}, AsapScheduler), DataVariableProps(nothing, nothing))      DataVariable{Subject{Message{Float64},AsapScheduler,AsapScheduler},Float64}(:name_94_100, Subject(Message{Float64}, AsapScheduler), DataVariableProps(nothing, nothing))\n",
       " DataVariable{Subject{Message{Float64},AsapScheduler,AsapScheduler},Float64}(:name_95_1, Subject(Message{Float64}, AsapScheduler), DataVariableProps(nothing, nothing))      DataVariable{Subject{Message{Float64},AsapScheduler,AsapScheduler},Float64}(:name_95_100, Subject(Message{Float64}, AsapScheduler), DataVariableProps(nothing, nothing))\n",
       " DataVariable{Subject{Message{Float64},AsapScheduler,AsapScheduler},Float64}(:name_96_1, Subject(Message{Float64}, AsapScheduler), DataVariableProps(nothing, nothing))   …  DataVariable{Subject{Message{Float64},AsapScheduler,AsapScheduler},Float64}(:name_96_100, Subject(Message{Float64}, AsapScheduler), DataVariableProps(nothing, nothing))\n",
       " DataVariable{Subject{Message{Float64},AsapScheduler,AsapScheduler},Float64}(:name_97_1, Subject(Message{Float64}, AsapScheduler), DataVariableProps(nothing, nothing))      DataVariable{Subject{Message{Float64},AsapScheduler,AsapScheduler},Float64}(:name_97_100, Subject(Message{Float64}, AsapScheduler), DataVariableProps(nothing, nothing))\n",
       " DataVariable{Subject{Message{Float64},AsapScheduler,AsapScheduler},Float64}(:name_98_1, Subject(Message{Float64}, AsapScheduler), DataVariableProps(nothing, nothing))      DataVariable{Subject{Message{Float64},AsapScheduler,AsapScheduler},Float64}(:name_98_100, Subject(Message{Float64}, AsapScheduler), DataVariableProps(nothing, nothing))\n",
       " DataVariable{Subject{Message{Float64},AsapScheduler,AsapScheduler},Float64}(:name_99_1, Subject(Message{Float64}, AsapScheduler), DataVariableProps(nothing, nothing))      DataVariable{Subject{Message{Float64},AsapScheduler,AsapScheduler},Float64}(:name_99_100, Subject(Message{Float64}, AsapScheduler), DataVariableProps(nothing, nothing))\n",
       " DataVariable{Subject{Message{Float64},AsapScheduler,AsapScheduler},Float64}(:name_100_1, Subject(Message{Float64}, AsapScheduler), DataVariableProps(nothing, nothing))     DataVariable{Subject{Message{Float64},AsapScheduler,AsapScheduler},Float64}(:name_100_100, Subject(Message{Float64}, AsapScheduler), DataVariableProps(nothing, nothing))"
      ]
     },
     "execution_count": 108,
     "metadata": {},
     "output_type": "execute_result"
    }
   ],
   "source": [
    "@btime datavar(:name, Float64, 100, 100)"
   ]
  },
  {
   "cell_type": "code",
   "execution_count": 103,
   "metadata": {},
   "outputs": [
    {
     "name": "stdout",
     "output_type": "stream",
     "text": [
      "1\n",
      "2\n",
      "3\n",
      "4\n",
      "5\n",
      "6\n",
      "7\n",
      "8\n",
      "9\n",
      "10\n"
     ]
    }
   ],
   "source": [
    "for index in CartesianIndices(axes(ss))\n",
    "    println(join(index.I, :_))\n",
    "end"
   ]
  },
  {
   "cell_type": "code",
   "execution_count": 99,
   "metadata": {},
   "outputs": [
    {
     "data": {
      "text/plain": [
       "CartesianIndex(1,)"
      ]
     },
     "execution_count": 99,
     "metadata": {},
     "output_type": "execute_result"
    }
   ],
   "source": [
    "r = CartesianIndices(axes(ss))[1]"
   ]
  },
  {
   "cell_type": "code",
   "execution_count": 104,
   "metadata": {},
   "outputs": [
    {
     "name": "stdout",
     "output_type": "stream",
     "text": [
      "search: \u001b[0m\u001b[1mC\u001b[22m\u001b[0m\u001b[1ma\u001b[22m\u001b[0m\u001b[1mr\u001b[22m\u001b[0m\u001b[1mt\u001b[22m\u001b[0m\u001b[1me\u001b[22m\u001b[0m\u001b[1ms\u001b[22m\u001b[0m\u001b[1mi\u001b[22m\u001b[0m\u001b[1ma\u001b[22m\u001b[0m\u001b[1mn\u001b[22m\u001b[0m\u001b[1mI\u001b[22m\u001b[0m\u001b[1mn\u001b[22m\u001b[0m\u001b[1md\u001b[22m\u001b[0m\u001b[1me\u001b[22m\u001b[0m\u001b[1mx\u001b[22m \u001b[0m\u001b[1mC\u001b[22m\u001b[0m\u001b[1ma\u001b[22m\u001b[0m\u001b[1mr\u001b[22m\u001b[0m\u001b[1mt\u001b[22m\u001b[0m\u001b[1me\u001b[22m\u001b[0m\u001b[1ms\u001b[22m\u001b[0m\u001b[1mi\u001b[22m\u001b[0m\u001b[1ma\u001b[22m\u001b[0m\u001b[1mn\u001b[22m\u001b[0m\u001b[1mI\u001b[22m\u001b[0m\u001b[1mn\u001b[22m\u001b[0m\u001b[1md\u001b[22mic\u001b[0m\u001b[1me\u001b[22ms\n",
      "\n"
     ]
    },
    {
     "data": {
      "text/latex": [
       "\\begin{verbatim}\n",
       "CartesianIndex(i, j, k...)   -> I\n",
       "CartesianIndex((i, j, k...)) -> I\n",
       "\\end{verbatim}\n",
       "Create a multidimensional index \\texttt{I}, which can be used for indexing a multidimensional array \\texttt{A}.  In particular, \\texttt{A[I]} is equivalent to \\texttt{A[i,j,k...]}.  One can freely mix integer and \\texttt{CartesianIndex} indices; for example, \\texttt{A[Ipre, i, Ipost]} (where \\texttt{Ipre} and \\texttt{Ipost} are \\texttt{CartesianIndex} indices and \\texttt{i} is an \\texttt{Int}) can be a useful expression when writing algorithms that work along a single dimension of an array of arbitrary dimensionality.\n",
       "\n",
       "A \\texttt{CartesianIndex} is sometimes produced by \\href{@ref}{\\texttt{eachindex}}, and always when iterating with an explicit \\href{@ref}{\\texttt{CartesianIndices}}.\n",
       "\n",
       "\\section{Examples}\n",
       "\\begin{verbatim}\n",
       "julia> A = reshape(Vector(1:16), (2, 2, 2, 2))\n",
       "2×2×2×2 Array{Int64,4}:\n",
       "[:, :, 1, 1] =\n",
       " 1  3\n",
       " 2  4\n",
       "\n",
       "[:, :, 2, 1] =\n",
       " 5  7\n",
       " 6  8\n",
       "\n",
       "[:, :, 1, 2] =\n",
       "  9  11\n",
       " 10  12\n",
       "\n",
       "[:, :, 2, 2] =\n",
       " 13  15\n",
       " 14  16\n",
       "\n",
       "julia> A[CartesianIndex((1, 1, 1, 1))]\n",
       "1\n",
       "\n",
       "julia> A[CartesianIndex((1, 1, 1, 2))]\n",
       "9\n",
       "\n",
       "julia> A[CartesianIndex((1, 1, 2, 1))]\n",
       "5\n",
       "\\end{verbatim}\n"
      ],
      "text/markdown": [
       "```\n",
       "CartesianIndex(i, j, k...)   -> I\n",
       "CartesianIndex((i, j, k...)) -> I\n",
       "```\n",
       "\n",
       "Create a multidimensional index `I`, which can be used for indexing a multidimensional array `A`.  In particular, `A[I]` is equivalent to `A[i,j,k...]`.  One can freely mix integer and `CartesianIndex` indices; for example, `A[Ipre, i, Ipost]` (where `Ipre` and `Ipost` are `CartesianIndex` indices and `i` is an `Int`) can be a useful expression when writing algorithms that work along a single dimension of an array of arbitrary dimensionality.\n",
       "\n",
       "A `CartesianIndex` is sometimes produced by [`eachindex`](@ref), and always when iterating with an explicit [`CartesianIndices`](@ref).\n",
       "\n",
       "# Examples\n",
       "\n",
       "```jldoctest\n",
       "julia> A = reshape(Vector(1:16), (2, 2, 2, 2))\n",
       "2×2×2×2 Array{Int64,4}:\n",
       "[:, :, 1, 1] =\n",
       " 1  3\n",
       " 2  4\n",
       "\n",
       "[:, :, 2, 1] =\n",
       " 5  7\n",
       " 6  8\n",
       "\n",
       "[:, :, 1, 2] =\n",
       "  9  11\n",
       " 10  12\n",
       "\n",
       "[:, :, 2, 2] =\n",
       " 13  15\n",
       " 14  16\n",
       "\n",
       "julia> A[CartesianIndex((1, 1, 1, 1))]\n",
       "1\n",
       "\n",
       "julia> A[CartesianIndex((1, 1, 1, 2))]\n",
       "9\n",
       "\n",
       "julia> A[CartesianIndex((1, 1, 2, 1))]\n",
       "5\n",
       "```\n"
      ],
      "text/plain": [
       "\u001b[36m  CartesianIndex(i, j, k...)   -> I\u001b[39m\n",
       "\u001b[36m  CartesianIndex((i, j, k...)) -> I\u001b[39m\n",
       "\n",
       "  Create a multidimensional index \u001b[36mI\u001b[39m, which can be used for indexing a\n",
       "  multidimensional array \u001b[36mA\u001b[39m. In particular, \u001b[36mA[I]\u001b[39m is equivalent to \u001b[36mA[i,j,k...]\u001b[39m.\n",
       "  One can freely mix integer and \u001b[36mCartesianIndex\u001b[39m indices; for example, \u001b[36mA[Ipre,\n",
       "  i, Ipost]\u001b[39m (where \u001b[36mIpre\u001b[39m and \u001b[36mIpost\u001b[39m are \u001b[36mCartesianIndex\u001b[39m indices and \u001b[36mi\u001b[39m is an \u001b[36mInt\u001b[39m)\n",
       "  can be a useful expression when writing algorithms that work along a single\n",
       "  dimension of an array of arbitrary dimensionality.\n",
       "\n",
       "  A \u001b[36mCartesianIndex\u001b[39m is sometimes produced by \u001b[36meachindex\u001b[39m, and always when\n",
       "  iterating with an explicit \u001b[36mCartesianIndices\u001b[39m.\n",
       "\n",
       "\u001b[1m  Examples\u001b[22m\n",
       "\u001b[1m  ≡≡≡≡≡≡≡≡≡≡\u001b[22m\n",
       "\n",
       "\u001b[36m  julia> A = reshape(Vector(1:16), (2, 2, 2, 2))\u001b[39m\n",
       "\u001b[36m  2×2×2×2 Array{Int64,4}:\u001b[39m\n",
       "\u001b[36m  [:, :, 1, 1] =\u001b[39m\n",
       "\u001b[36m   1  3\u001b[39m\n",
       "\u001b[36m   2  4\u001b[39m\n",
       "\u001b[36m  \u001b[39m\n",
       "\u001b[36m  [:, :, 2, 1] =\u001b[39m\n",
       "\u001b[36m   5  7\u001b[39m\n",
       "\u001b[36m   6  8\u001b[39m\n",
       "\u001b[36m  \u001b[39m\n",
       "\u001b[36m  [:, :, 1, 2] =\u001b[39m\n",
       "\u001b[36m    9  11\u001b[39m\n",
       "\u001b[36m   10  12\u001b[39m\n",
       "\u001b[36m  \u001b[39m\n",
       "\u001b[36m  [:, :, 2, 2] =\u001b[39m\n",
       "\u001b[36m   13  15\u001b[39m\n",
       "\u001b[36m   14  16\u001b[39m\n",
       "\u001b[36m  \u001b[39m\n",
       "\u001b[36m  julia> A[CartesianIndex((1, 1, 1, 1))]\u001b[39m\n",
       "\u001b[36m  1\u001b[39m\n",
       "\u001b[36m  \u001b[39m\n",
       "\u001b[36m  julia> A[CartesianIndex((1, 1, 1, 2))]\u001b[39m\n",
       "\u001b[36m  9\u001b[39m\n",
       "\u001b[36m  \u001b[39m\n",
       "\u001b[36m  julia> A[CartesianIndex((1, 1, 2, 1))]\u001b[39m\n",
       "\u001b[36m  5\u001b[39m"
      ]
     },
     "execution_count": 104,
     "metadata": {},
     "output_type": "execute_result"
    }
   ],
   "source": [
    "?CartesianIndex"
   ]
  },
  {
   "cell_type": "code",
   "execution_count": 102,
   "metadata": {},
   "outputs": [
    {
     "name": "stdout",
     "output_type": "stream",
     "text": [
      "Tuple{Int64}\n",
      "  1: Int64 1\n"
     ]
    }
   ],
   "source": [
    "dump(r.I)"
   ]
  },
  {
   "cell_type": "code",
   "execution_count": 122,
   "metadata": {},
   "outputs": [
    {
     "data": {
      "text/latex": [
       "\\begin{verbatim}\n",
       "@assert cond [text]\n",
       "\\end{verbatim}\n",
       "Throw an \\href{@ref}{\\texttt{AssertionError}} if \\texttt{cond} is \\texttt{false}. Preferred syntax for writing assertions. Message \\texttt{text} is optionally displayed upon assertion failure.\n",
       "\n",
       "\\begin{quote}\n",
       "\\textbf{warning}\n",
       "\n",
       "Warning\n",
       "\n",
       "An assert might be disabled at various optimization levels. Assert should therefore only be used as a debugging tool and not used for authentication verification (e.g., verifying passwords), nor should side effects needed for the function to work correctly be used inside of asserts.\n",
       "\n",
       "\\end{quote}\n",
       "\\section{Examples}\n",
       "\\begin{verbatim}\n",
       "julia> @assert iseven(3) \"3 is an odd number!\"\n",
       "ERROR: AssertionError: 3 is an odd number!\n",
       "\n",
       "julia> @assert isodd(3) \"What even are numbers?\"\n",
       "\\end{verbatim}\n"
      ],
      "text/markdown": [
       "```\n",
       "@assert cond [text]\n",
       "```\n",
       "\n",
       "Throw an [`AssertionError`](@ref) if `cond` is `false`. Preferred syntax for writing assertions. Message `text` is optionally displayed upon assertion failure.\n",
       "\n",
       "!!! warning\n",
       "    An assert might be disabled at various optimization levels. Assert should therefore only be used as a debugging tool and not used for authentication verification (e.g., verifying passwords), nor should side effects needed for the function to work correctly be used inside of asserts.\n",
       "\n",
       "\n",
       "# Examples\n",
       "\n",
       "```jldoctest\n",
       "julia> @assert iseven(3) \"3 is an odd number!\"\n",
       "ERROR: AssertionError: 3 is an odd number!\n",
       "\n",
       "julia> @assert isodd(3) \"What even are numbers?\"\n",
       "```\n"
      ],
      "text/plain": [
       "\u001b[36m  @assert cond [text]\u001b[39m\n",
       "\n",
       "  Throw an \u001b[36mAssertionError\u001b[39m if \u001b[36mcond\u001b[39m is \u001b[36mfalse\u001b[39m. Preferred syntax for writing\n",
       "  assertions. Message \u001b[36mtext\u001b[39m is optionally displayed upon assertion failure.\n",
       "\n",
       "\u001b[33m\u001b[1m  │ \u001b[22m\u001b[39m\u001b[33m\u001b[1mWarning\u001b[22m\u001b[39m\n",
       "\u001b[33m\u001b[1m  │\u001b[22m\u001b[39m\n",
       "\u001b[33m\u001b[1m  │\u001b[22m\u001b[39m  An assert might be disabled at various optimization levels. Assert\n",
       "\u001b[33m\u001b[1m  │\u001b[22m\u001b[39m  should therefore only be used as a debugging tool and not used for\n",
       "\u001b[33m\u001b[1m  │\u001b[22m\u001b[39m  authentication verification (e.g., verifying passwords), nor\n",
       "\u001b[33m\u001b[1m  │\u001b[22m\u001b[39m  should side effects needed for the function to work correctly be\n",
       "\u001b[33m\u001b[1m  │\u001b[22m\u001b[39m  used inside of asserts.\n",
       "\n",
       "\u001b[1m  Examples\u001b[22m\n",
       "\u001b[1m  ≡≡≡≡≡≡≡≡≡≡\u001b[22m\n",
       "\n",
       "\u001b[36m  julia> @assert iseven(3) \"3 is an odd number!\"\u001b[39m\n",
       "\u001b[36m  ERROR: AssertionError: 3 is an odd number!\u001b[39m\n",
       "\u001b[36m  \u001b[39m\n",
       "\u001b[36m  julia> @assert isodd(3) \"What even are numbers?\"\u001b[39m"
      ]
     },
     "execution_count": 122,
     "metadata": {},
     "output_type": "execute_result"
    }
   ],
   "source": [
    "?@assert"
   ]
  },
  {
   "cell_type": "code",
   "execution_count": null,
   "metadata": {},
   "outputs": [],
   "source": []
  }
 ],
 "metadata": {
  "kernelspec": {
   "display_name": "Julia 1.5.2",
   "language": "julia",
   "name": "julia-1.5"
  },
  "language_info": {
   "file_extension": ".jl",
   "mimetype": "application/julia",
   "name": "julia",
   "version": "1.5.2"
  }
 },
 "nbformat": 4,
 "nbformat_minor": 4
}
