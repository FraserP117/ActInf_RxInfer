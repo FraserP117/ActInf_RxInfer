{
 "cells": [
  {
   "cell_type": "code",
   "execution_count": 396,
   "metadata": {},
   "outputs": [],
   "source": [
    "using Rocket\n",
    "using ReactiveMP\n",
    "using GraphPPL\n",
    "using BenchmarkTools\n",
    "using Distributions"
   ]
  },
  {
   "cell_type": "code",
   "execution_count": 397,
   "metadata": {},
   "outputs": [
    {
     "data": {
      "text/plain": [
       "smoothing (generic function with 1 method)"
      ]
     },
     "execution_count": 397,
     "metadata": {},
     "output_type": "execute_result"
    }
   ],
   "source": [
    "@model function smoothing(n_observations, noise_mean, noise_var)\n",
    "    \n",
    "    x_prior_mean = datavar(Float64)\n",
    "    x_prior_var  = datavar(Float64)\n",
    "\n",
    "    x_prior ~ NormalMeanVariance(x_prior_mean, x_prior_var) where { q = q(var)q(mean)q(out) }\n",
    "\n",
    "    x = randomvar(n_observations)\n",
    "    y = datavar(Float64, n_observations)\n",
    "\n",
    "    x[1] = x_prior\n",
    "\n",
    "    for i in 2:n_observations\n",
    "        x[i] ~ x[i - 1] + 1.0\n",
    "        y[i] ~ x[i] + (NormalMeanVariance(noise_mean, noise_var) where { q = q(var)q(mean)q(out) })\n",
    "    end\n",
    "\n",
    "    return x_prior_mean, x_prior_var, x, y\n",
    "end"
   ]
  },
  {
   "cell_type": "code",
   "execution_count": 398,
   "metadata": {},
   "outputs": [],
   "source": [
    "noise_real_mean = -10.0\n",
    "noise_real_var  = 100.0\n",
    "\n",
    "n = 500\n",
    "data = map(d -> d + rand(Normal(noise_real_mean, sqrt(noise_real_var))), collect(1:n));"
   ]
  },
  {
   "cell_type": "code",
   "execution_count": 399,
   "metadata": {},
   "outputs": [
    {
     "data": {
      "text/plain": [
       "inference (generic function with 1 method)"
      ]
     },
     "execution_count": 399,
     "metadata": {},
     "output_type": "execute_result"
    }
   ],
   "source": [
    "function inference(; data, x_prior)\n",
    "    n = length(data)\n",
    "    \n",
    "    x_prior_mean, x_prior_var, x, y = smoothing(n, noise_real_mean, noise_real_var);\n",
    "\n",
    "    subscriptions = Vector{Teardown}(undef, n)\n",
    "    marginals = Vector{Marginal}(undef, n)\n",
    "    \n",
    "    for i in 1:n\n",
    "         @inbounds subscriptions[i] = subscribe!(getmarginal(x[i]), (m) -> marginals[i] = m)\n",
    "    end\n",
    "    \n",
    "    update!(x_prior_mean, mean(x_prior))\n",
    "    update!(x_prior_var, var(x_prior))\n",
    "    \n",
    "    for i in 1:n\n",
    "        @inbounds update!(y[i], data[i])\n",
    "    end\n",
    "    \n",
    "    foreach(unsubscribe!, subscriptions)\n",
    "    \n",
    "    return marginals\n",
    "end"
   ]
  },
  {
   "cell_type": "code",
   "execution_count": 400,
   "metadata": {},
   "outputs": [
    {
     "data": {
      "text/plain": [
       "500-element Array{Marginal,1}:\n",
       " Marginal{NormalMeanVariance{Float64}}(NormalMeanVariance{Float64}(μ=0.6617051573100813, v=0.20039678563555818))\n",
       " Marginal{NormalMeanVariance{Float64}}(NormalMeanVariance{Float64}(μ=1.6617051573100814, v=0.20039678563555818))\n",
       " Marginal{NormalMeanVariance{Float64}}(NormalMeanVariance{Float64}(μ=2.6617051573100814, v=0.20039678563555818))\n",
       " Marginal{NormalMeanVariance{Float64}}(NormalMeanVariance{Float64}(μ=3.6617051573100814, v=0.20039678563555816))\n",
       " Marginal{NormalMeanVariance{Float64}}(NormalMeanVariance{Float64}(μ=4.661705157310082, v=0.2003967856355582))\n",
       " Marginal{NormalMeanVariance{Float64}}(NormalMeanVariance{Float64}(μ=5.661705157310082, v=0.20039678563555818))\n",
       " Marginal{NormalMeanVariance{Float64}}(NormalMeanVariance{Float64}(μ=6.661705157310082, v=0.2003967856355582))\n",
       " Marginal{NormalMeanVariance{Float64}}(NormalMeanVariance{Float64}(μ=7.661705157310081, v=0.20039678563555818))\n",
       " Marginal{NormalMeanVariance{Float64}}(NormalMeanVariance{Float64}(μ=8.661705157310083, v=0.20039678563555818))\n",
       " Marginal{NormalMeanVariance{Float64}}(NormalMeanVariance{Float64}(μ=9.661705157310081, v=0.20039678563555816))\n",
       " Marginal{NormalMeanVariance{Float64}}(NormalMeanVariance{Float64}(μ=10.661705157310083, v=0.20039678563555816))\n",
       " Marginal{NormalMeanVariance{Float64}}(NormalMeanVariance{Float64}(μ=11.661705157310083, v=0.20039678563555813))\n",
       " Marginal{NormalMeanVariance{Float64}}(NormalMeanVariance{Float64}(μ=12.661705157310081, v=0.20039678563555816))\n",
       " ⋮\n",
       " Marginal{NormalMeanVariance{Float64}}(NormalMeanVariance{Float64}(μ=488.6617051573097, v=0.2003967856355586))\n",
       " Marginal{NormalMeanVariance{Float64}}(NormalMeanVariance{Float64}(μ=489.6617051573097, v=0.20039678563555857))\n",
       " Marginal{NormalMeanVariance{Float64}}(NormalMeanVariance{Float64}(μ=490.6617051573096, v=0.20039678563555866))\n",
       " Marginal{NormalMeanVariance{Float64}}(NormalMeanVariance{Float64}(μ=491.6617051573096, v=0.20039678563555866))\n",
       " Marginal{NormalMeanVariance{Float64}}(NormalMeanVariance{Float64}(μ=492.6617051573095, v=0.20039678563555863))\n",
       " Marginal{NormalMeanVariance{Float64}}(NormalMeanVariance{Float64}(μ=493.6617051573095, v=0.2003967856355586))\n",
       " Marginal{NormalMeanVariance{Float64}}(NormalMeanVariance{Float64}(μ=494.6617051573095, v=0.20039678563555863))\n",
       " Marginal{NormalMeanVariance{Float64}}(NormalMeanVariance{Float64}(μ=495.6617051573095, v=0.2003967856355586))\n",
       " Marginal{NormalMeanVariance{Float64}}(NormalMeanVariance{Float64}(μ=496.6617051573095, v=0.2003967856355586))\n",
       " Marginal{NormalMeanVariance{Float64}}(NormalMeanVariance{Float64}(μ=497.6617051573096, v=0.2003967856355586))\n",
       " Marginal{NormalMeanVariance{Float64}}(NormalMeanVariance{Float64}(μ=498.6617051573096, v=0.2003967856355586))\n",
       " Marginal{NormalMeanVariance{Float64}}(NormalMeanVariance{Float64}(μ=499.6617051573096, v=0.2003967856355586))"
      ]
     },
     "execution_count": 400,
     "metadata": {},
     "output_type": "execute_result"
    }
   ],
   "source": [
    "inference(\n",
    "    data = data,\n",
    "    x_prior = NormalMeanVariance(0.0, 10000.0)\n",
    ")"
   ]
  },
  {
   "cell_type": "code",
   "execution_count": null,
   "metadata": {},
   "outputs": [],
   "source": []
  }
 ],
 "metadata": {
  "kernelspec": {
   "display_name": "Julia 1.5.2",
   "language": "julia",
   "name": "julia-1.5"
  },
  "language_info": {
   "file_extension": ".jl",
   "mimetype": "application/julia",
   "name": "julia",
   "version": "1.5.2"
  }
 },
 "nbformat": 4,
 "nbformat_minor": 4
}
