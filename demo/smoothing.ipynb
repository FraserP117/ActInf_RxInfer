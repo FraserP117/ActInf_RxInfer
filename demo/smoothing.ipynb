{
 "cells": [
  {
   "cell_type": "code",
   "execution_count": 43,
   "metadata": {},
   "outputs": [],
   "source": [
    "using Rocket\n",
    "using ReactiveMP\n",
    "using GraphPPL\n",
    "using BenchmarkTools\n",
    "using Distributions"
   ]
  },
  {
   "cell_type": "code",
   "execution_count": null,
   "metadata": {},
   "outputs": [],
   "source": [
    "y ~ NormalMeanVariance(mean, var) where { q = q(μ)q(v)q(out)  }"
   ]
  },
  {
   "cell_type": "code",
   "execution_count": 60,
   "metadata": {},
   "outputs": [
    {
     "data": {
      "text/plain": [
       "quote\n",
       "    #= /Users/bvdmitri/.julia/dev/GraphPPL.jl/src/GraphPPL.jl:115 =#\n",
       "    function smoothing(n_observations, noise_mean, noise_var)\n",
       "        #= /Users/bvdmitri/.julia/dev/GraphPPL.jl/src/GraphPPL.jl:115 =#\n",
       "        #= /Users/bvdmitri/.julia/dev/GraphPPL.jl/src/GraphPPL.jl:116 =#\n",
       "        var\"##model#391\" = Model()\n",
       "        #= /Users/bvdmitri/.julia/dev/GraphPPL.jl/src/GraphPPL.jl:117 =#\n",
       "        begin\n",
       "            #= In[60]:1 =#\n",
       "            #= In[60]:3 =#\n",
       "            x_prior_mean = ReactiveMP.datavar(var\"##model#391\", :x_prior_mean, Dirac{Float64})\n",
       "            #= In[60]:4 =#\n",
       "            x_prior_var = ReactiveMP.datavar(var\"##model#391\", :x_prior_var, Dirac{Float64})\n",
       "            #= In[60]:6 =#\n",
       "            (var\"##392\", x_prior = ReactiveMP.make_node(var\"##model#391\", NormalMeanVariance, ReactiveMP.AutoVar(:x_prior), ReactiveMP.as_variable(var\"##model#391\", Symbol(\"##arg#393\"), x_prior_mean), ReactiveMP.as_variable(var\"##model#391\", Symbol(\"##arg#394\"), x_prior_var)))\n",
       "            #= In[60]:8 =#\n",
       "            x = ReactiveMP.randomvar(var\"##model#391\", :x, n_observations)\n",
       "            #= In[60]:9 =#\n",
       "            y = ReactiveMP.datavar(var\"##model#391\", :y, Dirac{Float64}, n_observations)\n",
       "            #= In[60]:11 =#\n",
       "            x[1] = x_prior\n",
       "            #= In[60]:13 =#\n",
       "            for i = 2:n_observations\n",
       "                #= In[60]:14 =#\n",
       "                var\"##395\" = ReactiveMP.make_node(var\"##model#391\", +, x[i], ReactiveMP.as_variable(var\"##model#391\", Symbol(\"##arg#396\"), x[i - 1]), ReactiveMP.as_variable(var\"##model#391\", Symbol(\"##arg#397\"), 1.0))\n",
       "                #= In[60]:15 =#\n",
       "                var\"##398\" = ReactiveMP.make_node(var\"##model#391\", +, y[i], ReactiveMP.as_variable(var\"##model#391\", Symbol(\"##arg#399\"), x[i]), ReactiveMP.as_variable(var\"##model#391\", Symbol(\"##arg#400\"), NormalMeanVariance(noise_mean, noise_var)))\n",
       "            end\n",
       "            #= In[60]:18 =#\n",
       "            begin\n",
       "                #= /Users/bvdmitri/.julia/dev/GraphPPL.jl/src/GraphPPL.jl:111 =#\n",
       "                activate!(var\"##model#391\")\n",
       "                #= /Users/bvdmitri/.julia/dev/GraphPPL.jl/src/GraphPPL.jl:111 =#\n",
       "                return (x_prior_mean, x_prior_var, x, y)\n",
       "            end\n",
       "        end\n",
       "        #= /Users/bvdmitri/.julia/dev/GraphPPL.jl/src/GraphPPL.jl:118 =#\n",
       "        error(\"'return' statement is missing\")\n",
       "    end\n",
       "end"
      ]
     },
     "execution_count": 60,
     "metadata": {},
     "output_type": "execute_result"
    }
   ],
   "source": [
    "@model function smoothing(n_observations, noise_mean, noise_var)\n",
    "    \n",
    "   x_prior_mean = datavar(Float64)\n",
    "   x_prior_var  = datavar(Float64)\n",
    "   \n",
    "   x_prior ~ NormalMeanVariance(x_prior_mean, x_prior_var)\n",
    "   \n",
    "   x = randomvar(n_observations)\n",
    "   y = datavar(Float64, n_observations)\n",
    "   \n",
    "   x[1] = x_prior\n",
    "   \n",
    "   for i in 2:n_observations\n",
    "       x[i] ~ x[i - 1] + 1.0\n",
    "       y[i] ~ x[i] + NormalMeanVariance(noise_mean, noise_var)\n",
    "   end\n",
    "   \n",
    "   return x_prior_mean, x_prior_var, x, y\n",
    "end"
   ]
  },
  {
   "cell_type": "code",
   "execution_count": 53,
   "metadata": {},
   "outputs": [],
   "source": [
    "noise_real_mean = 0.0\n",
    "noise_real_var  = 10.0\n",
    "\n",
    "n = 500\n",
    "data = map(d -> d + rand(Normal(noise_real_mean, sqrt(noise_real_var))), collect(1:n));"
   ]
  },
  {
   "cell_type": "code",
   "execution_count": 54,
   "metadata": {},
   "outputs": [
    {
     "data": {
      "text/plain": [
       "inference (generic function with 1 method)"
      ]
     },
     "execution_count": 54,
     "metadata": {},
     "output_type": "execute_result"
    }
   ],
   "source": [
    "function inference(; data, x_prior)\n",
    "    n = length(data)\n",
    "    \n",
    "    x_prior_mean, x_prior_var, x, y = smoothing(n, noise_real_mean, noise_real_var);\n",
    "\n",
    "    subscriptions = Vector{Teardown}(undef, n)\n",
    "    marginals = Vector{Marginal}(undef, n)\n",
    "    \n",
    "    for i in 1:n\n",
    "         @inbounds subscriptions[i] = subscribe!(getmarginal(x[i]), (m) -> marginals[i] = m)\n",
    "    end\n",
    "    \n",
    "    update!(x_prior_mean, mean(x_prior))\n",
    "    update!(x_prior_var, var(x_prior))\n",
    "    \n",
    "    for i in 1:n\n",
    "        @inbounds update!(y[i], data[i])\n",
    "    end\n",
    "    \n",
    "    foreach(unsubscribe!, subscriptions)\n",
    "    \n",
    "    return marginals\n",
    "end"
   ]
  },
  {
   "cell_type": "code",
   "execution_count": 61,
   "metadata": {},
   "outputs": [
    {
     "ename": "LoadError",
     "evalue": "UndefVarError: ##382 not defined",
     "output_type": "error",
     "traceback": [
      "UndefVarError: ##382 not defined",
      "",
      "Stacktrace:",
      " [1] macro expansion at ./In[58]:6 [inlined]",
      " [2] smoothing(::Int64, ::Float64, ::Float64) at /Users/bvdmitri/.julia/dev/GraphPPL.jl/src/GraphPPL.jl:117",
      " [3] inference(; data::Array{Float64,1}, x_prior::NormalMeanVariance{Float64}) at ./In[54]:4",
      " [4] top-level scope at In[61]:1",
      " [5] include_string(::Function, ::Module, ::String, ::String) at ./loading.jl:1091",
      " [6] execute_code(::String, ::String) at /Users/bvdmitri/.julia/packages/IJulia/a1SNk/src/execute_request.jl:27",
      " [7] execute_request(::ZMQ.Socket, ::IJulia.Msg) at /Users/bvdmitri/.julia/packages/IJulia/a1SNk/src/execute_request.jl:86",
      " [8] #invokelatest#1 at ./essentials.jl:710 [inlined]",
      " [9] invokelatest at ./essentials.jl:709 [inlined]",
      " [10] eventloop(::ZMQ.Socket) at /Users/bvdmitri/.julia/packages/IJulia/a1SNk/src/eventloop.jl:8",
      " [11] (::IJulia.var\"#15#18\")() at ./task.jl:356"
     ]
    }
   ],
   "source": [
    "inference(\n",
    "    data = data,\n",
    "    x_prior = NormalMeanVariance(0.0, 10000.0)\n",
    ")"
   ]
  },
  {
   "cell_type": "code",
   "execution_count": null,
   "metadata": {},
   "outputs": [],
   "source": []
  }
 ],
 "metadata": {
  "kernelspec": {
   "display_name": "Julia 1.5.2",
   "language": "julia",
   "name": "julia-1.5"
  },
  "language_info": {
   "file_extension": ".jl",
   "mimetype": "application/julia",
   "name": "julia",
   "version": "1.5.2"
  }
 },
 "nbformat": 4,
 "nbformat_minor": 4
}
