{
 "cells": [
  {
   "cell_type": "code",
   "execution_count": 1,
   "metadata": {},
   "outputs": [
    {
     "name": "stderr",
     "output_type": "stream",
     "text": [
      "┌ Info: Precompiling ReactiveMP [a194aa59-28ba-4574-a09c-4a745416d6e3]\n",
      "└ @ Base loading.jl:1278\n",
      "┌ Warning: Package ReactiveMP does not have Rocket in its dependencies:\n",
      "│ - If you have ReactiveMP checked out for development and have\n",
      "│   added Rocket as a dependency but haven't updated your primary\n",
      "│   environment's manifest file, try `Pkg.resolve()`.\n",
      "│ - Otherwise you may need to report an issue with ReactiveMP\n",
      "└ Loading Rocket into ReactiveMP from project dependency, future warnings for ReactiveMP are suppressed.\n",
      "┌ Info: Precompiling GraphPPL [b3f8163a-e979-4e85-b43e-1f63d8c8b42c]\n",
      "└ @ Base loading.jl:1278\n",
      "┌ Warning: Package GraphPPL does not have ReactiveMP in its dependencies:\n",
      "│ - If you have GraphPPL checked out for development and have\n",
      "│   added ReactiveMP as a dependency but haven't updated your primary\n",
      "│   environment's manifest file, try `Pkg.resolve()`.\n",
      "│ - Otherwise you may need to report an issue with GraphPPL\n",
      "└ Loading ReactiveMP into GraphPPL from project dependency, future warnings for GraphPPL are suppressed.\n"
     ]
    }
   ],
   "source": [
    "using Rocket\n",
    "using ReactiveMP\n",
    "using GraphPPL\n",
    "using BenchmarkTools\n",
    "using Distributions\n",
    "using MacroTools"
   ]
  },
  {
   "cell_type": "code",
   "execution_count": 7,
   "metadata": {
    "scrolled": false
   },
   "outputs": [
    {
     "data": {
      "text/plain": [
       "smoothing (generic function with 1 method)"
      ]
     },
     "execution_count": 7,
     "metadata": {},
     "output_type": "execute_result"
    }
   ],
   "source": [
    "@model function smoothing(n, k, x0, P)\n",
    "    \n",
    "    x_prior ~ NormalMeanVariance(mean(x0), cov(x0)) \n",
    "\n",
    "    x = randomvar(n)\n",
    "    y = datavar(Float64, n)\n",
    "\n",
    "    x_prev = x_prior\n",
    "\n",
    "    for i in 1:n\n",
    "        x[i] ~ (x_prev + 1.0) where { portal = rem(i, k) === 0 ? AsyncPortal() : EmptyPortal() }\n",
    "        y[i] ~ NormalMeanVariance(x[i], P)\n",
    "        \n",
    "        x_prev = x[i]\n",
    "    end\n",
    "\n",
    "    return x, y\n",
    "end"
   ]
  },
  {
   "cell_type": "code",
   "execution_count": 8,
   "metadata": {},
   "outputs": [],
   "source": [
    "P = 1.0\n",
    "\n",
    "n = 10_000\n",
    "k = 500\n",
    "data = collect(1:n) + rand(Normal(0.0, sqrt(P)), n);"
   ]
  },
  {
   "cell_type": "code",
   "execution_count": 9,
   "metadata": {},
   "outputs": [
    {
     "data": {
      "text/plain": [
       "inference (generic function with 1 method)"
      ]
     },
     "execution_count": 9,
     "metadata": {},
     "output_type": "execute_result"
    }
   ],
   "source": [
    "function inference(; data, k, x0, P)\n",
    "    n = length(data)\n",
    "    \n",
    "    _, (x, y) = smoothing(n, k, x0, P);\n",
    "\n",
    "    buffer    = Vector{Marginal}(undef, n)\n",
    "    marginals = collectLatest(getmarginals(x))\n",
    "    \n",
    "    subscription = subscribe!(marginals, (ms) -> copyto!(buffer, ms))\n",
    "    \n",
    "    yield()\n",
    "    \n",
    "    update!(y, data)\n",
    "    \n",
    "    for i in 1:(div(n, k) + 1)\n",
    "        yield()\n",
    "    end\n",
    "    \n",
    "    unsubscribe!(subscription)\n",
    "    \n",
    "    return buffer\n",
    "end"
   ]
  },
  {
   "cell_type": "code",
   "execution_count": 10,
   "metadata": {},
   "outputs": [
    {
     "name": "stdout",
     "output_type": "stream",
     "text": [
      "  1.450441 seconds (7.54 M allocations: 464.726 MiB, 34.21% gc time)\n"
     ]
    },
    {
     "data": {
      "text/plain": [
       "10000-element Array{Marginal,1}:\n",
       " Marginal{NormalMeanVariance{Float64}}(NormalMeanVariance{Float64}(μ=1.0185512955656066, v=9.999999899999937e-5))\n",
       " Marginal{NormalMeanVariance{Float64}}(NormalMeanVariance{Float64}(μ=2.018551295565607, v=9.999999899999937e-5))\n",
       " Marginal{NormalMeanVariance{Float64}}(NormalMeanVariance{Float64}(μ=3.018551295565606, v=9.999999899999936e-5))\n",
       " Marginal{NormalMeanVariance{Float64}}(NormalMeanVariance{Float64}(μ=4.018551295565607, v=9.999999899999936e-5))\n",
       " Marginal{NormalMeanVariance{Float64}}(NormalMeanVariance{Float64}(μ=5.018551295565608, v=9.999999899999937e-5))\n",
       " Marginal{NormalMeanVariance{Float64}}(NormalMeanVariance{Float64}(μ=6.018551295565608, v=9.999999899999937e-5))\n",
       " Marginal{NormalMeanVariance{Float64}}(NormalMeanVariance{Float64}(μ=7.018551295565609, v=9.999999899999939e-5))\n",
       " Marginal{NormalMeanVariance{Float64}}(NormalMeanVariance{Float64}(μ=8.018551295565608, v=9.999999899999934e-5))\n",
       " Marginal{NormalMeanVariance{Float64}}(NormalMeanVariance{Float64}(μ=9.018551295565608, v=9.999999899999937e-5))\n",
       " Marginal{NormalMeanVariance{Float64}}(NormalMeanVariance{Float64}(μ=10.01855129556561, v=9.999999899999939e-5))\n",
       " Marginal{NormalMeanVariance{Float64}}(NormalMeanVariance{Float64}(μ=11.01855129556561, v=9.99999989999994e-5))\n",
       " Marginal{NormalMeanVariance{Float64}}(NormalMeanVariance{Float64}(μ=12.018551295565612, v=9.999999899999939e-5))\n",
       " Marginal{NormalMeanVariance{Float64}}(NormalMeanVariance{Float64}(μ=13.01855129556561, v=9.99999989999994e-5))\n",
       " ⋮\n",
       " Marginal{NormalMeanVariance{Float64}}(NormalMeanVariance{Float64}(μ=9989.018551295583, v=9.999999899999989e-5))\n",
       " Marginal{NormalMeanVariance{Float64}}(NormalMeanVariance{Float64}(μ=9990.018551295585, v=9.99999989999999e-5))\n",
       " Marginal{NormalMeanVariance{Float64}}(NormalMeanVariance{Float64}(μ=9991.018551295583, v=9.999999899999989e-5))\n",
       " Marginal{NormalMeanVariance{Float64}}(NormalMeanVariance{Float64}(μ=9992.018551295583, v=9.999999899999989e-5))\n",
       " Marginal{NormalMeanVariance{Float64}}(NormalMeanVariance{Float64}(μ=9993.018551295581, v=9.999999899999987e-5))\n",
       " Marginal{NormalMeanVariance{Float64}}(NormalMeanVariance{Float64}(μ=9994.018551295583, v=9.999999899999987e-5))\n",
       " Marginal{NormalMeanVariance{Float64}}(NormalMeanVariance{Float64}(μ=9995.018551295583, v=9.999999899999986e-5))\n",
       " Marginal{NormalMeanVariance{Float64}}(NormalMeanVariance{Float64}(μ=9996.018551295581, v=9.999999899999987e-5))\n",
       " Marginal{NormalMeanVariance{Float64}}(NormalMeanVariance{Float64}(μ=9997.018551295583, v=9.999999899999986e-5))\n",
       " Marginal{NormalMeanVariance{Float64}}(NormalMeanVariance{Float64}(μ=9998.018551295583, v=9.999999899999989e-5))\n",
       " Marginal{NormalMeanVariance{Float64}}(NormalMeanVariance{Float64}(μ=9999.018551295583, v=9.999999899999987e-5))\n",
       " Marginal{NormalMeanVariance{Float64}}(NormalMeanVariance{Float64}(μ=10000.018551295583, v=9.999999899999987e-5))"
      ]
     },
     "execution_count": 10,
     "metadata": {},
     "output_type": "execute_result"
    }
   ],
   "source": [
    "@time res = inference(\n",
    "    data = data,\n",
    "    k = k,\n",
    "    x0 = NormalMeanVariance(0.0, 10000.0),\n",
    "    P = P\n",
    ")"
   ]
  },
  {
   "cell_type": "code",
   "execution_count": null,
   "metadata": {},
   "outputs": [],
   "source": []
  }
 ],
 "metadata": {
  "kernelspec": {
   "display_name": "Julia 1.5.3",
   "language": "julia",
   "name": "julia-1.5"
  },
  "language_info": {
   "file_extension": ".jl",
   "mimetype": "application/julia",
   "name": "julia",
   "version": "1.5.3"
  }
 },
 "nbformat": 4,
 "nbformat_minor": 4
}
