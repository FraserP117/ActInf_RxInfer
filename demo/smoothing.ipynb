{
 "cells": [
  {
   "cell_type": "code",
   "execution_count": 254,
   "metadata": {},
   "outputs": [],
   "source": [
    "using Rocket\n",
    "using ReactiveMP\n",
    "using GraphPPL\n",
    "using BenchmarkTools\n",
    "using Distributions"
   ]
  },
  {
   "cell_type": "code",
   "execution_count": 373,
   "metadata": {},
   "outputs": [
    {
     "data": {
      "text/plain": [
       ":(function smoothing(n_observations, noise_mean, noise_var)\n",
       "      finch = Model()\n",
       "      x_prior_mean = ReactiveMP.datavar(finch, :x_prior_mean, Dirac{GraphPPL.ensure_type(Float64)})\n",
       "      x_prior_var = ReactiveMP.datavar(finch, :x_prior_var, Dirac{GraphPPL.ensure_type(Float64)})\n",
       "      (chinchilla, x_prior) = ReactiveMP.make_node(finch, NormalMeanVariance, ReactiveMP.AutoVar(:x_prior), ReactiveMP.as_variable(finch, Symbol(\"##arg#6798\"), x_prior_mean), ReactiveMP.as_variable(finch, Symbol(\"##arg#6799\"), x_prior_var); $(Expr(:(=), :factorisation, :(((1,), (2,), (3,))))))\n",
       "      x = ReactiveMP.randomvar(finch, :x, n_observations)\n",
       "      y = ReactiveMP.datavar(finch, :y, Dirac{GraphPPL.ensure_type(Float64)}, n_observations)\n",
       "      x[1] = x_prior\n",
       "      for i = 2:n_observations\n",
       "          pheasant = ReactiveMP.make_node(finch, +, x[i], ReactiveMP.as_variable(finch, Symbol(\"##arg#6801\"), x[i - 1]), ReactiveMP.as_variable(finch, Symbol(\"##arg#6802\"), 1.0); )\n",
       "          caterpillar = ReactiveMP.make_node(finch, +, y[i], ReactiveMP.as_variable(finch, Symbol(\"##arg#6807\"), x[i]), ReactiveMP.as_variable(finch, Symbol(\"##arg#6808\"), begin\n",
       "                          (prairiedog, grasshopper) = ReactiveMP.make_node(finch, NormalMeanVariance, ReactiveMP.AutoVar(Symbol(\"##nvar#6796\")), ReactiveMP.as_variable(finch, Symbol(\"##arg#6804\"), noise_mean), ReactiveMP.as_variable(finch, Symbol(\"##arg#6805\"), noise_var); $(Expr(:(=), :factorisation, :(((1,), (2,), (3,))))))\n",
       "                          grasshopper\n",
       "                      end); )\n",
       "      end\n",
       "      activate!(finch)\n",
       "      return (x_prior_mean, x_prior_var, x, y)\n",
       "      error(\"'return' statement is missing\")\n",
       "  end)"
      ]
     },
     "execution_count": 373,
     "metadata": {},
     "output_type": "execute_result"
    }
   ],
   "source": [
    "MacroTools.prettify(@macroexpand @model function smoothing(n_observations, noise_mean, noise_var)\n",
    "    \n",
    "    x_prior_mean = datavar(Float64)\n",
    "    x_prior_var  = datavar(Float64)\n",
    "\n",
    "    x_prior ~ NormalMeanVariance(x_prior_mean, x_prior_var) where { q = q(var)q(mean)q(out) }\n",
    "\n",
    "    x = randomvar(n_observations)\n",
    "    y = datavar(Float64, n_observations)\n",
    "\n",
    "    x[1] = x_prior\n",
    "\n",
    "    for i in 2:n_observations\n",
    "        x[i] ~ x[i - 1] + 1.0\n",
    "        y[i] ~ x[i] + (NormalMeanVariance(noise_mean, noise_var) where { q = q(var)q(mean)q(out) })\n",
    "    end\n",
    "\n",
    "    return x_prior_mean, x_prior_var, x, y\n",
    "end)"
   ]
  },
  {
   "cell_type": "code",
   "execution_count": 390,
   "metadata": {},
   "outputs": [
    {
     "ename": "LoadError",
     "evalue": "LoadError: Unknown option 'id = 1' for '+' node\nin expression starting at In[390]:1",
     "output_type": "error",
     "traceback": [
      "LoadError: Unknown option 'id = 1' for '+' node\nin expression starting at In[390]:1",
      "",
      "Stacktrace:",
      " [1] error(::String) at ./error.jl:33",
      " [2] (::GraphPPL.var\"#1367#1368\"{Symbol,Array{Any,1}})(::Expr) at /Users/bvdmitri/.julia/dev/GraphPPL.jl/src/backends/reactivemp.jl:33",
      " [3] iterate at ./generator.jl:47 [inlined]",
      " [4] _collect(::Array{Any,1}, ::Base.Generator{Array{Any,1},GraphPPL.var\"#1367#1368\"{Symbol,Array{Any,1}}}, ::Base.EltypeUnknown, ::Base.HasShape{1}) at ./array.jl:699",
      " [5] collect_similar at ./array.jl:628 [inlined]",
      " [6] map at ./abstractarray.jl:2162 [inlined]",
      " [7] write_node_options(::ReactiveMPBackend, ::Symbol, ::Array{Any,1}, ::Array{Any,1}) at /Users/bvdmitri/.julia/dev/GraphPPL.jl/src/backends/reactivemp.jl:26",
      " [8] (::GraphPPL.var\"#1572#1576\"{ReactiveMPBackend,Symbol,Set{Symbol}})(::Expr) at /Users/bvdmitri/.julia/dev/GraphPPL.jl/src/GraphPPL.jl:126",
      " [9] walk(::Expr, ::Function, ::GraphPPL.var\"#1572#1576\"{ReactiveMPBackend,Symbol,Set{Symbol}}) at /Users/bvdmitri/.julia/packages/MacroTools/gME9C/src/utils.jl:112",
      " [10] postwalk at /Users/bvdmitri/.julia/packages/MacroTools/gME9C/src/utils.jl:122 [inlined]",
      " [11] (::MacroTools.var\"#19#20\"{GraphPPL.var\"#1572#1576\"{ReactiveMPBackend,Symbol,Set{Symbol}}})(::Expr) at /Users/bvdmitri/.julia/packages/MacroTools/gME9C/src/utils.jl:122",
      " [12] iterate at ./generator.jl:47 [inlined]",
      " [13] collect_to!(::Array{LineNumberNode,1}, ::Base.Generator{Array{Any,1},MacroTools.var\"#19#20\"{GraphPPL.var\"#1572#1576\"{ReactiveMPBackend,Symbol,Set{Symbol}}}}, ::Int64, ::Int64) at ./array.jl:732",
      " [14] collect_to_with_first!(::Array{LineNumberNode,1}, ::LineNumberNode, ::Base.Generator{Array{Any,1},MacroTools.var\"#19#20\"{GraphPPL.var\"#1572#1576\"{ReactiveMPBackend,Symbol,Set{Symbol}}}}, ::Int64) at ./array.jl:710",
      " [15] _collect(::Array{Any,1}, ::Base.Generator{Array{Any,1},MacroTools.var\"#19#20\"{GraphPPL.var\"#1572#1576\"{ReactiveMPBackend,Symbol,Set{Symbol}}}}, ::Base.EltypeUnknown, ::Base.HasShape{1}) at ./array.jl:704",
      " [16] collect_similar(::Array{Any,1}, ::Base.Generator{Array{Any,1},MacroTools.var\"#19#20\"{GraphPPL.var\"#1572#1576\"{ReactiveMPBackend,Symbol,Set{Symbol}}}}) at ./array.jl:628",
      " [17] map(::Function, ::Array{Any,1}) at ./abstractarray.jl:2162",
      " [18] walk(::Expr, ::Function, ::GraphPPL.var\"#1572#1576\"{ReactiveMPBackend,Symbol,Set{Symbol}}) at /Users/bvdmitri/.julia/packages/MacroTools/gME9C/src/utils.jl:112",
      " [19] postwalk at /Users/bvdmitri/.julia/packages/MacroTools/gME9C/src/utils.jl:122 [inlined]",
      " [20] (::MacroTools.var\"#19#20\"{GraphPPL.var\"#1572#1576\"{ReactiveMPBackend,Symbol,Set{Symbol}}})(::Expr) at /Users/bvdmitri/.julia/packages/MacroTools/gME9C/src/utils.jl:122",
      " [21] iterate at ./generator.jl:47 [inlined]",
      " [22] collect_to!(::Array{Expr,1}, ::Base.Generator{Array{Any,1},MacroTools.var\"#19#20\"{GraphPPL.var\"#1572#1576\"{ReactiveMPBackend,Symbol,Set{Symbol}}}}, ::Int64, ::Int64) at ./array.jl:732",
      " [23] collect_to_with_first!(::Array{Expr,1}, ::Expr, ::Base.Generator{Array{Any,1},MacroTools.var\"#19#20\"{GraphPPL.var\"#1572#1576\"{ReactiveMPBackend,Symbol,Set{Symbol}}}}, ::Int64) at ./array.jl:710",
      " [24] _collect(::Array{Any,1}, ::Base.Generator{Array{Any,1},MacroTools.var\"#19#20\"{GraphPPL.var\"#1572#1576\"{ReactiveMPBackend,Symbol,Set{Symbol}}}}, ::Base.EltypeUnknown, ::Base.HasShape{1}) at ./array.jl:704",
      " [25] collect_similar(::Array{Any,1}, ::Base.Generator{Array{Any,1},MacroTools.var\"#19#20\"{GraphPPL.var\"#1572#1576\"{ReactiveMPBackend,Symbol,Set{Symbol}}}}) at ./array.jl:628",
      " [26] map(::Function, ::Array{Any,1}) at ./abstractarray.jl:2162",
      " [27] walk(::Expr, ::Function, ::GraphPPL.var\"#1572#1576\"{ReactiveMPBackend,Symbol,Set{Symbol}}) at /Users/bvdmitri/.julia/packages/MacroTools/gME9C/src/utils.jl:112",
      " [28] postwalk at /Users/bvdmitri/.julia/packages/MacroTools/gME9C/src/utils.jl:122 [inlined]",
      " [29] (::MacroTools.var\"#19#20\"{GraphPPL.var\"#1572#1576\"{ReactiveMPBackend,Symbol,Set{Symbol}}})(::Expr) at /Users/bvdmitri/.julia/packages/MacroTools/gME9C/src/utils.jl:122",
      " [30] iterate at ./generator.jl:47 [inlined]",
      " [31] collect_to!(::Array{Any,1}, ::Base.Generator{Array{Any,1},MacroTools.var\"#19#20\"{GraphPPL.var\"#1572#1576\"{ReactiveMPBackend,Symbol,Set{Symbol}}}}, ::Int64, ::Int64) at ./array.jl:732",
      " [32] collect_to!(::Array{LineNumberNode,1}, ::Base.Generator{Array{Any,1},MacroTools.var\"#19#20\"{GraphPPL.var\"#1572#1576\"{ReactiveMPBackend,Symbol,Set{Symbol}}}}, ::Int64, ::Int64) at ./array.jl:740",
      " [33] collect_to_with_first!(::Array{LineNumberNode,1}, ::LineNumberNode, ::Base.Generator{Array{Any,1},MacroTools.var\"#19#20\"{GraphPPL.var\"#1572#1576\"{ReactiveMPBackend,Symbol,Set{Symbol}}}}, ::Int64) at ./array.jl:710",
      " [34] _collect(::Array{Any,1}, ::Base.Generator{Array{Any,1},MacroTools.var\"#19#20\"{GraphPPL.var\"#1572#1576\"{ReactiveMPBackend,Symbol,Set{Symbol}}}}, ::Base.EltypeUnknown, ::Base.HasShape{1}) at ./array.jl:704",
      " [35] collect_similar(::Array{Any,1}, ::Base.Generator{Array{Any,1},MacroTools.var\"#19#20\"{GraphPPL.var\"#1572#1576\"{ReactiveMPBackend,Symbol,Set{Symbol}}}}) at ./array.jl:628",
      " [36] map(::Function, ::Array{Any,1}) at ./abstractarray.jl:2162",
      " [37] walk(::Expr, ::Function, ::GraphPPL.var\"#1572#1576\"{ReactiveMPBackend,Symbol,Set{Symbol}}) at /Users/bvdmitri/.julia/packages/MacroTools/gME9C/src/utils.jl:112",
      " [38] postwalk(::Function, ::Expr) at /Users/bvdmitri/.julia/packages/MacroTools/gME9C/src/utils.jl:122",
      " [39] @model(::LineNumberNode, ::Module, ::Any) at /Users/bvdmitri/.julia/dev/GraphPPL.jl/src/GraphPPL.jl:125",
      " [40] include_string(::Function, ::Module, ::String, ::String) at ./loading.jl:1091",
      " [41] execute_code(::String, ::String) at /Users/bvdmitri/.julia/packages/IJulia/a1SNk/src/execute_request.jl:27",
      " [42] execute_request(::ZMQ.Socket, ::IJulia.Msg) at /Users/bvdmitri/.julia/packages/IJulia/a1SNk/src/execute_request.jl:86",
      " [43] #invokelatest#1 at ./essentials.jl:710 [inlined]",
      " [44] invokelatest at ./essentials.jl:709 [inlined]",
      " [45] eventloop(::ZMQ.Socket) at /Users/bvdmitri/.julia/packages/IJulia/a1SNk/src/eventloop.jl:8",
      " [46] (::IJulia.var\"#15#18\")() at ./task.jl:356"
     ]
    }
   ],
   "source": [
    "@model function smoothing(n_observations, noise_mean, noise_var)\n",
    "    \n",
    "    x_prior_mean = datavar(Float64)\n",
    "    x_prior_var  = datavar(Float64)\n",
    "\n",
    "    x_prior ~ NormalMeanVariance(x_prior_mean, x_prior_var)\n",
    "\n",
    "    x = randomvar(n_observations)\n",
    "    y = datavar(Float64, n_observations)\n",
    "\n",
    "    x[1] = x_prior\n",
    "\n",
    "    for i in 2:n_observations\n",
    "       x[i] ~ x[i - 1] + 1.0\n",
    "       y[i] ~ x[i] + NormalMeanVariance(noise_mean, noise_var) where { q = FullFactorisation() }\n",
    "    end\n",
    "\n",
    "    return x_prior_mean, x_prior_var, x, y\n",
    "end"
   ]
  },
  {
   "cell_type": "code",
   "execution_count": 386,
   "metadata": {},
   "outputs": [],
   "source": [
    "noise_real_mean = -10.0\n",
    "noise_real_var  = 100.0\n",
    "\n",
    "n = 500\n",
    "data = map(d -> d + rand(Normal(noise_real_mean, sqrt(noise_real_var))), collect(1:n));"
   ]
  },
  {
   "cell_type": "code",
   "execution_count": 387,
   "metadata": {},
   "outputs": [
    {
     "data": {
      "text/plain": [
       "inference (generic function with 1 method)"
      ]
     },
     "execution_count": 387,
     "metadata": {},
     "output_type": "execute_result"
    }
   ],
   "source": [
    "function inference(; data, x_prior)\n",
    "    n = length(data)\n",
    "    \n",
    "    x_prior_mean, x_prior_var, x, y = smoothing(n, noise_real_mean, noise_real_var);\n",
    "\n",
    "    subscriptions = Vector{Teardown}(undef, n)\n",
    "    marginals = Vector{Marginal}(undef, n)\n",
    "    \n",
    "    for i in 1:n\n",
    "         @inbounds subscriptions[i] = subscribe!(getmarginal(x[i]), (m) -> marginals[i] = m)\n",
    "    end\n",
    "    \n",
    "    update!(x_prior_mean, mean(x_prior))\n",
    "    update!(x_prior_var, var(x_prior))\n",
    "    \n",
    "    for i in 1:n\n",
    "        @inbounds update!(y[i], data[i])\n",
    "    end\n",
    "    \n",
    "    foreach(unsubscribe!, subscriptions)\n",
    "    \n",
    "    return marginals\n",
    "end"
   ]
  },
  {
   "cell_type": "code",
   "execution_count": 388,
   "metadata": {},
   "outputs": [
    {
     "data": {
      "text/plain": [
       "500-element Array{Marginal,1}:\n",
       " Marginal{NormalMeanVariance{Float64}}(NormalMeanVariance{Float64}(μ=1.517198298550052, v=0.20039678563555818))\n",
       " Marginal{NormalMeanVariance{Float64}}(NormalMeanVariance{Float64}(μ=2.517198298550052, v=0.20039678563555818))\n",
       " Marginal{NormalMeanVariance{Float64}}(NormalMeanVariance{Float64}(μ=3.517198298550052, v=0.20039678563555818))\n",
       " Marginal{NormalMeanVariance{Float64}}(NormalMeanVariance{Float64}(μ=4.517198298550051, v=0.20039678563555816))\n",
       " Marginal{NormalMeanVariance{Float64}}(NormalMeanVariance{Float64}(μ=5.517198298550051, v=0.2003967856355582))\n",
       " Marginal{NormalMeanVariance{Float64}}(NormalMeanVariance{Float64}(μ=6.517198298550051, v=0.20039678563555818))\n",
       " Marginal{NormalMeanVariance{Float64}}(NormalMeanVariance{Float64}(μ=7.517198298550053, v=0.2003967856355582))\n",
       " Marginal{NormalMeanVariance{Float64}}(NormalMeanVariance{Float64}(μ=8.517198298550055, v=0.20039678563555818))\n",
       " Marginal{NormalMeanVariance{Float64}}(NormalMeanVariance{Float64}(μ=9.517198298550055, v=0.20039678563555818))\n",
       " Marginal{NormalMeanVariance{Float64}}(NormalMeanVariance{Float64}(μ=10.517198298550053, v=0.20039678563555816))\n",
       " Marginal{NormalMeanVariance{Float64}}(NormalMeanVariance{Float64}(μ=11.517198298550053, v=0.20039678563555816))\n",
       " Marginal{NormalMeanVariance{Float64}}(NormalMeanVariance{Float64}(μ=12.517198298550051, v=0.20039678563555813))\n",
       " Marginal{NormalMeanVariance{Float64}}(NormalMeanVariance{Float64}(μ=13.517198298550053, v=0.20039678563555816))\n",
       " ⋮\n",
       " Marginal{NormalMeanVariance{Float64}}(NormalMeanVariance{Float64}(μ=489.51719829854943, v=0.2003967856355586))\n",
       " Marginal{NormalMeanVariance{Float64}}(NormalMeanVariance{Float64}(μ=490.5171982985492, v=0.20039678563555857))\n",
       " Marginal{NormalMeanVariance{Float64}}(NormalMeanVariance{Float64}(μ=491.51719829854926, v=0.20039678563555866))\n",
       " Marginal{NormalMeanVariance{Float64}}(NormalMeanVariance{Float64}(μ=492.5171982985493, v=0.20039678563555866))\n",
       " Marginal{NormalMeanVariance{Float64}}(NormalMeanVariance{Float64}(μ=493.51719829854926, v=0.20039678563555863))\n",
       " Marginal{NormalMeanVariance{Float64}}(NormalMeanVariance{Float64}(μ=494.5171982985493, v=0.2003967856355586))\n",
       " Marginal{NormalMeanVariance{Float64}}(NormalMeanVariance{Float64}(μ=495.5171982985493, v=0.20039678563555863))\n",
       " Marginal{NormalMeanVariance{Float64}}(NormalMeanVariance{Float64}(μ=496.51719829854926, v=0.2003967856355586))\n",
       " Marginal{NormalMeanVariance{Float64}}(NormalMeanVariance{Float64}(μ=497.5171982985492, v=0.2003967856355586))\n",
       " Marginal{NormalMeanVariance{Float64}}(NormalMeanVariance{Float64}(μ=498.5171982985494, v=0.2003967856355586))\n",
       " Marginal{NormalMeanVariance{Float64}}(NormalMeanVariance{Float64}(μ=499.51719829854943, v=0.2003967856355586))\n",
       " Marginal{NormalMeanVariance{Float64}}(NormalMeanVariance{Float64}(μ=500.51719829854943, v=0.2003967856355586))"
      ]
     },
     "execution_count": 388,
     "metadata": {},
     "output_type": "execute_result"
    }
   ],
   "source": [
    "inference(\n",
    "    data = data,\n",
    "    x_prior = NormalMeanVariance(0.0, 10000.0)\n",
    ")"
   ]
  },
  {
   "cell_type": "code",
   "execution_count": 345,
   "metadata": {},
   "outputs": [
    {
     "name": "stdout",
     "output_type": "stream",
     "text": [
      "  672.757 ns (8 allocations: 352 bytes)\n"
     ]
    },
    {
     "data": {
      "text/plain": [
       ":a_a_a_a_a_a_a_a_a_a"
      ]
     },
     "execution_count": 345,
     "metadata": {},
     "output_type": "execute_result"
    }
   ],
   "source": [
    "@btime Symbol(join(ss, :_))"
   ]
  },
  {
   "cell_type": "code",
   "execution_count": 89,
   "metadata": {},
   "outputs": [
    {
     "name": "stdout",
     "output_type": "stream",
     "text": [
      "  1.669 μs (42 allocations: 1.52 KiB)\n"
     ]
    },
    {
     "data": {
      "text/plain": [
       ":a_a_a_a_a_a_a_a_a_a"
      ]
     },
     "execution_count": 89,
     "metadata": {},
     "output_type": "execute_result"
    }
   ],
   "source": [
    "@btime Symbol(ReactiveMP.with_separator(:_, ss)...)"
   ]
  },
  {
   "cell_type": "code",
   "execution_count": 109,
   "metadata": {},
   "outputs": [
    {
     "name": "stdout",
     "output_type": "stream",
     "text": [
      "  12.146 ms (248309 allocations: 10.48 MiB)\n"
     ]
    },
    {
     "data": {
      "text/plain": [
       "100×100 Array{DataVariable{Subject{Message{Float64},AsapScheduler,AsapScheduler},Float64},2}:\n",
       " DataVariable{Subject{Message{Float64},AsapScheduler,AsapScheduler},Float64}(:name_1_1, Subject(Message{Float64}, AsapScheduler), DataVariableProps(nothing, nothing))    …  DataVariable{Subject{Message{Float64},AsapScheduler,AsapScheduler},Float64}(:name_1_100, Subject(Message{Float64}, AsapScheduler), DataVariableProps(nothing, nothing))\n",
       " DataVariable{Subject{Message{Float64},AsapScheduler,AsapScheduler},Float64}(:name_2_1, Subject(Message{Float64}, AsapScheduler), DataVariableProps(nothing, nothing))       DataVariable{Subject{Message{Float64},AsapScheduler,AsapScheduler},Float64}(:name_2_100, Subject(Message{Float64}, AsapScheduler), DataVariableProps(nothing, nothing))\n",
       " DataVariable{Subject{Message{Float64},AsapScheduler,AsapScheduler},Float64}(:name_3_1, Subject(Message{Float64}, AsapScheduler), DataVariableProps(nothing, nothing))       DataVariable{Subject{Message{Float64},AsapScheduler,AsapScheduler},Float64}(:name_3_100, Subject(Message{Float64}, AsapScheduler), DataVariableProps(nothing, nothing))\n",
       " DataVariable{Subject{Message{Float64},AsapScheduler,AsapScheduler},Float64}(:name_4_1, Subject(Message{Float64}, AsapScheduler), DataVariableProps(nothing, nothing))       DataVariable{Subject{Message{Float64},AsapScheduler,AsapScheduler},Float64}(:name_4_100, Subject(Message{Float64}, AsapScheduler), DataVariableProps(nothing, nothing))\n",
       " DataVariable{Subject{Message{Float64},AsapScheduler,AsapScheduler},Float64}(:name_5_1, Subject(Message{Float64}, AsapScheduler), DataVariableProps(nothing, nothing))       DataVariable{Subject{Message{Float64},AsapScheduler,AsapScheduler},Float64}(:name_5_100, Subject(Message{Float64}, AsapScheduler), DataVariableProps(nothing, nothing))\n",
       " DataVariable{Subject{Message{Float64},AsapScheduler,AsapScheduler},Float64}(:name_6_1, Subject(Message{Float64}, AsapScheduler), DataVariableProps(nothing, nothing))    …  DataVariable{Subject{Message{Float64},AsapScheduler,AsapScheduler},Float64}(:name_6_100, Subject(Message{Float64}, AsapScheduler), DataVariableProps(nothing, nothing))\n",
       " DataVariable{Subject{Message{Float64},AsapScheduler,AsapScheduler},Float64}(:name_7_1, Subject(Message{Float64}, AsapScheduler), DataVariableProps(nothing, nothing))       DataVariable{Subject{Message{Float64},AsapScheduler,AsapScheduler},Float64}(:name_7_100, Subject(Message{Float64}, AsapScheduler), DataVariableProps(nothing, nothing))\n",
       " DataVariable{Subject{Message{Float64},AsapScheduler,AsapScheduler},Float64}(:name_8_1, Subject(Message{Float64}, AsapScheduler), DataVariableProps(nothing, nothing))       DataVariable{Subject{Message{Float64},AsapScheduler,AsapScheduler},Float64}(:name_8_100, Subject(Message{Float64}, AsapScheduler), DataVariableProps(nothing, nothing))\n",
       " DataVariable{Subject{Message{Float64},AsapScheduler,AsapScheduler},Float64}(:name_9_1, Subject(Message{Float64}, AsapScheduler), DataVariableProps(nothing, nothing))       DataVariable{Subject{Message{Float64},AsapScheduler,AsapScheduler},Float64}(:name_9_100, Subject(Message{Float64}, AsapScheduler), DataVariableProps(nothing, nothing))\n",
       " DataVariable{Subject{Message{Float64},AsapScheduler,AsapScheduler},Float64}(:name_10_1, Subject(Message{Float64}, AsapScheduler), DataVariableProps(nothing, nothing))      DataVariable{Subject{Message{Float64},AsapScheduler,AsapScheduler},Float64}(:name_10_100, Subject(Message{Float64}, AsapScheduler), DataVariableProps(nothing, nothing))\n",
       " DataVariable{Subject{Message{Float64},AsapScheduler,AsapScheduler},Float64}(:name_11_1, Subject(Message{Float64}, AsapScheduler), DataVariableProps(nothing, nothing))   …  DataVariable{Subject{Message{Float64},AsapScheduler,AsapScheduler},Float64}(:name_11_100, Subject(Message{Float64}, AsapScheduler), DataVariableProps(nothing, nothing))\n",
       " DataVariable{Subject{Message{Float64},AsapScheduler,AsapScheduler},Float64}(:name_12_1, Subject(Message{Float64}, AsapScheduler), DataVariableProps(nothing, nothing))      DataVariable{Subject{Message{Float64},AsapScheduler,AsapScheduler},Float64}(:name_12_100, Subject(Message{Float64}, AsapScheduler), DataVariableProps(nothing, nothing))\n",
       " DataVariable{Subject{Message{Float64},AsapScheduler,AsapScheduler},Float64}(:name_13_1, Subject(Message{Float64}, AsapScheduler), DataVariableProps(nothing, nothing))      DataVariable{Subject{Message{Float64},AsapScheduler,AsapScheduler},Float64}(:name_13_100, Subject(Message{Float64}, AsapScheduler), DataVariableProps(nothing, nothing))\n",
       " ⋮                                                                                                                                                                        ⋱  \n",
       " DataVariable{Subject{Message{Float64},AsapScheduler,AsapScheduler},Float64}(:name_89_1, Subject(Message{Float64}, AsapScheduler), DataVariableProps(nothing, nothing))      DataVariable{Subject{Message{Float64},AsapScheduler,AsapScheduler},Float64}(:name_89_100, Subject(Message{Float64}, AsapScheduler), DataVariableProps(nothing, nothing))\n",
       " DataVariable{Subject{Message{Float64},AsapScheduler,AsapScheduler},Float64}(:name_90_1, Subject(Message{Float64}, AsapScheduler), DataVariableProps(nothing, nothing))      DataVariable{Subject{Message{Float64},AsapScheduler,AsapScheduler},Float64}(:name_90_100, Subject(Message{Float64}, AsapScheduler), DataVariableProps(nothing, nothing))\n",
       " DataVariable{Subject{Message{Float64},AsapScheduler,AsapScheduler},Float64}(:name_91_1, Subject(Message{Float64}, AsapScheduler), DataVariableProps(nothing, nothing))   …  DataVariable{Subject{Message{Float64},AsapScheduler,AsapScheduler},Float64}(:name_91_100, Subject(Message{Float64}, AsapScheduler), DataVariableProps(nothing, nothing))\n",
       " DataVariable{Subject{Message{Float64},AsapScheduler,AsapScheduler},Float64}(:name_92_1, Subject(Message{Float64}, AsapScheduler), DataVariableProps(nothing, nothing))      DataVariable{Subject{Message{Float64},AsapScheduler,AsapScheduler},Float64}(:name_92_100, Subject(Message{Float64}, AsapScheduler), DataVariableProps(nothing, nothing))\n",
       " DataVariable{Subject{Message{Float64},AsapScheduler,AsapScheduler},Float64}(:name_93_1, Subject(Message{Float64}, AsapScheduler), DataVariableProps(nothing, nothing))      DataVariable{Subject{Message{Float64},AsapScheduler,AsapScheduler},Float64}(:name_93_100, Subject(Message{Float64}, AsapScheduler), DataVariableProps(nothing, nothing))\n",
       " DataVariable{Subject{Message{Float64},AsapScheduler,AsapScheduler},Float64}(:name_94_1, Subject(Message{Float64}, AsapScheduler), DataVariableProps(nothing, nothing))      DataVariable{Subject{Message{Float64},AsapScheduler,AsapScheduler},Float64}(:name_94_100, Subject(Message{Float64}, AsapScheduler), DataVariableProps(nothing, nothing))\n",
       " DataVariable{Subject{Message{Float64},AsapScheduler,AsapScheduler},Float64}(:name_95_1, Subject(Message{Float64}, AsapScheduler), DataVariableProps(nothing, nothing))      DataVariable{Subject{Message{Float64},AsapScheduler,AsapScheduler},Float64}(:name_95_100, Subject(Message{Float64}, AsapScheduler), DataVariableProps(nothing, nothing))\n",
       " DataVariable{Subject{Message{Float64},AsapScheduler,AsapScheduler},Float64}(:name_96_1, Subject(Message{Float64}, AsapScheduler), DataVariableProps(nothing, nothing))   …  DataVariable{Subject{Message{Float64},AsapScheduler,AsapScheduler},Float64}(:name_96_100, Subject(Message{Float64}, AsapScheduler), DataVariableProps(nothing, nothing))\n",
       " DataVariable{Subject{Message{Float64},AsapScheduler,AsapScheduler},Float64}(:name_97_1, Subject(Message{Float64}, AsapScheduler), DataVariableProps(nothing, nothing))      DataVariable{Subject{Message{Float64},AsapScheduler,AsapScheduler},Float64}(:name_97_100, Subject(Message{Float64}, AsapScheduler), DataVariableProps(nothing, nothing))\n",
       " DataVariable{Subject{Message{Float64},AsapScheduler,AsapScheduler},Float64}(:name_98_1, Subject(Message{Float64}, AsapScheduler), DataVariableProps(nothing, nothing))      DataVariable{Subject{Message{Float64},AsapScheduler,AsapScheduler},Float64}(:name_98_100, Subject(Message{Float64}, AsapScheduler), DataVariableProps(nothing, nothing))\n",
       " DataVariable{Subject{Message{Float64},AsapScheduler,AsapScheduler},Float64}(:name_99_1, Subject(Message{Float64}, AsapScheduler), DataVariableProps(nothing, nothing))      DataVariable{Subject{Message{Float64},AsapScheduler,AsapScheduler},Float64}(:name_99_100, Subject(Message{Float64}, AsapScheduler), DataVariableProps(nothing, nothing))\n",
       " DataVariable{Subject{Message{Float64},AsapScheduler,AsapScheduler},Float64}(:name_100_1, Subject(Message{Float64}, AsapScheduler), DataVariableProps(nothing, nothing))     DataVariable{Subject{Message{Float64},AsapScheduler,AsapScheduler},Float64}(:name_100_100, Subject(Message{Float64}, AsapScheduler), DataVariableProps(nothing, nothing))"
      ]
     },
     "execution_count": 109,
     "metadata": {},
     "output_type": "execute_result"
    }
   ],
   "source": [
    "@btime datavar(:name, Float64, 100, 100)"
   ]
  },
  {
   "cell_type": "code",
   "execution_count": 108,
   "metadata": {},
   "outputs": [
    {
     "name": "stdout",
     "output_type": "stream",
     "text": [
      "  14.999 ms (250010 allocations: 10.22 MiB)\n"
     ]
    },
    {
     "data": {
      "text/plain": [
       "100×100 Array{DataVariable{Subject{Message{Float64},AsapScheduler,AsapScheduler},Float64},2}:\n",
       " DataVariable{Subject{Message{Float64},AsapScheduler,AsapScheduler},Float64}(:name_1_1, Subject(Message{Float64}, AsapScheduler), DataVariableProps(nothing, nothing))    …  DataVariable{Subject{Message{Float64},AsapScheduler,AsapScheduler},Float64}(:name_1_100, Subject(Message{Float64}, AsapScheduler), DataVariableProps(nothing, nothing))\n",
       " DataVariable{Subject{Message{Float64},AsapScheduler,AsapScheduler},Float64}(:name_2_1, Subject(Message{Float64}, AsapScheduler), DataVariableProps(nothing, nothing))       DataVariable{Subject{Message{Float64},AsapScheduler,AsapScheduler},Float64}(:name_2_100, Subject(Message{Float64}, AsapScheduler), DataVariableProps(nothing, nothing))\n",
       " DataVariable{Subject{Message{Float64},AsapScheduler,AsapScheduler},Float64}(:name_3_1, Subject(Message{Float64}, AsapScheduler), DataVariableProps(nothing, nothing))       DataVariable{Subject{Message{Float64},AsapScheduler,AsapScheduler},Float64}(:name_3_100, Subject(Message{Float64}, AsapScheduler), DataVariableProps(nothing, nothing))\n",
       " DataVariable{Subject{Message{Float64},AsapScheduler,AsapScheduler},Float64}(:name_4_1, Subject(Message{Float64}, AsapScheduler), DataVariableProps(nothing, nothing))       DataVariable{Subject{Message{Float64},AsapScheduler,AsapScheduler},Float64}(:name_4_100, Subject(Message{Float64}, AsapScheduler), DataVariableProps(nothing, nothing))\n",
       " DataVariable{Subject{Message{Float64},AsapScheduler,AsapScheduler},Float64}(:name_5_1, Subject(Message{Float64}, AsapScheduler), DataVariableProps(nothing, nothing))       DataVariable{Subject{Message{Float64},AsapScheduler,AsapScheduler},Float64}(:name_5_100, Subject(Message{Float64}, AsapScheduler), DataVariableProps(nothing, nothing))\n",
       " DataVariable{Subject{Message{Float64},AsapScheduler,AsapScheduler},Float64}(:name_6_1, Subject(Message{Float64}, AsapScheduler), DataVariableProps(nothing, nothing))    …  DataVariable{Subject{Message{Float64},AsapScheduler,AsapScheduler},Float64}(:name_6_100, Subject(Message{Float64}, AsapScheduler), DataVariableProps(nothing, nothing))\n",
       " DataVariable{Subject{Message{Float64},AsapScheduler,AsapScheduler},Float64}(:name_7_1, Subject(Message{Float64}, AsapScheduler), DataVariableProps(nothing, nothing))       DataVariable{Subject{Message{Float64},AsapScheduler,AsapScheduler},Float64}(:name_7_100, Subject(Message{Float64}, AsapScheduler), DataVariableProps(nothing, nothing))\n",
       " DataVariable{Subject{Message{Float64},AsapScheduler,AsapScheduler},Float64}(:name_8_1, Subject(Message{Float64}, AsapScheduler), DataVariableProps(nothing, nothing))       DataVariable{Subject{Message{Float64},AsapScheduler,AsapScheduler},Float64}(:name_8_100, Subject(Message{Float64}, AsapScheduler), DataVariableProps(nothing, nothing))\n",
       " DataVariable{Subject{Message{Float64},AsapScheduler,AsapScheduler},Float64}(:name_9_1, Subject(Message{Float64}, AsapScheduler), DataVariableProps(nothing, nothing))       DataVariable{Subject{Message{Float64},AsapScheduler,AsapScheduler},Float64}(:name_9_100, Subject(Message{Float64}, AsapScheduler), DataVariableProps(nothing, nothing))\n",
       " DataVariable{Subject{Message{Float64},AsapScheduler,AsapScheduler},Float64}(:name_10_1, Subject(Message{Float64}, AsapScheduler), DataVariableProps(nothing, nothing))      DataVariable{Subject{Message{Float64},AsapScheduler,AsapScheduler},Float64}(:name_10_100, Subject(Message{Float64}, AsapScheduler), DataVariableProps(nothing, nothing))\n",
       " DataVariable{Subject{Message{Float64},AsapScheduler,AsapScheduler},Float64}(:name_11_1, Subject(Message{Float64}, AsapScheduler), DataVariableProps(nothing, nothing))   …  DataVariable{Subject{Message{Float64},AsapScheduler,AsapScheduler},Float64}(:name_11_100, Subject(Message{Float64}, AsapScheduler), DataVariableProps(nothing, nothing))\n",
       " DataVariable{Subject{Message{Float64},AsapScheduler,AsapScheduler},Float64}(:name_12_1, Subject(Message{Float64}, AsapScheduler), DataVariableProps(nothing, nothing))      DataVariable{Subject{Message{Float64},AsapScheduler,AsapScheduler},Float64}(:name_12_100, Subject(Message{Float64}, AsapScheduler), DataVariableProps(nothing, nothing))\n",
       " DataVariable{Subject{Message{Float64},AsapScheduler,AsapScheduler},Float64}(:name_13_1, Subject(Message{Float64}, AsapScheduler), DataVariableProps(nothing, nothing))      DataVariable{Subject{Message{Float64},AsapScheduler,AsapScheduler},Float64}(:name_13_100, Subject(Message{Float64}, AsapScheduler), DataVariableProps(nothing, nothing))\n",
       " ⋮                                                                                                                                                                        ⋱  \n",
       " DataVariable{Subject{Message{Float64},AsapScheduler,AsapScheduler},Float64}(:name_89_1, Subject(Message{Float64}, AsapScheduler), DataVariableProps(nothing, nothing))      DataVariable{Subject{Message{Float64},AsapScheduler,AsapScheduler},Float64}(:name_89_100, Subject(Message{Float64}, AsapScheduler), DataVariableProps(nothing, nothing))\n",
       " DataVariable{Subject{Message{Float64},AsapScheduler,AsapScheduler},Float64}(:name_90_1, Subject(Message{Float64}, AsapScheduler), DataVariableProps(nothing, nothing))      DataVariable{Subject{Message{Float64},AsapScheduler,AsapScheduler},Float64}(:name_90_100, Subject(Message{Float64}, AsapScheduler), DataVariableProps(nothing, nothing))\n",
       " DataVariable{Subject{Message{Float64},AsapScheduler,AsapScheduler},Float64}(:name_91_1, Subject(Message{Float64}, AsapScheduler), DataVariableProps(nothing, nothing))   …  DataVariable{Subject{Message{Float64},AsapScheduler,AsapScheduler},Float64}(:name_91_100, Subject(Message{Float64}, AsapScheduler), DataVariableProps(nothing, nothing))\n",
       " DataVariable{Subject{Message{Float64},AsapScheduler,AsapScheduler},Float64}(:name_92_1, Subject(Message{Float64}, AsapScheduler), DataVariableProps(nothing, nothing))      DataVariable{Subject{Message{Float64},AsapScheduler,AsapScheduler},Float64}(:name_92_100, Subject(Message{Float64}, AsapScheduler), DataVariableProps(nothing, nothing))\n",
       " DataVariable{Subject{Message{Float64},AsapScheduler,AsapScheduler},Float64}(:name_93_1, Subject(Message{Float64}, AsapScheduler), DataVariableProps(nothing, nothing))      DataVariable{Subject{Message{Float64},AsapScheduler,AsapScheduler},Float64}(:name_93_100, Subject(Message{Float64}, AsapScheduler), DataVariableProps(nothing, nothing))\n",
       " DataVariable{Subject{Message{Float64},AsapScheduler,AsapScheduler},Float64}(:name_94_1, Subject(Message{Float64}, AsapScheduler), DataVariableProps(nothing, nothing))      DataVariable{Subject{Message{Float64},AsapScheduler,AsapScheduler},Float64}(:name_94_100, Subject(Message{Float64}, AsapScheduler), DataVariableProps(nothing, nothing))\n",
       " DataVariable{Subject{Message{Float64},AsapScheduler,AsapScheduler},Float64}(:name_95_1, Subject(Message{Float64}, AsapScheduler), DataVariableProps(nothing, nothing))      DataVariable{Subject{Message{Float64},AsapScheduler,AsapScheduler},Float64}(:name_95_100, Subject(Message{Float64}, AsapScheduler), DataVariableProps(nothing, nothing))\n",
       " DataVariable{Subject{Message{Float64},AsapScheduler,AsapScheduler},Float64}(:name_96_1, Subject(Message{Float64}, AsapScheduler), DataVariableProps(nothing, nothing))   …  DataVariable{Subject{Message{Float64},AsapScheduler,AsapScheduler},Float64}(:name_96_100, Subject(Message{Float64}, AsapScheduler), DataVariableProps(nothing, nothing))\n",
       " DataVariable{Subject{Message{Float64},AsapScheduler,AsapScheduler},Float64}(:name_97_1, Subject(Message{Float64}, AsapScheduler), DataVariableProps(nothing, nothing))      DataVariable{Subject{Message{Float64},AsapScheduler,AsapScheduler},Float64}(:name_97_100, Subject(Message{Float64}, AsapScheduler), DataVariableProps(nothing, nothing))\n",
       " DataVariable{Subject{Message{Float64},AsapScheduler,AsapScheduler},Float64}(:name_98_1, Subject(Message{Float64}, AsapScheduler), DataVariableProps(nothing, nothing))      DataVariable{Subject{Message{Float64},AsapScheduler,AsapScheduler},Float64}(:name_98_100, Subject(Message{Float64}, AsapScheduler), DataVariableProps(nothing, nothing))\n",
       " DataVariable{Subject{Message{Float64},AsapScheduler,AsapScheduler},Float64}(:name_99_1, Subject(Message{Float64}, AsapScheduler), DataVariableProps(nothing, nothing))      DataVariable{Subject{Message{Float64},AsapScheduler,AsapScheduler},Float64}(:name_99_100, Subject(Message{Float64}, AsapScheduler), DataVariableProps(nothing, nothing))\n",
       " DataVariable{Subject{Message{Float64},AsapScheduler,AsapScheduler},Float64}(:name_100_1, Subject(Message{Float64}, AsapScheduler), DataVariableProps(nothing, nothing))     DataVariable{Subject{Message{Float64},AsapScheduler,AsapScheduler},Float64}(:name_100_100, Subject(Message{Float64}, AsapScheduler), DataVariableProps(nothing, nothing))"
      ]
     },
     "execution_count": 108,
     "metadata": {},
     "output_type": "execute_result"
    }
   ],
   "source": [
    "@btime datavar(:name, Float64, 100, 100)"
   ]
  },
  {
   "cell_type": "code",
   "execution_count": 103,
   "metadata": {},
   "outputs": [
    {
     "name": "stdout",
     "output_type": "stream",
     "text": [
      "1\n",
      "2\n",
      "3\n",
      "4\n",
      "5\n",
      "6\n",
      "7\n",
      "8\n",
      "9\n",
      "10\n"
     ]
    }
   ],
   "source": [
    "for index in CartesianIndices(axes(ss))\n",
    "    println(join(index.I, :_))\n",
    "end"
   ]
  },
  {
   "cell_type": "code",
   "execution_count": 99,
   "metadata": {},
   "outputs": [
    {
     "data": {
      "text/plain": [
       "CartesianIndex(1,)"
      ]
     },
     "execution_count": 99,
     "metadata": {},
     "output_type": "execute_result"
    }
   ],
   "source": [
    "r = CartesianIndices(axes(ss))[1]"
   ]
  },
  {
   "cell_type": "code",
   "execution_count": 104,
   "metadata": {},
   "outputs": [
    {
     "name": "stdout",
     "output_type": "stream",
     "text": [
      "search: \u001b[0m\u001b[1mC\u001b[22m\u001b[0m\u001b[1ma\u001b[22m\u001b[0m\u001b[1mr\u001b[22m\u001b[0m\u001b[1mt\u001b[22m\u001b[0m\u001b[1me\u001b[22m\u001b[0m\u001b[1ms\u001b[22m\u001b[0m\u001b[1mi\u001b[22m\u001b[0m\u001b[1ma\u001b[22m\u001b[0m\u001b[1mn\u001b[22m\u001b[0m\u001b[1mI\u001b[22m\u001b[0m\u001b[1mn\u001b[22m\u001b[0m\u001b[1md\u001b[22m\u001b[0m\u001b[1me\u001b[22m\u001b[0m\u001b[1mx\u001b[22m \u001b[0m\u001b[1mC\u001b[22m\u001b[0m\u001b[1ma\u001b[22m\u001b[0m\u001b[1mr\u001b[22m\u001b[0m\u001b[1mt\u001b[22m\u001b[0m\u001b[1me\u001b[22m\u001b[0m\u001b[1ms\u001b[22m\u001b[0m\u001b[1mi\u001b[22m\u001b[0m\u001b[1ma\u001b[22m\u001b[0m\u001b[1mn\u001b[22m\u001b[0m\u001b[1mI\u001b[22m\u001b[0m\u001b[1mn\u001b[22m\u001b[0m\u001b[1md\u001b[22mic\u001b[0m\u001b[1me\u001b[22ms\n",
      "\n"
     ]
    },
    {
     "data": {
      "text/latex": [
       "\\begin{verbatim}\n",
       "CartesianIndex(i, j, k...)   -> I\n",
       "CartesianIndex((i, j, k...)) -> I\n",
       "\\end{verbatim}\n",
       "Create a multidimensional index \\texttt{I}, which can be used for indexing a multidimensional array \\texttt{A}.  In particular, \\texttt{A[I]} is equivalent to \\texttt{A[i,j,k...]}.  One can freely mix integer and \\texttt{CartesianIndex} indices; for example, \\texttt{A[Ipre, i, Ipost]} (where \\texttt{Ipre} and \\texttt{Ipost} are \\texttt{CartesianIndex} indices and \\texttt{i} is an \\texttt{Int}) can be a useful expression when writing algorithms that work along a single dimension of an array of arbitrary dimensionality.\n",
       "\n",
       "A \\texttt{CartesianIndex} is sometimes produced by \\href{@ref}{\\texttt{eachindex}}, and always when iterating with an explicit \\href{@ref}{\\texttt{CartesianIndices}}.\n",
       "\n",
       "\\section{Examples}\n",
       "\\begin{verbatim}\n",
       "julia> A = reshape(Vector(1:16), (2, 2, 2, 2))\n",
       "2×2×2×2 Array{Int64,4}:\n",
       "[:, :, 1, 1] =\n",
       " 1  3\n",
       " 2  4\n",
       "\n",
       "[:, :, 2, 1] =\n",
       " 5  7\n",
       " 6  8\n",
       "\n",
       "[:, :, 1, 2] =\n",
       "  9  11\n",
       " 10  12\n",
       "\n",
       "[:, :, 2, 2] =\n",
       " 13  15\n",
       " 14  16\n",
       "\n",
       "julia> A[CartesianIndex((1, 1, 1, 1))]\n",
       "1\n",
       "\n",
       "julia> A[CartesianIndex((1, 1, 1, 2))]\n",
       "9\n",
       "\n",
       "julia> A[CartesianIndex((1, 1, 2, 1))]\n",
       "5\n",
       "\\end{verbatim}\n"
      ],
      "text/markdown": [
       "```\n",
       "CartesianIndex(i, j, k...)   -> I\n",
       "CartesianIndex((i, j, k...)) -> I\n",
       "```\n",
       "\n",
       "Create a multidimensional index `I`, which can be used for indexing a multidimensional array `A`.  In particular, `A[I]` is equivalent to `A[i,j,k...]`.  One can freely mix integer and `CartesianIndex` indices; for example, `A[Ipre, i, Ipost]` (where `Ipre` and `Ipost` are `CartesianIndex` indices and `i` is an `Int`) can be a useful expression when writing algorithms that work along a single dimension of an array of arbitrary dimensionality.\n",
       "\n",
       "A `CartesianIndex` is sometimes produced by [`eachindex`](@ref), and always when iterating with an explicit [`CartesianIndices`](@ref).\n",
       "\n",
       "# Examples\n",
       "\n",
       "```jldoctest\n",
       "julia> A = reshape(Vector(1:16), (2, 2, 2, 2))\n",
       "2×2×2×2 Array{Int64,4}:\n",
       "[:, :, 1, 1] =\n",
       " 1  3\n",
       " 2  4\n",
       "\n",
       "[:, :, 2, 1] =\n",
       " 5  7\n",
       " 6  8\n",
       "\n",
       "[:, :, 1, 2] =\n",
       "  9  11\n",
       " 10  12\n",
       "\n",
       "[:, :, 2, 2] =\n",
       " 13  15\n",
       " 14  16\n",
       "\n",
       "julia> A[CartesianIndex((1, 1, 1, 1))]\n",
       "1\n",
       "\n",
       "julia> A[CartesianIndex((1, 1, 1, 2))]\n",
       "9\n",
       "\n",
       "julia> A[CartesianIndex((1, 1, 2, 1))]\n",
       "5\n",
       "```\n"
      ],
      "text/plain": [
       "\u001b[36m  CartesianIndex(i, j, k...)   -> I\u001b[39m\n",
       "\u001b[36m  CartesianIndex((i, j, k...)) -> I\u001b[39m\n",
       "\n",
       "  Create a multidimensional index \u001b[36mI\u001b[39m, which can be used for indexing a\n",
       "  multidimensional array \u001b[36mA\u001b[39m. In particular, \u001b[36mA[I]\u001b[39m is equivalent to \u001b[36mA[i,j,k...]\u001b[39m.\n",
       "  One can freely mix integer and \u001b[36mCartesianIndex\u001b[39m indices; for example, \u001b[36mA[Ipre,\n",
       "  i, Ipost]\u001b[39m (where \u001b[36mIpre\u001b[39m and \u001b[36mIpost\u001b[39m are \u001b[36mCartesianIndex\u001b[39m indices and \u001b[36mi\u001b[39m is an \u001b[36mInt\u001b[39m)\n",
       "  can be a useful expression when writing algorithms that work along a single\n",
       "  dimension of an array of arbitrary dimensionality.\n",
       "\n",
       "  A \u001b[36mCartesianIndex\u001b[39m is sometimes produced by \u001b[36meachindex\u001b[39m, and always when\n",
       "  iterating with an explicit \u001b[36mCartesianIndices\u001b[39m.\n",
       "\n",
       "\u001b[1m  Examples\u001b[22m\n",
       "\u001b[1m  ≡≡≡≡≡≡≡≡≡≡\u001b[22m\n",
       "\n",
       "\u001b[36m  julia> A = reshape(Vector(1:16), (2, 2, 2, 2))\u001b[39m\n",
       "\u001b[36m  2×2×2×2 Array{Int64,4}:\u001b[39m\n",
       "\u001b[36m  [:, :, 1, 1] =\u001b[39m\n",
       "\u001b[36m   1  3\u001b[39m\n",
       "\u001b[36m   2  4\u001b[39m\n",
       "\u001b[36m  \u001b[39m\n",
       "\u001b[36m  [:, :, 2, 1] =\u001b[39m\n",
       "\u001b[36m   5  7\u001b[39m\n",
       "\u001b[36m   6  8\u001b[39m\n",
       "\u001b[36m  \u001b[39m\n",
       "\u001b[36m  [:, :, 1, 2] =\u001b[39m\n",
       "\u001b[36m    9  11\u001b[39m\n",
       "\u001b[36m   10  12\u001b[39m\n",
       "\u001b[36m  \u001b[39m\n",
       "\u001b[36m  [:, :, 2, 2] =\u001b[39m\n",
       "\u001b[36m   13  15\u001b[39m\n",
       "\u001b[36m   14  16\u001b[39m\n",
       "\u001b[36m  \u001b[39m\n",
       "\u001b[36m  julia> A[CartesianIndex((1, 1, 1, 1))]\u001b[39m\n",
       "\u001b[36m  1\u001b[39m\n",
       "\u001b[36m  \u001b[39m\n",
       "\u001b[36m  julia> A[CartesianIndex((1, 1, 1, 2))]\u001b[39m\n",
       "\u001b[36m  9\u001b[39m\n",
       "\u001b[36m  \u001b[39m\n",
       "\u001b[36m  julia> A[CartesianIndex((1, 1, 2, 1))]\u001b[39m\n",
       "\u001b[36m  5\u001b[39m"
      ]
     },
     "execution_count": 104,
     "metadata": {},
     "output_type": "execute_result"
    }
   ],
   "source": [
    "?CartesianIndex"
   ]
  },
  {
   "cell_type": "code",
   "execution_count": 102,
   "metadata": {},
   "outputs": [
    {
     "name": "stdout",
     "output_type": "stream",
     "text": [
      "Tuple{Int64}\n",
      "  1: Int64 1\n"
     ]
    }
   ],
   "source": [
    "dump(r.I)"
   ]
  },
  {
   "cell_type": "code",
   "execution_count": 122,
   "metadata": {},
   "outputs": [
    {
     "data": {
      "text/latex": [
       "\\begin{verbatim}\n",
       "@assert cond [text]\n",
       "\\end{verbatim}\n",
       "Throw an \\href{@ref}{\\texttt{AssertionError}} if \\texttt{cond} is \\texttt{false}. Preferred syntax for writing assertions. Message \\texttt{text} is optionally displayed upon assertion failure.\n",
       "\n",
       "\\begin{quote}\n",
       "\\textbf{warning}\n",
       "\n",
       "Warning\n",
       "\n",
       "An assert might be disabled at various optimization levels. Assert should therefore only be used as a debugging tool and not used for authentication verification (e.g., verifying passwords), nor should side effects needed for the function to work correctly be used inside of asserts.\n",
       "\n",
       "\\end{quote}\n",
       "\\section{Examples}\n",
       "\\begin{verbatim}\n",
       "julia> @assert iseven(3) \"3 is an odd number!\"\n",
       "ERROR: AssertionError: 3 is an odd number!\n",
       "\n",
       "julia> @assert isodd(3) \"What even are numbers?\"\n",
       "\\end{verbatim}\n"
      ],
      "text/markdown": [
       "```\n",
       "@assert cond [text]\n",
       "```\n",
       "\n",
       "Throw an [`AssertionError`](@ref) if `cond` is `false`. Preferred syntax for writing assertions. Message `text` is optionally displayed upon assertion failure.\n",
       "\n",
       "!!! warning\n",
       "    An assert might be disabled at various optimization levels. Assert should therefore only be used as a debugging tool and not used for authentication verification (e.g., verifying passwords), nor should side effects needed for the function to work correctly be used inside of asserts.\n",
       "\n",
       "\n",
       "# Examples\n",
       "\n",
       "```jldoctest\n",
       "julia> @assert iseven(3) \"3 is an odd number!\"\n",
       "ERROR: AssertionError: 3 is an odd number!\n",
       "\n",
       "julia> @assert isodd(3) \"What even are numbers?\"\n",
       "```\n"
      ],
      "text/plain": [
       "\u001b[36m  @assert cond [text]\u001b[39m\n",
       "\n",
       "  Throw an \u001b[36mAssertionError\u001b[39m if \u001b[36mcond\u001b[39m is \u001b[36mfalse\u001b[39m. Preferred syntax for writing\n",
       "  assertions. Message \u001b[36mtext\u001b[39m is optionally displayed upon assertion failure.\n",
       "\n",
       "\u001b[33m\u001b[1m  │ \u001b[22m\u001b[39m\u001b[33m\u001b[1mWarning\u001b[22m\u001b[39m\n",
       "\u001b[33m\u001b[1m  │\u001b[22m\u001b[39m\n",
       "\u001b[33m\u001b[1m  │\u001b[22m\u001b[39m  An assert might be disabled at various optimization levels. Assert\n",
       "\u001b[33m\u001b[1m  │\u001b[22m\u001b[39m  should therefore only be used as a debugging tool and not used for\n",
       "\u001b[33m\u001b[1m  │\u001b[22m\u001b[39m  authentication verification (e.g., verifying passwords), nor\n",
       "\u001b[33m\u001b[1m  │\u001b[22m\u001b[39m  should side effects needed for the function to work correctly be\n",
       "\u001b[33m\u001b[1m  │\u001b[22m\u001b[39m  used inside of asserts.\n",
       "\n",
       "\u001b[1m  Examples\u001b[22m\n",
       "\u001b[1m  ≡≡≡≡≡≡≡≡≡≡\u001b[22m\n",
       "\n",
       "\u001b[36m  julia> @assert iseven(3) \"3 is an odd number!\"\u001b[39m\n",
       "\u001b[36m  ERROR: AssertionError: 3 is an odd number!\u001b[39m\n",
       "\u001b[36m  \u001b[39m\n",
       "\u001b[36m  julia> @assert isodd(3) \"What even are numbers?\"\u001b[39m"
      ]
     },
     "execution_count": 122,
     "metadata": {},
     "output_type": "execute_result"
    }
   ],
   "source": [
    "?@assert"
   ]
  },
  {
   "cell_type": "code",
   "execution_count": null,
   "metadata": {},
   "outputs": [],
   "source": []
  }
 ],
 "metadata": {
  "kernelspec": {
   "display_name": "Julia 1.5.2",
   "language": "julia",
   "name": "julia-1.5"
  },
  "language_info": {
   "file_extension": ".jl",
   "mimetype": "application/julia",
   "name": "julia",
   "version": "1.5.2"
  }
 },
 "nbformat": 4,
 "nbformat_minor": 4
}
