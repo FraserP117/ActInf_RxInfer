{
 "cells": [
  {
   "cell_type": "code",
   "execution_count": 1,
   "metadata": {},
   "outputs": [
    {
     "name": "stderr",
     "output_type": "stream",
     "text": [
      "┌ Info: Precompiling Rocket [df971d30-c9d6-4b37-b8ff-e965b2cb3a40]\n",
      "└ @ Base loading.jl:1278\n"
     ]
    }
   ],
   "source": [
    "using Rocket\n",
    "using BenchmarkTools"
   ]
  },
  {
   "cell_type": "code",
   "execution_count": 2,
   "metadata": {},
   "outputs": [
    {
     "data": {
      "text/plain": [
       "#9 (generic function with 1 method)"
      ]
     },
     "execution_count": 2,
     "metadata": {},
     "output_type": "execute_result"
    }
   ],
   "source": [
    "g = (x) -> ForwardDiff.gradient((x) -> det(inv(cholesky(x))), x)\n",
    "f = (x) -> ForwardDiff.gradient((x) -> det(inv(cholesky(Positive, x))), x)"
   ]
  },
  {
   "cell_type": "code",
   "execution_count": 25,
   "metadata": {},
   "outputs": [
    {
     "data": {
      "text/plain": [
       "BenchmarkTools.Trial: \n",
       "  memory estimate:  0 bytes\n",
       "  allocs estimate:  0\n",
       "  --------------\n",
       "  minimum time:     1.709 ns (0.00% GC)\n",
       "  median time:      1.777 ns (0.00% GC)\n",
       "  mean time:        1.822 ns (0.00% GC)\n",
       "  maximum time:     6.699 ns (0.00% GC)\n",
       "  --------------\n",
       "  samples:          10000\n",
       "  evals/sample:     1000"
      ]
     },
     "execution_count": 25,
     "metadata": {},
     "output_type": "execute_result"
    }
   ],
   "source": [
    "@benchmark collectLatest(s) setup=(s=[ of(1), from([ 1, 2 ]) ]) "
   ]
  },
  {
   "cell_type": "code",
   "execution_count": 26,
   "metadata": {},
   "outputs": [
    {
     "data": {
      "text/plain": [
       "CodeInfo(\n",
       "\u001b[90m1 ─\u001b[39m     return $(Expr(:static_parameter, 1))\n",
       ")"
      ]
     },
     "execution_count": 26,
     "metadata": {},
     "output_type": "execute_result"
    }
   ],
   "source": [
    "@code_lowered Rocket.union_type([ of(1), from([ 1, 2 ]) ])"
   ]
  },
  {
   "cell_type": "code",
   "execution_count": 23,
   "metadata": {},
   "outputs": [
    {
     "name": "stdout",
     "output_type": "stream",
     "text": [
      "  0.036 ns (0 allocations: 0 bytes)\n"
     ]
    },
    {
     "data": {
      "text/plain": [
       "Int64"
      ]
     },
     "execution_count": 23,
     "metadata": {},
     "output_type": "execute_result"
    }
   ],
   "source": [
    "@btime Rocket.union_type(s) setup=(s=[ of(1), of(2) ])"
   ]
  },
  {
   "cell_type": "code",
   "execution_count": 3,
   "metadata": {},
   "outputs": [
    {
     "name": "stdout",
     "output_type": "stream",
     "text": [
      "[LogActor] Data: [1, 1]\n"
     ]
    },
    {
     "data": {
      "text/plain": [
       "CollectLatestSubscription()"
      ]
     },
     "execution_count": 3,
     "metadata": {},
     "output_type": "execute_result"
    },
    {
     "name": "stdout",
     "output_type": "stream",
     "text": [
      "[LogActor] Data: [1, 2]\n",
      "[LogActor] Completed\n"
     ]
    }
   ],
   "source": [
    "collected = collectLatest([ of(1) |> async(0), from([ 1, 2 ]) |> async(0) ])\n",
    "\n",
    "subscribe!(collected, logger())"
   ]
  },
  {
   "cell_type": "code",
   "execution_count": 11,
   "metadata": {},
   "outputs": [
    {
     "name": "stdout",
     "output_type": "stream",
     "text": [
      "[LogActor] Data: (1, 1)\n"
     ]
    },
    {
     "data": {
      "text/plain": [
       "CombineLatestSubscription()"
      ]
     },
     "execution_count": 11,
     "metadata": {},
     "output_type": "execute_result"
    },
    {
     "name": "stdout",
     "output_type": "stream",
     "text": [
      "[LogActor] Data: (1, 2)\n",
      "[LogActor] Data: (1, 3)\n",
      "[LogActor] Data: (1, 4)\n",
      "[LogActor] Data: (1, 5)\n",
      "[LogActor] Completed\n"
     ]
    }
   ],
   "source": [
    "latest = combineLatest(of(1) |> async(0), from(1:5) |> async(0))\n",
    "\n",
    "subscribe!(latest, logger())"
   ]
  },
  {
   "cell_type": "code",
   "execution_count": 17,
   "metadata": {},
   "outputs": [
    {
     "name": "stdout",
     "output_type": "stream",
     "text": [
      "[LogActor] Data: Union{Float64, Int64}[5, 2.0]\n",
      "[LogActor] Completed\n"
     ]
    },
    {
     "data": {
      "text/plain": [
       "CollectLatestSubscription()"
      ]
     },
     "execution_count": 17,
     "metadata": {},
     "output_type": "execute_result"
    }
   ],
   "source": [
    "subscribe!(collectLatest([ from(1:5), of(2.0) ]), logger())"
   ]
  },
  {
   "cell_type": "code",
   "execution_count": 19,
   "metadata": {},
   "outputs": [
    {
     "data": {
      "text/latex": [
       "\\begin{verbatim}\n",
       "isdefined(m::Module, s::Symbol)\n",
       "isdefined(object, s::Symbol)\n",
       "isdefined(object, index::Int)\n",
       "\\end{verbatim}\n",
       "Tests whether a global variable or object field is defined. The arguments can be a module and a symbol or a composite object and field name (as a symbol) or index.\n",
       "\n",
       "To test whether an array element is defined, use \\href{@ref}{\\texttt{isassigned}} instead.\n",
       "\n",
       "See also \\href{@ref}{\\texttt{@isdefined}}.\n",
       "\n",
       "\\section{Examples}\n",
       "\\begin{verbatim}\n",
       "julia> isdefined(Base, :sum)\n",
       "true\n",
       "\n",
       "julia> isdefined(Base, :NonExistentMethod)\n",
       "false\n",
       "\n",
       "julia> a = 1//2;\n",
       "\n",
       "julia> isdefined(a, 2)\n",
       "true\n",
       "\n",
       "julia> isdefined(a, 3)\n",
       "false\n",
       "\n",
       "julia> isdefined(a, :num)\n",
       "true\n",
       "\n",
       "julia> isdefined(a, :numerator)\n",
       "false\n",
       "\\end{verbatim}\n"
      ],
      "text/markdown": [
       "```\n",
       "isdefined(m::Module, s::Symbol)\n",
       "isdefined(object, s::Symbol)\n",
       "isdefined(object, index::Int)\n",
       "```\n",
       "\n",
       "Tests whether a global variable or object field is defined. The arguments can be a module and a symbol or a composite object and field name (as a symbol) or index.\n",
       "\n",
       "To test whether an array element is defined, use [`isassigned`](@ref) instead.\n",
       "\n",
       "See also [`@isdefined`](@ref).\n",
       "\n",
       "# Examples\n",
       "\n",
       "```jldoctest\n",
       "julia> isdefined(Base, :sum)\n",
       "true\n",
       "\n",
       "julia> isdefined(Base, :NonExistentMethod)\n",
       "false\n",
       "\n",
       "julia> a = 1//2;\n",
       "\n",
       "julia> isdefined(a, 2)\n",
       "true\n",
       "\n",
       "julia> isdefined(a, 3)\n",
       "false\n",
       "\n",
       "julia> isdefined(a, :num)\n",
       "true\n",
       "\n",
       "julia> isdefined(a, :numerator)\n",
       "false\n",
       "```\n"
      ],
      "text/plain": [
       "\u001b[36m  isdefined(m::Module, s::Symbol)\u001b[39m\n",
       "\u001b[36m  isdefined(object, s::Symbol)\u001b[39m\n",
       "\u001b[36m  isdefined(object, index::Int)\u001b[39m\n",
       "\n",
       "  Tests whether a global variable or object field is defined. The arguments\n",
       "  can be a module and a symbol or a composite object and field name (as a\n",
       "  symbol) or index.\n",
       "\n",
       "  To test whether an array element is defined, use \u001b[36misassigned\u001b[39m instead.\n",
       "\n",
       "  See also \u001b[36m@isdefined\u001b[39m.\n",
       "\n",
       "\u001b[1m  Examples\u001b[22m\n",
       "\u001b[1m  ≡≡≡≡≡≡≡≡≡≡\u001b[22m\n",
       "\n",
       "\u001b[36m  julia> isdefined(Base, :sum)\u001b[39m\n",
       "\u001b[36m  true\u001b[39m\n",
       "\u001b[36m  \u001b[39m\n",
       "\u001b[36m  julia> isdefined(Base, :NonExistentMethod)\u001b[39m\n",
       "\u001b[36m  false\u001b[39m\n",
       "\u001b[36m  \u001b[39m\n",
       "\u001b[36m  julia> a = 1//2;\u001b[39m\n",
       "\u001b[36m  \u001b[39m\n",
       "\u001b[36m  julia> isdefined(a, 2)\u001b[39m\n",
       "\u001b[36m  true\u001b[39m\n",
       "\u001b[36m  \u001b[39m\n",
       "\u001b[36m  julia> isdefined(a, 3)\u001b[39m\n",
       "\u001b[36m  false\u001b[39m\n",
       "\u001b[36m  \u001b[39m\n",
       "\u001b[36m  julia> isdefined(a, :num)\u001b[39m\n",
       "\u001b[36m  true\u001b[39m\n",
       "\u001b[36m  \u001b[39m\n",
       "\u001b[36m  julia> isdefined(a, :numerator)\u001b[39m\n",
       "\u001b[36m  false\u001b[39m"
      ]
     },
     "execution_count": 19,
     "metadata": {},
     "output_type": "execute_result"
    }
   ],
   "source": [
    "?isdefined(r, 1)"
   ]
  },
  {
   "cell_type": "code",
   "execution_count": 32,
   "metadata": {},
   "outputs": [
    {
     "ename": "LoadError",
     "evalue": "Actor of type LoggerActor{Array{Int64,1},Nothing} expects data to be of type Array{Int64,1}, but data of type Int64 has been found.",
     "output_type": "error",
     "traceback": [
      "Actor of type LoggerActor{Array{Int64,1},Nothing} expects data to be of type Array{Int64,1}, but data of type Int64 has been found.",
      "",
      "Stacktrace:",
      " [1] next!(::LoggerActor{Array{Int64,1},Nothing}, ::Int64) at /Users/bvdmitri/.julia/dev/Rocket/src/actor.jl:208",
      " [2] next_received!(::Rocket.CollectLatestObservableWrapper{Int64,LoggerActor{Array{Int64,1},Nothing},typeof(sum)}, ::Int64, ::Int64) at /Users/bvdmitri/.julia/dev/Rocket/src/observable/collected.jl:100",
      " [3] on_next! at /Users/bvdmitri/.julia/dev/Rocket/src/observable/collected.jl:44 [inlined]",
      " [4] scheduled_next! at /Users/bvdmitri/.julia/dev/Rocket/src/schedulers/asap.jl:23 [inlined]",
      " [5] next! at /Users/bvdmitri/.julia/dev/Rocket/src/actor.jl:207 [inlined]",
      " [6] on_subscribe!(::ArrayObservable{Int64,AsapScheduler}, ::Rocket.CollectLatestObservableInnerActor{Int64,Rocket.CollectLatestObservableWrapper{Int64,LoggerActor{Array{Int64,1},Nothing},typeof(sum)}}, ::AsapScheduler) at /Users/bvdmitri/.julia/dev/Rocket/src/observable/array.jl:45",
      " [7] scheduled_subscription! at /Users/bvdmitri/.julia/dev/Rocket/src/schedulers/asap.jl:21 [inlined]",
      " [8] subscribe!(::ArrayObservable{Int64,AsapScheduler}, ::Rocket.CollectLatestObservableInnerActor{Int64,Rocket.CollectLatestObservableWrapper{Int64,LoggerActor{Array{Int64,1},Nothing},typeof(sum)}}) at /Users/bvdmitri/.julia/dev/Rocket/src/subscribable.jl:180",
      " [9] on_subscribe!(::Rocket.CollectLatestObservable{Int64,Array{ScheduledSubscribable{Int64},1},Array{Int64,1},typeof(sum)}, ::LoggerActor{Array{Int64,1},Nothing}) at /Users/bvdmitri/.julia/dev/Rocket/src/observable/collected.jl:134",
      " [10] subscribe! at /Users/bvdmitri/.julia/dev/Rocket/src/subscribable.jl:179 [inlined]",
      " [11] check_on_subscribe_with_factory! at /Users/bvdmitri/.julia/dev/Rocket/src/subscribable.jl:211 [inlined]",
      " [12] subscribe!(::Rocket.CollectLatestObservable{Int64,Array{ScheduledSubscribable{Int64},1},Array{Int64,1},typeof(sum)}, ::Rocket.LoggerActorFactory{Nothing}) at /Users/bvdmitri/.julia/dev/Rocket/src/subscribable.jl:207",
      " [13] top-level scope at In[32]:3",
      " [14] include_string(::Function, ::Module, ::String, ::String) at ./loading.jl:1091"
     ]
    }
   ],
   "source": [
    "collected = collectLatest([ of(1), from([ 1, 2 ]) ], sum)\n",
    "\n",
    "subscribe!(collected, logger())"
   ]
  },
  {
   "cell_type": "code",
   "execution_count": 41,
   "metadata": {},
   "outputs": [],
   "source": []
  },
  {
   "cell_type": "code",
   "execution_count": 43,
   "metadata": {},
   "outputs": [
    {
     "data": {
      "text/plain": [
       "foo (generic function with 1 method)"
      ]
     },
     "execution_count": 43,
     "metadata": {},
     "output_type": "execute_result"
    }
   ],
   "source": [
    "function foo(x)\n",
    "    @show typeof(sign(x))\n",
    "    return sign(x)\n",
    "end"
   ]
  },
  {
   "cell_type": "code",
   "execution_count": 49,
   "metadata": {},
   "outputs": [
    {
     "name": "stdout",
     "output_type": "stream",
     "text": [
      "typeof(sign(x)) = ForwardDiff.Dual{ForwardDiff.Tag{typeof(foo),Float64},Float64,1}\n"
     ]
    },
    {
     "data": {
      "text/plain": [
       "1.0"
      ]
     },
     "execution_count": 49,
     "metadata": {},
     "output_type": "execute_result"
    }
   ],
   "source": [
    "ForwardDiff.derivative(foo, 0.0)"
   ]
  },
  {
   "cell_type": "code",
   "execution_count": null,
   "metadata": {},
   "outputs": [],
   "source": []
  },
  {
   "cell_type": "code",
   "execution_count": null,
   "metadata": {},
   "outputs": [],
   "source": []
  }
 ],
 "metadata": {
  "kernelspec": {
   "display_name": "Julia 1.5.3",
   "language": "julia",
   "name": "julia-1.5"
  },
  "language_info": {
   "file_extension": ".jl",
   "mimetype": "application/julia",
   "name": "julia",
   "version": "1.5.3"
  }
 },
 "nbformat": 4,
 "nbformat_minor": 4
}
