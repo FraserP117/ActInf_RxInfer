{
 "cells": [
  {
   "cell_type": "code",
   "execution_count": 18,
   "metadata": {},
   "outputs": [],
   "source": [
    "using Rocket\n",
    "using DataStructures"
   ]
  },
  {
   "cell_type": "code",
   "execution_count": 19,
   "metadata": {},
   "outputs": [
    {
     "data": {
      "text/plain": [
       "Rocket.PostponedSubscription(PostponeScheduler(), Rocket.PostponedSubscriptionProps(false, false, VoidTeardown()))"
      ]
     },
     "execution_count": 19,
     "metadata": {},
     "output_type": "execute_result"
    }
   ],
   "source": [
    "scheduler = PostponeScheduler()\n",
    "\n",
    "source = of(1) |> schedule_on(scheduler)\n",
    "\n",
    "subscription = subscribe!(source, logger())"
   ]
  },
  {
   "cell_type": "code",
   "execution_count": 21,
   "metadata": {},
   "outputs": [
    {
     "name": "stdout",
     "output_type": "stream",
     "text": [
      "[LogActor] Data: 1\n",
      "[LogActor] Completed\n"
     ]
    }
   ],
   "source": [
    "release!(scheduler)"
   ]
  },
  {
   "cell_type": "code",
   "execution_count": 17,
   "metadata": {},
   "outputs": [
    {
     "name": "stdout",
     "output_type": "stream",
     "text": [
      "[LogActor] Data: 1\n",
      "[LogActor] Completed\n"
     ]
    }
   ],
   "source": [
    "wait(scheduler)"
   ]
  },
  {
   "cell_type": "code",
   "execution_count": 18,
   "metadata": {},
   "outputs": [
    {
     "data": {
      "text/plain": [
       "Queue{Any}(Deque [Any[]])"
      ]
     },
     "execution_count": 18,
     "metadata": {},
     "output_type": "execute_result"
    }
   ],
   "source": [
    "q2 = Queue{Any}(q.store)"
   ]
  },
  {
   "cell_type": "code",
   "execution_count": 32,
   "metadata": {},
   "outputs": [
    {
     "name": "stdout",
     "output_type": "stream",
     "text": [
      "Deque{Any}\n",
      "  nblocks: Int64 1\n",
      "  blksize: Int64 1024\n",
      "  len: Int64 0\n",
      "  head: DataStructures.DequeBlock{Any}\n",
      "    data: Array{Any}((1024,))\n",
      "      1: Int64 1\n",
      "      2: Int64 2\n",
      "      3: #undef\n",
      "      4: #undef\n",
      "      5: #undef\n",
      "      ...\n",
      "      1020: #undef\n",
      "      1021: #undef\n",
      "      1022: #undef\n",
      "      1023: #undef\n",
      "      1024: #undef\n",
      "    capa: Int64 1024\n",
      "    front: Int64 1\n",
      "    back: Int64 0\n",
      "    prev: DataStructures.DequeBlock{Any}#= circular reference @-1 =#\n",
      "    next: DataStructures.DequeBlock{Any}#= circular reference @-1 =#\n",
      "  rear: DataStructures.DequeBlock{Any}\n",
      "    data: Array{Any}((1024,))\n",
      "      1: Int64 1\n",
      "      2: Int64 2\n",
      "      3: #undef\n",
      "      4: #undef\n",
      "      5: #undef\n",
      "      ...\n",
      "      1020: #undef\n",
      "      1021: #undef\n",
      "      1022: #undef\n",
      "      1023: #undef\n",
      "      1024: #undef\n",
      "    capa: Int64 1024\n",
      "    front: Int64 1\n",
      "    back: Int64 0\n",
      "    prev: DataStructures.DequeBlock{Any}#= circular reference @-1 =#\n",
      "    next: DataStructures.DequeBlock{Any}#= circular reference @-1 =#\n"
     ]
    }
   ],
   "source": [
    "dump(q.store)"
   ]
  },
  {
   "cell_type": "code",
   "execution_count": null,
   "metadata": {},
   "outputs": [],
   "source": []
  }
 ],
 "metadata": {
  "kernelspec": {
   "display_name": "Julia 1.5.3",
   "language": "julia",
   "name": "julia-1.5"
  },
  "language_info": {
   "file_extension": ".jl",
   "mimetype": "application/julia",
   "name": "julia",
   "version": "1.5.3"
  }
 },
 "nbformat": 4,
 "nbformat_minor": 4
}
