{
 "cells": [
  {
   "cell_type": "code",
   "execution_count": 1,
   "metadata": {},
   "outputs": [
    {
     "name": "stderr",
     "output_type": "stream",
     "text": [
      "┌ Info: Precompiling ReactiveMP [a194aa59-28ba-4574-a09c-4a745416d6e3]\n",
      "└ @ Base loading.jl:1278\n",
      "┌ Warning: Package ReactiveMP does not have Rocket in its dependencies:\n",
      "│ - If you have ReactiveMP checked out for development and have\n",
      "│   added Rocket as a dependency but haven't updated your primary\n",
      "│   environment's manifest file, try `Pkg.resolve()`.\n",
      "│ - Otherwise you may need to report an issue with ReactiveMP\n",
      "└ Loading Rocket into ReactiveMP from project dependency, future warnings for ReactiveMP are suppressed.\n",
      "┌ Info: Precompiling GraphPPL [b3f8163a-e979-4e85-b43e-1f63d8c8b42c]\n",
      "└ @ Base loading.jl:1278\n",
      "┌ Warning: Package GraphPPL does not have ReactiveMP in its dependencies:\n",
      "│ - If you have GraphPPL checked out for development and have\n",
      "│   added ReactiveMP as a dependency but haven't updated your primary\n",
      "│   environment's manifest file, try `Pkg.resolve()`.\n",
      "│ - Otherwise you may need to report an issue with GraphPPL\n",
      "└ Loading ReactiveMP into GraphPPL from project dependency, future warnings for GraphPPL are suppressed.\n"
     ]
    }
   ],
   "source": [
    "using Rocket\n",
    "using MacroTools\n",
    "using ReactiveMP\n",
    "using GraphPPL\n",
    "using BenchmarkTools\n",
    "using Distributions"
   ]
  },
  {
   "cell_type": "code",
   "execution_count": 65,
   "metadata": {},
   "outputs": [
    {
     "data": {
      "text/plain": [
       "true"
      ]
     },
     "execution_count": 65,
     "metadata": {},
     "output_type": "execute_result"
    }
   ],
   "source": [
    "@capture(:(s = r(;)), lhs_ = rhs_)"
   ]
  },
  {
   "cell_type": "code",
   "execution_count": 67,
   "metadata": {},
   "outputs": [
    {
     "name": "stdout",
     "output_type": "stream",
     "text": [
      "Expr\n",
      "  head: Symbol call\n",
      "  args: Array{Any}((2,))\n",
      "    1: Symbol r\n",
      "    2: Expr\n",
      "      head: Symbol parameters\n",
      "      args: Array{Any}((0,))\n"
     ]
    }
   ],
   "source": [
    "dump(rhs)"
   ]
  },
  {
   "cell_type": "code",
   "execution_count": 6,
   "metadata": {},
   "outputs": [
    {
     "ename": "LoadError",
     "evalue": "syntax: invalid syntax ; ",
     "output_type": "error",
     "traceback": [
      "syntax: invalid syntax ; ",
      "",
      "Stacktrace:",
      " [1] top-level scope at In[6]:1",
      " [2] include_string(::Function, ::Module, ::String, ::String) at ./loading.jl:1091",
      " [3] execute_code(::String, ::String) at /Users/bvdmitri/.julia/packages/IJulia/a1SNk/src/execute_request.jl:27",
      " [4] execute_request(::ZMQ.Socket, ::IJulia.Msg) at /Users/bvdmitri/.julia/packages/IJulia/a1SNk/src/execute_request.jl:86",
      " [5] #invokelatest#1 at ./essentials.jl:710 [inlined]",
      " [6] invokelatest at ./essentials.jl:709 [inlined]",
      " [7] eventloop(::ZMQ.Socket) at /Users/bvdmitri/.julia/packages/IJulia/a1SNk/src/eventloop.jl:8",
      " [8] (::IJulia.var\"#15#18\")() at ./task.jl:356"
     ]
    }
   ],
   "source": [
    "@model function coin_model()\n",
    "    \n",
    "    for i in 1:10 \n",
    "        θ ~ Beta(1, 1) + 1\n",
    "    end\n",
    "    \n",
    "    return 1\n",
    "end"
   ]
  },
  {
   "cell_type": "code",
   "execution_count": 12,
   "metadata": {},
   "outputs": [
    {
     "ename": "LoadError",
     "evalue": "syntax: invalid syntax ; q = MeanField()",
     "output_type": "error",
     "traceback": [
      "syntax: invalid syntax ; q = MeanField()",
      "",
      "Stacktrace:",
      " [1] top-level scope at In[12]:1",
      " [2] include_string(::Function, ::Module, ::String, ::String) at ./loading.jl:1091",
      " [3] execute_code(::String, ::String) at /Users/bvdmitri/.julia/packages/IJulia/a1SNk/src/execute_request.jl:27",
      " [4] execute_request(::ZMQ.Socket, ::IJulia.Msg) at /Users/bvdmitri/.julia/packages/IJulia/a1SNk/src/execute_request.jl:86",
      " [5] #invokelatest#1 at ./essentials.jl:710 [inlined]",
      " [6] invokelatest at ./essentials.jl:709 [inlined]",
      " [7] eventloop(::ZMQ.Socket) at /Users/bvdmitri/.julia/packages/IJulia/a1SNk/src/eventloop.jl:8",
      " [8] (::IJulia.var\"#15#18\")() at ./task.jl:356"
     ]
    }
   ],
   "source": [
    "@model function coin_model()\n",
    "    \n",
    "    for i in 1:10 \n",
    "        θ ~ (Beta(1, 1) where { q = MeanField() }) + 1\n",
    "    end\n",
    "    \n",
    "    return 1\n",
    "end"
   ]
  },
  {
   "cell_type": "code",
   "execution_count": 14,
   "metadata": {},
   "outputs": [
    {
     "data": {
      "text/plain": [
       ":(function coin_model(; options = NamedTuple{()}(()))\n",
       "      snake = Model(options)\n",
       "      for i = 1:10\n",
       "          (pigeon, θ) = ReactiveMP.make_node(snake, +, ReactiveMP.AutoVar(:θ), ReactiveMP.as_variable(snake, Symbol(\"##arg#325\"), begin\n",
       "                          (okapi, goldfinch) = ReactiveMP.make_node(snake, Beta, ReactiveMP.AutoVar(Symbol(\"##nvar#321\")), ReactiveMP.as_variable(snake, Symbol(\"##arg#323\"), 1), ReactiveMP.as_variable(snake, Symbol(\"##arg#324\"), 1); $(Expr(:(=), :factorisation, :(MeanField()))))\n",
       "                          goldfinch\n",
       "                      end), ReactiveMP.as_variable(snake, Symbol(\"##arg#326\"), 1); )\n",
       "      end\n",
       "      activate!(snake)\n",
       "      return (snake, 1)\n",
       "      error(\"'return' statement is missing\")\n",
       "  end)"
      ]
     },
     "execution_count": 14,
     "metadata": {},
     "output_type": "execute_result"
    }
   ],
   "source": [
    "MacroTools.prettify(@macroexpand @model function coin_model()\n",
    "    \n",
    "    for i in 1:10 \n",
    "        θ ~ (Beta(1, 1) where { q = MeanField() }) + 1\n",
    "    end\n",
    "    \n",
    "    return 1\n",
    "end)"
   ]
  },
  {
   "cell_type": "code",
   "execution_count": 47,
   "metadata": {},
   "outputs": [
    {
     "ename": "LoadError",
     "evalue": "syntax: \"$\" expression outside quote around In[47]:3",
     "output_type": "error",
     "traceback": [
      "syntax: \"$\" expression outside quote around In[47]:3",
      "",
      "Stacktrace:",
      " [1] top-level scope at In[47]:1",
      " [2] include_string(::Function, ::Module, ::String, ::String) at ./loading.jl:1091",
      " [3] execute_code(::String, ::String) at /Users/bvdmitri/.julia/packages/IJulia/a1SNk/src/execute_request.jl:27",
      " [4] execute_request(::ZMQ.Socket, ::IJulia.Msg) at /Users/bvdmitri/.julia/packages/IJulia/a1SNk/src/execute_request.jl:86",
      " [5] #invokelatest#1 at ./essentials.jl:710 [inlined]",
      " [6] invokelatest at ./essentials.jl:709 [inlined]",
      " [7] eventloop(::ZMQ.Socket) at /Users/bvdmitri/.julia/packages/IJulia/a1SNk/src/eventloop.jl:8",
      " [8] (::IJulia.var\"#15#18\")() at ./task.jl:356"
     ]
    }
   ],
   "source": [
    "function coin_model(; options = NamedTuple{()}(()))\n",
    "      bee = Model(options)\n",
    "      (camel, θ) = ReactiveMP.make_node(bee, Beta, ReactiveMP.AutoVar(:θ), ReactiveMP.as_variable(bee, Symbol(\"##arg#367\"), $(Expr(:parameters))), ReactiveMP.as_variable(bee, Symbol(\"##arg#368\"), 1), ReactiveMP.as_variable(bee, Symbol(\"##arg#369\"), 1); )\n",
    "      activate!(bee)\n",
    "      return (bee, 1)\n",
    "      error(\"'return' statement is missing\")\n",
    "  end"
   ]
  },
  {
   "cell_type": "code",
   "execution_count": null,
   "metadata": {},
   "outputs": [],
   "source": []
  },
  {
   "cell_type": "code",
   "execution_count": 37,
   "metadata": {},
   "outputs": [
    {
     "data": {
      "text/plain": [
       "(nothing, DataVariable{Any,ProxyObservable{Message,Rocket.CombineLatestObservable{Tuple{Any},Tuple{ProxyObservable{Any,Subject{Message{Dirac{Float64}},AsapScheduler,AsapScheduler},Rocket.MapProxy{Message{Dirac{Float64}},typeof(getdata)}}},PushNew},Rocket.MapProxy{Tuple{Any},ReactiveMP.var\"#401#403\"{typeof(sqrt)}}}}(Symbol(\"##nvar#264\"), ProxyObservable(Message, MapProxy(Tuple{Any})), ReactiveMP.DataVariableProps(0)))"
      ]
     },
     "execution_count": 37,
     "metadata": {},
     "output_type": "execute_result"
    }
   ],
   "source": [
    "model = Model()\n",
    "a = datavar(:a, Dirac{Float64})\n",
    "node, var = ReactiveMP.make_node(model, sqrt, ReactiveMP.AutoVar(Symbol(\"##nvar#264\")), ReactiveMP.as_variable(model, Symbol(\"##arg#267\"), a); )"
   ]
  },
  {
   "cell_type": "code",
   "execution_count": 38,
   "metadata": {},
   "outputs": [
    {
     "ename": "LoadError",
     "evalue": "Unknown functional form 'sqrt' used for node specification.",
     "output_type": "error",
     "traceback": [
      "Unknown functional form 'sqrt' used for node specification.",
      "",
      "Stacktrace:",
      " [1] error(::String) at ./error.jl:33",
      " [2] make_node(::Function, ::AutoVar, ::DataVariable{Dirac{Float64},Subject{Message{Dirac{Float64}},AsapScheduler,AsapScheduler}}, ::Vararg{AbstractVariable,N} where N; kwargs::Base.Iterators.Pairs{Symbol,FullFactorisation,Tuple{Symbol},NamedTuple{(:factorisation,),Tuple{FullFactorisation}}}) at /Users/bvdmitri/.julia/dev/ReactiveMP/src/node.jl:485",
      " [3] make_node(::Model{ModelOptions{DiscontinueStreamPortal,FullFactorisation}}, ::Function, ::Vararg{Any,N} where N; factorisation::FullFactorisation, kwargs::Base.Iterators.Pairs{Union{},Union{},Tuple{},NamedTuple{(),Tuple{}}}) at /Users/bvdmitri/.julia/dev/ReactiveMP/src/model.jl:110",
      " [4] make_node(::Model{ModelOptions{DiscontinueStreamPortal,FullFactorisation}}, ::Function, ::AutoVar, ::DataVariable{Dirac{Float64},Subject{Message{Dirac{Float64}},AsapScheduler,AsapScheduler}}, ::ConstVariable{Dirac{Int64},SingleObservable{Message{Dirac{Int64}},AsapScheduler}}) at /Users/bvdmitri/.julia/dev/ReactiveMP/src/model.jl:110",
      " [5] macro expansion at ./In[36]:7 [inlined]",
      " [6] coin_model(; options::NamedTuple{(:default_factorisation,),Tuple{FullFactorisation}}) at /Users/bvdmitri/.julia/dev/GraphPPL.jl/src/GraphPPL.jl:244",
      " [7] top-level scope at In[38]:1",
      " [8] include_string(::Function, ::Module, ::String, ::String) at ./loading.jl:1091",
      " [9] execute_code(::String, ::String) at /Users/bvdmitri/.julia/packages/IJulia/a1SNk/src/execute_request.jl:27",
      " [10] execute_request(::ZMQ.Socket, ::IJulia.Msg) at /Users/bvdmitri/.julia/packages/IJulia/a1SNk/src/execute_request.jl:86",
      " [11] #invokelatest#1 at ./essentials.jl:710 [inlined]",
      " [12] invokelatest at ./essentials.jl:709 [inlined]",
      " [13] eventloop(::ZMQ.Socket) at /Users/bvdmitri/.julia/packages/IJulia/a1SNk/src/eventloop.jl:8",
      " [14] (::IJulia.var\"#15#18\")() at ./task.jl:356"
     ]
    }
   ],
   "source": [
    "model, (y, a, b, θ) = coin_model(options = (default_factorisation = FullFactorisation(), ));"
   ]
  },
  {
   "cell_type": "code",
   "execution_count": 17,
   "metadata": {},
   "outputs": [
    {
     "data": {
      "text/plain": [
       "Dict{Symbol,DataVariable} with 4 entries:\n",
       "  :a                   => DataVariable{Dirac{Float64},Subject{Message{Dirac{Flo…\n",
       "  :b                   => DataVariable{Dirac{Float64},Subject{Message{Dirac{Flo…\n",
       "  :y                   => DataVariable{Dirac{Float64},Subject{Message{Dirac{Flo…\n",
       "  Symbol(\"##nvar#275\") => DataVariable{Any,ProxyObservable{Message,CombineLates…"
      ]
     },
     "execution_count": 17,
     "metadata": {},
     "output_type": "execute_result"
    }
   ],
   "source": [
    "getdata(model)"
   ]
  },
  {
   "cell_type": "code",
   "execution_count": 26,
   "metadata": {},
   "outputs": [
    {
     "data": {
      "text/plain": [
       "1-element Array{Any,1}:\n",
       " Float64"
      ]
     },
     "execution_count": 26,
     "metadata": {},
     "output_type": "execute_result"
    }
   ],
   "source": [
    "Base.return_types(sqrt, (Float64, ))"
   ]
  },
  {
   "cell_type": "code",
   "execution_count": 11,
   "metadata": {},
   "outputs": [
    {
     "data": {
      "text/plain": [
       "ModelOptions{DefaultMessageGate,DiscontinueStreamTransformer,FullFactorisation}(DefaultMessageGate(), DiscontinueStreamTransformer(), FullFactorisation())"
      ]
     },
     "execution_count": 11,
     "metadata": {},
     "output_type": "execute_result"
    }
   ],
   "source": [
    "model_options(NamedTuple{()}(()))"
   ]
  },
  {
   "cell_type": "code",
   "execution_count": 26,
   "metadata": {},
   "outputs": [],
   "source": [
    "using MacroTools"
   ]
  },
  {
   "cell_type": "code",
   "execution_count": 29,
   "metadata": {},
   "outputs": [
    {
     "data": {
      "text/plain": [
       "false"
      ]
     },
     "execution_count": 29,
     "metadata": {},
     "output_type": "execute_result"
    }
   ],
   "source": [
    "@capture(:(a[1]), a_Symbol)"
   ]
  },
  {
   "cell_type": "code",
   "execution_count": 1,
   "metadata": {},
   "outputs": [],
   "source": [
    "import MacroTools: @capture"
   ]
  },
  {
   "cell_type": "code",
   "execution_count": 7,
   "metadata": {},
   "outputs": [
    {
     "ename": "LoadError",
     "evalue": "UndefVarError: MacroTools not defined",
     "output_type": "error",
     "traceback": [
      "UndefVarError: MacroTools not defined",
      "",
      "Stacktrace:",
      " [1] top-level scope at /Users/bvdmitri/.julia/packages/MacroTools/gME9C/src/match/macro.jl:72",
      " [2] include_string(::Function, ::Module, ::String, ::String) at ./loading.jl:1091",
      " [3] execute_code(::String, ::String) at /Users/bvdmitri/.julia/packages/IJulia/a1SNk/src/execute_request.jl:27",
      " [4] execute_request(::ZMQ.Socket, ::IJulia.Msg) at /Users/bvdmitri/.julia/packages/IJulia/a1SNk/src/execute_request.jl:86",
      " [5] #invokelatest#1 at ./essentials.jl:710 [inlined]",
      " [6] invokelatest at ./essentials.jl:709 [inlined]",
      " [7] eventloop(::ZMQ.Socket) at /Users/bvdmitri/.julia/packages/IJulia/a1SNk/src/eventloop.jl:8",
      " [8] (::IJulia.var\"#15#18\")() at ./task.jl:356"
     ]
    }
   ],
   "source": [
    "@capture(:(a), s_Symbol)"
   ]
  },
  {
   "cell_type": "code",
   "execution_count": null,
   "metadata": {},
   "outputs": [],
   "source": []
  }
 ],
 "metadata": {
  "kernelspec": {
   "display_name": "Julia 1.5.3",
   "language": "julia",
   "name": "julia-1.5"
  },
  "language_info": {
   "file_extension": ".jl",
   "mimetype": "application/julia",
   "name": "julia",
   "version": "1.5.3"
  }
 },
 "nbformat": 4,
 "nbformat_minor": 4
}
