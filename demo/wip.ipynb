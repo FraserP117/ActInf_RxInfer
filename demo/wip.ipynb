{
 "cells": [
  {
   "cell_type": "code",
   "execution_count": 19,
   "metadata": {},
   "outputs": [],
   "source": [
    "using Rocket\n",
    "using MacroTools\n",
    "using ReactiveMP\n",
    "using GraphPPL\n",
    "using BenchmarkTools\n",
    "using Distributions"
   ]
  },
  {
   "cell_type": "code",
   "execution_count": 33,
   "metadata": {},
   "outputs": [
    {
     "data": {
      "text/plain": [
       "coin_model (generic function with 3 methods)"
      ]
     },
     "execution_count": 33,
     "metadata": {},
     "output_type": "execute_result"
    }
   ],
   "source": [
    "@model function coin_model(rr::Int, ll::Int)\n",
    "    a = datavar(Float64)\n",
    "    b = datavar(Float64)\n",
    "    y = datavar(Float64)\n",
    "    \n",
    "    θ ~ Beta(a, b)\n",
    "    y ~ Bernoulli(θ)\n",
    "    \n",
    "    return y, a, b, θ\n",
    "end"
   ]
  },
  {
   "cell_type": "code",
   "execution_count": 35,
   "metadata": {},
   "outputs": [
    {
     "data": {
      "text/plain": [
       "(Model(), (DataVariable{Subject{Message{Dirac{Float64}},AsapScheduler,AsapScheduler},Dirac{Float64}}(:y, Subject(Message{Dirac{Float64}}, AsapScheduler), ReactiveMP.DataVariableProps(1)), DataVariable{Subject{Message{Dirac{Float64}},AsapScheduler,AsapScheduler},Dirac{Float64}}(:a, Subject(Message{Dirac{Float64}}, AsapScheduler), ReactiveMP.DataVariableProps(1)), DataVariable{Subject{Message{Dirac{Float64}},AsapScheduler,AsapScheduler},Dirac{Float64}}(:b, Subject(Message{Dirac{Float64}}, AsapScheduler), ReactiveMP.DataVariableProps(1)), RandomVariable(:θ, Union{Nothing, LazyObservable{Message}}[LazyObservable(Message), LazyObservable(Message)], ReactiveMP.RandomVariableProps(nothing))))"
      ]
     },
     "execution_count": 35,
     "metadata": {},
     "output_type": "execute_result"
    }
   ],
   "source": [
    "coin_model(3, 2)"
   ]
  },
  {
   "cell_type": "code",
   "execution_count": null,
   "metadata": {},
   "outputs": [],
   "source": []
  }
 ],
 "metadata": {
  "kernelspec": {
   "display_name": "Julia 1.5.3",
   "language": "julia",
   "name": "julia-1.5"
  },
  "language_info": {
   "file_extension": ".jl",
   "mimetype": "application/julia",
   "name": "julia",
   "version": "1.5.3"
  }
 },
 "nbformat": 4,
 "nbformat_minor": 4
}
