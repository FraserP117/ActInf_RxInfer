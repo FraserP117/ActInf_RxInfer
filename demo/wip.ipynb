{
 "cells": [
  {
   "cell_type": "code",
   "execution_count": 53,
   "metadata": {},
   "outputs": [],
   "source": [
    "using Rocket\n",
    "using ReactiveMP\n",
    "using GraphPPL\n",
    "using MacroTools"
   ]
  },
  {
   "cell_type": "code",
   "execution_count": 26,
   "metadata": {},
   "outputs": [
    {
     "data": {
      "text/plain": [
       "foo3 (generic function with 2 methods)"
      ]
     },
     "execution_count": 26,
     "metadata": {},
     "output_type": "execute_result"
    }
   ],
   "source": [
    "function foo3(args::Vararg{ <: Union{ <: ConstVariable{ <: Dirac }, <: DataVariable{ <: Any, <: Dirac } } })\n",
    "    return 2\n",
    "end"
   ]
  },
  {
   "cell_type": "code",
   "execution_count": 27,
   "metadata": {},
   "outputs": [
    {
     "data": {
      "text/plain": [
       "2"
      ]
     },
     "execution_count": 27,
     "metadata": {},
     "output_type": "execute_result"
    }
   ],
   "source": [
    "c1 = constvar(:name, 1)\n",
    "c2 = constvar(:name, 1.0)\n",
    "d1 = datavar(:n, Dirac{Float64})\n",
    "d2 = datavar(:n, Dirac{Int})\n",
    "\n",
    "foo3(c1, c2, d1, d2)"
   ]
  },
  {
   "cell_type": "code",
   "execution_count": 56,
   "metadata": {},
   "outputs": [
    {
     "name": "stderr",
     "output_type": "stream",
     "text": [
      "┌ Error: Failed to revise /Users/bvdmitri/.julia/dev/ReactiveMP/src/nodes/normal_mean_variance.jl\n",
      "│   exception = (LoadError(\"/Users/bvdmitri/.julia/dev/ReactiveMP/src/nodes/normal_mean_variance.jl\", 5, MethodError(ReactiveMP.@node, (:(#= /Users/bvdmitri/.julia/dev/ReactiveMP/src/nodes/normal_mean_variance.jl:5 =#), ReactiveMP, :(form => NormalMeanVariance), :(formtype => NormalMeanVariance), :(sdtype => Stochastic), :(interfaces => [out, (μ, aliases = [mean]), (v, aliases = [var])])), 0x0000000000006feb)), Union{Ptr{Nothing}, Base.InterpreterIP}[Ptr{Nothing} @0x000000010afa32f1, Ptr{Nothing} @0x000000010afa3210, Ptr{Nothing} @0x000000010afaf2ad, Ptr{Nothing} @0x000000010afacccf, Ptr{Nothing} @0x000000010afad10b, Ptr{Nothing} @0x000000010afadb1f, Ptr{Nothing} @0x00000001445e99c4])\n",
      "└ @ Revise /Users/bvdmitri/.julia/packages/Revise/nWJXk/src/packagedef.jl:693\n",
      "┌ Warning: The running code does not match the saved version for the following files:\n",
      "│ \n",
      "│   /Users/bvdmitri/.julia/dev/ReactiveMP/src/nodes/normal_mean_variance.jl\n",
      "│ \n",
      "│ If the error was due to evaluation order, it can sometimes be resolved by calling `Revise.retry()`.\n",
      "│ Use Revise.errors() to report errors again. Only the first error in each file is shown.\n",
      "│ Your prompt color may be yellow until the errors are resolved.\n",
      "└ @ Revise /Users/bvdmitri/.julia/packages/Revise/nWJXk/src/packagedef.jl:789\n"
     ]
    },
    {
     "data": {
      "text/plain": [
       "quote\n",
       "    function ReactiveMP.make_node(::Type{<:NormalMeanVariance}; factorisation = ((1, 2, 3),), meta = nothing)\n",
       "        return FactorNode(NormalMeanVariance, Stochastic, (:out, :μ, :v), collect_factorisation(NormalMeanVariance, factorisation), meta)\n",
       "    end\n",
       "    function ReactiveMP.make_node(::Type{<:NormalMeanVariance}, out::AbstractVariable, μ::AbstractVariable, v::AbstractVariable; factorisation = ((1, 2, 3),), meta = nothing)\n",
       "        node = make_node(NormalMeanVariance, factorisation = factorisation, meta = meta)\n",
       "        connect!(node, :out, out)\n",
       "        connect!(node, :μ, μ)\n",
       "        connect!(node, :v, v)\n",
       "        return node\n",
       "    end\n",
       "    ReactiveMP.interface_get_index(::Type{Val{:NormalMeanVariance}}, ::Type{Val{:out}}) = 1\n",
       "    ReactiveMP.interface_get_name(::Type{Val{:NormalMeanVariance}}, ::Type{Val{:out}}) = :out\n",
       "    ReactiveMP.interface_get_index(::Type{Val{:NormalMeanVariance}}, ::Type{Val{:μ}}) = 2\n",
       "    ReactiveMP.interface_get_name(::Type{Val{:NormalMeanVariance}}, ::Type{Val{:μ}}) = :μ\n",
       "    ReactiveMP.interface_get_name(::Type{Val{:NormalMeanVariance}}, ::Type{Val{:mean}}) = :μ\n",
       "    ReactiveMP.interface_get_index(::Type{Val{:NormalMeanVariance}}, ::Type{Val{:v}}) = 3\n",
       "    ReactiveMP.interface_get_name(::Type{Val{:NormalMeanVariance}}, ::Type{Val{:v}}) = :v\n",
       "    ReactiveMP.interface_get_name(::Type{Val{:NormalMeanVariance}}, ::Type{Val{:var}}) = :v\n",
       "    collect_factorisation(::Type{<:NormalMeanVariance}, ::FullFactorisation) = ((1, 2, 3),)\n",
       "    collect_factorisation(::Type{<:NormalMeanVariance}, ::MeanField) = ((1,), (2,), (3,))\n",
       "end"
      ]
     },
     "execution_count": 56,
     "metadata": {},
     "output_type": "execute_result"
    }
   ],
   "source": [
    "MacroTools.prettify(@macroexpand ReactiveMP.@node(\n",
    "    form       => NormalMeanVariance,\n",
    "    formtype   => NormalMeanVariance,\n",
    "    sdtype     => Stochastic,\n",
    "    interfaces => [\n",
    "        out,\n",
    "        (μ, aliases = [ mean ]),\n",
    "        (v, aliases = [ var ])\n",
    "    ]\n",
    "))"
   ]
  },
  {
   "cell_type": "code",
   "execution_count": 29,
   "metadata": {},
   "outputs": [
    {
     "data": {
      "text/plain": [
       "(a = 1,)"
      ]
     },
     "execution_count": 29,
     "metadata": {},
     "output_type": "execute_result"
    }
   ],
   "source": [
    "(a = 1, )"
   ]
  },
  {
   "cell_type": "code",
   "execution_count": 12,
   "metadata": {},
   "outputs": [
    {
     "data": {
      "text/plain": [
       "__extract_interfaces_macro_rule (generic function with 1 method)"
      ]
     },
     "execution_count": 12,
     "metadata": {},
     "output_type": "execute_result"
    }
   ],
   "source": [
    "function __extract_interfaces_macro_rule(interfaces)\n",
    "    return interfaces\n",
    "end"
   ]
  },
  {
   "cell_type": "code",
   "execution_count": 16,
   "metadata": {},
   "outputs": [
    {
     "data": {
      "text/plain": [
       ":([out, (μ, aliases = [mean]), (v, aliases = [var])])"
      ]
     },
     "execution_count": 16,
     "metadata": {},
     "output_type": "execute_result"
    }
   ],
   "source": [
    "__extract_interfaces_macro_rule(:([\n",
    "    out,\n",
    "    (μ, aliases = [ mean ]),\n",
    "    (v, aliases = [ var ])\n",
    "]))"
   ]
  },
  {
   "cell_type": "code",
   "execution_count": null,
   "metadata": {},
   "outputs": [],
   "source": []
  }
 ],
 "metadata": {
  "kernelspec": {
   "display_name": "Julia 1.5.2",
   "language": "julia",
   "name": "julia-1.5"
  },
  "language_info": {
   "file_extension": ".jl",
   "mimetype": "application/julia",
   "name": "julia",
   "version": "1.5.2"
  }
 },
 "nbformat": 4,
 "nbformat_minor": 4
}
