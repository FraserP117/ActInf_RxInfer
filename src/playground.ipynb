{
 "cells": [
  {
   "cell_type": "code",
   "execution_count": 1,
   "metadata": {},
   "outputs": [],
   "source": [
    "using BenchmarkTools\n",
    "using MacroTools\n",
    "using GraphPPL\n",
    "using Distributions\n",
    "using Test\n",
    " "
   ]
  },
  {
   "cell_type": "code",
   "execution_count": 3,
   "metadata": {},
   "outputs": [
    {
     "name": "stdout",
     "output_type": "stream",
     "text": [
      "0\n"
     ]
    },
    {
     "name": "stdout",
     "output_type": "stream",
     "text": [
      "1\n"
     ]
    }
   ],
   "source": [
    "using Graphs\n",
    "using MetaGraphsNext\n",
    "using Test\n",
    "\n",
    "graph =  MetaGraph(\n",
    "        Graph(),\n",
    "        Label = Symbol,\n",
    "        VertexData = Symbol)\n",
    "\n",
    "println(nv(graph))\n",
    "\n",
    "@test_throws MethodError graph[\"illegal\"] = \"not a symbol\"\n",
    "println(nv(graph))"
   ]
  },
  {
   "cell_type": "code",
   "execution_count": 8,
   "metadata": {},
   "outputs": [
    {
     "name": "stdout",
     "output_type": "stream",
     "text": [
      "false\n",
      "Any[:μ, :σ]\n"
     ]
    },
    {
     "ename": "LoadError",
     "evalue": "LoadError: type Array has no field head\nin expression starting at /Users/wnuijten/Documents/biaslab/GraphPPL.jl/src/playground.ipynb:1",
     "output_type": "error",
     "traceback": [
      "LoadError: type Array has no field head\n",
      "in expression starting at /Users/wnuijten/Documents/biaslab/GraphPPL.jl/src/playground.ipynb:1\n",
      "\n",
      "Stacktrace:\n",
      "  [1] getproperty(x::Vector{Any}, f::Symbol)\n",
      "    @ Base ./Base.jl:38\n",
      "  [2] (::GraphPPL.var\"#123#126\")(expression::Expr)\n",
      "    @ GraphPPL ~/Documents/biaslab/GraphPPL.jl/src/graph_engine.jl:385\n",
      "  [3] walk\n",
      "    @ ~/.julia/packages/MacroTools/qijNY/src/utils.jl:112 [inlined]\n",
      "  [4] postwalk\n",
      "    @ ~/.julia/packages/MacroTools/qijNY/src/utils.jl:122 [inlined]\n",
      "  [5] (::MacroTools.var\"#21#22\"{GraphPPL.var\"#123#126\"})(x::Expr)\n",
      "    @ MacroTools ~/.julia/packages/MacroTools/qijNY/src/utils.jl:122\n",
      "  [6] iterate\n",
      "    @ ./generator.jl:47 [inlined]\n",
      "  [7] collect_to!(dest::Vector{Any}, itr::Base.Generator{Vector{Any}, MacroTools.var\"#21#22\"{GraphPPL.var\"#123#126\"}}, offs::Int64, st::Int64)\n",
      "    @ Base ./array.jl:845\n",
      "  [8] collect_to!(dest::Vector{LineNumberNode}, itr::Base.Generator{Vector{Any}, MacroTools.var\"#21#22\"{GraphPPL.var\"#123#126\"}}, offs::Int64, st::Int64)\n",
      "    @ Base ./array.jl:853\n",
      "  [9] collect_to_with_first!(dest::Vector{LineNumberNode}, v1::LineNumberNode, itr::Base.Generator{Vector{Any}, MacroTools.var\"#21#22\"{GraphPPL.var\"#123#126\"}}, st::Int64)\n",
      "    @ Base ./array.jl:823\n",
      " [10] _collect(c::Vector{Any}, itr::Base.Generator{Vector{Any}, MacroTools.var\"#21#22\"{GraphPPL.var\"#123#126\"}}, #unused#::Base.EltypeUnknown, isz::Base.HasShape{1})\n",
      "    @ Base ./array.jl:817\n",
      " [11] collect_similar(cont::Vector{Any}, itr::Base.Generator{Vector{Any}, MacroTools.var\"#21#22\"{GraphPPL.var\"#123#126\"}})\n",
      "    @ Base ./array.jl:716\n",
      " [12] map(f::Function, A::Vector{Any})\n",
      "    @ Base ./abstractarray.jl:2933\n",
      " [13] walk\n",
      "    @ ~/.julia/packages/MacroTools/qijNY/src/utils.jl:112 [inlined]\n",
      " [14] postwalk\n",
      "    @ ~/.julia/packages/MacroTools/qijNY/src/utils.jl:122 [inlined]\n",
      " [15] (::MacroTools.var\"#21#22\"{GraphPPL.var\"#123#126\"})(x::Expr)\n",
      "    @ MacroTools ~/.julia/packages/MacroTools/qijNY/src/utils.jl:122\n",
      " [16] iterate\n",
      "    @ ./generator.jl:47 [inlined]\n",
      " [17] collect_to!(dest::Vector{LineNumberNode}, itr::Base.Generator{Vector{Any}, MacroTools.var\"#21#22\"{GraphPPL.var\"#123#126\"}}, offs::Int64, st::Int64)\n",
      "    @ Base ./array.jl:845\n",
      "--- the last 9 lines are repeated 2 more times ---\n",
      " [36] collect_to_with_first!(dest::Vector{LineNumberNode}, v1::LineNumberNode, itr::Base.Generator{Vector{Any}, MacroTools.var\"#21#22\"{GraphPPL.var\"#123#126\"}}, st::Int64)\n",
      "    @ Base ./array.jl:823\n",
      " [37] _collect(c::Vector{Any}, itr::Base.Generator{Vector{Any}, MacroTools.var\"#21#22\"{GraphPPL.var\"#123#126\"}}, #unused#::Base.EltypeUnknown, isz::Base.HasShape{1})\n",
      "    @ Base ./array.jl:817\n",
      " [38] collect_similar(cont::Vector{Any}, itr::Base.Generator{Vector{Any}, MacroTools.var\"#21#22\"{GraphPPL.var\"#123#126\"}})\n",
      "    @ Base ./array.jl:716\n",
      " [39] map(f::Function, A::Vector{Any})\n",
      "    @ Base ./abstractarray.jl:2933\n",
      " [40] walk(x::Expr, inner::Function, outer::GraphPPL.var\"#123#126\")\n",
      "    @ MacroTools ~/.julia/packages/MacroTools/qijNY/src/utils.jl:112\n",
      " [41] postwalk(f::Function, x::Expr)\n",
      "    @ MacroTools ~/.julia/packages/MacroTools/qijNY/src/utils.jl:122\n",
      " [42] var\"@new_model\"(__source__::LineNumberNode, __module__::Module, model_specification::Any)\n",
      "    @ GraphPPL ~/Documents/biaslab/GraphPPL.jl/src/graph_engine.jl:408\n",
      " [43] eval\n",
      "    @ ./boot.jl:368 [inlined]\n",
      " [44] include_string(mapexpr::typeof(REPL.softscope), mod::Module, code::String, filename::String)\n",
      "    @ Base ./loading.jl:1428\n",
      " [45] #invokelatest#2\n",
      "    @ ./essentials.jl:729 [inlined]\n",
      " [46] invokelatest\n",
      "    @ ./essentials.jl:726 [inlined]\n",
      " [47] (::VSCodeServer.var\"#198#199\"{VSCodeServer.NotebookRunCellArguments, String})()\n",
      "    @ VSCodeServer ~/.vscode/extensions/julialang.language-julia-1.38.2/scripts/packages/VSCodeServer/src/serve_notebook.jl:19\n",
      " [48] withpath(f::VSCodeServer.var\"#198#199\"{VSCodeServer.NotebookRunCellArguments, String}, path::String)\n",
      "    @ VSCodeServer ~/.vscode/extensions/julialang.language-julia-1.38.2/scripts/packages/VSCodeServer/src/repl.jl:249\n",
      " [49] notebook_runcell_request(conn::VSCodeServer.JSONRPC.JSONRPCEndpoint{Base.PipeEndpoint, Base.PipeEndpoint}, params::VSCodeServer.NotebookRunCellArguments)\n",
      "    @ VSCodeServer ~/.vscode/extensions/julialang.language-julia-1.38.2/scripts/packages/VSCodeServer/src/serve_notebook.jl:13\n",
      " [50] dispatch_msg(x::VSCodeServer.JSONRPC.JSONRPCEndpoint{Base.PipeEndpoint, Base.PipeEndpoint}, dispatcher::VSCodeServer.JSONRPC.MsgDispatcher, msg::Dict{String, Any})\n",
      "    @ VSCodeServer.JSONRPC ~/.vscode/extensions/julialang.language-julia-1.38.2/scripts/packages/JSONRPC/src/typed.jl:67\n",
      " [51] serve_notebook(pipename::String, outputchannel_logger::Base.CoreLogging.SimpleLogger; crashreporting_pipename::String)\n",
      "    @ VSCodeServer ~/.vscode/extensions/julialang.language-julia-1.38.2/scripts/packages/VSCodeServer/src/serve_notebook.jl:139"
     ]
    }
   ],
   "source": [
    "@new_model function sum_all_and_normal(μ, σ, out)\n",
    "    for i in 1:10\n",
    "        local x ~ Normal(μ, σ)\n",
    "    end\n",
    "    out ~ Normal(μ= x, σ= σ)\n",
    "end\n",
    "GraphPPL.plot_graph(sum_all_and_normal())"
   ]
  },
  {
   "cell_type": "code",
   "execution_count": 125,
   "metadata": {},
   "outputs": [],
   "source": [
    "@new_model function bigmodel(in_1, in_2, in_3, σ, out)\n",
    "    μ ~ sum_all_and_normal(; in_1 = in_1, in_2=in_2, in_3=in_3, σ=σ)\n",
    "    out ~ sum_all_and_normal(; in_1 = μ, in_2=in_2, in_3=in_3, σ=σ)\n",
    "end\n",
    "GraphPPL.plot_graph(bigmodel())"
   ]
  },
  {
   "cell_type": "code",
   "execution_count": 127,
   "metadata": {},
   "outputs": [],
   "source": [
    "@new_model function evenbiggermodel(in_1, in_2, in_3, σ, out)\n",
    "    μ ~ bigmodel(; in_1 = in_1, in_2=in_2, in_3=in_3, σ=σ)\n",
    "    out ~ bigmodel(; in_1 = μ, in_2=in_2, in_3=in_3, σ=σ)\n",
    "end\n",
    "GraphPPL.plot_graph(GraphPPL.convert_to_ffg(evenbiggermodel()))"
   ]
  },
  {
   "cell_type": "code",
   "execution_count": 21,
   "metadata": {},
   "outputs": [
    {
     "data": {
      "text/plain": [
       "GraphPPL.NodeLabel(:in_4, 4)"
      ]
     },
     "metadata": {},
     "output_type": "display_data"
    }
   ],
   "source": [
    "eval(GraphPPL.generate_get_or_create_expression(:([in_1 in_2; in_3 in_4])))"
   ]
  },
  {
   "cell_type": "code",
   "execution_count": 30,
   "metadata": {},
   "outputs": [
    {
     "name": "stdout",
     "output_type": "stream",
     "text": [
      "begin\n",
      "    function gcv end\n",
      "    function GraphPPL.make_node!(model, ::GraphPPL.Composite, parent_context, ::typeof(gcv), interfaces)\n",
      "        context = GraphPPL.Context(parent_context, gcv)\n",
      "        GraphPPL.copy_markov_blanket_to_child_context(context, interfaces)\n",
      "        w = if @isdefined(w)\n",
      "                w\n",
      "            else\n",
      "                GraphPPL.getorcreate!(model, context, :w)\n",
      "            end\n",
      "        γ = if @isdefined(γ)\n",
      "                γ\n",
      "            else\n",
      "                GraphPPL.getorcreate!(model, context, :γ)\n",
      "            end\n",
      "        tmp_1 = if @isdefined(tmp_1)\n",
      "                tmp_1\n",
      "            else\n",
      "                GraphPPL.getorcreate!(model, context, :tmp_1)\n",
      "            end\n",
      "        interfaces_tuple = (in = [w, γ], out = tmp_1)\n",
      "        GraphPPL.make_node!(model, context, prod, interfaces_tuple)\n",
      "        tmp_1 = if @isdefined(tmp_1)\n",
      "                tmp_1\n",
      "            else\n",
      "                GraphPPL.getorcreate!(model, context, :tmp_1)\n",
      "            end\n",
      "        θ = if @isdefined(θ)\n",
      "                θ\n",
      "            else\n",
      "                GraphPPL.getorcreate!(model, context, :θ)\n",
      "            end\n",
      "        log_σ = if @isdefined(log_σ)\n",
      "                log_σ\n",
      "            else\n",
      "                GraphPPL.getorcreate!(model, context, :log_σ)\n",
      "            end\n",
      "        interfaces_tuple = (in = [tmp_1, θ], out = log_σ)\n",
      "        GraphPPL.make_node!(model, context, sum, interfaces_tuple)\n",
      "        log_σ = if @isdefined(log_σ)\n",
      "                log_σ\n",
      "            else\n",
      "                GraphPPL.getorcreate!(model, context, :log_σ)\n",
      "            end\n",
      "        σ = if @isdefined(σ)\n",
      "                σ\n",
      "            else\n",
      "                GraphPPL.getorcreate!(model, context, :σ)\n",
      "            end\n",
      "        interfaces_tuple = (in = [log_σ], out = σ)\n",
      "        GraphPPL.make_node!(model, context, exp, interfaces_tuple)\n",
      "        x = if @isdefined(x)\n",
      "                x\n",
      "            else\n",
      "                GraphPPL.getorcreate!(model, context, :x)\n",
      "            end\n",
      "        σ = if @isdefined(σ)\n",
      "                σ\n",
      "            else\n",
      "                GraphPPL.getorcreate!(model, context, :σ)\n",
      "            end\n",
      "        y = if @isdefined(y)\n",
      "                y\n",
      "            else\n",
      "                GraphPPL.getorcreate!(model, context, :y)\n",
      "            end\n",
      "        interfaces_tuple = (μ = x, σ = σ, out = y)\n",
      "        GraphPPL.make_node!(model, context, Normal, interfaces_tuple)\n",
      "        node_id = GraphPPL.gensym(model, gcv)\n",
      "        Base.put!(parent_context, node_id, context)\n",
      "    end\n",
      "    GraphPPL.interfaces(::typeof(gcv), ::Val{5}) = Tuple(Any[:x, :y, :w, :γ, :θ])\n",
      "    GraphPPL.NodeType(::typeof(gcv)) = GraphPPL.Composite()\n",
      "    function gcv()\n",
      "        model = GraphPPL.create_model(Any[:x, :y, :w, :γ, :θ]...)\n",
      "        arguments = []\n",
      "        for argument = Any[:x, :y, :w, :γ, :θ]\n",
      "            argument = GraphPPL.getorcreate!(model, argument)\n",
      "            push!(arguments, argument)\n",
      "        end\n",
      "        args = (; zip(Any[:x, :y, :w, :γ, :θ], arguments)...)\n",
      "        GraphPPL.make_node!(model, gcv, args)\n",
      "        return model\n",
      "    end\n",
      "    nothing\n",
      "end\n"
     ]
    }
   ],
   "source": [
    "GraphPPL.interfaces(::typeof(Normal), ::Val{3}) = (:μ, :σ, :out)\n",
    "\n",
    "@new_model function gcv(x, y, w, γ, θ)\n",
    "    tmp_1 := prod(w, γ)\n",
    "    log_σ := sum(tmp_1, θ)\n",
    "    σ := exp(log_σ)\n",
    "    y ~ Normal(μ, σ)\n",
    "end\n",
    "\n"
   ]
  },
  {
   "cell_type": "code",
   "execution_count": 8,
   "metadata": {},
   "outputs": [],
   "source": [
    "GraphPPL.plot_graph(GraphPPL.convert_to_ffg(gcv()))"
   ]
  },
  {
   "cell_type": "code",
   "execution_count": 15,
   "metadata": {},
   "outputs": [],
   "source": [
    "@new_model function chain_of_gcv(w, γ, θ, x, y)\n",
    "    μ_1 ~ gcv(;x=x, w=w, γ=γ, θ=θ)\n",
    "    μ_2 ~ gcv(;x=μ_1, w=w, γ=γ, θ=θ)\n",
    "    μ_3 ~ gcv(;x=μ_2, w=w, γ=γ, θ=θ)\n",
    "    y ~ gcv(;x=μ_3, w=w, γ=γ, θ=θ)\n",
    "end"
   ]
  },
  {
   "cell_type": "code",
   "execution_count": 19,
   "metadata": {},
   "outputs": [],
   "source": [
    "GraphPPL.plot_graph(chain_of_gcv())"
   ]
  },
  {
   "cell_type": "code",
   "execution_count": 5,
   "metadata": {},
   "outputs": [
    {
     "name": "stdout",
     "output_type": "stream",
     "text": [
      "\u001b[0m\u001b[1mTest Summary: | \u001b[22m\u001b[32m\u001b[1mPass  \u001b[22m\u001b[39m\u001b[36m\u001b[1mTotal  \u001b[22m\u001b[39m\u001b[0m\u001b[1mTime\u001b[22m\n",
      "test          | \u001b[32m   1  \u001b[39m\u001b[36m    1  \u001b[39m\u001b[0m0.0s\n"
     ]
    },
    {
     "data": {
      "text/plain": [
       "Test.DefaultTestSet(\"test\", Any[], 1, false, false, true, 1.67947512088194e9, 1.679475120882044e9)"
      ]
     },
     "metadata": {},
     "output_type": "display_data"
    }
   ],
   "source": [
    "using Test\n",
    "\n",
    "macro return_2(func)\n",
    "    return func\n",
    "end\n",
    "\n",
    "@testset \"test\" begin\n",
    "    x = @return_2 function abc()\n",
    "        return 2\n",
    "    end\n",
    "    @test x() == 2\n",
    "end"
   ]
  },
  {
   "cell_type": "code",
   "execution_count": null,
   "metadata": {},
   "outputs": [],
   "source": []
  }
 ],
 "metadata": {
  "kernelspec": {
   "display_name": "Julia 1.8.5",
   "language": "julia",
   "name": "julia-1.8"
  },
  "language_info": {
   "file_extension": ".jl",
   "mimetype": "application/julia",
   "name": "julia",
   "version": "1.8.5"
  },
  "orig_nbformat": 4
 },
 "nbformat": 4,
 "nbformat_minor": 2
}
